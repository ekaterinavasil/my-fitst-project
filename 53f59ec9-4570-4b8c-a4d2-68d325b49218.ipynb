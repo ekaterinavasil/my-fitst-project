{
 "cells": [
  {
   "cell_type": "markdown",
   "metadata": {},
   "source": [
    "<div style=\"border:solid purple 2px; padding: 20px\">\n",
    "\n",
    "Екатерина, привет! 👋 Поздравляю с первым выполненным проектом.\n",
    "    \n",
    "Меня зовут Рустам Муртазин, и я буду делать ревью твоей работы. Давай будем общаться на **«ты»**. Если это неприемлемо, обязательно напиши мне в комментариях — мы перейдем на **«вы»**.\n",
    "\n",
    "Ты проделала большую работу над проектом, однако в любом деле всегда можно можно что-то улучшить. Моя основная цель — не показать, что где-то совершены какие-либо ошибки, а поделиться своим опытом, который поможет тебе в дальнейших работах. Далее в файле ты сможешь увидеть мои комментарии, постарайся учесть их при выполнении следующих заданий.    \n",
    "\n",
    "Обрати внимание в первую очередь на те, что помечаны <span style=\"color:red\">красным цветом</span>. После их доработки проект будет принят. <span style=\"color:green\">Зеленым цветом</span> отмечены удачные и элегантные решения, на которые можно опираться в будущих проектах. <span style=\"color:orange\">Оранжевым цветом</span> выделено то, что в следующий раз можно сделать по-другому. Ты можешь учесть эти комментарии при выполнении будущих заданий или доработать проект сейчас (однако это не обязательно). Также в проекте могут быть небольшие «лайфхаки» по Python, не относящиеся к проекту, их я выделил в фиолетовую рамку)\n",
    "\n",
    "Давай работать над проектом в диалоге: если ты **что-то меняешь** в проекте по моим рекомендациям — **пиши об этом**. Выбери для своих комментариев какой-то заметный цвет, так мне будет легче отследить изменения. Пожалуйста, **не перемещай, не изменяй и не удаляй мои комментарии**. Всё это поможет выполнить повторную проверку твоего проекта оперативнее».\n",
    "\n",
    "---\n",
    "\n",
    "Обратная связь после проверки:\n",
    "\n",
    "- Работа сделана на очень хорошем уровне, ты делаешь успехи уже на первом проекте!\n",
    "- Ты здорово освоила groupby - это очень полезный инструмент.\n",
    "- Функции реализованы корректно и лаконично, здорово.\n",
    "- Отдельно хочу похвалить за то, что соблюдаешь чистоту кода - такой код приятно читать.\n",
    "- По ходу работы я оставил комментарии по улучшению проекта. Надеюсь, они будут тебе полезны.\n",
    "    \n",
    "Проект принят, успехов в дальнейшем обучении!\n",
    "\n",
    "![](https://i.gifer.com/7V3.gif)\n",
    "\n",
    "\n",
    "</div>"
   ]
  },
  {
   "cell_type": "markdown",
   "metadata": {
    "id": "E0vqbgi9ay0H"
   },
   "source": [
    "# Яндекс.Музыка"
   ]
  },
  {
   "cell_type": "markdown",
   "metadata": {
    "id": "VUC88oWjTJw2"
   },
   "source": [
    "Сравнение Москвы и Петербурга окружено мифами. Например:\n",
    " * Москва — мегаполис, подчинённый жёсткому ритму рабочей недели;\n",
    " * Петербург — культурная столица, со своими вкусами.\n",
    "\n",
    "На данных Яндекс.Музыки вы сравните поведение пользователей двух столиц.\n",
    "\n",
    "**Цель исследования** — проверьте три гипотезы:\n",
    "1. Активность пользователей зависит от дня недели. Причём в Москве и Петербурге это проявляется по-разному.\n",
    "2. В понедельник утром в Москве преобладают одни жанры, а в Петербурге — другие. Так же и вечером пятницы преобладают разные жанры — в зависимости от города. \n",
    "3. Москва и Петербург предпочитают разные жанры музыки. В Москве чаще слушают поп-музыку, в Петербурге — русский рэп.\n",
    "\n",
    "**Ход исследования**\n",
    "\n",
    "Данные о поведении пользователей вы получите из файла `yandex_music_project.csv`. О качестве данных ничего не известно. Поэтому перед проверкой гипотез понадобится обзор данных. \n",
    "\n",
    "Вы проверите данные на ошибки и оцените их влияние на исследование. Затем, на этапе предобработки вы поищете возможность исправить самые критичные ошибки данных.\n",
    " \n",
    "Таким образом, исследование пройдёт в три этапа:\n",
    " 1. Обзор данных.\n",
    " 2. Предобработка данных.\n",
    " 3. Проверка гипотез.\n",
    "\n"
   ]
  },
  {
   "cell_type": "markdown",
   "metadata": {},
   "source": [
    "<div class=\"alert alert-success\">\n",
    "<h2> Комментарий ревьюера <a class=\"tocSkip\"> </h2>\n",
    "\n",
    "Отличное введение! Не забывай о нем в следующих проектах тоже 😉. Эту часть пользователь отчета видит самой первой и из нее становится понятно, чему работа посвящена. И еще, старайся его не копипастить, а переписать своими словами, это позволит перейти тебе на новый уровень оформления работы \n",
    "    "
   ]
  },
  {
   "cell_type": "markdown",
   "metadata": {
    "id": "Ml1hmfXC_Zcs"
   },
   "source": [
    "## Обзор данных\n",
    "\n",
    "Составьте первое представление о данных Яндекс.Музыки.\n",
    "\n",
    "\n"
   ]
  },
  {
   "cell_type": "markdown",
   "metadata": {
    "id": "57eAOGIz_Zcs"
   },
   "source": [
    "Основной инструмент аналитика — `pandas`. Импортируйте эту библиотеку."
   ]
  },
  {
   "cell_type": "code",
   "execution_count": 2,
   "metadata": {
    "id": "AXN7PHPN_Zcs"
   },
   "outputs": [],
   "source": [
    "# импорт библиотеки pandas\n",
    "import pandas as pd"
   ]
  },
  {
   "cell_type": "markdown",
   "metadata": {},
   "source": [
    "<div class=\"alert alert-success\">\n",
    "<h2> Комментарий ревьюера <a class=\"tocSkip\"> </h2>\n",
    "\n",
    "Правильно, что используешь сокращение pd для pandas - это общепринятое сокращение (также как и np для numpy) и именно pd ты будешь встречать на всех сайтах, где будешь искать информацию при обучении (а умение искать информацию, код - одно из ключевых в нашем деле)."
   ]
  },
  {
   "cell_type": "markdown",
   "metadata": {
    "id": "SG23P8tt_Zcs"
   },
   "source": [
    "Прочитайте файл `yandex_music_project.csv` из папки `/datasets` и сохраните его в переменной `df`:"
   ]
  },
  {
   "cell_type": "code",
   "execution_count": 3,
   "metadata": {
    "id": "fFVu7vqh_Zct"
   },
   "outputs": [],
   "source": [
    "# чтение файла с данными и сохранение в df\n",
    "df = pd.read_csv('/datasets/yandex_music_project.csv')"
   ]
  },
  {
   "cell_type": "markdown",
   "metadata": {
    "id": "rDoOMd3uTqnZ"
   },
   "source": [
    "Выведите на экран первые десять строк таблицы:"
   ]
  },
  {
   "cell_type": "code",
   "execution_count": 4,
   "metadata": {
    "id": "oWTVX3gW_Zct"
   },
   "outputs": [
    {
     "data": {
      "text/html": [
       "<div>\n",
       "<style scoped>\n",
       "    .dataframe tbody tr th:only-of-type {\n",
       "        vertical-align: middle;\n",
       "    }\n",
       "\n",
       "    .dataframe tbody tr th {\n",
       "        vertical-align: top;\n",
       "    }\n",
       "\n",
       "    .dataframe thead th {\n",
       "        text-align: right;\n",
       "    }\n",
       "</style>\n",
       "<table border=\"1\" class=\"dataframe\">\n",
       "  <thead>\n",
       "    <tr style=\"text-align: right;\">\n",
       "      <th></th>\n",
       "      <th>userID</th>\n",
       "      <th>Track</th>\n",
       "      <th>artist</th>\n",
       "      <th>genre</th>\n",
       "      <th>City</th>\n",
       "      <th>time</th>\n",
       "      <th>Day</th>\n",
       "    </tr>\n",
       "  </thead>\n",
       "  <tbody>\n",
       "    <tr>\n",
       "      <td>0</td>\n",
       "      <td>FFB692EC</td>\n",
       "      <td>Kamigata To Boots</td>\n",
       "      <td>The Mass Missile</td>\n",
       "      <td>rock</td>\n",
       "      <td>Saint-Petersburg</td>\n",
       "      <td>20:28:33</td>\n",
       "      <td>Wednesday</td>\n",
       "    </tr>\n",
       "    <tr>\n",
       "      <td>1</td>\n",
       "      <td>55204538</td>\n",
       "      <td>Delayed Because of Accident</td>\n",
       "      <td>Andreas Rönnberg</td>\n",
       "      <td>rock</td>\n",
       "      <td>Moscow</td>\n",
       "      <td>14:07:09</td>\n",
       "      <td>Friday</td>\n",
       "    </tr>\n",
       "    <tr>\n",
       "      <td>2</td>\n",
       "      <td>20EC38</td>\n",
       "      <td>Funiculì funiculà</td>\n",
       "      <td>Mario Lanza</td>\n",
       "      <td>pop</td>\n",
       "      <td>Saint-Petersburg</td>\n",
       "      <td>20:58:07</td>\n",
       "      <td>Wednesday</td>\n",
       "    </tr>\n",
       "    <tr>\n",
       "      <td>3</td>\n",
       "      <td>A3DD03C9</td>\n",
       "      <td>Dragons in the Sunset</td>\n",
       "      <td>Fire + Ice</td>\n",
       "      <td>folk</td>\n",
       "      <td>Saint-Petersburg</td>\n",
       "      <td>08:37:09</td>\n",
       "      <td>Monday</td>\n",
       "    </tr>\n",
       "    <tr>\n",
       "      <td>4</td>\n",
       "      <td>E2DC1FAE</td>\n",
       "      <td>Soul People</td>\n",
       "      <td>Space Echo</td>\n",
       "      <td>dance</td>\n",
       "      <td>Moscow</td>\n",
       "      <td>08:34:34</td>\n",
       "      <td>Monday</td>\n",
       "    </tr>\n",
       "    <tr>\n",
       "      <td>5</td>\n",
       "      <td>842029A1</td>\n",
       "      <td>Преданная</td>\n",
       "      <td>IMPERVTOR</td>\n",
       "      <td>rusrap</td>\n",
       "      <td>Saint-Petersburg</td>\n",
       "      <td>13:09:41</td>\n",
       "      <td>Friday</td>\n",
       "    </tr>\n",
       "    <tr>\n",
       "      <td>6</td>\n",
       "      <td>4CB90AA5</td>\n",
       "      <td>True</td>\n",
       "      <td>Roman Messer</td>\n",
       "      <td>dance</td>\n",
       "      <td>Moscow</td>\n",
       "      <td>13:00:07</td>\n",
       "      <td>Wednesday</td>\n",
       "    </tr>\n",
       "    <tr>\n",
       "      <td>7</td>\n",
       "      <td>F03E1C1F</td>\n",
       "      <td>Feeling This Way</td>\n",
       "      <td>Polina Griffith</td>\n",
       "      <td>dance</td>\n",
       "      <td>Moscow</td>\n",
       "      <td>20:47:49</td>\n",
       "      <td>Wednesday</td>\n",
       "    </tr>\n",
       "    <tr>\n",
       "      <td>8</td>\n",
       "      <td>8FA1D3BE</td>\n",
       "      <td>И вновь продолжается бой</td>\n",
       "      <td>NaN</td>\n",
       "      <td>ruspop</td>\n",
       "      <td>Moscow</td>\n",
       "      <td>09:17:40</td>\n",
       "      <td>Friday</td>\n",
       "    </tr>\n",
       "    <tr>\n",
       "      <td>9</td>\n",
       "      <td>E772D5C0</td>\n",
       "      <td>Pessimist</td>\n",
       "      <td>NaN</td>\n",
       "      <td>dance</td>\n",
       "      <td>Saint-Petersburg</td>\n",
       "      <td>21:20:49</td>\n",
       "      <td>Wednesday</td>\n",
       "    </tr>\n",
       "  </tbody>\n",
       "</table>\n",
       "</div>"
      ],
      "text/plain": [
       "     userID                        Track            artist   genre  \\\n",
       "0  FFB692EC            Kamigata To Boots  The Mass Missile    rock   \n",
       "1  55204538  Delayed Because of Accident  Andreas Rönnberg    rock   \n",
       "2    20EC38            Funiculì funiculà       Mario Lanza     pop   \n",
       "3  A3DD03C9        Dragons in the Sunset        Fire + Ice    folk   \n",
       "4  E2DC1FAE                  Soul People        Space Echo   dance   \n",
       "5  842029A1                    Преданная         IMPERVTOR  rusrap   \n",
       "6  4CB90AA5                         True      Roman Messer   dance   \n",
       "7  F03E1C1F             Feeling This Way   Polina Griffith   dance   \n",
       "8  8FA1D3BE     И вновь продолжается бой               NaN  ruspop   \n",
       "9  E772D5C0                    Pessimist               NaN   dance   \n",
       "\n",
       "             City        time        Day  \n",
       "0  Saint-Petersburg  20:28:33  Wednesday  \n",
       "1            Moscow  14:07:09     Friday  \n",
       "2  Saint-Petersburg  20:58:07  Wednesday  \n",
       "3  Saint-Petersburg  08:37:09     Monday  \n",
       "4            Moscow  08:34:34     Monday  \n",
       "5  Saint-Petersburg  13:09:41     Friday  \n",
       "6            Moscow  13:00:07  Wednesday  \n",
       "7            Moscow  20:47:49  Wednesday  \n",
       "8            Moscow  09:17:40     Friday  \n",
       "9  Saint-Petersburg  21:20:49  Wednesday  "
      ]
     },
     "metadata": {},
     "output_type": "display_data"
    }
   ],
   "source": [
    "# получение первых 10 строк таблицы df\n",
    "display(df.head(10))"
   ]
  },
  {
   "cell_type": "markdown",
   "metadata": {},
   "source": [
    "<div class=\"alert alert-success\">\n",
    "<h2> Комментарий ревьюера <a class=\"tocSkip\"> </h2>\n",
    "\n",
    "`display()` в данном случае можно не использовать, так как df.head(10) последней строкой (даже единственной) в блоке и она все равно выведется на экран."
   ]
  },
  {
   "cell_type": "markdown",
   "metadata": {
    "id": "EO73Kwic_Zct"
   },
   "source": [
    "Одной командой получить общую информацию о таблице:"
   ]
  },
  {
   "cell_type": "code",
   "execution_count": 5,
   "metadata": {
    "id": "DSf2kIb-_Zct"
   },
   "outputs": [
    {
     "name": "stdout",
     "output_type": "stream",
     "text": [
      "<class 'pandas.core.frame.DataFrame'>\n",
      "RangeIndex: 65079 entries, 0 to 65078\n",
      "Data columns (total 7 columns):\n",
      "  userID    65079 non-null object\n",
      "Track       63848 non-null object\n",
      "artist      57876 non-null object\n",
      "genre       63881 non-null object\n",
      "  City      65079 non-null object\n",
      "time        65079 non-null object\n",
      "Day         65079 non-null object\n",
      "dtypes: object(7)\n",
      "memory usage: 3.5+ MB\n"
     ]
    }
   ],
   "source": [
    "# получение общей информации о данных в таблице df\n",
    "df.info()"
   ]
  },
  {
   "cell_type": "markdown",
   "metadata": {
    "id": "TaQ2Iwbr_Zct"
   },
   "source": [
    "Итак, в таблице семь столбцов. Тип данных во всех столбцах — `object`.\n",
    "\n",
    "Согласно документации к данным:\n",
    "* `userID` — идентификатор пользователя;\n",
    "* `Track` — название трека;  \n",
    "* `artist` — имя исполнителя;\n",
    "* `genre` — название жанра;\n",
    "* `City` — город пользователя;\n",
    "* `time` — время начала прослушивания;\n",
    "* `Day` — день недели.\n",
    "\n",
    "В названиях колонок видны три нарушения стиля:\n",
    "1. Строчные буквы сочетаются с прописными.\n",
    "2. Встречаются пробелы.\n",
    "3. Найдите ещё одну проблему в названии колонок и опишите её в этом пункте.\n",
    "\n",
    "\n",
    "\n",
    "Количество значений в столбцах различается. Значит, в данных есть пропущенные значения.\n"
   ]
  },
  {
   "cell_type": "markdown",
   "metadata": {
    "id": "MCB6-dXG_Zct"
   },
   "source": [
    "**Выводы**\n",
    "\n",
    "В каждой строке таблицы — данные о прослушанном треке. Часть колонок описывает саму композицию: название, исполнителя и жанр. Остальные данные рассказывают о пользователе: из какого он города, когда он слушал музыку. \n",
    "\n",
    "Предварительно можно утверждать, что, данных достаточно для проверки гипотез. Но встречаются пропуски в данных, а в названиях колонок — расхождения с хорошим стилем.\n",
    "\n",
    "Чтобы двигаться дальше, нужно устранить проблемы в данных."
   ]
  },
  {
   "cell_type": "markdown",
   "metadata": {},
   "source": [
    "<div class=\"alert alert-success\">\n",
    "<h2> Комментарий ревьюера <a class=\"tocSkip\"> </h2>\n",
    "\n",
    "Первый взгляд на сырые данные - это важная часть любого исследования."
   ]
  },
  {
   "cell_type": "markdown",
   "metadata": {
    "id": "SjYF6Ub9_Zct"
   },
   "source": [
    "## Предобработка данных\n",
    "Исправьте стиль в заголовках столбцов, исключите пропуски. Затем проверьте данные на дубликаты."
   ]
  },
  {
   "cell_type": "markdown",
   "metadata": {
    "id": "dIaKXr29_Zct"
   },
   "source": [
    "### Стиль заголовков\n",
    "Выведите на экран названия столбцов:"
   ]
  },
  {
   "cell_type": "code",
   "execution_count": 6,
   "metadata": {
    "id": "oKOTdF_Q_Zct"
   },
   "outputs": [
    {
     "data": {
      "text/plain": [
       "Index(['  userID', 'Track', 'artist', 'genre', '  City  ', 'time', 'Day'], dtype='object')"
      ]
     },
     "execution_count": 6,
     "metadata": {},
     "output_type": "execute_result"
    }
   ],
   "source": [
    "# перечень названий столбцов таблицы df\n",
    "df.columns"
   ]
  },
  {
   "cell_type": "markdown",
   "metadata": {
    "id": "FPZA3ki8xe7T"
   },
   "source": []
  },
  {
   "cell_type": "markdown",
   "metadata": {
    "id": "zj5534cv_Zct"
   },
   "source": [
    "Приведите названия в соответствие с хорошим стилем:\n",
    "* несколько слов в названии запишите в «змеином_регистре»,\n",
    "* все символы сделайте строчными,\n",
    "* устраните пробелы.\n",
    "\n",
    "Для этого переименуйте колонки так:\n",
    "* `'  userID'` → `'user_id'`;\n",
    "* `'Track'` → `'track'`;\n",
    "* `'  City  '` → `'city'`;\n",
    "* `'Day'` → `'day'`."
   ]
  },
  {
   "cell_type": "code",
   "execution_count": 7,
   "metadata": {
    "id": "ISlFqs5y_Zct"
   },
   "outputs": [],
   "source": [
    "# переименование столбцов\n",
    "df = df.rename(columns={'  userID': 'user_id', 'Track' : 'track', '  City  ' : 'city' , 'Day' : 'day'})"
   ]
  },
  {
   "cell_type": "markdown",
   "metadata": {},
   "source": [
    "<div class=\"alert alert-success\">\n",
    "<h2> Комментарий ревьюера <a class=\"tocSkip\"> </h2>\n",
    "\n",
    "Отлично, все верно! Метод rename крайне удобный, когда нужно переименовать лишь часть столбцов (даже в произвольном порядке)"
   ]
  },
  {
   "cell_type": "markdown",
   "metadata": {},
   "source": [
    "<div class=\"alert alert-success\">\n",
    "<h2> Комментарий ревьюера <a class=\"tocSkip\"> </h2>\n",
    "\n",
    "Можно разнести записи в слове на разные строки, порой так наглядее:\n",
    "\n",
    "```python\n",
    "df = df.rename(columns={'  userID': 'user_id', \n",
    "                        'Track': 'track', \n",
    "                        '  City  ': 'city', \n",
    "                        'Day': 'day'})\n",
    "```"
   ]
  },
  {
   "cell_type": "markdown",
   "metadata": {
    "id": "1dqbh00J_Zct"
   },
   "source": [
    "Проверьте результат. Для этого ещё раз выведите на экран названия столбцов:"
   ]
  },
  {
   "cell_type": "code",
   "execution_count": 8,
   "metadata": {
    "id": "d4NOAmTW_Zct"
   },
   "outputs": [
    {
     "data": {
      "text/plain": [
       "Index(['user_id', 'track', 'artist', 'genre', 'city', 'time', 'day'], dtype='object')"
      ]
     },
     "execution_count": 8,
     "metadata": {},
     "output_type": "execute_result"
    }
   ],
   "source": [
    "# проверка результатов - перечень названий столбцов\n",
    "df.columns"
   ]
  },
  {
   "cell_type": "markdown",
   "metadata": {
    "id": "5ISfbcfY_Zct"
   },
   "source": [
    "### Пропуски значений\n",
    "Сначала посчитайте, сколько в таблице пропущенных значений. Для этого достаточно двух методов `pandas`:"
   ]
  },
  {
   "cell_type": "code",
   "execution_count": 9,
   "metadata": {
    "id": "RskX29qr_Zct"
   },
   "outputs": [
    {
     "data": {
      "text/plain": [
       "user_id       0\n",
       "track      1231\n",
       "artist     7203\n",
       "genre      1198\n",
       "city          0\n",
       "time          0\n",
       "day           0\n",
       "dtype: int64"
      ]
     },
     "execution_count": 9,
     "metadata": {},
     "output_type": "execute_result"
    }
   ],
   "source": [
    "# подсчёт пропусков\n",
    "df.isna().sum()"
   ]
  },
  {
   "cell_type": "markdown",
   "metadata": {},
   "source": [
    "<div class=\"alert alert-success\">\n",
    "<h2> Комментарий ревьюера <a class=\"tocSkip\"> </h2>\n",
    "\n",
    "Кстати, правильно, что используешь `isna()` вместо `isnull()`. Метода аналогичны, но `isnull()` является копией (alias) для `isna()`, поэтому это является best practice. (Чуть подробнее про это можно почитать [здесь](https://stackoverflow.com/questions/52086574/pandas-isna-and-isnull-what-is-the-difference).)"
   ]
  },
  {
   "cell_type": "markdown",
   "metadata": {
    "id": "qubhgnlO_Zct"
   },
   "source": [
    "Не все пропущенные значения влияют на исследование. Так в `track` и `artist` пропуски не важны для вашей работы. Достаточно заменить их явными обозначениями.\n",
    "\n",
    "Но пропуски в `genre` могут помешать сравнению музыкальных вкусов в Москве и Санкт-Петербурге. На практике было бы правильно установить причину пропусков и восстановить данные. Такой возможности нет в учебном проекте. Придётся:\n",
    "* заполнить и эти пропуски явными обозначениями,\n",
    "* оценить, насколько они повредят расчётам. "
   ]
  },
  {
   "cell_type": "markdown",
   "metadata": {
    "id": "fSv2laPA_Zct"
   },
   "source": [
    "Замените пропущенные значения в столбцах `track`, `artist` и `genre` на строку `'unknown'`. Для этого создайте список `columns_to_replace`, переберите его элементы циклом `for` и для каждого столбца выполните замену пропущенных значений:"
   ]
  },
  {
   "cell_type": "code",
   "execution_count": 10,
   "metadata": {
    "id": "KplB5qWs_Zct"
   },
   "outputs": [],
   "source": [
    "# перебор названий столбцов в цикле и замена пропущенных значений на 'unknown'\n",
    "columns_to_replace =['track', 'artist', 'genre']\n",
    "for columns in columns_to_replace:\n",
    "    df[columns] = df[columns].fillna('unknown')\n"
   ]
  },
  {
   "cell_type": "markdown",
   "metadata": {},
   "source": [
    "<div class=\"alert alert-warning\">\n",
    "<h2> Комментарий ревьюера <a class=\"tocSkip\"> </h2>\n",
    "\n",
    "Хорошее решение, но по мне цикл здесь лишний, ведь ты заменяешь все пропуски на одно значение и можно выполнить замену разом для всего датафрейма, т.е так\n",
    "    \n",
    "    df[columns_to_replace]=df[columns_to_replace].fillna('unknown')"
   ]
  },
  {
   "cell_type": "markdown",
   "metadata": {
    "id": "Ilsm-MZo_Zct"
   },
   "source": [
    "Убедитесь, что в таблице не осталось пропусков. Для этого ещё раз посчитайте пропущенные значения."
   ]
  },
  {
   "cell_type": "code",
   "execution_count": 11,
   "metadata": {
    "id": "Tq4nYRX4_Zct"
   },
   "outputs": [
    {
     "data": {
      "text/plain": [
       "user_id    0\n",
       "track      0\n",
       "artist     0\n",
       "genre      0\n",
       "city       0\n",
       "time       0\n",
       "day        0\n",
       "dtype: int64"
      ]
     },
     "execution_count": 11,
     "metadata": {},
     "output_type": "execute_result"
    }
   ],
   "source": [
    "# подсчёт пропусков\n",
    "df.isna().sum()"
   ]
  },
  {
   "cell_type": "markdown",
   "metadata": {
    "id": "BWKRtBJ3_Zct"
   },
   "source": [
    "### Дубликаты\n",
    "Посчитайте явные дубликаты в таблице одной командой:"
   ]
  },
  {
   "cell_type": "code",
   "execution_count": 12,
   "metadata": {
    "id": "36eES_S0_Zct"
   },
   "outputs": [
    {
     "data": {
      "text/plain": [
       "3826"
      ]
     },
     "execution_count": 12,
     "metadata": {},
     "output_type": "execute_result"
    }
   ],
   "source": [
    "# подсчёт явных дубликатов\n",
    "df.duplicated().sum()"
   ]
  },
  {
   "cell_type": "markdown",
   "metadata": {
    "id": "Ot25h6XR_Zct"
   },
   "source": [
    "Вызовите специальный метод `pandas`, чтобы удалить явные дубликаты:"
   ]
  },
  {
   "cell_type": "code",
   "execution_count": 13,
   "metadata": {
    "id": "exFHq6tt_Zct"
   },
   "outputs": [],
   "source": [
    "# удаление явных дубликатов (с удалением старых индексов и формированием новых)\n",
    "df = df.drop_duplicates().reset_index(drop=True)"
   ]
  },
  {
   "cell_type": "markdown",
   "metadata": {},
   "source": [
    "<div class=\"alert alert-success\">\n",
    "<h2> Комментарий ревьюера <a class=\"tocSkip\"> </h2>\n",
    "\n",
    "Все круто. Здорово, что сбросил индексы - на мой взгляд, так лучше."
   ]
  },
  {
   "cell_type": "markdown",
   "metadata": {
    "id": "Im2YwBEG_Zct"
   },
   "source": [
    "Ещё раз посчитайте явные дубликаты в таблице — убедитесь, что полностью от них избавились:"
   ]
  },
  {
   "cell_type": "code",
   "execution_count": 14,
   "metadata": {
    "id": "-8PuNWQ0_Zct"
   },
   "outputs": [
    {
     "data": {
      "text/plain": [
       "0"
      ]
     },
     "execution_count": 14,
     "metadata": {},
     "output_type": "execute_result"
    }
   ],
   "source": [
    "# проверка на отсутствие дубликатов\n",
    "df.duplicated().sum()"
   ]
  },
  {
   "cell_type": "markdown",
   "metadata": {
    "id": "QlFBsxAr_Zct"
   },
   "source": [
    "Теперь избавьтесь от неявных дубликатов в колонке `genre`. Например, название одного и того же жанра может быть записано немного по-разному. Такие ошибки тоже повлияют на результат исследования."
   ]
  },
  {
   "cell_type": "markdown",
   "metadata": {
    "id": "eSjWwsOh_Zct"
   },
   "source": [
    "Выведите на экран список уникальных названий жанров, отсортированный в алфавитном порядке. Для этого:\n",
    "* извлеките нужный столбец датафрейма, \n",
    "* примените к нему метод сортировки,\n",
    "* для отсортированного столбца вызовите метод, который вернёт уникальные значения из столбца."
   ]
  },
  {
   "cell_type": "code",
   "execution_count": 15,
   "metadata": {
    "id": "JIUcqzZN_Zct"
   },
   "outputs": [
    {
     "data": {
      "text/plain": [
       "['acid',\n",
       " 'acoustic',\n",
       " 'action',\n",
       " 'adult',\n",
       " 'africa',\n",
       " 'afrikaans',\n",
       " 'alternative',\n",
       " 'alternativepunk',\n",
       " 'ambient',\n",
       " 'americana',\n",
       " 'animated',\n",
       " 'anime',\n",
       " 'arabesk',\n",
       " 'arabic',\n",
       " 'arena',\n",
       " 'argentinetango',\n",
       " 'art',\n",
       " 'audiobook',\n",
       " 'author',\n",
       " 'avantgarde',\n",
       " 'axé',\n",
       " 'baile',\n",
       " 'balkan',\n",
       " 'beats',\n",
       " 'bigroom',\n",
       " 'black',\n",
       " 'bluegrass',\n",
       " 'blues',\n",
       " 'bollywood',\n",
       " 'bossa',\n",
       " 'brazilian',\n",
       " 'breakbeat',\n",
       " 'breaks',\n",
       " 'broadway',\n",
       " 'cantautori',\n",
       " 'cantopop',\n",
       " 'canzone',\n",
       " 'caribbean',\n",
       " 'caucasian',\n",
       " 'celtic',\n",
       " 'chamber',\n",
       " 'chanson',\n",
       " 'children',\n",
       " 'chill',\n",
       " 'chinese',\n",
       " 'choral',\n",
       " 'christian',\n",
       " 'christmas',\n",
       " 'classical',\n",
       " 'classicmetal',\n",
       " 'club',\n",
       " 'colombian',\n",
       " 'comedy',\n",
       " 'conjazz',\n",
       " 'contemporary',\n",
       " 'country',\n",
       " 'cuban',\n",
       " 'dance',\n",
       " 'dancehall',\n",
       " 'dancepop',\n",
       " 'dark',\n",
       " 'death',\n",
       " 'deep',\n",
       " 'deutschrock',\n",
       " 'deutschspr',\n",
       " 'dirty',\n",
       " 'disco',\n",
       " 'dnb',\n",
       " 'documentary',\n",
       " 'downbeat',\n",
       " 'downtempo',\n",
       " 'drum',\n",
       " 'dub',\n",
       " 'dubstep',\n",
       " 'eastern',\n",
       " 'easy',\n",
       " 'electronic',\n",
       " 'electropop',\n",
       " 'emo',\n",
       " 'entehno',\n",
       " 'epicmetal',\n",
       " 'estrada',\n",
       " 'ethnic',\n",
       " 'eurofolk',\n",
       " 'european',\n",
       " 'experimental',\n",
       " 'extrememetal',\n",
       " 'fado',\n",
       " 'fairytail',\n",
       " 'film',\n",
       " 'fitness',\n",
       " 'flamenco',\n",
       " 'folk',\n",
       " 'folklore',\n",
       " 'folkmetal',\n",
       " 'folkrock',\n",
       " 'folktronica',\n",
       " 'forró',\n",
       " 'frankreich',\n",
       " 'französisch',\n",
       " 'french',\n",
       " 'funk',\n",
       " 'future',\n",
       " 'gangsta',\n",
       " 'garage',\n",
       " 'german',\n",
       " 'ghazal',\n",
       " 'gitarre',\n",
       " 'glitch',\n",
       " 'gospel',\n",
       " 'gothic',\n",
       " 'grime',\n",
       " 'grunge',\n",
       " 'gypsy',\n",
       " 'handsup',\n",
       " \"hard'n'heavy\",\n",
       " 'hardcore',\n",
       " 'hardstyle',\n",
       " 'hardtechno',\n",
       " 'hip',\n",
       " 'hip-hop',\n",
       " 'hiphop',\n",
       " 'historisch',\n",
       " 'holiday',\n",
       " 'hop',\n",
       " 'horror',\n",
       " 'house',\n",
       " 'hymn',\n",
       " 'idm',\n",
       " 'independent',\n",
       " 'indian',\n",
       " 'indie',\n",
       " 'indipop',\n",
       " 'industrial',\n",
       " 'inspirational',\n",
       " 'instrumental',\n",
       " 'international',\n",
       " 'irish',\n",
       " 'jam',\n",
       " 'japanese',\n",
       " 'jazz',\n",
       " 'jewish',\n",
       " 'jpop',\n",
       " 'jungle',\n",
       " 'k-pop',\n",
       " 'karadeniz',\n",
       " 'karaoke',\n",
       " 'kayokyoku',\n",
       " 'korean',\n",
       " 'laiko',\n",
       " 'latin',\n",
       " 'latino',\n",
       " 'leftfield',\n",
       " 'local',\n",
       " 'lounge',\n",
       " 'loungeelectronic',\n",
       " 'lovers',\n",
       " 'malaysian',\n",
       " 'mandopop',\n",
       " 'marschmusik',\n",
       " 'meditative',\n",
       " 'mediterranean',\n",
       " 'melodic',\n",
       " 'metal',\n",
       " 'metalcore',\n",
       " 'mexican',\n",
       " 'middle',\n",
       " 'minimal',\n",
       " 'miscellaneous',\n",
       " 'modern',\n",
       " 'mood',\n",
       " 'mpb',\n",
       " 'muslim',\n",
       " 'native',\n",
       " 'neoklassik',\n",
       " 'neue',\n",
       " 'new',\n",
       " 'newage',\n",
       " 'newwave',\n",
       " 'nu',\n",
       " 'nujazz',\n",
       " 'numetal',\n",
       " 'oceania',\n",
       " 'old',\n",
       " 'opera',\n",
       " 'orchestral',\n",
       " 'other',\n",
       " 'piano',\n",
       " 'podcasts',\n",
       " 'pop',\n",
       " 'popdance',\n",
       " 'popelectronic',\n",
       " 'popeurodance',\n",
       " 'poprussian',\n",
       " 'post',\n",
       " 'posthardcore',\n",
       " 'postrock',\n",
       " 'power',\n",
       " 'progmetal',\n",
       " 'progressive',\n",
       " 'psychedelic',\n",
       " 'punjabi',\n",
       " 'punk',\n",
       " 'quebecois',\n",
       " 'ragga',\n",
       " 'ram',\n",
       " 'rancheras',\n",
       " 'rap',\n",
       " 'rave',\n",
       " 'reggae',\n",
       " 'reggaeton',\n",
       " 'regional',\n",
       " 'relax',\n",
       " 'religious',\n",
       " 'retro',\n",
       " 'rhythm',\n",
       " 'rnb',\n",
       " 'rnr',\n",
       " 'rock',\n",
       " 'rockabilly',\n",
       " 'rockalternative',\n",
       " 'rockindie',\n",
       " 'rockother',\n",
       " 'romance',\n",
       " 'roots',\n",
       " 'ruspop',\n",
       " 'rusrap',\n",
       " 'rusrock',\n",
       " 'russian',\n",
       " 'salsa',\n",
       " 'samba',\n",
       " 'scenic',\n",
       " 'schlager',\n",
       " 'self',\n",
       " 'sertanejo',\n",
       " 'shanson',\n",
       " 'shoegazing',\n",
       " 'showtunes',\n",
       " 'singer',\n",
       " 'ska',\n",
       " 'skarock',\n",
       " 'slow',\n",
       " 'smooth',\n",
       " 'soft',\n",
       " 'soul',\n",
       " 'soulful',\n",
       " 'sound',\n",
       " 'soundtrack',\n",
       " 'southern',\n",
       " 'specialty',\n",
       " 'speech',\n",
       " 'spiritual',\n",
       " 'sport',\n",
       " 'stonerrock',\n",
       " 'surf',\n",
       " 'swing',\n",
       " 'synthpop',\n",
       " 'synthrock',\n",
       " 'sängerportrait',\n",
       " 'tango',\n",
       " 'tanzorchester',\n",
       " 'taraftar',\n",
       " 'tatar',\n",
       " 'tech',\n",
       " 'techno',\n",
       " 'teen',\n",
       " 'thrash',\n",
       " 'top',\n",
       " 'traditional',\n",
       " 'tradjazz',\n",
       " 'trance',\n",
       " 'tribal',\n",
       " 'trip',\n",
       " 'triphop',\n",
       " 'tropical',\n",
       " 'türk',\n",
       " 'türkçe',\n",
       " 'ukrrock',\n",
       " 'unknown',\n",
       " 'urban',\n",
       " 'uzbek',\n",
       " 'variété',\n",
       " 'vi',\n",
       " 'videogame',\n",
       " 'vocal',\n",
       " 'western',\n",
       " 'world',\n",
       " 'worldbeat',\n",
       " 'ïîï',\n",
       " 'электроника']"
      ]
     },
     "execution_count": 15,
     "metadata": {},
     "output_type": "execute_result"
    }
   ],
   "source": [
    "# Просмотр уникальных названий жанров\n",
    "sorted(df['genre'].unique())"
   ]
  },
  {
   "cell_type": "markdown",
   "metadata": {
    "id": "qej-Qmuo_Zct"
   },
   "source": [
    "Просмотрите список и найдите неявные дубликаты названия `hiphop`. Это могут быть названия с ошибками или альтернативные названия того же жанра.\n",
    "\n",
    "Вы увидите следующие неявные дубликаты:\n",
    "* *hip*,\n",
    "* *hop*,\n",
    "* *hip-hop*.\n",
    "\n",
    "Чтобы очистить от них таблицу, напишите функцию `replace_wrong_genres()` с двумя параметрами: \n",
    "* `wrong_genres` — список дубликатов,\n",
    "* `correct_genre` — строка с правильным значением.\n",
    "\n",
    "Функция должна исправить колонку `genre` в таблице `df`: заменить каждое значение из списка `wrong_genres` на значение из `correct_genre`."
   ]
  },
  {
   "cell_type": "code",
   "execution_count": 16,
   "metadata": {
    "id": "ErNDkmns_Zct"
   },
   "outputs": [],
   "source": [
    "# Функция для замены неявных дубликатов\n",
    "def replace_wrong_genres(wrong_genres, correct_genre):\n",
    "    for wrong_genre in wrong_genres: \n",
    "        df['genre'] = df['genre'].replace(wrong_genres, correct_genre) \n"
   ]
  },
  {
   "cell_type": "markdown",
   "metadata": {
    "id": "aDoBJxbA_Zct"
   },
   "source": [
    "Вызовите `replace_wrong_genres()` и передайте ей такие аргументы, чтобы она устранила неявные дубликаты: вместо `hip`, `hop` и `hip-hop` в таблице должно быть значение `hiphop`:"
   ]
  },
  {
   "cell_type": "code",
   "execution_count": 17,
   "metadata": {
    "id": "YN5i2hpmSo09"
   },
   "outputs": [],
   "source": [
    "# Устранение неявных дубликатов\n",
    "duplicates = ['hip', 'hop', 'hip-hop']\n",
    "name = 'hiphop'\n",
    "replace_wrong_genres(duplicates, name)"
   ]
  },
  {
   "cell_type": "markdown",
   "metadata": {},
   "source": [
    "<div class=\"alert alert-success\">\n",
    "<h2> Комментарий ревьюера <a class=\"tocSkip\"> </h2>\n",
    "\n",
    "Небольшое упрощение (но сложнее для понимания) опять-таки связано со списками. Так можно заменить эти значения с помощью одного реплейса:\n",
    "    \n",
    "```python\n",
    "duplicates = ['hip', 'hop', 'hip-hop']\n",
    "correct_name = 'hiphop'  \n",
    "\n",
    "df['genre'] = df['genre'].replace(duplicates, correct_name)\n",
    "```\n",
    "\n",
    "Программа посмотрит на список duplicates и каждое встречающееся в Series значение из этого списка заменит на correct_name. Можно сделать и так:\n",
    "\n",
    "    \n",
    "```python\n",
    "df['genre'] = df['genre'].replace(['hip', 'hop', 'hip-hop'], 'hiphop')\n",
    "```"
   ]
  },
  {
   "cell_type": "markdown",
   "metadata": {
    "id": "zQKF16_RG15m"
   },
   "source": [
    "Проверьте, что заменили неправильные названия:\n",
    "\n",
    "*   hip\n",
    "*   hop\n",
    "*   hip-hop\n",
    "\n",
    "Выведите отсортированный список уникальных значений столбца `genre`:"
   ]
  },
  {
   "cell_type": "code",
   "execution_count": 18,
   "metadata": {
    "id": "wvixALnFG15m"
   },
   "outputs": [
    {
     "data": {
      "text/plain": [
       "['acid',\n",
       " 'acoustic',\n",
       " 'action',\n",
       " 'adult',\n",
       " 'africa',\n",
       " 'afrikaans',\n",
       " 'alternative',\n",
       " 'alternativepunk',\n",
       " 'ambient',\n",
       " 'americana',\n",
       " 'animated',\n",
       " 'anime',\n",
       " 'arabesk',\n",
       " 'arabic',\n",
       " 'arena',\n",
       " 'argentinetango',\n",
       " 'art',\n",
       " 'audiobook',\n",
       " 'author',\n",
       " 'avantgarde',\n",
       " 'axé',\n",
       " 'baile',\n",
       " 'balkan',\n",
       " 'beats',\n",
       " 'bigroom',\n",
       " 'black',\n",
       " 'bluegrass',\n",
       " 'blues',\n",
       " 'bollywood',\n",
       " 'bossa',\n",
       " 'brazilian',\n",
       " 'breakbeat',\n",
       " 'breaks',\n",
       " 'broadway',\n",
       " 'cantautori',\n",
       " 'cantopop',\n",
       " 'canzone',\n",
       " 'caribbean',\n",
       " 'caucasian',\n",
       " 'celtic',\n",
       " 'chamber',\n",
       " 'chanson',\n",
       " 'children',\n",
       " 'chill',\n",
       " 'chinese',\n",
       " 'choral',\n",
       " 'christian',\n",
       " 'christmas',\n",
       " 'classical',\n",
       " 'classicmetal',\n",
       " 'club',\n",
       " 'colombian',\n",
       " 'comedy',\n",
       " 'conjazz',\n",
       " 'contemporary',\n",
       " 'country',\n",
       " 'cuban',\n",
       " 'dance',\n",
       " 'dancehall',\n",
       " 'dancepop',\n",
       " 'dark',\n",
       " 'death',\n",
       " 'deep',\n",
       " 'deutschrock',\n",
       " 'deutschspr',\n",
       " 'dirty',\n",
       " 'disco',\n",
       " 'dnb',\n",
       " 'documentary',\n",
       " 'downbeat',\n",
       " 'downtempo',\n",
       " 'drum',\n",
       " 'dub',\n",
       " 'dubstep',\n",
       " 'eastern',\n",
       " 'easy',\n",
       " 'electronic',\n",
       " 'electropop',\n",
       " 'emo',\n",
       " 'entehno',\n",
       " 'epicmetal',\n",
       " 'estrada',\n",
       " 'ethnic',\n",
       " 'eurofolk',\n",
       " 'european',\n",
       " 'experimental',\n",
       " 'extrememetal',\n",
       " 'fado',\n",
       " 'fairytail',\n",
       " 'film',\n",
       " 'fitness',\n",
       " 'flamenco',\n",
       " 'folk',\n",
       " 'folklore',\n",
       " 'folkmetal',\n",
       " 'folkrock',\n",
       " 'folktronica',\n",
       " 'forró',\n",
       " 'frankreich',\n",
       " 'französisch',\n",
       " 'french',\n",
       " 'funk',\n",
       " 'future',\n",
       " 'gangsta',\n",
       " 'garage',\n",
       " 'german',\n",
       " 'ghazal',\n",
       " 'gitarre',\n",
       " 'glitch',\n",
       " 'gospel',\n",
       " 'gothic',\n",
       " 'grime',\n",
       " 'grunge',\n",
       " 'gypsy',\n",
       " 'handsup',\n",
       " \"hard'n'heavy\",\n",
       " 'hardcore',\n",
       " 'hardstyle',\n",
       " 'hardtechno',\n",
       " 'hiphop',\n",
       " 'historisch',\n",
       " 'holiday',\n",
       " 'horror',\n",
       " 'house',\n",
       " 'hymn',\n",
       " 'idm',\n",
       " 'independent',\n",
       " 'indian',\n",
       " 'indie',\n",
       " 'indipop',\n",
       " 'industrial',\n",
       " 'inspirational',\n",
       " 'instrumental',\n",
       " 'international',\n",
       " 'irish',\n",
       " 'jam',\n",
       " 'japanese',\n",
       " 'jazz',\n",
       " 'jewish',\n",
       " 'jpop',\n",
       " 'jungle',\n",
       " 'k-pop',\n",
       " 'karadeniz',\n",
       " 'karaoke',\n",
       " 'kayokyoku',\n",
       " 'korean',\n",
       " 'laiko',\n",
       " 'latin',\n",
       " 'latino',\n",
       " 'leftfield',\n",
       " 'local',\n",
       " 'lounge',\n",
       " 'loungeelectronic',\n",
       " 'lovers',\n",
       " 'malaysian',\n",
       " 'mandopop',\n",
       " 'marschmusik',\n",
       " 'meditative',\n",
       " 'mediterranean',\n",
       " 'melodic',\n",
       " 'metal',\n",
       " 'metalcore',\n",
       " 'mexican',\n",
       " 'middle',\n",
       " 'minimal',\n",
       " 'miscellaneous',\n",
       " 'modern',\n",
       " 'mood',\n",
       " 'mpb',\n",
       " 'muslim',\n",
       " 'native',\n",
       " 'neoklassik',\n",
       " 'neue',\n",
       " 'new',\n",
       " 'newage',\n",
       " 'newwave',\n",
       " 'nu',\n",
       " 'nujazz',\n",
       " 'numetal',\n",
       " 'oceania',\n",
       " 'old',\n",
       " 'opera',\n",
       " 'orchestral',\n",
       " 'other',\n",
       " 'piano',\n",
       " 'podcasts',\n",
       " 'pop',\n",
       " 'popdance',\n",
       " 'popelectronic',\n",
       " 'popeurodance',\n",
       " 'poprussian',\n",
       " 'post',\n",
       " 'posthardcore',\n",
       " 'postrock',\n",
       " 'power',\n",
       " 'progmetal',\n",
       " 'progressive',\n",
       " 'psychedelic',\n",
       " 'punjabi',\n",
       " 'punk',\n",
       " 'quebecois',\n",
       " 'ragga',\n",
       " 'ram',\n",
       " 'rancheras',\n",
       " 'rap',\n",
       " 'rave',\n",
       " 'reggae',\n",
       " 'reggaeton',\n",
       " 'regional',\n",
       " 'relax',\n",
       " 'religious',\n",
       " 'retro',\n",
       " 'rhythm',\n",
       " 'rnb',\n",
       " 'rnr',\n",
       " 'rock',\n",
       " 'rockabilly',\n",
       " 'rockalternative',\n",
       " 'rockindie',\n",
       " 'rockother',\n",
       " 'romance',\n",
       " 'roots',\n",
       " 'ruspop',\n",
       " 'rusrap',\n",
       " 'rusrock',\n",
       " 'russian',\n",
       " 'salsa',\n",
       " 'samba',\n",
       " 'scenic',\n",
       " 'schlager',\n",
       " 'self',\n",
       " 'sertanejo',\n",
       " 'shanson',\n",
       " 'shoegazing',\n",
       " 'showtunes',\n",
       " 'singer',\n",
       " 'ska',\n",
       " 'skarock',\n",
       " 'slow',\n",
       " 'smooth',\n",
       " 'soft',\n",
       " 'soul',\n",
       " 'soulful',\n",
       " 'sound',\n",
       " 'soundtrack',\n",
       " 'southern',\n",
       " 'specialty',\n",
       " 'speech',\n",
       " 'spiritual',\n",
       " 'sport',\n",
       " 'stonerrock',\n",
       " 'surf',\n",
       " 'swing',\n",
       " 'synthpop',\n",
       " 'synthrock',\n",
       " 'sängerportrait',\n",
       " 'tango',\n",
       " 'tanzorchester',\n",
       " 'taraftar',\n",
       " 'tatar',\n",
       " 'tech',\n",
       " 'techno',\n",
       " 'teen',\n",
       " 'thrash',\n",
       " 'top',\n",
       " 'traditional',\n",
       " 'tradjazz',\n",
       " 'trance',\n",
       " 'tribal',\n",
       " 'trip',\n",
       " 'triphop',\n",
       " 'tropical',\n",
       " 'türk',\n",
       " 'türkçe',\n",
       " 'ukrrock',\n",
       " 'unknown',\n",
       " 'urban',\n",
       " 'uzbek',\n",
       " 'variété',\n",
       " 'vi',\n",
       " 'videogame',\n",
       " 'vocal',\n",
       " 'western',\n",
       " 'world',\n",
       " 'worldbeat',\n",
       " 'ïîï',\n",
       " 'электроника']"
      ]
     },
     "execution_count": 18,
     "metadata": {},
     "output_type": "execute_result"
    }
   ],
   "source": [
    "# Проверка на неявные дубликаты\n",
    "sorted(df['genre'].unique())"
   ]
  },
  {
   "cell_type": "markdown",
   "metadata": {
    "id": "jz6a9-7HQUDd"
   },
   "source": [
    "**Выводы**\n",
    "\n",
    "Предобработка обнаружила три проблемы в данных:\n",
    "\n",
    "- нарушения в стиле заголовков,\n",
    "- пропущенные значения,\n",
    "- дубликаты — явные и неявные.\n",
    "\n",
    "Вы исправили заголовки, чтобы упростить работу с таблицей. Без дубликатов исследование станет более точным.\n",
    "\n",
    "Пропущенные значения вы заменили на `'unknown'`. Ещё предстоит увидеть, не повредят ли исследованию пропуски в колонке `genre`.\n",
    "\n",
    "Теперь можно перейти к проверке гипотез. "
   ]
  },
  {
   "cell_type": "markdown",
   "metadata": {},
   "source": [
    "<div class=\"alert alert-success\">\n",
    "<h2> Комментарий ревьюера <a class=\"tocSkip\"> </h2>\n",
    "\n",
    "Здорово, когда шаг заканчивается выводом - что сделали, к чему пришли. Это хорошая практика, прошу придерживаться ее и в следующих проектах."
   ]
  },
  {
   "cell_type": "markdown",
   "metadata": {
    "id": "WttZHXH0SqKk"
   },
   "source": [
    "## Проверка гипотез"
   ]
  },
  {
   "cell_type": "markdown",
   "metadata": {
    "id": "Im936VVi_Zcu"
   },
   "source": [
    "### Сравнение поведения пользователей двух столиц"
   ]
  },
  {
   "cell_type": "markdown",
   "metadata": {
    "id": "nwt_MuaL_Zcu"
   },
   "source": [
    "Первая гипотеза утверждает, что пользователи по-разному слушают музыку в Москве и Санкт-Петербурге. Проверьте это предположение по данным о трёх днях недели — понедельнике, среде и пятнице. Для этого:\n",
    "\n",
    "* Разделите пользователей Москвы и Санкт-Петербурга\n",
    "* Сравните, сколько треков послушала каждая группа пользователей в понедельник, среду и пятницу.\n"
   ]
  },
  {
   "cell_type": "markdown",
   "metadata": {
    "id": "8Dw_YMmT_Zcu"
   },
   "source": [
    "Для тренировки сначала выполните каждый из расчётов по отдельности. \n",
    "\n",
    "Оцените активность пользователей в каждом городе. Сгруппируйте данные по городу и посчитайте прослушивания в каждой группе.\n",
    "\n"
   ]
  },
  {
   "cell_type": "code",
   "execution_count": 20,
   "metadata": {
    "id": "0_Qs96oh_Zcu"
   },
   "outputs": [
    {
     "data": {
      "text/html": [
       "<div>\n",
       "<style scoped>\n",
       "    .dataframe tbody tr th:only-of-type {\n",
       "        vertical-align: middle;\n",
       "    }\n",
       "\n",
       "    .dataframe tbody tr th {\n",
       "        vertical-align: top;\n",
       "    }\n",
       "\n",
       "    .dataframe thead th {\n",
       "        text-align: right;\n",
       "    }\n",
       "</style>\n",
       "<table border=\"1\" class=\"dataframe\">\n",
       "  <thead>\n",
       "    <tr style=\"text-align: right;\">\n",
       "      <th></th>\n",
       "      <th>user_id</th>\n",
       "    </tr>\n",
       "    <tr>\n",
       "      <th>city</th>\n",
       "      <th></th>\n",
       "    </tr>\n",
       "  </thead>\n",
       "  <tbody>\n",
       "    <tr>\n",
       "      <td>Moscow</td>\n",
       "      <td>42741</td>\n",
       "    </tr>\n",
       "    <tr>\n",
       "      <td>Saint-Petersburg</td>\n",
       "      <td>18512</td>\n",
       "    </tr>\n",
       "  </tbody>\n",
       "</table>\n",
       "</div>"
      ],
      "text/plain": [
       "                  user_id\n",
       "city                     \n",
       "Moscow              42741\n",
       "Saint-Petersburg    18512"
      ]
     },
     "execution_count": 20,
     "metadata": {},
     "output_type": "execute_result"
    }
   ],
   "source": [
    "# Подсчёт прослушиваний в каждом городе\n",
    "df.groupby('city')['user_id'].count().to_frame()\n",
    "#df[df['city'] == 'Moscow']['user_id'].count()\n",
    "moscow_genres.to_frame()"
   ]
  },
  {
   "cell_type": "markdown",
   "metadata": {},
   "source": [
    "<div class=\"alert alert-warning\">\n",
    "<h2> Комментарий ревьюера <a class=\"tocSkip\"> </h2>\n",
    "\n",
    "Для красоты Series можно обратно преобразовывать в датафрейм методом `.to_frame()`:\n",
    "\n",
    "      moscow_genres.to_frame()"
   ]
  },
  {
   "cell_type": "markdown",
   "metadata": {
    "id": "dzli3w8o_Zcu"
   },
   "source": [
    "В Москве прослушиваний больше, чем в Петербурге. Из этого не следует, что московские пользователи чаще слушают музыку. Просто самих пользователей в Москве больше.\n",
    "\n",
    "Теперь сгруппируйте данные по дню недели и подсчитайте прослушивания в понедельник, среду и пятницу. Учтите, что в данных есть информация только о прослушиваниях только за эти дни.\n"
   ]
  },
  {
   "cell_type": "code",
   "execution_count": null,
   "metadata": {
    "id": "uZMKjiJz_Zcu"
   },
   "outputs": [],
   "source": [
    "# Подсчёт прослушиваний в каждый из трёх дней\n",
    "#df\n",
    "df.groupby('day')['user_id'].count()\n"
   ]
  },
  {
   "cell_type": "markdown",
   "metadata": {
    "id": "cC2tNrlL_Zcu"
   },
   "source": [
    "В среднем пользователи из двух городов менее активны по средам. Но картина может измениться, если рассмотреть каждый город в отдельности."
   ]
  },
  {
   "cell_type": "markdown",
   "metadata": {
    "id": "POzs8bGa_Zcu"
   },
   "source": [
    "Вы видели, как работает группировка по городу и по дням недели. Теперь напишите функцию, которая объединит два эти расчёта.\n",
    "\n",
    "Создайте функцию `number_tracks()`, которая посчитает прослушивания для заданного дня и города. Ей понадобятся два параметра:\n",
    "* день недели,\n",
    "* название города.\n",
    "\n",
    "В функции сохраните в переменную строки исходной таблицы, у которых значение:\n",
    "  * в колонке `day` равно параметру `day`,\n",
    "  * в колонке `city` равно параметру `city`.\n",
    "\n",
    "Для этого примените последовательную фильтрацию с логической индексацией.\n",
    "\n",
    "Затем посчитайте значения в столбце `user_id` получившейся таблицы. Результат сохраните в новую переменную. Верните эту переменную из функции."
   ]
  },
  {
   "cell_type": "code",
   "execution_count": null,
   "metadata": {
    "id": "Nz3GdQB1_Zcu"
   },
   "outputs": [],
   "source": [
    "# <создание функции number_tracks()>\n",
    "# Объявляется функция с двумя параметрами: day, city.\n",
    "def number_tracks(day, city):\n",
    "# В переменной track_list сохраняются те строки таблицы df, для которых \n",
    "# значение в столбце 'day' равно параметру day и одновременно значение\n",
    "# в столбце 'city' равно параметру city (используйте последовательную фильтрацию\n",
    "# с помощью логической индексации).\n",
    "    track_list = df.loc[(df['day'] == day) & (df['city'] == city)]\n",
    "    track_list_count = track_list['user_id'].count()\n",
    "    return track_list_count\n",
    "# В переменной track_list_count сохраняется число значений столбца 'user_id',\n",
    "# рассчитанное методом count() для таблицы track_list.\n",
    "# Функция возвращает число - значение track_list_count.\n",
    "\n",
    "# Функция для подсчёта прослушиваний для конкретного города и дня.\n",
    "# С помощью последовательной фильтрации с логической индексацией она \n",
    "# сначала получит из исходной таблицы строки с нужным днём,\n",
    "# затем из результата отфильтрует строки с нужным городом,\n",
    "# методом count() посчитает количество значений в колонке user_id. \n",
    "# Это количество функция вернёт в качестве результата"
   ]
  },
  {
   "cell_type": "markdown",
   "metadata": {},
   "source": [
    "<div style=\"border:solid purple 5px; padding: 20px\"> \n",
    "<h2 align=\"center\"> Рубрика «Питонячий лайфхакер» <a class=\"tocSkip\"> </h2>\n",
    "\n",
    "<h3> PEP 8 - руководство по написанию кода на Python  <a class=\"tocSkip\"> </h3>\n",
    "\n",
    "В python есть своя философия. Именно отсюда берутся определенные правила и стандарты. В пайтон такое соглашение назвали PEP 8 (читается - пэп). PEP 8 создан на основе рекомендаций Гуидо ван Россума (создатель языка Python) с добавлениями от Барри Уорсо (соратник).\n",
    "\n",
    "Единый стиль оформления делает код понятным для самого программиста и его коллег с разным уровнем подготовки. В идеале наиболее сложный фрагмент кода должен быть понятен с первого прочтения. Это упрощает командную разработку и обучение новичков, позволяет вам быстро возвращаться к собственным давним проектам.\n",
    "\n",
    "Каждый уважающий себя питонист обязан знать этот стандарт. Читайте [оригинал](https://www.python.org/dev/peps/pep-0008/) или [перевод](https://pythonworld.ru/osnovy/pep-8-rukovodstvo-po-napisaniyu-koda-na-python.html), главное  —  вдумчиво!\n",
    "\n",
    "Когда проект небольшой, несложно следить за качеством кода, но вот когда проект принимает маштабы ... часто это становиться проблемой. В этом случае выручат скрипты автоматической проверки кода. Кстати, PyCharm проверяет написанное «на лету». А если вы привыкли работать в Jupyter, то на GitHub есть целый раздел [Python Code Quality Authority](https://github.com/PyCQA/), где хранятся утилиты для повышения качества кода, в том числе для проверки стиля на соответствие PEP 8: flake8, pycodestyle, pep8-naming.\n",
    "\n",
    "![](https://i.ibb.co/Gv0PvHQ/mini-magick20171220-84-vtyy26.png)"
   ]
  },
  {
   "cell_type": "markdown",
   "metadata": {
    "id": "ytf7xFrFJQ2r"
   },
   "source": [
    "Вызовите `number_tracks()` шесть раз, меняя значение параметров — так, чтобы получить данные для каждого города в каждый из трёх дней."
   ]
  },
  {
   "cell_type": "code",
   "execution_count": null,
   "metadata": {
    "id": "rJcRATNQ_Zcu"
   },
   "outputs": [],
   "source": [
    "# количество прослушиваний в Москве по понедельникам\n",
    "number_tracks('Monday', 'Moscow')"
   ]
  },
  {
   "cell_type": "code",
   "execution_count": null,
   "metadata": {
    "id": "hq_ncZ5T_Zcu"
   },
   "outputs": [],
   "source": [
    "# количество прослушиваний в Санкт-Петербурге по понедельникам\n",
    "number_tracks('Monday', 'Saint-Petersburg')"
   ]
  },
  {
   "cell_type": "code",
   "execution_count": null,
   "metadata": {
    "id": "_NTy2VPU_Zcu"
   },
   "outputs": [],
   "source": [
    "# количество прослушиваний в Москве по средам\n",
    "number_tracks('Wednesday', 'Moscow')"
   ]
  },
  {
   "cell_type": "code",
   "execution_count": null,
   "metadata": {
    "id": "j2y3TAwo_Zcu"
   },
   "outputs": [],
   "source": [
    "# количество прослушиваний в Санкт-Петербурге по средам\n",
    "number_tracks('Wednesday', 'Saint-Petersburg')"
   ]
  },
  {
   "cell_type": "code",
   "execution_count": null,
   "metadata": {
    "id": "vYDw5u_K_Zcu"
   },
   "outputs": [],
   "source": [
    "# количество прослушиваний в Москве по пятницам\n",
    "number_tracks('Friday', 'Moscow')"
   ]
  },
  {
   "cell_type": "code",
   "execution_count": null,
   "metadata": {
    "id": "8_yzFtW3_Zcu"
   },
   "outputs": [],
   "source": [
    "# количество прослушиваний в Санкт-Петербурге по пятницам\n",
    "number_tracks('Friday', 'Saint-Petersburg')"
   ]
  },
  {
   "cell_type": "markdown",
   "metadata": {
    "id": "7QXffbO-_Zcu"
   },
   "source": [
    "Создайте c помощью конструктора `pd.DataFrame` таблицу, где\n",
    "* названия колонок — `['city', 'monday', 'wednesday', 'friday']`;\n",
    "* данные — результаты, которые вы получили с помощью `number_tracks`."
   ]
  },
  {
   "cell_type": "code",
   "execution_count": null,
   "metadata": {
    "id": "APAcLpOr_Zcu"
   },
   "outputs": [],
   "source": [
    "# Таблица с результатами\n",
    "columns_info = ['city', 'monday', 'wednesday', 'friday']\n",
    "data_info = [\n",
    "    ['Moscow', 15740, 11056, 15945],\n",
    "    ['Saint-Petersburg', 5614, 7003, 5895]\n",
    "]\n",
    "total_table = pd.DataFrame(data = data_info, columns = columns_info)\n",
    "display(total_table)"
   ]
  },
  {
   "cell_type": "markdown",
   "metadata": {},
   "source": [
    "r0s<div class=\"alert alert-success\">\n",
    "<h2> Комментарий ревьюера <a class=\"tocSkip\"> </h2>\n",
    "\n",
    "Удобная и верная сводная таблица 👍"
   ]
  },
  {
   "cell_type": "markdown",
   "metadata": {
    "id": "-EgPIHYu_Zcu"
   },
   "source": [
    "**Выводы**\n",
    "\n",
    "Данные показывают разницу поведения пользователей:\n",
    "\n",
    "- В Москве пик прослушиваний приходится на понедельник и пятницу, а в среду заметен спад.\n",
    "- В Петербурге, наоборот, больше слушают музыку по средам. Активность в понедельник и пятницу здесь почти в равной мере уступает среде.\n",
    "\n",
    "Значит, данные говорят в пользу первой гипотезы."
   ]
  },
  {
   "cell_type": "markdown",
   "metadata": {
    "id": "atZAxtq4_Zcu"
   },
   "source": [
    "### Музыка в начале и в конце недели"
   ]
  },
  {
   "cell_type": "markdown",
   "metadata": {
    "id": "eXrQqXFH_Zcu"
   },
   "source": [
    "Согласно второй гипотезе, утром в понедельник в Москве преобладают одни жанры, а в Петербурге — другие. Так же и вечером пятницы преобладают разные жанры — в зависимости от города."
   ]
  },
  {
   "cell_type": "markdown",
   "metadata": {
    "id": "S8UcW6Hw_Zcu"
   },
   "source": [
    "Сохраните таблицы с данными в две переменные:\n",
    "* по Москве — в `moscow_general`;\n",
    "* по Санкт-Петербургу — в `spb_general`."
   ]
  },
  {
   "cell_type": "code",
   "execution_count": null,
   "metadata": {
    "id": "qeaFfM_P_Zcu"
   },
   "outputs": [],
   "source": [
    "# получение таблицы moscow_general из тех строк таблицы df, \n",
    "# для которых значение в столбце 'city' равно 'Moscow'\n",
    "moscow_general = df.loc[df['city'] == 'Moscow']\n"
   ]
  },
  {
   "cell_type": "code",
   "execution_count": null,
   "metadata": {
    "id": "ORaVRKto_Zcu"
   },
   "outputs": [],
   "source": [
    "# получение таблицы spb_general из тех строк таблицы df,\n",
    "# для которых значение в столбце 'city' равно 'Saint-Petersburg'\n",
    "spb_general = df.loc[df['city'] == 'Saint-Petersburg']\n"
   ]
  },
  {
   "cell_type": "markdown",
   "metadata": {
    "id": "MEJV-CX2_Zcu"
   },
   "source": [
    "Создайте функцию `genre_weekday()` с четырьмя параметрами:\n",
    "* таблица (датафрейм) с данными,\n",
    "* день недели,\n",
    "* начальная временная метка в формате 'hh:mm', \n",
    "* последняя временная метка в формате 'hh:mm'.\n",
    "\n",
    "Функция должна вернуть информацию о топ-10 жанров тех треков, которые прослушивали в указанный день, в промежутке между двумя отметками времени."
   ]
  },
  {
   "cell_type": "code",
   "execution_count": null,
   "metadata": {
    "id": "laJT9BYl_Zcu"
   },
   "outputs": [],
   "source": [
    "# Объявление функции genre_weekday() с параметрами table, day, time1, time2,\n",
    "# которая возвращает информацию о самых популярных жанрах в указанный день в\n",
    "# заданное время:\n",
    "\n",
    "def genre_weekday(table, day, time1, time2):\n",
    "# 1) в переменную genre_df сохраняются те строки переданного датафрейма table, для\n",
    "#    которых одновременно:\n",
    "#    - значение в столбце day равно значению аргумента day\n",
    "#    - значение в столбце time больше значения аргумента time1\n",
    "#    - значение в столбце time меньше значения аргумента time2\n",
    "#    Используйте последовательную фильтрацию с помощью логической индексации.\n",
    "    genre_df = table.loc[(df['day'] == day) & (table['time'] > time1) & (table['time'] < time2)]\n",
    "# 2) сгруппировать датафрейм genre_df по столбцу genre, взять один из его\n",
    "#    столбцов и посчитать методом count() количество записей для каждого из\n",
    "#    присутствующих жанров, получившийся Series записать в переменную\n",
    "#    genre_df_count\n",
    "    genre_df_count = genre_df.groupby('genre')['genre'].count()\n",
    "# 3) отсортировать genre_df_count по убыванию встречаемости и сохранить\n",
    "#    в переменную genre_df_sorted\n",
    "    genre_df_sorted = genre_df_count.sort_values(ascending=False)\n",
    "    genre_df_sorted.head(10)\n",
    "    return genre_df_sorted\n",
    "\n",
    "# 4) вернуть Series из 10 первых значений genre_df_sorted, это будут топ-10\n",
    "#    популярных жанров (в указанный день, в заданное время)"
   ]
  },
  {
   "cell_type": "markdown",
   "metadata": {},
   "source": [
    "<div class=\"alert alert-warning\">\n",
    "<h2> Комментарий ревьюера <a class=\"tocSkip\"> </h2>\n",
    "\n",
    "Старайся промежуточные выводы/комментарии оформлять также в ячейках `Markdown`, это повышает читаемость кода. \n",
    "\n",
    "</div>"
   ]
  },
  {
   "cell_type": "markdown",
   "metadata": {
    "id": "la2s2_PF_Zcu"
   },
   "source": [
    "Cравните результаты функции `genre_weekday()` для Москвы и Санкт-Петербурга в понедельник утром (с 7:00 до 11:00) и в пятницу вечером (с 17:00 до 23:00):"
   ]
  },
  {
   "cell_type": "code",
   "execution_count": null,
   "metadata": {
    "id": "yz7itPUQ_Zcu"
   },
   "outputs": [],
   "source": [
    "# вызов функции для утра понедельника в Москве (вместо df — таблица moscow_general)\n",
    "# объекты, хранящие время, являются строками и сравниваются как строки\n",
    "# пример вызова: \n",
    "genre_weekday(moscow_general, 'Monday', '07:00', '11:00')"
   ]
  },
  {
   "cell_type": "code",
   "execution_count": null,
   "metadata": {
    "id": "kwUcHPdy_Zcu"
   },
   "outputs": [],
   "source": [
    "# вызов функции для утра понедельника в Петербурге (вместо df — таблица spb_general)\n",
    "genre_weekday(spb_general, 'Monday', '07:00', '11:00')"
   ]
  },
  {
   "cell_type": "code",
   "execution_count": null,
   "metadata": {
    "id": "EzXVRE1o_Zcu"
   },
   "outputs": [],
   "source": [
    "# вызов функции для вечера пятницы в Москве\n",
    "genre_weekday(moscow_general, 'Friday', '17:00', '23:00')"
   ]
  },
  {
   "cell_type": "code",
   "execution_count": null,
   "metadata": {
    "id": "JZaEKu5v_Zcu"
   },
   "outputs": [],
   "source": [
    "# вызов функции для вечера пятницы в Петербурге\n",
    "genre_weekday(spb_general, 'Friday', '17:00', '23:00')"
   ]
  },
  {
   "cell_type": "markdown",
   "metadata": {
    "id": "wrCe4MNX_Zcu"
   },
   "source": [
    "**Выводы**\n",
    "\n",
    "Если сравнить топ-10 жанров в понедельник утром, можно сделать такие выводы:\n",
    "\n",
    "1. В Москве и Петербурге слушают похожую музыку. Единственное отличие — в московский рейтинг вошёл жанр “world”, а в петербургский — джаз и классика.\n",
    "\n",
    "2. В Москве пропущенных значений оказалось так много, что значение `'unknown'` заняло десятое место среди самых популярных жанров. Значит, пропущенные значения занимают существенную долю в данных и угрожают достоверности исследования.\n",
    "\n",
    "Вечер пятницы не меняет эту картину. Некоторые жанры поднимаются немного выше, другие спускаются, но в целом топ-10 остаётся тем же самым.\n",
    "\n",
    "Таким образом, вторая гипотеза подтвердилась лишь частично:\n",
    "* Пользователи слушают похожую музыку в начале недели и в конце.\n",
    "* Разница между Москвой и Петербургом не слишком выражена. В Москве чаще слушают русскую популярную музыку, в Петербурге — джаз.\n",
    "\n",
    "Однако пропуски в данных ставят под сомнение этот результат. В Москве их так много, что рейтинг топ-10 мог бы выглядеть иначе, если бы не утерянные  данные о жанрах."
   ]
  },
  {
   "cell_type": "markdown",
   "metadata": {},
   "source": [
    "<div class=\"alert alert-success\">\n",
    "<h2> Комментарий ревьюера <a class=\"tocSkip\"> </h2>\n",
    "\n",
    "Все верно, идем дальше"
   ]
  },
  {
   "cell_type": "markdown",
   "metadata": {
    "id": "JolODAqr_Zcu"
   },
   "source": [
    "### Жанровые предпочтения в Москве и Петербурге\n",
    "\n",
    "Гипотеза: Петербург — столица рэпа, музыку этого жанра там слушают чаще, чем в Москве.  А Москва — город контрастов, в котором, тем не менее, преобладает поп-музыка."
   ]
  },
  {
   "cell_type": "markdown",
   "metadata": {
    "id": "DlegSvaT_Zcu"
   },
   "source": [
    "Сгруппируйте таблицу `moscow_general` по жанру и посчитайте прослушивания треков каждого жанра методом `count()`. Затем отсортируйте результат в порядке убывания и сохраните его в таблице `moscow_genres`."
   ]
  },
  {
   "cell_type": "code",
   "execution_count": null,
   "metadata": {
    "id": "r19lIPke_Zcu"
   },
   "outputs": [],
   "source": [
    "# одной строкой: группировка таблицы moscow_general по столбцу 'genre', \n",
    "# подсчёт числа значений 'genre' в этой группировке методом count(), \n",
    "# сортировка получившегося Series в порядке убывания и сохранение в moscow_genres\n",
    "moscow_genres = moscow_general.groupby('genre')['genre'].count().sort_values(ascending=False)"
   ]
  },
  {
   "cell_type": "markdown",
   "metadata": {
    "id": "6kMuomxTiIr8"
   },
   "source": [
    "Выведите на экран первые десять строк `moscow_genres`:"
   ]
  },
  {
   "cell_type": "code",
   "execution_count": null,
   "metadata": {
    "id": "WhCSooF8_Zcv"
   },
   "outputs": [],
   "source": [
    "# просмотр первых 10 строк moscow_genres\n",
    "display(moscow_genres.head(10))"
   ]
  },
  {
   "cell_type": "markdown",
   "metadata": {
    "id": "cnPG2vnN_Zcv"
   },
   "source": [
    "Теперь повторите то же и для Петербурга.\n",
    "\n",
    "Сгруппируйте таблицу `spb_general` по жанру. Посчитайте прослушивания треков каждого жанра. Результат отсортируйте в порядке убывания и сохраните в таблице `spb_genres`:\n"
   ]
  },
  {
   "cell_type": "code",
   "execution_count": null,
   "metadata": {
    "id": "gluLIpE7_Zcv"
   },
   "outputs": [],
   "source": [
    "# одной строкой: группировка таблицы spb_general по столбцу 'genre', \n",
    "# подсчёт числа значений 'genre' в этой группировке методом count(), \n",
    "# сортировка получившегося Series в порядке убывания и сохранение в spb_genres\n",
    "spb_genres = spb_general.groupby('genre')['genre'].count().sort_values(ascending=False)"
   ]
  },
  {
   "cell_type": "markdown",
   "metadata": {
    "id": "5Doha_ODgyQ8"
   },
   "source": [
    "Выведите на экран первые десять строк `spb_genres`:"
   ]
  },
  {
   "cell_type": "code",
   "execution_count": null,
   "metadata": {
    "id": "uaGJHjVU_Zcv"
   },
   "outputs": [],
   "source": [
    "# просмотр первых 10 строк spb_genres\n",
    "display(moscow_genres.head(10))"
   ]
  },
  {
   "cell_type": "markdown",
   "metadata": {
    "id": "RY51YJYu_Zcv"
   },
   "source": [
    "**Выводы**"
   ]
  },
  {
   "cell_type": "markdown",
   "metadata": {
    "id": "nVhnJEm__Zcv"
   },
   "source": [
    "Гипотеза частично подтвердилась:\n",
    "* Поп-музыка — самый популярный жанр в Москве, как и предполагала гипотеза. Более того, в топ-10 жанров встречается близкий жанр — русская популярная музыка.\n",
    "* Вопреки ожиданиям, рэп одинаково популярен в Москве и Петербурге. \n"
   ]
  },
  {
   "cell_type": "markdown",
   "metadata": {
    "id": "ykKQ0N65_Zcv"
   },
   "source": [
    "## Итоги исследования"
   ]
  },
  {
   "cell_type": "markdown",
   "metadata": {
    "id": "tjUwbHb3_Zcv"
   },
   "source": [
    "Вы проверили три гипотезы и установили:\n",
    "\n",
    "1. День недели по-разному влияет на активность пользователей в Москве и Петербурге. \n",
    "\n",
    "Первая гипотеза полностью подтвердилась.\n",
    "\n",
    "2. Музыкальные предпочтения не сильно меняются в течение недели — будь то Москва или Петербург. Небольшие различия заметны в начале недели, по понедельникам:\n",
    "* в Москве слушают музыку жанра “world”,\n",
    "* в Петербурге — джаз и классику.\n",
    "\n",
    "Таким образом, вторая гипотеза подтвердилась лишь отчасти. Этот результат мог оказаться иным, если бы не пропуски в данных.\n",
    "\n",
    "3. Во вкусах пользователей Москвы и Петербурга больше общего чем различий. Вопреки ожиданиям, предпочтения жанров в Петербурге напоминают московские.\n",
    "\n",
    "Третья гипотеза не подтвердилась. Если различия в предпочтениях и существуют, на основной массе пользователей они незаметны.\n",
    "\n",
    "**На практике исследования содержат проверки статистических гипотез.**\n",
    "Из данных одного сервиса не всегда можно сделать вывод о всех жителях города.\n",
    "Проверки статистических гипотез покажут, насколько они достоверны, исходя из имеющихся данных. \n",
    "С методами проверок гипотез вы ещё познакомитесь в следующих темах."
   ]
  },
  {
   "cell_type": "markdown",
   "metadata": {},
   "source": [
    "<div class=\"alert alert-success\">\n",
    "<h2> Комментарий ревьюера <a class=\"tocSkip\"> </h2>\n",
    "\n",
    "Общий вывод - важная часть исследования. Не забывай про него и в будущих проектах, так как порой пользователь отчета сразу переходит к нему - и из него он должен понять все, что было найдено в ходе исследования."
   ]
  },
  {
   "cell_type": "code",
   "execution_count": null,
   "metadata": {},
   "outputs": [],
   "source": []
  }
 ],
 "metadata": {
  "ExecuteTimeLog": [
   {
    "duration": 811,
    "start_time": "2021-06-26T23:08:59.871Z"
   },
   {
    "duration": 2256,
    "start_time": "2021-06-26T23:09:51.862Z"
   },
   {
    "duration": 179,
    "start_time": "2021-06-26T23:10:37.648Z"
   },
   {
    "duration": 307,
    "start_time": "2021-06-26T23:11:59.798Z"
   },
   {
    "duration": 26,
    "start_time": "2021-06-26T23:12:20.911Z"
   },
   {
    "duration": 34,
    "start_time": "2021-06-26T23:12:52.661Z"
   },
   {
    "duration": 322,
    "start_time": "2021-06-27T08:44:01.129Z"
   },
   {
    "duration": 87,
    "start_time": "2021-06-27T08:44:25.265Z"
   },
   {
    "duration": 261,
    "start_time": "2021-06-27T08:44:28.342Z"
   },
   {
    "duration": 281,
    "start_time": "2021-06-27T08:44:49.522Z"
   },
   {
    "duration": 759,
    "start_time": "2021-06-27T08:44:59.487Z"
   },
   {
    "duration": 184,
    "start_time": "2021-06-27T08:45:02.550Z"
   },
   {
    "duration": 25,
    "start_time": "2021-06-27T08:45:05.150Z"
   },
   {
    "duration": 32,
    "start_time": "2021-06-27T08:45:08.748Z"
   },
   {
    "duration": 5,
    "start_time": "2021-06-27T08:45:15.013Z"
   },
   {
    "duration": 40,
    "start_time": "2021-06-27T08:48:00.099Z"
   },
   {
    "duration": 5,
    "start_time": "2021-06-27T08:48:27.602Z"
   },
   {
    "duration": 5,
    "start_time": "2021-06-27T08:49:14.324Z"
   },
   {
    "duration": 37,
    "start_time": "2021-06-27T08:49:21.864Z"
   },
   {
    "duration": 22,
    "start_time": "2021-06-27T08:49:30.223Z"
   },
   {
    "duration": 5,
    "start_time": "2021-06-27T08:49:34.520Z"
   },
   {
    "duration": 101,
    "start_time": "2021-06-27T08:50:04.760Z"
   },
   {
    "duration": 15607,
    "start_time": "2021-06-27T08:50:11.151Z"
   },
   {
    "duration": 29,
    "start_time": "2021-06-27T08:50:54.395Z"
   },
   {
    "duration": 23,
    "start_time": "2021-06-27T08:58:01.147Z"
   },
   {
    "duration": 31,
    "start_time": "2021-06-27T08:58:25.884Z"
   },
   {
    "duration": 85,
    "start_time": "2021-06-27T08:59:01.907Z"
   },
   {
    "duration": 111,
    "start_time": "2021-06-27T09:01:08.097Z"
   },
   {
    "duration": 78,
    "start_time": "2021-06-27T09:01:50.868Z"
   },
   {
    "duration": 92,
    "start_time": "2021-06-27T09:02:00.080Z"
   },
   {
    "duration": 76,
    "start_time": "2021-06-27T09:02:02.816Z"
   },
   {
    "duration": 96,
    "start_time": "2021-06-27T09:02:26.406Z"
   },
   {
    "duration": 80,
    "start_time": "2021-06-27T09:02:36.496Z"
   },
   {
    "duration": 79,
    "start_time": "2021-06-27T09:05:58.333Z"
   },
   {
    "duration": 328,
    "start_time": "2021-06-27T09:06:18.266Z"
   },
   {
    "duration": 97,
    "start_time": "2021-06-27T09:06:56.022Z"
   },
   {
    "duration": 293,
    "start_time": "2021-06-27T09:07:03.345Z"
   },
   {
    "duration": 103,
    "start_time": "2021-06-27T09:07:57.997Z"
   },
   {
    "duration": 14,
    "start_time": "2021-06-27T09:08:07.236Z"
   },
   {
    "duration": 4,
    "start_time": "2021-06-27T09:21:03.010Z"
   },
   {
    "duration": 273,
    "start_time": "2021-06-27T09:27:01.318Z"
   },
   {
    "duration": 4,
    "start_time": "2021-06-27T09:27:12.146Z"
   },
   {
    "duration": 285,
    "start_time": "2021-06-27T09:27:28.693Z"
   },
   {
    "duration": 8,
    "start_time": "2021-06-27T09:27:44.751Z"
   },
   {
    "duration": 276,
    "start_time": "2021-06-27T09:29:28.425Z"
   },
   {
    "duration": 7,
    "start_time": "2021-06-27T09:29:44.246Z"
   },
   {
    "duration": 14,
    "start_time": "2021-06-27T09:30:07.128Z"
   },
   {
    "duration": 7,
    "start_time": "2021-06-27T09:30:26.926Z"
   },
   {
    "duration": 4,
    "start_time": "2021-06-27T10:09:51.711Z"
   },
   {
    "duration": 277,
    "start_time": "2021-06-27T10:09:55.008Z"
   },
   {
    "duration": 16,
    "start_time": "2021-06-27T10:10:12.621Z"
   },
   {
    "duration": 14,
    "start_time": "2021-06-27T10:10:17.003Z"
   },
   {
    "duration": 4,
    "start_time": "2021-06-27T10:11:30.366Z"
   },
   {
    "duration": 21,
    "start_time": "2021-06-27T10:11:35.687Z"
   },
   {
    "duration": 14,
    "start_time": "2021-06-27T10:11:40.473Z"
   },
   {
    "duration": 265,
    "start_time": "2021-06-27T10:15:43.105Z"
   },
   {
    "duration": 311,
    "start_time": "2021-06-27T10:16:59.800Z"
   },
   {
    "duration": 285,
    "start_time": "2021-06-27T10:19:01.723Z"
   },
   {
    "duration": 270,
    "start_time": "2021-06-27T10:20:25.658Z"
   },
   {
    "duration": 281,
    "start_time": "2021-06-27T10:20:36.346Z"
   },
   {
    "duration": 334,
    "start_time": "2021-06-27T10:21:26.914Z"
   },
   {
    "duration": 722,
    "start_time": "2021-06-27T10:21:38.567Z"
   },
   {
    "duration": 45,
    "start_time": "2021-06-27T10:23:11.986Z"
   },
   {
    "duration": 276,
    "start_time": "2021-06-27T10:25:07.145Z"
   },
   {
    "duration": 378,
    "start_time": "2021-06-27T10:25:19.823Z"
   },
   {
    "duration": 320,
    "start_time": "2021-06-27T10:27:02.388Z"
   },
   {
    "duration": 42,
    "start_time": "2021-06-27T10:27:46.931Z"
   },
   {
    "duration": 11008,
    "start_time": "2021-06-27T10:28:15.383Z"
   },
   {
    "duration": 821,
    "start_time": "2021-06-27T10:30:00.026Z"
   },
   {
    "duration": 30,
    "start_time": "2021-06-27T10:35:23.125Z"
   },
   {
    "duration": 48,
    "start_time": "2021-06-27T10:36:17.769Z"
   },
   {
    "duration": 41,
    "start_time": "2021-06-27T10:38:40.532Z"
   },
   {
    "duration": 38,
    "start_time": "2021-06-27T10:39:10.104Z"
   },
   {
    "duration": 40,
    "start_time": "2021-06-27T10:39:29.557Z"
   },
   {
    "duration": 37,
    "start_time": "2021-06-27T10:40:12.417Z"
   },
   {
    "duration": 42,
    "start_time": "2021-06-27T10:40:45.508Z"
   },
   {
    "duration": 55,
    "start_time": "2021-06-27T10:48:33.716Z"
   },
   {
    "duration": 15,
    "start_time": "2021-06-27T10:50:39.171Z"
   },
   {
    "duration": 26,
    "start_time": "2021-06-27T10:51:00.567Z"
   },
   {
    "duration": 15,
    "start_time": "2021-06-27T10:51:08.195Z"
   },
   {
    "duration": 62,
    "start_time": "2021-06-27T10:52:12.410Z"
   },
   {
    "duration": 30,
    "start_time": "2021-06-27T10:52:24.207Z"
   },
   {
    "duration": 38,
    "start_time": "2021-06-27T10:52:49.491Z"
   },
   {
    "duration": 14,
    "start_time": "2021-06-27T10:52:56.222Z"
   },
   {
    "duration": 8,
    "start_time": "2021-06-27T10:54:23.967Z"
   },
   {
    "duration": 15,
    "start_time": "2021-06-27T10:54:45.897Z"
   },
   {
    "duration": 26,
    "start_time": "2021-06-27T10:54:54.077Z"
   },
   {
    "duration": 41,
    "start_time": "2021-06-27T10:55:35.556Z"
   },
   {
    "duration": 27,
    "start_time": "2021-06-27T10:55:41.501Z"
   },
   {
    "duration": 105,
    "start_time": "2021-06-27T10:58:17.842Z"
   },
   {
    "duration": 6607,
    "start_time": "2021-06-27T10:58:23.342Z"
   },
   {
    "duration": 7034,
    "start_time": "2021-06-27T10:58:49.925Z"
   },
   {
    "duration": 18,
    "start_time": "2021-06-27T11:00:01.029Z"
   },
   {
    "duration": 555,
    "start_time": "2021-06-27T11:02:12.362Z"
   },
   {
    "duration": 14,
    "start_time": "2021-06-27T11:02:23.016Z"
   },
   {
    "duration": 284,
    "start_time": "2021-07-04T03:34:41.212Z"
   },
   {
    "duration": 575,
    "start_time": "2021-07-04T03:34:50.403Z"
   },
   {
    "duration": 129,
    "start_time": "2021-07-04T03:34:50.980Z"
   },
   {
    "duration": 15,
    "start_time": "2021-07-04T03:34:51.111Z"
   },
   {
    "duration": 28,
    "start_time": "2021-07-04T03:34:51.128Z"
   },
   {
    "duration": 12,
    "start_time": "2021-07-04T03:34:51.158Z"
   },
   {
    "duration": 30,
    "start_time": "2021-07-04T03:34:51.171Z"
   },
   {
    "duration": 4,
    "start_time": "2021-07-04T03:34:51.202Z"
   },
   {
    "duration": 26,
    "start_time": "2021-07-04T03:34:51.207Z"
   },
   {
    "duration": 17,
    "start_time": "2021-07-04T03:34:51.236Z"
   },
   {
    "duration": 20,
    "start_time": "2021-07-04T03:34:51.255Z"
   },
   {
    "duration": 66,
    "start_time": "2021-07-04T03:34:51.276Z"
   },
   {
    "duration": 65,
    "start_time": "2021-07-04T03:34:51.344Z"
   },
   {
    "duration": 58,
    "start_time": "2021-07-04T03:34:51.411Z"
   },
   {
    "duration": 8,
    "start_time": "2021-07-04T03:34:51.470Z"
   },
   {
    "duration": 4,
    "start_time": "2021-07-04T03:34:51.479Z"
   },
   {
    "duration": 21,
    "start_time": "2021-07-04T03:34:51.485Z"
   },
   {
    "duration": 10,
    "start_time": "2021-07-04T03:34:51.508Z"
   },
   {
    "duration": 9,
    "start_time": "2021-07-04T03:34:51.519Z"
   },
   {
    "duration": 8,
    "start_time": "2021-07-04T03:34:51.541Z"
   },
   {
    "duration": 3,
    "start_time": "2021-07-04T03:34:51.551Z"
   },
   {
    "duration": 21,
    "start_time": "2021-07-04T03:34:51.555Z"
   },
   {
    "duration": 8,
    "start_time": "2021-07-04T03:34:51.577Z"
   },
   {
    "duration": 10,
    "start_time": "2021-07-04T03:34:51.587Z"
   },
   {
    "duration": 8,
    "start_time": "2021-07-04T03:34:51.598Z"
   },
   {
    "duration": 7,
    "start_time": "2021-07-04T03:34:51.607Z"
   },
   {
    "duration": 9,
    "start_time": "2021-07-04T03:34:51.615Z"
   },
   {
    "duration": 8,
    "start_time": "2021-07-04T03:34:51.627Z"
   },
   {
    "duration": 9,
    "start_time": "2021-07-04T03:34:51.636Z"
   },
   {
    "duration": 12,
    "start_time": "2021-07-04T03:34:51.646Z"
   },
   {
    "duration": 9,
    "start_time": "2021-07-04T03:34:51.659Z"
   },
   {
    "duration": 10,
    "start_time": "2021-07-04T03:34:51.670Z"
   },
   {
    "duration": 8,
    "start_time": "2021-07-04T03:34:51.681Z"
   },
   {
    "duration": 15,
    "start_time": "2021-07-04T03:34:51.690Z"
   },
   {
    "duration": 8,
    "start_time": "2021-07-04T03:34:51.707Z"
   },
   {
    "duration": 8,
    "start_time": "2021-07-04T03:34:51.717Z"
   },
   {
    "duration": 6,
    "start_time": "2021-07-04T03:34:51.726Z"
   },
   {
    "duration": 5,
    "start_time": "2021-07-04T03:34:51.733Z"
   },
   {
    "duration": 5,
    "start_time": "2021-07-04T03:34:51.740Z"
   },
   {
    "duration": 264,
    "start_time": "2021-07-04T03:36:19.681Z"
   },
   {
    "duration": 247,
    "start_time": "2021-07-04T03:36:52.634Z"
   },
   {
    "duration": 9,
    "start_time": "2021-07-04T03:37:43.221Z"
   },
   {
    "duration": 840,
    "start_time": "2021-07-05T18:29:01.948Z"
   },
   {
    "duration": 189,
    "start_time": "2021-07-05T18:29:02.791Z"
   },
   {
    "duration": 26,
    "start_time": "2021-07-05T18:29:02.983Z"
   },
   {
    "duration": 55,
    "start_time": "2021-07-05T18:29:03.012Z"
   },
   {
    "duration": 5,
    "start_time": "2021-07-05T18:29:03.070Z"
   },
   {
    "duration": 31,
    "start_time": "2021-07-05T18:29:03.078Z"
   },
   {
    "duration": 6,
    "start_time": "2021-07-05T18:29:03.112Z"
   },
   {
    "duration": 64,
    "start_time": "2021-07-05T18:29:03.121Z"
   },
   {
    "duration": 21,
    "start_time": "2021-07-05T18:29:03.188Z"
   },
   {
    "duration": 56,
    "start_time": "2021-07-05T18:29:03.212Z"
   },
   {
    "duration": 84,
    "start_time": "2021-07-05T18:29:03.270Z"
   },
   {
    "duration": 123,
    "start_time": "2021-07-05T18:29:03.356Z"
   },
   {
    "duration": 86,
    "start_time": "2021-07-05T18:29:03.482Z"
   },
   {
    "duration": 14,
    "start_time": "2021-07-05T18:29:03.570Z"
   },
   {
    "duration": 4,
    "start_time": "2021-07-05T18:29:03.587Z"
   },
   {
    "duration": 25,
    "start_time": "2021-07-05T18:29:03.593Z"
   },
   {
    "duration": 47,
    "start_time": "2021-07-05T18:29:03.620Z"
   },
   {
    "duration": 15,
    "start_time": "2021-07-05T18:29:03.670Z"
   },
   {
    "duration": 15,
    "start_time": "2021-07-05T18:29:03.687Z"
   },
   {
    "duration": 3,
    "start_time": "2021-07-05T18:29:03.704Z"
   },
   {
    "duration": 7,
    "start_time": "2021-07-05T18:29:03.709Z"
   },
   {
    "duration": 10,
    "start_time": "2021-07-05T18:29:03.718Z"
   },
   {
    "duration": 36,
    "start_time": "2021-07-05T18:29:03.733Z"
   },
   {
    "duration": 5,
    "start_time": "2021-07-05T18:29:03.772Z"
   },
   {
    "duration": 9,
    "start_time": "2021-07-05T18:29:03.779Z"
   },
   {
    "duration": 10,
    "start_time": "2021-07-05T18:29:03.791Z"
   },
   {
    "duration": 7,
    "start_time": "2021-07-05T18:29:03.804Z"
   },
   {
    "duration": 6,
    "start_time": "2021-07-05T18:29:03.814Z"
   },
   {
    "duration": 10,
    "start_time": "2021-07-05T18:29:03.823Z"
   },
   {
    "duration": 14,
    "start_time": "2021-07-05T18:29:03.835Z"
   },
   {
    "duration": 15,
    "start_time": "2021-07-05T18:29:03.867Z"
   },
   {
    "duration": 16,
    "start_time": "2021-07-05T18:29:03.884Z"
   },
   {
    "duration": 11,
    "start_time": "2021-07-05T18:29:03.903Z"
   },
   {
    "duration": 15,
    "start_time": "2021-07-05T18:29:03.916Z"
   },
   {
    "duration": 8,
    "start_time": "2021-07-05T18:29:03.933Z"
   },
   {
    "duration": 8,
    "start_time": "2021-07-05T18:29:03.944Z"
   },
   {
    "duration": 20,
    "start_time": "2021-07-05T18:29:03.955Z"
   },
   {
    "duration": 12,
    "start_time": "2021-07-05T18:29:03.978Z"
   },
   {
    "duration": 4,
    "start_time": "2021-07-05T18:37:32.436Z"
   },
   {
    "duration": 5,
    "start_time": "2021-07-05T18:37:37.238Z"
   },
   {
    "duration": 533,
    "start_time": "2021-07-05T18:37:42.884Z"
   },
   {
    "duration": 5,
    "start_time": "2021-07-05T18:37:55.925Z"
   },
   {
    "duration": 21,
    "start_time": "2021-07-05T18:38:39.991Z"
   },
   {
    "duration": 18,
    "start_time": "2021-07-05T18:40:09.565Z"
   },
   {
    "duration": 19,
    "start_time": "2021-07-05T18:41:19.116Z"
   },
   {
    "duration": 18,
    "start_time": "2021-07-05T18:41:55.438Z"
   },
   {
    "duration": 21,
    "start_time": "2021-07-05T18:42:13.230Z"
   },
   {
    "duration": 19,
    "start_time": "2021-07-05T18:42:47.521Z"
   },
   {
    "duration": 4,
    "start_time": "2021-07-05T18:45:04.740Z"
   },
   {
    "duration": 226,
    "start_time": "2021-07-05T18:45:04.750Z"
   },
   {
    "duration": 15,
    "start_time": "2021-07-05T18:45:04.979Z"
   },
   {
    "duration": 38,
    "start_time": "2021-07-05T18:45:04.996Z"
   },
   {
    "duration": 12,
    "start_time": "2021-07-05T18:45:05.037Z"
   },
   {
    "duration": 42,
    "start_time": "2021-07-05T18:45:05.051Z"
   },
   {
    "duration": 5,
    "start_time": "2021-07-05T18:45:05.096Z"
   },
   {
    "duration": 34,
    "start_time": "2021-07-05T18:45:05.104Z"
   },
   {
    "duration": 24,
    "start_time": "2021-07-05T18:45:05.168Z"
   },
   {
    "duration": 29,
    "start_time": "2021-07-05T18:45:05.195Z"
   },
   {
    "duration": 120,
    "start_time": "2021-07-05T18:45:05.227Z"
   },
   {
    "duration": 108,
    "start_time": "2021-07-05T18:45:05.350Z"
   },
   {
    "duration": 85,
    "start_time": "2021-07-05T18:45:05.460Z"
   },
   {
    "duration": 27,
    "start_time": "2021-07-05T18:45:05.547Z"
   },
   {
    "duration": 6,
    "start_time": "2021-07-05T18:45:05.576Z"
   },
   {
    "duration": 35,
    "start_time": "2021-07-05T18:45:05.584Z"
   },
   {
    "duration": 14,
    "start_time": "2021-07-05T18:45:05.621Z"
   },
   {
    "duration": 31,
    "start_time": "2021-07-05T18:45:05.637Z"
   },
   {
    "duration": 15,
    "start_time": "2021-07-05T18:45:05.670Z"
   },
   {
    "duration": 4,
    "start_time": "2021-07-05T18:45:05.687Z"
   },
   {
    "duration": 29,
    "start_time": "2021-07-05T18:45:05.694Z"
   },
   {
    "duration": 51,
    "start_time": "2021-07-05T18:45:05.725Z"
   },
   {
    "duration": 19,
    "start_time": "2021-07-05T18:45:05.779Z"
   },
   {
    "duration": 18,
    "start_time": "2021-07-05T18:45:05.803Z"
   },
   {
    "duration": 53,
    "start_time": "2021-07-05T18:45:05.824Z"
   },
   {
    "duration": 18,
    "start_time": "2021-07-05T18:45:05.879Z"
   },
   {
    "duration": 3,
    "start_time": "2021-07-05T18:45:05.899Z"
   },
   {
    "duration": 8,
    "start_time": "2021-07-05T18:45:05.904Z"
   },
   {
    "duration": 6,
    "start_time": "2021-07-05T18:45:05.914Z"
   },
   {
    "duration": 44,
    "start_time": "2021-07-05T18:45:05.923Z"
   },
   {
    "duration": 4,
    "start_time": "2021-07-05T18:45:05.970Z"
   },
   {
    "duration": 9,
    "start_time": "2021-07-05T18:45:05.976Z"
   },
   {
    "duration": 10,
    "start_time": "2021-07-05T18:45:05.988Z"
   },
   {
    "duration": 7,
    "start_time": "2021-07-05T18:45:06.000Z"
   },
   {
    "duration": 5,
    "start_time": "2021-07-05T18:45:06.010Z"
   },
   {
    "duration": 6,
    "start_time": "2021-07-05T18:45:06.018Z"
   },
   {
    "duration": 41,
    "start_time": "2021-07-05T18:45:06.027Z"
   },
   {
    "duration": 8,
    "start_time": "2021-07-05T18:45:06.071Z"
   },
   {
    "duration": 398,
    "start_time": "2021-07-05T18:46:43.144Z"
   },
   {
    "duration": 326,
    "start_time": "2021-07-05T18:46:51.823Z"
   },
   {
    "duration": 324,
    "start_time": "2021-07-05T18:47:22.379Z"
   },
   {
    "duration": 321,
    "start_time": "2021-07-05T18:47:30.486Z"
   },
   {
    "duration": 310,
    "start_time": "2021-07-05T18:48:01.152Z"
   },
   {
    "duration": 1277,
    "start_time": "2021-07-05T18:48:47.229Z"
   },
   {
    "duration": 299,
    "start_time": "2021-07-05T18:49:14.516Z"
   },
   {
    "duration": 371,
    "start_time": "2021-07-05T19:23:17.267Z"
   },
   {
    "duration": 6,
    "start_time": "2021-07-05T19:25:36.391Z"
   },
   {
    "duration": 14,
    "start_time": "2021-07-05T19:25:46.999Z"
   },
   {
    "duration": 344,
    "start_time": "2021-07-05T19:26:10.765Z"
   },
   {
    "duration": 18,
    "start_time": "2021-07-05T19:26:18.055Z"
   },
   {
    "duration": 15,
    "start_time": "2021-07-05T19:27:32.841Z"
   },
   {
    "duration": 12,
    "start_time": "2021-07-05T19:28:12.092Z"
   },
   {
    "duration": 5,
    "start_time": "2021-07-05T19:35:57.681Z"
   },
   {
    "duration": 6,
    "start_time": "2021-07-05T19:39:03.403Z"
   },
   {
    "duration": 698,
    "start_time": "2021-07-05T19:39:35.281Z"
   },
   {
    "duration": 5,
    "start_time": "2021-07-05T19:39:46.259Z"
   },
   {
    "duration": 5,
    "start_time": "2021-07-05T19:41:00.040Z"
   },
   {
    "duration": 683,
    "start_time": "2021-07-05T19:41:03.219Z"
   },
   {
    "duration": 6,
    "start_time": "2021-07-05T19:41:49.189Z"
   },
   {
    "duration": 670,
    "start_time": "2021-07-05T19:41:52.059Z"
   },
   {
    "duration": 5,
    "start_time": "2021-07-05T19:42:23.308Z"
   },
   {
    "duration": 29,
    "start_time": "2021-07-05T19:42:26.291Z"
   },
   {
    "duration": 7,
    "start_time": "2021-07-05T19:42:50.441Z"
   },
   {
    "duration": 29,
    "start_time": "2021-07-05T19:42:52.528Z"
   },
   {
    "duration": 315,
    "start_time": "2021-07-05T19:45:58.160Z"
   },
   {
    "duration": 14,
    "start_time": "2021-07-05T19:46:14.650Z"
   },
   {
    "duration": 21,
    "start_time": "2021-07-05T19:46:22.744Z"
   },
   {
    "duration": 21,
    "start_time": "2021-07-05T19:47:56.196Z"
   },
   {
    "duration": 31,
    "start_time": "2021-07-05T19:54:01.616Z"
   },
   {
    "duration": 5,
    "start_time": "2021-07-05T19:54:08.492Z"
   },
   {
    "duration": 650,
    "start_time": "2021-07-05T19:54:22.353Z"
   },
   {
    "duration": 5,
    "start_time": "2021-07-05T19:54:50.195Z"
   },
   {
    "duration": 29,
    "start_time": "2021-07-05T19:54:53.615Z"
   },
   {
    "duration": 5,
    "start_time": "2021-07-05T21:14:29.487Z"
   },
   {
    "duration": 26,
    "start_time": "2021-07-05T21:14:32.377Z"
   },
   {
    "duration": 6,
    "start_time": "2021-07-05T21:15:12.905Z"
   },
   {
    "duration": 28,
    "start_time": "2021-07-05T21:15:15.116Z"
   },
   {
    "duration": 6,
    "start_time": "2021-07-05T21:16:12.897Z"
   },
   {
    "duration": 28,
    "start_time": "2021-07-05T21:16:17.895Z"
   },
   {
    "duration": 5,
    "start_time": "2021-07-05T21:18:09.468Z"
   },
   {
    "duration": 656,
    "start_time": "2021-07-05T21:18:15.369Z"
   },
   {
    "duration": 6,
    "start_time": "2021-07-05T21:18:25.391Z"
   },
   {
    "duration": 25,
    "start_time": "2021-07-05T21:18:27.564Z"
   },
   {
    "duration": 5,
    "start_time": "2021-07-05T21:22:58.605Z"
   },
   {
    "duration": 88,
    "start_time": "2021-07-05T21:23:01.955Z"
   },
   {
    "duration": 5,
    "start_time": "2021-07-05T21:23:27.988Z"
   },
   {
    "duration": 84,
    "start_time": "2021-07-05T21:23:30.830Z"
   },
   {
    "duration": 80,
    "start_time": "2021-07-05T21:24:59.715Z"
   },
   {
    "duration": 74,
    "start_time": "2021-07-05T21:25:43.407Z"
   },
   {
    "duration": 72,
    "start_time": "2021-07-05T21:26:13.981Z"
   },
   {
    "duration": 119,
    "start_time": "2021-07-05T21:27:51.527Z"
   },
   {
    "duration": 61,
    "start_time": "2021-07-05T21:28:20.449Z"
   },
   {
    "duration": 74,
    "start_time": "2021-07-05T21:29:01.534Z"
   },
   {
    "duration": 7,
    "start_time": "2021-07-05T21:29:31.229Z"
   },
   {
    "duration": 363,
    "start_time": "2021-07-05T21:30:11.981Z"
   },
   {
    "duration": 45,
    "start_time": "2021-07-05T21:30:55.181Z"
   },
   {
    "duration": 20,
    "start_time": "2021-07-05T21:30:57.377Z"
   },
   {
    "duration": 32,
    "start_time": "2021-07-05T21:33:11.436Z"
   },
   {
    "duration": 15,
    "start_time": "2021-07-05T21:33:14.766Z"
   },
   {
    "duration": 363,
    "start_time": "2021-07-05T21:34:36.777Z"
   },
   {
    "duration": 31,
    "start_time": "2021-07-05T21:35:08.377Z"
   },
   {
    "duration": 12,
    "start_time": "2021-07-05T21:35:11.480Z"
   },
   {
    "duration": 18,
    "start_time": "2021-07-05T21:36:34.504Z"
   },
   {
    "duration": 31,
    "start_time": "2021-07-05T21:36:58.475Z"
   },
   {
    "duration": 11,
    "start_time": "2021-07-05T21:37:00.596Z"
   },
   {
    "duration": 393,
    "start_time": "2021-07-05T21:37:38.451Z"
   },
   {
    "duration": 11,
    "start_time": "2021-07-05T21:37:56.981Z"
   },
   {
    "duration": 6,
    "start_time": "2021-07-05T21:38:00.746Z"
   },
   {
    "duration": 11,
    "start_time": "2021-07-05T21:38:13.365Z"
   },
   {
    "duration": 6,
    "start_time": "2021-07-05T21:38:17.944Z"
   },
   {
    "duration": 365,
    "start_time": "2021-07-05T21:38:33.296Z"
   },
   {
    "duration": 8,
    "start_time": "2021-07-05T21:38:42.108Z"
   },
   {
    "duration": 6,
    "start_time": "2021-07-05T21:38:54.803Z"
   },
   {
    "duration": 814,
    "start_time": "2021-07-06T12:29:22.376Z"
   },
   {
    "duration": 2607,
    "start_time": "2021-07-06T12:29:23.192Z"
   },
   {
    "duration": 26,
    "start_time": "2021-07-06T12:29:25.803Z"
   },
   {
    "duration": 72,
    "start_time": "2021-07-06T12:29:25.832Z"
   },
   {
    "duration": 9,
    "start_time": "2021-07-06T12:29:25.906Z"
   },
   {
    "duration": 58,
    "start_time": "2021-07-06T12:29:25.917Z"
   },
   {
    "duration": 16,
    "start_time": "2021-07-06T12:29:25.977Z"
   },
   {
    "duration": 42,
    "start_time": "2021-07-06T12:29:25.996Z"
   },
   {
    "duration": 35,
    "start_time": "2021-07-06T12:29:26.041Z"
   },
   {
    "duration": 30,
    "start_time": "2021-07-06T12:29:26.079Z"
   },
   {
    "duration": 116,
    "start_time": "2021-07-06T12:29:26.112Z"
   },
   {
    "duration": 115,
    "start_time": "2021-07-06T12:29:26.231Z"
   },
   {
    "duration": 82,
    "start_time": "2021-07-06T12:29:26.349Z"
   },
   {
    "duration": 38,
    "start_time": "2021-07-06T12:29:26.434Z"
   },
   {
    "duration": 6,
    "start_time": "2021-07-06T12:29:26.475Z"
   },
   {
    "duration": 38,
    "start_time": "2021-07-06T12:29:26.484Z"
   },
   {
    "duration": 44,
    "start_time": "2021-07-06T12:29:26.525Z"
   },
   {
    "duration": 16,
    "start_time": "2021-07-06T12:29:26.572Z"
   },
   {
    "duration": 16,
    "start_time": "2021-07-06T12:29:26.591Z"
   },
   {
    "duration": 47,
    "start_time": "2021-07-06T12:29:26.610Z"
   },
   {
    "duration": 26,
    "start_time": "2021-07-06T12:29:26.661Z"
   },
   {
    "duration": 20,
    "start_time": "2021-07-06T12:29:26.690Z"
   },
   {
    "duration": 48,
    "start_time": "2021-07-06T12:29:26.715Z"
   },
   {
    "duration": 27,
    "start_time": "2021-07-06T12:29:26.768Z"
   },
   {
    "duration": 32,
    "start_time": "2021-07-06T12:29:26.798Z"
   },
   {
    "duration": 28,
    "start_time": "2021-07-06T12:29:26.856Z"
   },
   {
    "duration": 25,
    "start_time": "2021-07-06T12:29:26.887Z"
   },
   {
    "duration": 46,
    "start_time": "2021-07-06T12:29:26.915Z"
   },
   {
    "duration": 17,
    "start_time": "2021-07-06T12:29:26.964Z"
   },
   {
    "duration": 9,
    "start_time": "2021-07-06T12:29:26.983Z"
   },
   {
    "duration": 110,
    "start_time": "2021-07-06T12:29:26.994Z"
   },
   {
    "duration": 108,
    "start_time": "2021-07-06T12:29:27.107Z"
   },
   {
    "duration": 109,
    "start_time": "2021-07-06T12:29:27.218Z"
   },
   {
    "duration": 86,
    "start_time": "2021-07-06T12:29:27.329Z"
   },
   {
    "duration": 10,
    "start_time": "2021-07-06T12:29:27.417Z"
   },
   {
    "duration": 7,
    "start_time": "2021-07-06T12:29:27.430Z"
   },
   {
    "duration": 10,
    "start_time": "2021-07-06T12:29:27.457Z"
   },
   {
    "duration": 22,
    "start_time": "2021-07-06T12:29:27.471Z"
   },
   {
    "duration": 103,
    "start_time": "2021-07-06T12:36:31.267Z"
   },
   {
    "duration": 422,
    "start_time": "2021-07-06T14:58:39.992Z"
   },
   {
    "duration": 834,
    "start_time": "2021-07-06T14:58:47.648Z"
   },
   {
    "duration": 205,
    "start_time": "2021-07-06T14:58:48.485Z"
   },
   {
    "duration": 28,
    "start_time": "2021-07-06T14:58:48.693Z"
   },
   {
    "duration": 55,
    "start_time": "2021-07-06T14:58:48.724Z"
   },
   {
    "duration": 6,
    "start_time": "2021-07-06T14:58:48.782Z"
   },
   {
    "duration": 27,
    "start_time": "2021-07-06T14:58:48.791Z"
   },
   {
    "duration": 6,
    "start_time": "2021-07-06T14:58:48.821Z"
   },
   {
    "duration": 30,
    "start_time": "2021-07-06T14:58:48.867Z"
   },
   {
    "duration": 24,
    "start_time": "2021-07-06T14:58:48.902Z"
   },
   {
    "duration": 54,
    "start_time": "2021-07-06T14:58:48.929Z"
   },
   {
    "duration": 101,
    "start_time": "2021-07-06T14:58:48.985Z"
   },
   {
    "duration": 115,
    "start_time": "2021-07-06T14:58:49.088Z"
   },
   {
    "duration": 86,
    "start_time": "2021-07-06T14:58:49.206Z"
   },
   {
    "duration": 13,
    "start_time": "2021-07-06T14:58:49.294Z"
   },
   {
    "duration": 3,
    "start_time": "2021-07-06T14:58:49.310Z"
   },
   {
    "duration": 52,
    "start_time": "2021-07-06T14:58:49.315Z"
   },
   {
    "duration": 14,
    "start_time": "2021-07-06T14:58:49.370Z"
   },
   {
    "duration": 389,
    "start_time": "2021-07-06T14:58:49.386Z"
   },
   {
    "duration": -24,
    "start_time": "2021-07-06T14:58:49.802Z"
   },
   {
    "duration": -29,
    "start_time": "2021-07-06T14:58:49.809Z"
   },
   {
    "duration": -36,
    "start_time": "2021-07-06T14:58:49.817Z"
   },
   {
    "duration": -40,
    "start_time": "2021-07-06T14:58:49.823Z"
   },
   {
    "duration": -46,
    "start_time": "2021-07-06T14:58:49.830Z"
   },
   {
    "duration": -51,
    "start_time": "2021-07-06T14:58:49.836Z"
   },
   {
    "duration": -56,
    "start_time": "2021-07-06T14:58:49.843Z"
   },
   {
    "duration": -61,
    "start_time": "2021-07-06T14:58:49.849Z"
   },
   {
    "duration": -67,
    "start_time": "2021-07-06T14:58:49.856Z"
   },
   {
    "duration": -72,
    "start_time": "2021-07-06T14:58:49.862Z"
   },
   {
    "duration": -76,
    "start_time": "2021-07-06T14:58:49.868Z"
   },
   {
    "duration": -81,
    "start_time": "2021-07-06T14:58:49.874Z"
   },
   {
    "duration": -87,
    "start_time": "2021-07-06T14:58:49.882Z"
   },
   {
    "duration": -92,
    "start_time": "2021-07-06T14:58:49.888Z"
   },
   {
    "duration": -104,
    "start_time": "2021-07-06T14:58:49.903Z"
   },
   {
    "duration": -106,
    "start_time": "2021-07-06T14:58:49.906Z"
   },
   {
    "duration": -107,
    "start_time": "2021-07-06T14:58:49.909Z"
   },
   {
    "duration": -108,
    "start_time": "2021-07-06T14:58:49.911Z"
   },
   {
    "duration": -110,
    "start_time": "2021-07-06T14:58:49.915Z"
   },
   {
    "duration": -112,
    "start_time": "2021-07-06T14:58:49.918Z"
   },
   {
    "duration": 18,
    "start_time": "2021-07-06T14:59:32.483Z"
   }
  ],
  "colab": {
   "collapsed_sections": [
    "E0vqbgi9ay0H",
    "VUC88oWjTJw2"
   ],
   "name": "yandex_music_project_2021.2.ipynb",
   "provenance": []
  },
  "kernelspec": {
   "display_name": "Python 3 (ipykernel)",
   "language": "python",
   "name": "python3"
  },
  "language_info": {
   "codemirror_mode": {
    "name": "ipython",
    "version": 3
   },
   "file_extension": ".py",
   "mimetype": "text/x-python",
   "name": "python",
   "nbconvert_exporter": "python",
   "pygments_lexer": "ipython3",
   "version": "3.9.5"
  },
  "toc": {
   "base_numbering": 1,
   "nav_menu": {},
   "number_sections": true,
   "sideBar": true,
   "skip_h1_title": true,
   "title_cell": "Table of Contents",
   "title_sidebar": "Contents",
   "toc_cell": false,
   "toc_position": {},
   "toc_section_display": true,
   "toc_window_display": true
  }
 },
 "nbformat": 4,
 "nbformat_minor": 1
}
