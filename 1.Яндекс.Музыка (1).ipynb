{
 "cells": [
  {
   "cell_type": "markdown",
   "metadata": {
    "id": "E0vqbgi9ay0H"
   },
   "source": [
    "# Яндекс.Музыка"
   ]
  },
  {
   "cell_type": "markdown",
   "metadata": {
    "id": "VUC88oWjTJw2"
   },
   "source": [
    "Сравнение Москвы и Петербурга окружено мифами. Например:\n",
    " * Москва — мегаполис, подчинённый жёсткому ритму рабочей недели;\n",
    " * Петербург — культурная столица, со своими вкусами.\n",
    "\n",
    "На данных Яндекс.Музыки мы сравним поведение пользователей двух столиц.\n",
    "\n",
    "**Цель исследования** — проверка три гипотезы:\n",
    "1. Активность пользователей зависит от дня недели. Причём в Москве и Петербурге это проявляется по-разному.\n",
    "2. В понедельник утром в Москве преобладают одни жанры, а в Петербурге — другие. Так же и вечером пятницы преобладают разные жанры — в зависимости от города. \n",
    "3. Москва и Петербург предпочитают разные жанры музыки. В Москве чаще слушают поп-музыку, в Петербурге — русский рэп.\n",
    "\n",
    "**Ход исследования**\n",
    "\n",
    "Данные о поведении пользователей мы получим из файла `yandex_music_project.csv`. О качестве данных ничего не известно. Поэтому перед проверкой гипотез понадобится обзор данных. \n",
    "\n",
    "Мы проверим данные на ошибки и оценим их влияние на исследование. Затем, на этапе предобработки мы поищим возможность исправить самые критичные ошибки данных.\n",
    " \n",
    "Таким образом, исследование пройдёт в три этапа:\n",
    " 1. Обзор данных.\n",
    " 2. Предобработка данных.\n",
    " 3. Проверка гипотез.\n",
    "\n"
   ]
  },
  {
   "cell_type": "markdown",
   "metadata": {
    "id": "Ml1hmfXC_Zcs"
   },
   "source": [
    "## Обзор данных\n",
    "\n",
    "Составляем первое представление о данных Яндекс.Музыки.\n",
    "\n",
    "\n"
   ]
  },
  {
   "cell_type": "markdown",
   "metadata": {
    "id": "57eAOGIz_Zcs"
   },
   "source": [
    "Для начала импортируем необходимые библиотеки для работы. В нашем случае это pandas."
   ]
  },
  {
   "cell_type": "code",
   "execution_count": 1,
   "metadata": {
    "id": "AXN7PHPN_Zcs"
   },
   "outputs": [],
   "source": [
    "# импорт библиотеки pandas\n",
    "import pandas as pd"
   ]
  },
  {
   "cell_type": "markdown",
   "metadata": {
    "id": "SG23P8tt_Zcs"
   },
   "source": [
    "Прочитаем файл `yandex_music_project.csv` из папки `/datasets` и сохраним его в переменной `df`:"
   ]
  },
  {
   "cell_type": "code",
   "execution_count": 2,
   "metadata": {
    "id": "fFVu7vqh_Zct"
   },
   "outputs": [],
   "source": [
    "# чтение файла с данными и сохранение в df\n",
    "df = pd.read_csv('/datasets/yandex_music_project.csv')"
   ]
  },
  {
   "cell_type": "markdown",
   "metadata": {
    "id": "rDoOMd3uTqnZ"
   },
   "source": [
    "Выведем на экран первые десять строк таблицы:"
   ]
  },
  {
   "cell_type": "code",
   "execution_count": 3,
   "metadata": {
    "id": "oWTVX3gW_Zct"
   },
   "outputs": [
    {
     "data": {
      "text/html": [
       "<div>\n",
       "<style scoped>\n",
       "    .dataframe tbody tr th:only-of-type {\n",
       "        vertical-align: middle;\n",
       "    }\n",
       "\n",
       "    .dataframe tbody tr th {\n",
       "        vertical-align: top;\n",
       "    }\n",
       "\n",
       "    .dataframe thead th {\n",
       "        text-align: right;\n",
       "    }\n",
       "</style>\n",
       "<table border=\"1\" class=\"dataframe\">\n",
       "  <thead>\n",
       "    <tr style=\"text-align: right;\">\n",
       "      <th></th>\n",
       "      <th>userID</th>\n",
       "      <th>Track</th>\n",
       "      <th>artist</th>\n",
       "      <th>genre</th>\n",
       "      <th>City</th>\n",
       "      <th>time</th>\n",
       "      <th>Day</th>\n",
       "    </tr>\n",
       "  </thead>\n",
       "  <tbody>\n",
       "    <tr>\n",
       "      <th>0</th>\n",
       "      <td>FFB692EC</td>\n",
       "      <td>Kamigata To Boots</td>\n",
       "      <td>The Mass Missile</td>\n",
       "      <td>rock</td>\n",
       "      <td>Saint-Petersburg</td>\n",
       "      <td>20:28:33</td>\n",
       "      <td>Wednesday</td>\n",
       "    </tr>\n",
       "    <tr>\n",
       "      <th>1</th>\n",
       "      <td>55204538</td>\n",
       "      <td>Delayed Because of Accident</td>\n",
       "      <td>Andreas Rönnberg</td>\n",
       "      <td>rock</td>\n",
       "      <td>Moscow</td>\n",
       "      <td>14:07:09</td>\n",
       "      <td>Friday</td>\n",
       "    </tr>\n",
       "    <tr>\n",
       "      <th>2</th>\n",
       "      <td>20EC38</td>\n",
       "      <td>Funiculì funiculà</td>\n",
       "      <td>Mario Lanza</td>\n",
       "      <td>pop</td>\n",
       "      <td>Saint-Petersburg</td>\n",
       "      <td>20:58:07</td>\n",
       "      <td>Wednesday</td>\n",
       "    </tr>\n",
       "    <tr>\n",
       "      <th>3</th>\n",
       "      <td>A3DD03C9</td>\n",
       "      <td>Dragons in the Sunset</td>\n",
       "      <td>Fire + Ice</td>\n",
       "      <td>folk</td>\n",
       "      <td>Saint-Petersburg</td>\n",
       "      <td>08:37:09</td>\n",
       "      <td>Monday</td>\n",
       "    </tr>\n",
       "    <tr>\n",
       "      <th>4</th>\n",
       "      <td>E2DC1FAE</td>\n",
       "      <td>Soul People</td>\n",
       "      <td>Space Echo</td>\n",
       "      <td>dance</td>\n",
       "      <td>Moscow</td>\n",
       "      <td>08:34:34</td>\n",
       "      <td>Monday</td>\n",
       "    </tr>\n",
       "    <tr>\n",
       "      <th>5</th>\n",
       "      <td>842029A1</td>\n",
       "      <td>Преданная</td>\n",
       "      <td>IMPERVTOR</td>\n",
       "      <td>rusrap</td>\n",
       "      <td>Saint-Petersburg</td>\n",
       "      <td>13:09:41</td>\n",
       "      <td>Friday</td>\n",
       "    </tr>\n",
       "    <tr>\n",
       "      <th>6</th>\n",
       "      <td>4CB90AA5</td>\n",
       "      <td>True</td>\n",
       "      <td>Roman Messer</td>\n",
       "      <td>dance</td>\n",
       "      <td>Moscow</td>\n",
       "      <td>13:00:07</td>\n",
       "      <td>Wednesday</td>\n",
       "    </tr>\n",
       "    <tr>\n",
       "      <th>7</th>\n",
       "      <td>F03E1C1F</td>\n",
       "      <td>Feeling This Way</td>\n",
       "      <td>Polina Griffith</td>\n",
       "      <td>dance</td>\n",
       "      <td>Moscow</td>\n",
       "      <td>20:47:49</td>\n",
       "      <td>Wednesday</td>\n",
       "    </tr>\n",
       "    <tr>\n",
       "      <th>8</th>\n",
       "      <td>8FA1D3BE</td>\n",
       "      <td>И вновь продолжается бой</td>\n",
       "      <td>NaN</td>\n",
       "      <td>ruspop</td>\n",
       "      <td>Moscow</td>\n",
       "      <td>09:17:40</td>\n",
       "      <td>Friday</td>\n",
       "    </tr>\n",
       "    <tr>\n",
       "      <th>9</th>\n",
       "      <td>E772D5C0</td>\n",
       "      <td>Pessimist</td>\n",
       "      <td>NaN</td>\n",
       "      <td>dance</td>\n",
       "      <td>Saint-Petersburg</td>\n",
       "      <td>21:20:49</td>\n",
       "      <td>Wednesday</td>\n",
       "    </tr>\n",
       "  </tbody>\n",
       "</table>\n",
       "</div>"
      ],
      "text/plain": [
       "     userID                        Track            artist   genre  \\\n",
       "0  FFB692EC            Kamigata To Boots  The Mass Missile    rock   \n",
       "1  55204538  Delayed Because of Accident  Andreas Rönnberg    rock   \n",
       "2    20EC38            Funiculì funiculà       Mario Lanza     pop   \n",
       "3  A3DD03C9        Dragons in the Sunset        Fire + Ice    folk   \n",
       "4  E2DC1FAE                  Soul People        Space Echo   dance   \n",
       "5  842029A1                    Преданная         IMPERVTOR  rusrap   \n",
       "6  4CB90AA5                         True      Roman Messer   dance   \n",
       "7  F03E1C1F             Feeling This Way   Polina Griffith   dance   \n",
       "8  8FA1D3BE     И вновь продолжается бой               NaN  ruspop   \n",
       "9  E772D5C0                    Pessimist               NaN   dance   \n",
       "\n",
       "             City        time        Day  \n",
       "0  Saint-Petersburg  20:28:33  Wednesday  \n",
       "1            Moscow  14:07:09     Friday  \n",
       "2  Saint-Petersburg  20:58:07  Wednesday  \n",
       "3  Saint-Petersburg  08:37:09     Monday  \n",
       "4            Moscow  08:34:34     Monday  \n",
       "5  Saint-Petersburg  13:09:41     Friday  \n",
       "6            Moscow  13:00:07  Wednesday  \n",
       "7            Moscow  20:47:49  Wednesday  \n",
       "8            Moscow  09:17:40     Friday  \n",
       "9  Saint-Petersburg  21:20:49  Wednesday  "
      ]
     },
     "execution_count": 3,
     "metadata": {},
     "output_type": "execute_result"
    }
   ],
   "source": [
    "# получение первых 10 строк таблицы df\n",
    "df.head(10)"
   ]
  },
  {
   "cell_type": "markdown",
   "metadata": {
    "id": "EO73Kwic_Zct"
   },
   "source": [
    "Одной командой получаем общую информацию о таблице:"
   ]
  },
  {
   "cell_type": "code",
   "execution_count": 4,
   "metadata": {
    "id": "DSf2kIb-_Zct"
   },
   "outputs": [
    {
     "name": "stdout",
     "output_type": "stream",
     "text": [
      "<class 'pandas.core.frame.DataFrame'>\n",
      "RangeIndex: 65079 entries, 0 to 65078\n",
      "Data columns (total 7 columns):\n",
      " #   Column    Non-Null Count  Dtype \n",
      "---  ------    --------------  ----- \n",
      " 0     userID  65079 non-null  object\n",
      " 1   Track     63848 non-null  object\n",
      " 2   artist    57876 non-null  object\n",
      " 3   genre     63881 non-null  object\n",
      " 4     City    65079 non-null  object\n",
      " 5   time      65079 non-null  object\n",
      " 6   Day       65079 non-null  object\n",
      "dtypes: object(7)\n",
      "memory usage: 3.5+ MB\n"
     ]
    }
   ],
   "source": [
    "# получение общей информации о данных в таблице df\n",
    "df.info()"
   ]
  },
  {
   "cell_type": "markdown",
   "metadata": {
    "id": "TaQ2Iwbr_Zct"
   },
   "source": [
    "Итак, в таблице семь столбцов. Тип данных во всех столбцах — `object`.\n",
    "\n",
    "Согласно документации к данным:\n",
    "* `userID` — идентификатор пользователя;\n",
    "* `Track` — название трека;  \n",
    "* `artist` — имя исполнителя;\n",
    "* `genre` — название жанра;\n",
    "* `City` — город пользователя;\n",
    "* `time` — время начала прослушивания;\n",
    "* `Day` — день недели.\n",
    "\n",
    "В названиях колонок видны три нарушения стиля:\n",
    "1. Строчные буквы сочетаются с прописными.\n",
    "2. Встречаются пробелы.\n",
    "3. Найдите ещё одну проблему в названии колонок и опишите её в этом пункте.\n",
    "\n",
    "\n",
    "\n",
    "Количество значений в столбцах различается. Значит, в данных есть пропущенные значения.\n"
   ]
  },
  {
   "cell_type": "markdown",
   "metadata": {
    "id": "MCB6-dXG_Zct"
   },
   "source": [
    "**Выводы**\n",
    "\n",
    "В каждой строке таблицы — данные о прослушанном треке. Часть колонок описывает саму композицию: название, исполнителя и жанр. Остальные данные рассказывают о пользователе: из какого он города, когда он слушал музыку. \n",
    "\n",
    "Предварительно можно утверждать, что, данных достаточно для проверки гипотез. Но встречаются пропуски в данных, а в названиях колонок — расхождения с хорошим стилем.\n",
    "\n",
    "Чтобы двигаться дальше, нужно устранить проблемы в данных."
   ]
  },
  {
   "cell_type": "markdown",
   "metadata": {
    "id": "SjYF6Ub9_Zct"
   },
   "source": [
    "## Предобработка данных\n",
    "Исправление стиля в заголовках столбцов, исключение пропусков. Затем проверка данных на дубликаты."
   ]
  },
  {
   "cell_type": "markdown",
   "metadata": {
    "id": "dIaKXr29_Zct"
   },
   "source": [
    "### Стиль заголовков\n",
    "Вывод на экран названия столбцов:"
   ]
  },
  {
   "cell_type": "code",
   "execution_count": 5,
   "metadata": {
    "id": "oKOTdF_Q_Zct"
   },
   "outputs": [
    {
     "data": {
      "text/plain": [
       "Index(['  userID', 'Track', 'artist', 'genre', '  City  ', 'time', 'Day'], dtype='object')"
      ]
     },
     "execution_count": 5,
     "metadata": {},
     "output_type": "execute_result"
    }
   ],
   "source": [
    "# перечень названий столбцов таблицы df\n",
    "df.columns"
   ]
  },
  {
   "cell_type": "markdown",
   "metadata": {
    "id": "zj5534cv_Zct"
   },
   "source": [
    "Изменяем названия в соответствие с хорошим стилем:\n",
    "* несколько слов в названии запишите в «змеином_регистре»,\n",
    "* все символы сделайте строчными,\n",
    "* устраните пробелы.\n",
    "\n",
    "Для этого переименуем колонки так:\n",
    "* `'  userID'` → `'user_id'`;\n",
    "* `'Track'` → `'track'`;\n",
    "* `'  City  '` → `'city'`;\n",
    "* `'Day'` → `'day'`."
   ]
  },
  {
   "cell_type": "code",
   "execution_count": 6,
   "metadata": {
    "id": "ISlFqs5y_Zct"
   },
   "outputs": [],
   "source": [
    "# переименование столбцов\n",
    "df = df.rename(columns=\n",
    "               {'  userID': 'user_id',\n",
    "                'Track' : 'track',\n",
    "                '  City  ' : 'city' ,\n",
    "                'Day' : 'day'})"
   ]
  },
  {
   "cell_type": "markdown",
   "metadata": {
    "id": "1dqbh00J_Zct"
   },
   "source": [
    "Проверка результата. Для этого ещё раз выводим на экран названия столбцов:"
   ]
  },
  {
   "cell_type": "code",
   "execution_count": 7,
   "metadata": {
    "id": "d4NOAmTW_Zct"
   },
   "outputs": [
    {
     "data": {
      "text/plain": [
       "Index(['user_id', 'track', 'artist', 'genre', 'city', 'time', 'day'], dtype='object')"
      ]
     },
     "execution_count": 7,
     "metadata": {},
     "output_type": "execute_result"
    }
   ],
   "source": [
    "# проверка результатов - перечень названий столбцов\n",
    "df.columns"
   ]
  },
  {
   "cell_type": "markdown",
   "metadata": {
    "id": "5ISfbcfY_Zct"
   },
   "source": [
    "### Пропуски значений\n",
    "Сначала посчитаем, сколько в таблице пропущенных значений. "
   ]
  },
  {
   "cell_type": "code",
   "execution_count": 8,
   "metadata": {
    "id": "RskX29qr_Zct"
   },
   "outputs": [
    {
     "data": {
      "text/plain": [
       "user_id       0\n",
       "track      1231\n",
       "artist     7203\n",
       "genre      1198\n",
       "city          0\n",
       "time          0\n",
       "day           0\n",
       "dtype: int64"
      ]
     },
     "execution_count": 8,
     "metadata": {},
     "output_type": "execute_result"
    }
   ],
   "source": [
    "# подсчёт пропусков\n",
    "df.isna().sum()"
   ]
  },
  {
   "cell_type": "markdown",
   "metadata": {
    "id": "qubhgnlO_Zct"
   },
   "source": [
    "Не все пропущенные значения влияют на исследование. Так в `track` и `artist` пропуски не важны для вашей работы. Достаточно заменить их явными обозначениями.\n",
    "\n",
    "Но пропуски в `genre` могут помешать сравнению музыкальных вкусов в Москве и Санкт-Петербурге:\n",
    "* заполним и эти пропуски явными обозначениями,\n",
    "* оценим, насколько они повредят расчётам. "
   ]
  },
  {
   "cell_type": "markdown",
   "metadata": {
    "id": "fSv2laPA_Zct"
   },
   "source": [
    "Заменяем пропущенные значения в столбцах `track`, `artist` и `genre` на строку `'unknown'`. Для этого создаем список `columns_to_replace`, перебераем его элементы циклом `for` и для каждого столбца выполняем замену пропущенных значений:"
   ]
  },
  {
   "cell_type": "code",
   "execution_count": 9,
   "metadata": {
    "id": "KplB5qWs_Zct"
   },
   "outputs": [],
   "source": [
    "# перебор названий столбцов в цикле и замена пропущенных значений на 'unknown'\n",
    "columns_to_replace =['track', 'artist', 'genre']\n",
    "for columns in columns_to_replace:\n",
    "    df[columns] = df[columns].fillna('unknown')"
   ]
  },
  {
   "cell_type": "markdown",
   "metadata": {
    "id": "Ilsm-MZo_Zct"
   },
   "source": [
    "Убедаемся, что в таблице не осталось пропусков. Для этого ещё раз посчитаем пропущенные значения."
   ]
  },
  {
   "cell_type": "code",
   "execution_count": 10,
   "metadata": {
    "id": "Tq4nYRX4_Zct"
   },
   "outputs": [
    {
     "data": {
      "text/plain": [
       "user_id    0\n",
       "track      0\n",
       "artist     0\n",
       "genre      0\n",
       "city       0\n",
       "time       0\n",
       "day        0\n",
       "dtype: int64"
      ]
     },
     "execution_count": 10,
     "metadata": {},
     "output_type": "execute_result"
    }
   ],
   "source": [
    "# подсчёт пропусков\n",
    "df.isna().sum()"
   ]
  },
  {
   "cell_type": "markdown",
   "metadata": {
    "id": "BWKRtBJ3_Zct"
   },
   "source": [
    "### Дубликаты\n",
    "Посчитаем явные дубликаты в таблице одной командой:"
   ]
  },
  {
   "cell_type": "code",
   "execution_count": 11,
   "metadata": {
    "id": "36eES_S0_Zct"
   },
   "outputs": [
    {
     "data": {
      "text/plain": [
       "3826"
      ]
     },
     "execution_count": 11,
     "metadata": {},
     "output_type": "execute_result"
    }
   ],
   "source": [
    "# подсчёт явных дубликатов\n",
    "df.duplicated().sum()"
   ]
  },
  {
   "cell_type": "markdown",
   "metadata": {
    "id": "Ot25h6XR_Zct"
   },
   "source": [
    "Вызовем специальный метод `pandas`, чтобы удалить явные дубликаты:"
   ]
  },
  {
   "cell_type": "code",
   "execution_count": 12,
   "metadata": {
    "id": "exFHq6tt_Zct"
   },
   "outputs": [],
   "source": [
    "# удаление явных дубликатов (с удалением старых индексов и формированием новых)\n",
    "df = df.drop_duplicates().reset_index(drop=True)"
   ]
  },
  {
   "cell_type": "markdown",
   "metadata": {
    "id": "Im2YwBEG_Zct"
   },
   "source": [
    "Ещё раз посчитаем явные дубликаты в таблице — убеждаемся, что полностью от них избавились:"
   ]
  },
  {
   "cell_type": "code",
   "execution_count": 13,
   "metadata": {
    "id": "-8PuNWQ0_Zct"
   },
   "outputs": [
    {
     "data": {
      "text/plain": [
       "0"
      ]
     },
     "execution_count": 13,
     "metadata": {},
     "output_type": "execute_result"
    }
   ],
   "source": [
    "# проверка на отсутствие дубликатов\n",
    "df.duplicated().sum()"
   ]
  },
  {
   "cell_type": "markdown",
   "metadata": {
    "id": "QlFBsxAr_Zct"
   },
   "source": [
    "Теперь избавимся от неявных дубликатов в колонке `genre`. Например, название одного и того же жанра может быть записано немного по-разному. Такие ошибки тоже повлияют на результат исследования."
   ]
  },
  {
   "cell_type": "markdown",
   "metadata": {
    "id": "eSjWwsOh_Zct"
   },
   "source": [
    "Выведим на экран список уникальных названий жанров, отсортированный в алфавитном порядке. Для этого:\n",
    "* извлечем нужный столбец датафрейма, \n",
    "* применим к нему метод сортировки,\n",
    "* для отсортированного столбца вызовем метод, который вернёт уникальные значения из столбца."
   ]
  },
  {
   "cell_type": "code",
   "execution_count": 14,
   "metadata": {
    "id": "JIUcqzZN_Zct"
   },
   "outputs": [
    {
     "data": {
      "text/plain": [
       "['acid',\n",
       " 'acoustic',\n",
       " 'action',\n",
       " 'adult',\n",
       " 'africa',\n",
       " 'afrikaans',\n",
       " 'alternative',\n",
       " 'alternativepunk',\n",
       " 'ambient',\n",
       " 'americana',\n",
       " 'animated',\n",
       " 'anime',\n",
       " 'arabesk',\n",
       " 'arabic',\n",
       " 'arena',\n",
       " 'argentinetango',\n",
       " 'art',\n",
       " 'audiobook',\n",
       " 'author',\n",
       " 'avantgarde',\n",
       " 'axé',\n",
       " 'baile',\n",
       " 'balkan',\n",
       " 'beats',\n",
       " 'bigroom',\n",
       " 'black',\n",
       " 'bluegrass',\n",
       " 'blues',\n",
       " 'bollywood',\n",
       " 'bossa',\n",
       " 'brazilian',\n",
       " 'breakbeat',\n",
       " 'breaks',\n",
       " 'broadway',\n",
       " 'cantautori',\n",
       " 'cantopop',\n",
       " 'canzone',\n",
       " 'caribbean',\n",
       " 'caucasian',\n",
       " 'celtic',\n",
       " 'chamber',\n",
       " 'chanson',\n",
       " 'children',\n",
       " 'chill',\n",
       " 'chinese',\n",
       " 'choral',\n",
       " 'christian',\n",
       " 'christmas',\n",
       " 'classical',\n",
       " 'classicmetal',\n",
       " 'club',\n",
       " 'colombian',\n",
       " 'comedy',\n",
       " 'conjazz',\n",
       " 'contemporary',\n",
       " 'country',\n",
       " 'cuban',\n",
       " 'dance',\n",
       " 'dancehall',\n",
       " 'dancepop',\n",
       " 'dark',\n",
       " 'death',\n",
       " 'deep',\n",
       " 'deutschrock',\n",
       " 'deutschspr',\n",
       " 'dirty',\n",
       " 'disco',\n",
       " 'dnb',\n",
       " 'documentary',\n",
       " 'downbeat',\n",
       " 'downtempo',\n",
       " 'drum',\n",
       " 'dub',\n",
       " 'dubstep',\n",
       " 'eastern',\n",
       " 'easy',\n",
       " 'electronic',\n",
       " 'electropop',\n",
       " 'emo',\n",
       " 'entehno',\n",
       " 'epicmetal',\n",
       " 'estrada',\n",
       " 'ethnic',\n",
       " 'eurofolk',\n",
       " 'european',\n",
       " 'experimental',\n",
       " 'extrememetal',\n",
       " 'fado',\n",
       " 'fairytail',\n",
       " 'film',\n",
       " 'fitness',\n",
       " 'flamenco',\n",
       " 'folk',\n",
       " 'folklore',\n",
       " 'folkmetal',\n",
       " 'folkrock',\n",
       " 'folktronica',\n",
       " 'forró',\n",
       " 'frankreich',\n",
       " 'französisch',\n",
       " 'french',\n",
       " 'funk',\n",
       " 'future',\n",
       " 'gangsta',\n",
       " 'garage',\n",
       " 'german',\n",
       " 'ghazal',\n",
       " 'gitarre',\n",
       " 'glitch',\n",
       " 'gospel',\n",
       " 'gothic',\n",
       " 'grime',\n",
       " 'grunge',\n",
       " 'gypsy',\n",
       " 'handsup',\n",
       " \"hard'n'heavy\",\n",
       " 'hardcore',\n",
       " 'hardstyle',\n",
       " 'hardtechno',\n",
       " 'hip',\n",
       " 'hip-hop',\n",
       " 'hiphop',\n",
       " 'historisch',\n",
       " 'holiday',\n",
       " 'hop',\n",
       " 'horror',\n",
       " 'house',\n",
       " 'hymn',\n",
       " 'idm',\n",
       " 'independent',\n",
       " 'indian',\n",
       " 'indie',\n",
       " 'indipop',\n",
       " 'industrial',\n",
       " 'inspirational',\n",
       " 'instrumental',\n",
       " 'international',\n",
       " 'irish',\n",
       " 'jam',\n",
       " 'japanese',\n",
       " 'jazz',\n",
       " 'jewish',\n",
       " 'jpop',\n",
       " 'jungle',\n",
       " 'k-pop',\n",
       " 'karadeniz',\n",
       " 'karaoke',\n",
       " 'kayokyoku',\n",
       " 'korean',\n",
       " 'laiko',\n",
       " 'latin',\n",
       " 'latino',\n",
       " 'leftfield',\n",
       " 'local',\n",
       " 'lounge',\n",
       " 'loungeelectronic',\n",
       " 'lovers',\n",
       " 'malaysian',\n",
       " 'mandopop',\n",
       " 'marschmusik',\n",
       " 'meditative',\n",
       " 'mediterranean',\n",
       " 'melodic',\n",
       " 'metal',\n",
       " 'metalcore',\n",
       " 'mexican',\n",
       " 'middle',\n",
       " 'minimal',\n",
       " 'miscellaneous',\n",
       " 'modern',\n",
       " 'mood',\n",
       " 'mpb',\n",
       " 'muslim',\n",
       " 'native',\n",
       " 'neoklassik',\n",
       " 'neue',\n",
       " 'new',\n",
       " 'newage',\n",
       " 'newwave',\n",
       " 'nu',\n",
       " 'nujazz',\n",
       " 'numetal',\n",
       " 'oceania',\n",
       " 'old',\n",
       " 'opera',\n",
       " 'orchestral',\n",
       " 'other',\n",
       " 'piano',\n",
       " 'podcasts',\n",
       " 'pop',\n",
       " 'popdance',\n",
       " 'popelectronic',\n",
       " 'popeurodance',\n",
       " 'poprussian',\n",
       " 'post',\n",
       " 'posthardcore',\n",
       " 'postrock',\n",
       " 'power',\n",
       " 'progmetal',\n",
       " 'progressive',\n",
       " 'psychedelic',\n",
       " 'punjabi',\n",
       " 'punk',\n",
       " 'quebecois',\n",
       " 'ragga',\n",
       " 'ram',\n",
       " 'rancheras',\n",
       " 'rap',\n",
       " 'rave',\n",
       " 'reggae',\n",
       " 'reggaeton',\n",
       " 'regional',\n",
       " 'relax',\n",
       " 'religious',\n",
       " 'retro',\n",
       " 'rhythm',\n",
       " 'rnb',\n",
       " 'rnr',\n",
       " 'rock',\n",
       " 'rockabilly',\n",
       " 'rockalternative',\n",
       " 'rockindie',\n",
       " 'rockother',\n",
       " 'romance',\n",
       " 'roots',\n",
       " 'ruspop',\n",
       " 'rusrap',\n",
       " 'rusrock',\n",
       " 'russian',\n",
       " 'salsa',\n",
       " 'samba',\n",
       " 'scenic',\n",
       " 'schlager',\n",
       " 'self',\n",
       " 'sertanejo',\n",
       " 'shanson',\n",
       " 'shoegazing',\n",
       " 'showtunes',\n",
       " 'singer',\n",
       " 'ska',\n",
       " 'skarock',\n",
       " 'slow',\n",
       " 'smooth',\n",
       " 'soft',\n",
       " 'soul',\n",
       " 'soulful',\n",
       " 'sound',\n",
       " 'soundtrack',\n",
       " 'southern',\n",
       " 'specialty',\n",
       " 'speech',\n",
       " 'spiritual',\n",
       " 'sport',\n",
       " 'stonerrock',\n",
       " 'surf',\n",
       " 'swing',\n",
       " 'synthpop',\n",
       " 'synthrock',\n",
       " 'sängerportrait',\n",
       " 'tango',\n",
       " 'tanzorchester',\n",
       " 'taraftar',\n",
       " 'tatar',\n",
       " 'tech',\n",
       " 'techno',\n",
       " 'teen',\n",
       " 'thrash',\n",
       " 'top',\n",
       " 'traditional',\n",
       " 'tradjazz',\n",
       " 'trance',\n",
       " 'tribal',\n",
       " 'trip',\n",
       " 'triphop',\n",
       " 'tropical',\n",
       " 'türk',\n",
       " 'türkçe',\n",
       " 'ukrrock',\n",
       " 'unknown',\n",
       " 'urban',\n",
       " 'uzbek',\n",
       " 'variété',\n",
       " 'vi',\n",
       " 'videogame',\n",
       " 'vocal',\n",
       " 'western',\n",
       " 'world',\n",
       " 'worldbeat',\n",
       " 'ïîï',\n",
       " 'электроника']"
      ]
     },
     "execution_count": 14,
     "metadata": {},
     "output_type": "execute_result"
    }
   ],
   "source": [
    "# просмотр уникальных названий жанров\n",
    "sorted(df['genre'].unique())"
   ]
  },
  {
   "cell_type": "markdown",
   "metadata": {
    "id": "qej-Qmuo_Zct"
   },
   "source": [
    "Просмотрим список и найдем неявные дубликаты названия `hiphop`. Это могут быть названия с ошибками или альтернативные названия того же жанра.\n",
    "\n",
    "Видим следующие неявные дубликаты:\n",
    "* *hip*,\n",
    "* *hop*,\n",
    "* *hip-hop*.\n",
    "\n",
    "Чтобы очистить от них таблицу, напишим функцию `replace_wrong_genres()` с двумя параметрами: \n",
    "* `wrong_genres` — список дубликатов,\n",
    "* `correct_genre` — строка с правильным значением.\n",
    "\n",
    "Функция должна исправить колонку `genre` в таблице `df`: заменить каждое значение из списка `wrong_genres` на значение из `correct_genre`."
   ]
  },
  {
   "cell_type": "code",
   "execution_count": 15,
   "metadata": {
    "id": "ErNDkmns_Zct"
   },
   "outputs": [],
   "source": [
    "# пишем функцию для замены неявных дубликатов\n",
    "def replace_wrong_genres(wrong_genres, correct_genre):\n",
    "    for wrong_genre in wrong_genres: \n",
    "        df['genre'] = df['genre'].replace(wrong_genres, correct_genre) \n"
   ]
  },
  {
   "cell_type": "markdown",
   "metadata": {
    "id": "aDoBJxbA_Zct"
   },
   "source": [
    "Вызываем `replace_wrong_genres()` и передаем ей такие аргументы, чтобы она устранила неявные дубликаты: вместо `hip`, `hop` и `hip-hop` в таблице должно быть значение `hiphop`:"
   ]
  },
  {
   "cell_type": "code",
   "execution_count": 16,
   "metadata": {
    "id": "YN5i2hpmSo09"
   },
   "outputs": [],
   "source": [
    "# устранение неявных дубликатов\n",
    "duplicates = ['hip', 'hop', 'hip-hop']\n",
    "name = 'hiphop'\n",
    "replace_wrong_genres(duplicates, name)"
   ]
  },
  {
   "cell_type": "markdown",
   "metadata": {
    "id": "zQKF16_RG15m"
   },
   "source": [
    "Проверяем, заменили ли неправильные названия:\n",
    "\n",
    "*   hip\n",
    "*   hop\n",
    "*   hip-hop\n",
    "\n",
    "Выведем отсортированный список уникальных значений столбца `genre`:"
   ]
  },
  {
   "cell_type": "code",
   "execution_count": 17,
   "metadata": {
    "id": "wvixALnFG15m"
   },
   "outputs": [
    {
     "data": {
      "text/plain": [
       "['acid',\n",
       " 'acoustic',\n",
       " 'action',\n",
       " 'adult',\n",
       " 'africa',\n",
       " 'afrikaans',\n",
       " 'alternative',\n",
       " 'alternativepunk',\n",
       " 'ambient',\n",
       " 'americana',\n",
       " 'animated',\n",
       " 'anime',\n",
       " 'arabesk',\n",
       " 'arabic',\n",
       " 'arena',\n",
       " 'argentinetango',\n",
       " 'art',\n",
       " 'audiobook',\n",
       " 'author',\n",
       " 'avantgarde',\n",
       " 'axé',\n",
       " 'baile',\n",
       " 'balkan',\n",
       " 'beats',\n",
       " 'bigroom',\n",
       " 'black',\n",
       " 'bluegrass',\n",
       " 'blues',\n",
       " 'bollywood',\n",
       " 'bossa',\n",
       " 'brazilian',\n",
       " 'breakbeat',\n",
       " 'breaks',\n",
       " 'broadway',\n",
       " 'cantautori',\n",
       " 'cantopop',\n",
       " 'canzone',\n",
       " 'caribbean',\n",
       " 'caucasian',\n",
       " 'celtic',\n",
       " 'chamber',\n",
       " 'chanson',\n",
       " 'children',\n",
       " 'chill',\n",
       " 'chinese',\n",
       " 'choral',\n",
       " 'christian',\n",
       " 'christmas',\n",
       " 'classical',\n",
       " 'classicmetal',\n",
       " 'club',\n",
       " 'colombian',\n",
       " 'comedy',\n",
       " 'conjazz',\n",
       " 'contemporary',\n",
       " 'country',\n",
       " 'cuban',\n",
       " 'dance',\n",
       " 'dancehall',\n",
       " 'dancepop',\n",
       " 'dark',\n",
       " 'death',\n",
       " 'deep',\n",
       " 'deutschrock',\n",
       " 'deutschspr',\n",
       " 'dirty',\n",
       " 'disco',\n",
       " 'dnb',\n",
       " 'documentary',\n",
       " 'downbeat',\n",
       " 'downtempo',\n",
       " 'drum',\n",
       " 'dub',\n",
       " 'dubstep',\n",
       " 'eastern',\n",
       " 'easy',\n",
       " 'electronic',\n",
       " 'electropop',\n",
       " 'emo',\n",
       " 'entehno',\n",
       " 'epicmetal',\n",
       " 'estrada',\n",
       " 'ethnic',\n",
       " 'eurofolk',\n",
       " 'european',\n",
       " 'experimental',\n",
       " 'extrememetal',\n",
       " 'fado',\n",
       " 'fairytail',\n",
       " 'film',\n",
       " 'fitness',\n",
       " 'flamenco',\n",
       " 'folk',\n",
       " 'folklore',\n",
       " 'folkmetal',\n",
       " 'folkrock',\n",
       " 'folktronica',\n",
       " 'forró',\n",
       " 'frankreich',\n",
       " 'französisch',\n",
       " 'french',\n",
       " 'funk',\n",
       " 'future',\n",
       " 'gangsta',\n",
       " 'garage',\n",
       " 'german',\n",
       " 'ghazal',\n",
       " 'gitarre',\n",
       " 'glitch',\n",
       " 'gospel',\n",
       " 'gothic',\n",
       " 'grime',\n",
       " 'grunge',\n",
       " 'gypsy',\n",
       " 'handsup',\n",
       " \"hard'n'heavy\",\n",
       " 'hardcore',\n",
       " 'hardstyle',\n",
       " 'hardtechno',\n",
       " 'hiphop',\n",
       " 'historisch',\n",
       " 'holiday',\n",
       " 'horror',\n",
       " 'house',\n",
       " 'hymn',\n",
       " 'idm',\n",
       " 'independent',\n",
       " 'indian',\n",
       " 'indie',\n",
       " 'indipop',\n",
       " 'industrial',\n",
       " 'inspirational',\n",
       " 'instrumental',\n",
       " 'international',\n",
       " 'irish',\n",
       " 'jam',\n",
       " 'japanese',\n",
       " 'jazz',\n",
       " 'jewish',\n",
       " 'jpop',\n",
       " 'jungle',\n",
       " 'k-pop',\n",
       " 'karadeniz',\n",
       " 'karaoke',\n",
       " 'kayokyoku',\n",
       " 'korean',\n",
       " 'laiko',\n",
       " 'latin',\n",
       " 'latino',\n",
       " 'leftfield',\n",
       " 'local',\n",
       " 'lounge',\n",
       " 'loungeelectronic',\n",
       " 'lovers',\n",
       " 'malaysian',\n",
       " 'mandopop',\n",
       " 'marschmusik',\n",
       " 'meditative',\n",
       " 'mediterranean',\n",
       " 'melodic',\n",
       " 'metal',\n",
       " 'metalcore',\n",
       " 'mexican',\n",
       " 'middle',\n",
       " 'minimal',\n",
       " 'miscellaneous',\n",
       " 'modern',\n",
       " 'mood',\n",
       " 'mpb',\n",
       " 'muslim',\n",
       " 'native',\n",
       " 'neoklassik',\n",
       " 'neue',\n",
       " 'new',\n",
       " 'newage',\n",
       " 'newwave',\n",
       " 'nu',\n",
       " 'nujazz',\n",
       " 'numetal',\n",
       " 'oceania',\n",
       " 'old',\n",
       " 'opera',\n",
       " 'orchestral',\n",
       " 'other',\n",
       " 'piano',\n",
       " 'podcasts',\n",
       " 'pop',\n",
       " 'popdance',\n",
       " 'popelectronic',\n",
       " 'popeurodance',\n",
       " 'poprussian',\n",
       " 'post',\n",
       " 'posthardcore',\n",
       " 'postrock',\n",
       " 'power',\n",
       " 'progmetal',\n",
       " 'progressive',\n",
       " 'psychedelic',\n",
       " 'punjabi',\n",
       " 'punk',\n",
       " 'quebecois',\n",
       " 'ragga',\n",
       " 'ram',\n",
       " 'rancheras',\n",
       " 'rap',\n",
       " 'rave',\n",
       " 'reggae',\n",
       " 'reggaeton',\n",
       " 'regional',\n",
       " 'relax',\n",
       " 'religious',\n",
       " 'retro',\n",
       " 'rhythm',\n",
       " 'rnb',\n",
       " 'rnr',\n",
       " 'rock',\n",
       " 'rockabilly',\n",
       " 'rockalternative',\n",
       " 'rockindie',\n",
       " 'rockother',\n",
       " 'romance',\n",
       " 'roots',\n",
       " 'ruspop',\n",
       " 'rusrap',\n",
       " 'rusrock',\n",
       " 'russian',\n",
       " 'salsa',\n",
       " 'samba',\n",
       " 'scenic',\n",
       " 'schlager',\n",
       " 'self',\n",
       " 'sertanejo',\n",
       " 'shanson',\n",
       " 'shoegazing',\n",
       " 'showtunes',\n",
       " 'singer',\n",
       " 'ska',\n",
       " 'skarock',\n",
       " 'slow',\n",
       " 'smooth',\n",
       " 'soft',\n",
       " 'soul',\n",
       " 'soulful',\n",
       " 'sound',\n",
       " 'soundtrack',\n",
       " 'southern',\n",
       " 'specialty',\n",
       " 'speech',\n",
       " 'spiritual',\n",
       " 'sport',\n",
       " 'stonerrock',\n",
       " 'surf',\n",
       " 'swing',\n",
       " 'synthpop',\n",
       " 'synthrock',\n",
       " 'sängerportrait',\n",
       " 'tango',\n",
       " 'tanzorchester',\n",
       " 'taraftar',\n",
       " 'tatar',\n",
       " 'tech',\n",
       " 'techno',\n",
       " 'teen',\n",
       " 'thrash',\n",
       " 'top',\n",
       " 'traditional',\n",
       " 'tradjazz',\n",
       " 'trance',\n",
       " 'tribal',\n",
       " 'trip',\n",
       " 'triphop',\n",
       " 'tropical',\n",
       " 'türk',\n",
       " 'türkçe',\n",
       " 'ukrrock',\n",
       " 'unknown',\n",
       " 'urban',\n",
       " 'uzbek',\n",
       " 'variété',\n",
       " 'vi',\n",
       " 'videogame',\n",
       " 'vocal',\n",
       " 'western',\n",
       " 'world',\n",
       " 'worldbeat',\n",
       " 'ïîï',\n",
       " 'электроника']"
      ]
     },
     "execution_count": 17,
     "metadata": {},
     "output_type": "execute_result"
    }
   ],
   "source": [
    "# проверяем на неявные дубликаты\n",
    "sorted(df['genre'].unique())"
   ]
  },
  {
   "cell_type": "markdown",
   "metadata": {
    "id": "jz6a9-7HQUDd"
   },
   "source": [
    "**Выводы**\n",
    "\n",
    "Предобработка обнаружила три проблемы в данных:\n",
    "\n",
    "- нарушения в стиле заголовков,\n",
    "- пропущенные значения,\n",
    "- дубликаты — явные и неявные.\n",
    "\n",
    "Мы исправили заголовки, чтобы упростить работу с таблицей. Без дубликатов исследование станет более точным.\n",
    "\n",
    "Пропущенные значения мы заменили на `'unknown'`. Ещё предстоит увидеть, не повредят ли исследованию пропуски в колонке `genre`.\n",
    "\n",
    "Теперь можно перейти к проверке гипотез. "
   ]
  },
  {
   "cell_type": "markdown",
   "metadata": {
    "id": "WttZHXH0SqKk"
   },
   "source": [
    "## Проверка гипотез"
   ]
  },
  {
   "cell_type": "markdown",
   "metadata": {
    "id": "Im936VVi_Zcu"
   },
   "source": [
    "### Сравнение поведения пользователей двух столиц"
   ]
  },
  {
   "cell_type": "markdown",
   "metadata": {
    "id": "nwt_MuaL_Zcu"
   },
   "source": [
    "Первая гипотеза утверждает, что пользователи по-разному слушают музыку в Москве и Санкт-Петербурге. Проверим это предположение по данным о трёх днях недели — понедельнике, среде и пятнице. Для этого:\n",
    "\n",
    "* Разделим пользователей Москвы и Санкт-Петербурга\n",
    "* Сравним, сколько треков послушала каждая группа пользователей в понедельник, среду и пятницу.\n"
   ]
  },
  {
   "cell_type": "markdown",
   "metadata": {
    "id": "8Dw_YMmT_Zcu"
   },
   "source": [
    "Сначала выполним каждый из расчётов по отдельности. \n",
    "\n",
    "Оценим активность пользователей в каждом городе. Сгруппируем данные по городу и посчитаем прослушивания в каждой группе.\n",
    "\n"
   ]
  },
  {
   "cell_type": "code",
   "execution_count": 18,
   "metadata": {
    "id": "0_Qs96oh_Zcu"
   },
   "outputs": [
    {
     "data": {
      "text/html": [
       "<div>\n",
       "<style scoped>\n",
       "    .dataframe tbody tr th:only-of-type {\n",
       "        vertical-align: middle;\n",
       "    }\n",
       "\n",
       "    .dataframe tbody tr th {\n",
       "        vertical-align: top;\n",
       "    }\n",
       "\n",
       "    .dataframe thead th {\n",
       "        text-align: right;\n",
       "    }\n",
       "</style>\n",
       "<table border=\"1\" class=\"dataframe\">\n",
       "  <thead>\n",
       "    <tr style=\"text-align: right;\">\n",
       "      <th></th>\n",
       "      <th>user_id</th>\n",
       "    </tr>\n",
       "    <tr>\n",
       "      <th>city</th>\n",
       "      <th></th>\n",
       "    </tr>\n",
       "  </thead>\n",
       "  <tbody>\n",
       "    <tr>\n",
       "      <th>Moscow</th>\n",
       "      <td>42741</td>\n",
       "    </tr>\n",
       "    <tr>\n",
       "      <th>Saint-Petersburg</th>\n",
       "      <td>18512</td>\n",
       "    </tr>\n",
       "  </tbody>\n",
       "</table>\n",
       "</div>"
      ],
      "text/plain": [
       "                  user_id\n",
       "city                     \n",
       "Moscow              42741\n",
       "Saint-Petersburg    18512"
      ]
     },
     "execution_count": 18,
     "metadata": {},
     "output_type": "execute_result"
    }
   ],
   "source": [
    "# подсчёт прослушиваний в каждом городе\n",
    "df.groupby('city')['user_id'].count().to_frame()"
   ]
  },
  {
   "cell_type": "markdown",
   "metadata": {
    "id": "dzli3w8o_Zcu"
   },
   "source": [
    "В Москве прослушиваний больше, чем в Петербурге. Из этого не следует, что московские пользователи чаще слушают музыку. Просто самих пользователей в Москве больше.\n",
    "\n",
    "Теперь сгруппируем данные по дню недели и подсчитаем прослушивания в понедельник, среду и пятницу. Учтем, что в данных есть информация только о прослушиваниях только за эти дни.\n"
   ]
  },
  {
   "cell_type": "code",
   "execution_count": 19,
   "metadata": {
    "id": "uZMKjiJz_Zcu"
   },
   "outputs": [
    {
     "data": {
      "text/plain": [
       "day\n",
       "Friday       21840\n",
       "Monday       21354\n",
       "Wednesday    18059\n",
       "Name: user_id, dtype: int64"
      ]
     },
     "execution_count": 19,
     "metadata": {},
     "output_type": "execute_result"
    }
   ],
   "source": [
    "# подсчёт прослушиваний в каждый из трёх дней\n",
    "df.groupby('day')['user_id'].count()"
   ]
  },
  {
   "cell_type": "markdown",
   "metadata": {
    "id": "cC2tNrlL_Zcu"
   },
   "source": [
    "В среднем пользователи из двух городов менее активны по средам. Но картина может измениться, если рассмотреть каждый город в отдельности."
   ]
  },
  {
   "cell_type": "markdown",
   "metadata": {
    "id": "POzs8bGa_Zcu"
   },
   "source": [
    "Мы видели, как работает группировка по городу и по дням недели. Теперь напишите функцию, которая объединит два эти расчёта.\n",
    "\n",
    "Создадим функцию `number_tracks()`, которая посчитает прослушивания для заданного дня и города. Ей понадобятся два параметра:\n",
    "* день недели,\n",
    "* название города.\n",
    "\n",
    "В функции сохраним в переменную строки исходной таблицы, у которых значение:\n",
    "  * в колонке `day` равно параметру `day`,\n",
    "  * в колонке `city` равно параметру `city`.\n",
    "\n",
    "Для этого применим последовательную фильтрацию с логической индексацией.\n",
    "\n",
    "Затем посчитаем значения в столбце `user_id` получившейся таблицы. Результат сохраним в новую переменную. Вернем эту переменную из функции."
   ]
  },
  {
   "cell_type": "code",
   "execution_count": 20,
   "metadata": {
    "id": "Nz3GdQB1_Zcu"
   },
   "outputs": [],
   "source": [
    "# <создание функции number_tracks()>\n",
    "# Объявляется функция с двумя параметрами: day, city.\n",
    "def number_tracks(day, city):\n",
    "# В переменной track_list сохраняются те строки таблицы df, для которых \n",
    "# значение в столбце 'day' равно параметру day и одновременно значение\n",
    "# в столбце 'city' равно параметру city \n",
    "    track_list = df.loc[(df['day'] == day) & (df['city'] == city)]\n",
    "    track_list_count = track_list['user_id'].count()\n",
    "    return track_list_count"
   ]
  },
  {
   "cell_type": "markdown",
   "metadata": {
    "id": "ytf7xFrFJQ2r"
   },
   "source": [
    "Вызовем `number_tracks()` шесть раз, меняя значение параметров — так, чтобы получить данные для каждого города в каждый из трёх дней."
   ]
  },
  {
   "cell_type": "code",
   "execution_count": 21,
   "metadata": {
    "id": "rJcRATNQ_Zcu"
   },
   "outputs": [
    {
     "data": {
      "text/plain": [
       "15740"
      ]
     },
     "execution_count": 21,
     "metadata": {},
     "output_type": "execute_result"
    }
   ],
   "source": [
    "# количество прослушиваний в Москве по понедельникам\n",
    "number_tracks('Monday', 'Moscow')"
   ]
  },
  {
   "cell_type": "code",
   "execution_count": 22,
   "metadata": {
    "id": "hq_ncZ5T_Zcu"
   },
   "outputs": [
    {
     "data": {
      "text/plain": [
       "5614"
      ]
     },
     "execution_count": 22,
     "metadata": {},
     "output_type": "execute_result"
    }
   ],
   "source": [
    "# количество прослушиваний в Санкт-Петербурге по понедельникам\n",
    "number_tracks('Monday', 'Saint-Petersburg')"
   ]
  },
  {
   "cell_type": "code",
   "execution_count": 23,
   "metadata": {
    "id": "_NTy2VPU_Zcu"
   },
   "outputs": [
    {
     "data": {
      "text/plain": [
       "11056"
      ]
     },
     "execution_count": 23,
     "metadata": {},
     "output_type": "execute_result"
    }
   ],
   "source": [
    "# количество прослушиваний в Москве по средам\n",
    "number_tracks('Wednesday', 'Moscow')"
   ]
  },
  {
   "cell_type": "code",
   "execution_count": 24,
   "metadata": {
    "id": "j2y3TAwo_Zcu"
   },
   "outputs": [
    {
     "data": {
      "text/plain": [
       "7003"
      ]
     },
     "execution_count": 24,
     "metadata": {},
     "output_type": "execute_result"
    }
   ],
   "source": [
    "# количество прослушиваний в Санкт-Петербурге по средам\n",
    "number_tracks('Wednesday', 'Saint-Petersburg')"
   ]
  },
  {
   "cell_type": "code",
   "execution_count": 25,
   "metadata": {
    "id": "vYDw5u_K_Zcu"
   },
   "outputs": [
    {
     "data": {
      "text/plain": [
       "15945"
      ]
     },
     "execution_count": 25,
     "metadata": {},
     "output_type": "execute_result"
    }
   ],
   "source": [
    "# количество прослушиваний в Москве по пятницам\n",
    "number_tracks('Friday', 'Moscow')"
   ]
  },
  {
   "cell_type": "code",
   "execution_count": 26,
   "metadata": {
    "id": "8_yzFtW3_Zcu"
   },
   "outputs": [
    {
     "data": {
      "text/plain": [
       "5895"
      ]
     },
     "execution_count": 26,
     "metadata": {},
     "output_type": "execute_result"
    }
   ],
   "source": [
    "# количество прослушиваний в Санкт-Петербурге по пятницам\n",
    "number_tracks('Friday', 'Saint-Petersburg')"
   ]
  },
  {
   "cell_type": "markdown",
   "metadata": {
    "id": "7QXffbO-_Zcu"
   },
   "source": [
    "Создадим c помощью конструктора `pd.DataFrame` таблицу, где\n",
    "* названия колонок — `['city', 'monday', 'wednesday', 'friday']`;\n",
    "* данные — результаты, которые вы получили с помощью `number_tracks`."
   ]
  },
  {
   "cell_type": "code",
   "execution_count": 27,
   "metadata": {
    "id": "APAcLpOr_Zcu"
   },
   "outputs": [
    {
     "data": {
      "text/html": [
       "<div>\n",
       "<style scoped>\n",
       "    .dataframe tbody tr th:only-of-type {\n",
       "        vertical-align: middle;\n",
       "    }\n",
       "\n",
       "    .dataframe tbody tr th {\n",
       "        vertical-align: top;\n",
       "    }\n",
       "\n",
       "    .dataframe thead th {\n",
       "        text-align: right;\n",
       "    }\n",
       "</style>\n",
       "<table border=\"1\" class=\"dataframe\">\n",
       "  <thead>\n",
       "    <tr style=\"text-align: right;\">\n",
       "      <th></th>\n",
       "      <th>city</th>\n",
       "      <th>monday</th>\n",
       "      <th>wednesday</th>\n",
       "      <th>friday</th>\n",
       "    </tr>\n",
       "  </thead>\n",
       "  <tbody>\n",
       "    <tr>\n",
       "      <th>0</th>\n",
       "      <td>Moscow</td>\n",
       "      <td>15740</td>\n",
       "      <td>11056</td>\n",
       "      <td>15945</td>\n",
       "    </tr>\n",
       "    <tr>\n",
       "      <th>1</th>\n",
       "      <td>Saint-Petersburg</td>\n",
       "      <td>5614</td>\n",
       "      <td>7003</td>\n",
       "      <td>5895</td>\n",
       "    </tr>\n",
       "  </tbody>\n",
       "</table>\n",
       "</div>"
      ],
      "text/plain": [
       "               city  monday  wednesday  friday\n",
       "0            Moscow   15740      11056   15945\n",
       "1  Saint-Petersburg    5614       7003    5895"
      ]
     },
     "metadata": {},
     "output_type": "display_data"
    }
   ],
   "source": [
    "# создаем таблицу с результатами\n",
    "columns_info = ['city', 'monday', 'wednesday', 'friday']\n",
    "data_info = [\n",
    "    ['Moscow', 15740, 11056, 15945],\n",
    "    ['Saint-Petersburg', 5614, 7003, 5895]\n",
    "]\n",
    "total_table = pd.DataFrame(data = data_info, columns = columns_info)\n",
    "display(total_table)"
   ]
  },
  {
   "cell_type": "markdown",
   "metadata": {
    "id": "-EgPIHYu_Zcu"
   },
   "source": [
    "**Выводы**\n",
    "\n",
    "Данные показывают разницу поведения пользователей:\n",
    "\n",
    "- В Москве пик прослушиваний приходится на понедельник и пятницу, а в среду заметен спад.\n",
    "- В Петербурге, наоборот, больше слушают музыку по средам. Активность в понедельник и пятницу здесь почти в равной мере уступает среде.\n",
    "\n",
    "Значит, данные говорят в пользу первой гипотезы."
   ]
  },
  {
   "cell_type": "markdown",
   "metadata": {
    "id": "atZAxtq4_Zcu"
   },
   "source": [
    "### Музыка в начале и в конце недели"
   ]
  },
  {
   "cell_type": "markdown",
   "metadata": {
    "id": "eXrQqXFH_Zcu"
   },
   "source": [
    "Согласно второй гипотезе, утром в понедельник в Москве преобладают одни жанры, а в Петербурге — другие. Так же и вечером пятницы преобладают разные жанры — в зависимости от города."
   ]
  },
  {
   "cell_type": "markdown",
   "metadata": {
    "id": "S8UcW6Hw_Zcu"
   },
   "source": [
    "Сохраним таблицы с данными в две переменные:\n",
    "* по Москве — в `moscow_general`;\n",
    "* по Санкт-Петербургу — в `spb_general`."
   ]
  },
  {
   "cell_type": "code",
   "execution_count": 28,
   "metadata": {
    "id": "qeaFfM_P_Zcu"
   },
   "outputs": [],
   "source": [
    "# получение таблицы moscow_general из тех строк таблицы df, \n",
    "# для которых значение в столбце 'city' равно 'Moscow'\n",
    "moscow_general = df.loc[df['city'] == 'Moscow']"
   ]
  },
  {
   "cell_type": "code",
   "execution_count": 29,
   "metadata": {
    "id": "ORaVRKto_Zcu"
   },
   "outputs": [],
   "source": [
    "# получение таблицы spb_general из тех строк таблицы df,\n",
    "# для которых значение в столбце 'city' равно 'Saint-Petersburg'\n",
    "spb_general = df.loc[df['city'] == 'Saint-Petersburg']"
   ]
  },
  {
   "cell_type": "markdown",
   "metadata": {
    "id": "MEJV-CX2_Zcu"
   },
   "source": [
    "Создалим функцию `genre_weekday()` с четырьмя параметрами:\n",
    "* таблица (датафрейм) с данными,\n",
    "* день недели,\n",
    "* начальная временная метка в формате 'hh:mm', \n",
    "* последняя временная метка в формате 'hh:mm'.\n",
    "\n",
    "Функция должна вернуть информацию о топ-10 жанров тех треков, которые прослушивали в указанный день, в промежутке между двумя отметками времени."
   ]
  },
  {
   "cell_type": "code",
   "execution_count": 30,
   "metadata": {
    "id": "laJT9BYl_Zcu"
   },
   "outputs": [],
   "source": [
    "# объявление функции genre_weekday() с параметрами table, day, time1, time2\n",
    "def genre_weekday(table, day, time1, time2):\n",
    "    genre_df = table.loc[(df['day'] == day) & (table['time'] > time1) & (table['time'] < time2)]\n",
    "    genre_df_count = genre_df.groupby('genre')['genre'].count()\n",
    "    genre_df_sorted = genre_df_count.sort_values(ascending=False)\n",
    "    genre_df_sorted.head(10)\n",
    "    return genre_df_sorted"
   ]
  },
  {
   "cell_type": "markdown",
   "metadata": {
    "id": "la2s2_PF_Zcu"
   },
   "source": [
    "Cравним результаты функции `genre_weekday()` для Москвы и Санкт-Петербурга в понедельник утром (с 7:00 до 11:00) и в пятницу вечером (с 17:00 до 23:00):"
   ]
  },
  {
   "cell_type": "code",
   "execution_count": 31,
   "metadata": {
    "id": "yz7itPUQ_Zcu"
   },
   "outputs": [
    {
     "data": {
      "text/plain": [
       "genre\n",
       "pop           781\n",
       "dance         549\n",
       "electronic    480\n",
       "rock          474\n",
       "hiphop        286\n",
       "             ... \n",
       "podcasts        1\n",
       "retro           1\n",
       "rhythm          1\n",
       "rockother       1\n",
       "worldbeat       1\n",
       "Name: genre, Length: 153, dtype: int64"
      ]
     },
     "execution_count": 31,
     "metadata": {},
     "output_type": "execute_result"
    }
   ],
   "source": [
    "# вызов функции для утра понедельника в Москве\n",
    "genre_weekday(moscow_general, 'Monday', '07:00', '11:00')"
   ]
  },
  {
   "cell_type": "code",
   "execution_count": 32,
   "metadata": {
    "id": "kwUcHPdy_Zcu"
   },
   "outputs": [
    {
     "data": {
      "text/plain": [
       "genre\n",
       "pop           218\n",
       "dance         182\n",
       "rock          162\n",
       "electronic    147\n",
       "hiphop         80\n",
       "             ... \n",
       "modern          1\n",
       "cuban           1\n",
       "future          1\n",
       "nu              1\n",
       "adult           1\n",
       "Name: genre, Length: 108, dtype: int64"
      ]
     },
     "execution_count": 32,
     "metadata": {},
     "output_type": "execute_result"
    }
   ],
   "source": [
    "# вызов функции для утра понедельника в Петербурге\n",
    "genre_weekday(spb_general, 'Monday', '07:00', '11:00')"
   ]
  },
  {
   "cell_type": "code",
   "execution_count": 33,
   "metadata": {
    "id": "EzXVRE1o_Zcu"
   },
   "outputs": [
    {
     "data": {
      "text/plain": [
       "genre\n",
       "pop            713\n",
       "rock           517\n",
       "dance          495\n",
       "electronic     482\n",
       "hiphop         273\n",
       "              ... \n",
       "glitch           1\n",
       "garage           1\n",
       "folktronica      1\n",
       "salsa            1\n",
       "adult            1\n",
       "Name: genre, Length: 164, dtype: int64"
      ]
     },
     "execution_count": 33,
     "metadata": {},
     "output_type": "execute_result"
    }
   ],
   "source": [
    "# вызов функции для вечера пятницы в Москве\n",
    "genre_weekday(moscow_general, 'Friday', '17:00', '23:00')"
   ]
  },
  {
   "cell_type": "code",
   "execution_count": 34,
   "metadata": {
    "id": "JZaEKu5v_Zcu"
   },
   "outputs": [
    {
     "data": {
      "text/plain": [
       "genre\n",
       "pop           256\n",
       "electronic    216\n",
       "rock          216\n",
       "dance         210\n",
       "hiphop         97\n",
       "             ... \n",
       "eurofolk        1\n",
       "ethnic          1\n",
       "rockabilly      1\n",
       "romance         1\n",
       "acoustic        1\n",
       "Name: genre, Length: 127, dtype: int64"
      ]
     },
     "execution_count": 34,
     "metadata": {},
     "output_type": "execute_result"
    }
   ],
   "source": [
    "# вызов функции для вечера пятницы в Петербурге\n",
    "genre_weekday(spb_general, 'Friday', '17:00', '23:00')"
   ]
  },
  {
   "cell_type": "markdown",
   "metadata": {
    "id": "wrCe4MNX_Zcu"
   },
   "source": [
    "**Выводы**\n",
    "\n",
    "Если сравнить топ-10 жанров в понедельник утром, можно сделать такие выводы:\n",
    "\n",
    "1. В Москве и Петербурге слушают похожую музыку. Единственное отличие — в московский рейтинг вошёл жанр “world”, а в петербургский — джаз и классика.\n",
    "\n",
    "2. В Москве пропущенных значений оказалось так много, что значение `'unknown'` заняло десятое место среди самых популярных жанров. Значит, пропущенные значения занимают существенную долю в данных и угрожают достоверности исследования.\n",
    "\n",
    "Вечер пятницы не меняет эту картину. Некоторые жанры поднимаются немного выше, другие спускаются, но в целом топ-10 остаётся тем же самым.\n",
    "\n",
    "Таким образом, вторая гипотеза подтвердилась лишь частично:\n",
    "* Пользователи слушают похожую музыку в начале недели и в конце.\n",
    "* Разница между Москвой и Петербургом не слишком выражена. В Москве чаще слушают русскую популярную музыку, в Петербурге — джаз.\n",
    "\n",
    "Однако пропуски в данных ставят под сомнение этот результат. В Москве их так много, что рейтинг топ-10 мог бы выглядеть иначе, если бы не утерянные  данные о жанрах."
   ]
  },
  {
   "cell_type": "markdown",
   "metadata": {
    "id": "JolODAqr_Zcu"
   },
   "source": [
    "### Жанровые предпочтения в Москве и Петербурге\n",
    "\n",
    "Гипотеза: Петербург — столица рэпа, музыку этого жанра там слушают чаще, чем в Москве.  А Москва — город контрастов, в котором, тем не менее, преобладает поп-музыка."
   ]
  },
  {
   "cell_type": "markdown",
   "metadata": {
    "id": "DlegSvaT_Zcu"
   },
   "source": [
    "Сгруппируем таблицу `moscow_general` по жанру и посчитаем прослушивания треков каждого жанра методом `count()`. Затем отсортируем результат в порядке убывания и сохраним его в таблице `moscow_genres`."
   ]
  },
  {
   "cell_type": "code",
   "execution_count": 35,
   "metadata": {
    "id": "r19lIPke_Zcu"
   },
   "outputs": [],
   "source": [
    "# группируем данные таблицы moscow_general по столбцу 'genre', \n",
    "moscow_genres = moscow_general.groupby('genre')['genre'].count().sort_values(ascending=False)"
   ]
  },
  {
   "cell_type": "markdown",
   "metadata": {
    "id": "6kMuomxTiIr8"
   },
   "source": [
    "Выводим на экран первые десять строк `moscow_genres`:"
   ]
  },
  {
   "cell_type": "code",
   "execution_count": 36,
   "metadata": {
    "id": "WhCSooF8_Zcv"
   },
   "outputs": [
    {
     "data": {
      "text/plain": [
       "genre\n",
       "pop            5892\n",
       "dance          4435\n",
       "rock           3965\n",
       "electronic     3786\n",
       "hiphop         2096\n",
       "classical      1616\n",
       "world          1432\n",
       "alternative    1379\n",
       "ruspop         1372\n",
       "rusrap         1161\n",
       "Name: genre, dtype: int64"
      ]
     },
     "metadata": {},
     "output_type": "display_data"
    }
   ],
   "source": [
    "# просмотр первых 10 строк moscow_genres\n",
    "display(moscow_genres.head(10))"
   ]
  },
  {
   "cell_type": "markdown",
   "metadata": {
    "id": "cnPG2vnN_Zcv"
   },
   "source": [
    "Теперь повторим то же и для Петербурга.\n",
    "\n",
    "Сгруппируем таблицу `spb_general` по жанру. Посчитаем прослушивания треков каждого жанра. Результат отсортируем в порядке убывания и сохраним в таблице `spb_genres`:\n"
   ]
  },
  {
   "cell_type": "code",
   "execution_count": 37,
   "metadata": {
    "id": "gluLIpE7_Zcv"
   },
   "outputs": [],
   "source": [
    "# группируем данные таблицы spb_general по столбцу 'genre', \n",
    "spb_genres = spb_general.groupby('genre')['genre'].count().sort_values(ascending=False)"
   ]
  },
  {
   "cell_type": "markdown",
   "metadata": {
    "id": "5Doha_ODgyQ8"
   },
   "source": [
    "Выведим на экран первые десять строк `spb_genres`:"
   ]
  },
  {
   "cell_type": "code",
   "execution_count": 38,
   "metadata": {
    "id": "uaGJHjVU_Zcv"
   },
   "outputs": [
    {
     "data": {
      "text/plain": [
       "genre\n",
       "pop            5892\n",
       "dance          4435\n",
       "rock           3965\n",
       "electronic     3786\n",
       "hiphop         2096\n",
       "classical      1616\n",
       "world          1432\n",
       "alternative    1379\n",
       "ruspop         1372\n",
       "rusrap         1161\n",
       "Name: genre, dtype: int64"
      ]
     },
     "metadata": {},
     "output_type": "display_data"
    }
   ],
   "source": [
    "# просмотр первых 10 строк spb_genres\n",
    "display(moscow_genres.head(10))"
   ]
  },
  {
   "cell_type": "markdown",
   "metadata": {
    "id": "RY51YJYu_Zcv"
   },
   "source": [
    "**Выводы**"
   ]
  },
  {
   "cell_type": "markdown",
   "metadata": {
    "id": "nVhnJEm__Zcv"
   },
   "source": [
    "Гипотеза частично подтвердилась:\n",
    "* Поп-музыка — самый популярный жанр в Москве, как и предполагала гипотеза. Более того, в топ-10 жанров встречается близкий жанр — русская популярная музыка.\n",
    "* Вопреки ожиданиям, рэп одинаково популярен в Москве и Петербурге. \n"
   ]
  },
  {
   "cell_type": "markdown",
   "metadata": {
    "id": "ykKQ0N65_Zcv"
   },
   "source": [
    "## Итоги исследования"
   ]
  },
  {
   "cell_type": "markdown",
   "metadata": {
    "id": "tjUwbHb3_Zcv"
   },
   "source": [
    "Мы проверили три гипотезы и установили:\n",
    "\n",
    "1. День недели по-разному влияет на активность пользователей в Москве и Петербурге. \n",
    "\n",
    "Первая гипотеза полностью подтвердилась.\n",
    "\n",
    "2. Музыкальные предпочтения не сильно меняются в течение недели — будь то Москва или Петербург. Небольшие различия заметны в начале недели, по понедельникам:\n",
    "* в Москве слушают музыку жанра “world”,\n",
    "* в Петербурге — джаз и классику.\n",
    "\n",
    "Таким образом, вторая гипотеза подтвердилась лишь отчасти. Этот результат мог оказаться иным, если бы не пропуски в данных.\n",
    "\n",
    "3. Во вкусах пользователей Москвы и Петербурга больше общего чем различий. Вопреки ожиданиям, предпочтения жанров в Петербурге напоминают московские.\n",
    "\n",
    "Третья гипотеза не подтвердилась. Если различия в предпочтениях и существуют, на основной массе пользователей они незаметны."
   ]
  }
 ],
 "metadata": {
  "ExecuteTimeLog": [
   {
    "duration": 811,
    "start_time": "2021-06-26T23:08:59.871Z"
   },
   {
    "duration": 2256,
    "start_time": "2021-06-26T23:09:51.862Z"
   },
   {
    "duration": 179,
    "start_time": "2021-06-26T23:10:37.648Z"
   },
   {
    "duration": 307,
    "start_time": "2021-06-26T23:11:59.798Z"
   },
   {
    "duration": 26,
    "start_time": "2021-06-26T23:12:20.911Z"
   },
   {
    "duration": 34,
    "start_time": "2021-06-26T23:12:52.661Z"
   },
   {
    "duration": 322,
    "start_time": "2021-06-27T08:44:01.129Z"
   },
   {
    "duration": 87,
    "start_time": "2021-06-27T08:44:25.265Z"
   },
   {
    "duration": 261,
    "start_time": "2021-06-27T08:44:28.342Z"
   },
   {
    "duration": 281,
    "start_time": "2021-06-27T08:44:49.522Z"
   },
   {
    "duration": 759,
    "start_time": "2021-06-27T08:44:59.487Z"
   },
   {
    "duration": 184,
    "start_time": "2021-06-27T08:45:02.550Z"
   },
   {
    "duration": 25,
    "start_time": "2021-06-27T08:45:05.150Z"
   },
   {
    "duration": 32,
    "start_time": "2021-06-27T08:45:08.748Z"
   },
   {
    "duration": 5,
    "start_time": "2021-06-27T08:45:15.013Z"
   },
   {
    "duration": 40,
    "start_time": "2021-06-27T08:48:00.099Z"
   },
   {
    "duration": 5,
    "start_time": "2021-06-27T08:48:27.602Z"
   },
   {
    "duration": 5,
    "start_time": "2021-06-27T08:49:14.324Z"
   },
   {
    "duration": 37,
    "start_time": "2021-06-27T08:49:21.864Z"
   },
   {
    "duration": 22,
    "start_time": "2021-06-27T08:49:30.223Z"
   },
   {
    "duration": 5,
    "start_time": "2021-06-27T08:49:34.520Z"
   },
   {
    "duration": 101,
    "start_time": "2021-06-27T08:50:04.760Z"
   },
   {
    "duration": 15607,
    "start_time": "2021-06-27T08:50:11.151Z"
   },
   {
    "duration": 29,
    "start_time": "2021-06-27T08:50:54.395Z"
   },
   {
    "duration": 23,
    "start_time": "2021-06-27T08:58:01.147Z"
   },
   {
    "duration": 31,
    "start_time": "2021-06-27T08:58:25.884Z"
   },
   {
    "duration": 85,
    "start_time": "2021-06-27T08:59:01.907Z"
   },
   {
    "duration": 111,
    "start_time": "2021-06-27T09:01:08.097Z"
   },
   {
    "duration": 78,
    "start_time": "2021-06-27T09:01:50.868Z"
   },
   {
    "duration": 92,
    "start_time": "2021-06-27T09:02:00.080Z"
   },
   {
    "duration": 76,
    "start_time": "2021-06-27T09:02:02.816Z"
   },
   {
    "duration": 96,
    "start_time": "2021-06-27T09:02:26.406Z"
   },
   {
    "duration": 80,
    "start_time": "2021-06-27T09:02:36.496Z"
   },
   {
    "duration": 79,
    "start_time": "2021-06-27T09:05:58.333Z"
   },
   {
    "duration": 328,
    "start_time": "2021-06-27T09:06:18.266Z"
   },
   {
    "duration": 97,
    "start_time": "2021-06-27T09:06:56.022Z"
   },
   {
    "duration": 293,
    "start_time": "2021-06-27T09:07:03.345Z"
   },
   {
    "duration": 103,
    "start_time": "2021-06-27T09:07:57.997Z"
   },
   {
    "duration": 14,
    "start_time": "2021-06-27T09:08:07.236Z"
   },
   {
    "duration": 4,
    "start_time": "2021-06-27T09:21:03.010Z"
   },
   {
    "duration": 273,
    "start_time": "2021-06-27T09:27:01.318Z"
   },
   {
    "duration": 4,
    "start_time": "2021-06-27T09:27:12.146Z"
   },
   {
    "duration": 285,
    "start_time": "2021-06-27T09:27:28.693Z"
   },
   {
    "duration": 8,
    "start_time": "2021-06-27T09:27:44.751Z"
   },
   {
    "duration": 276,
    "start_time": "2021-06-27T09:29:28.425Z"
   },
   {
    "duration": 7,
    "start_time": "2021-06-27T09:29:44.246Z"
   },
   {
    "duration": 14,
    "start_time": "2021-06-27T09:30:07.128Z"
   },
   {
    "duration": 7,
    "start_time": "2021-06-27T09:30:26.926Z"
   },
   {
    "duration": 4,
    "start_time": "2021-06-27T10:09:51.711Z"
   },
   {
    "duration": 277,
    "start_time": "2021-06-27T10:09:55.008Z"
   },
   {
    "duration": 16,
    "start_time": "2021-06-27T10:10:12.621Z"
   },
   {
    "duration": 14,
    "start_time": "2021-06-27T10:10:17.003Z"
   },
   {
    "duration": 4,
    "start_time": "2021-06-27T10:11:30.366Z"
   },
   {
    "duration": 21,
    "start_time": "2021-06-27T10:11:35.687Z"
   },
   {
    "duration": 14,
    "start_time": "2021-06-27T10:11:40.473Z"
   },
   {
    "duration": 265,
    "start_time": "2021-06-27T10:15:43.105Z"
   },
   {
    "duration": 311,
    "start_time": "2021-06-27T10:16:59.800Z"
   },
   {
    "duration": 285,
    "start_time": "2021-06-27T10:19:01.723Z"
   },
   {
    "duration": 270,
    "start_time": "2021-06-27T10:20:25.658Z"
   },
   {
    "duration": 281,
    "start_time": "2021-06-27T10:20:36.346Z"
   },
   {
    "duration": 334,
    "start_time": "2021-06-27T10:21:26.914Z"
   },
   {
    "duration": 722,
    "start_time": "2021-06-27T10:21:38.567Z"
   },
   {
    "duration": 45,
    "start_time": "2021-06-27T10:23:11.986Z"
   },
   {
    "duration": 276,
    "start_time": "2021-06-27T10:25:07.145Z"
   },
   {
    "duration": 378,
    "start_time": "2021-06-27T10:25:19.823Z"
   },
   {
    "duration": 320,
    "start_time": "2021-06-27T10:27:02.388Z"
   },
   {
    "duration": 42,
    "start_time": "2021-06-27T10:27:46.931Z"
   },
   {
    "duration": 11008,
    "start_time": "2021-06-27T10:28:15.383Z"
   },
   {
    "duration": 821,
    "start_time": "2021-06-27T10:30:00.026Z"
   },
   {
    "duration": 30,
    "start_time": "2021-06-27T10:35:23.125Z"
   },
   {
    "duration": 48,
    "start_time": "2021-06-27T10:36:17.769Z"
   },
   {
    "duration": 41,
    "start_time": "2021-06-27T10:38:40.532Z"
   },
   {
    "duration": 38,
    "start_time": "2021-06-27T10:39:10.104Z"
   },
   {
    "duration": 40,
    "start_time": "2021-06-27T10:39:29.557Z"
   },
   {
    "duration": 37,
    "start_time": "2021-06-27T10:40:12.417Z"
   },
   {
    "duration": 42,
    "start_time": "2021-06-27T10:40:45.508Z"
   },
   {
    "duration": 55,
    "start_time": "2021-06-27T10:48:33.716Z"
   },
   {
    "duration": 15,
    "start_time": "2021-06-27T10:50:39.171Z"
   },
   {
    "duration": 26,
    "start_time": "2021-06-27T10:51:00.567Z"
   },
   {
    "duration": 15,
    "start_time": "2021-06-27T10:51:08.195Z"
   },
   {
    "duration": 62,
    "start_time": "2021-06-27T10:52:12.410Z"
   },
   {
    "duration": 30,
    "start_time": "2021-06-27T10:52:24.207Z"
   },
   {
    "duration": 38,
    "start_time": "2021-06-27T10:52:49.491Z"
   },
   {
    "duration": 14,
    "start_time": "2021-06-27T10:52:56.222Z"
   },
   {
    "duration": 8,
    "start_time": "2021-06-27T10:54:23.967Z"
   },
   {
    "duration": 15,
    "start_time": "2021-06-27T10:54:45.897Z"
   },
   {
    "duration": 26,
    "start_time": "2021-06-27T10:54:54.077Z"
   },
   {
    "duration": 41,
    "start_time": "2021-06-27T10:55:35.556Z"
   },
   {
    "duration": 27,
    "start_time": "2021-06-27T10:55:41.501Z"
   },
   {
    "duration": 105,
    "start_time": "2021-06-27T10:58:17.842Z"
   },
   {
    "duration": 6607,
    "start_time": "2021-06-27T10:58:23.342Z"
   },
   {
    "duration": 7034,
    "start_time": "2021-06-27T10:58:49.925Z"
   },
   {
    "duration": 18,
    "start_time": "2021-06-27T11:00:01.029Z"
   },
   {
    "duration": 555,
    "start_time": "2021-06-27T11:02:12.362Z"
   },
   {
    "duration": 14,
    "start_time": "2021-06-27T11:02:23.016Z"
   },
   {
    "duration": 284,
    "start_time": "2021-07-04T03:34:41.212Z"
   },
   {
    "duration": 575,
    "start_time": "2021-07-04T03:34:50.403Z"
   },
   {
    "duration": 129,
    "start_time": "2021-07-04T03:34:50.980Z"
   },
   {
    "duration": 15,
    "start_time": "2021-07-04T03:34:51.111Z"
   },
   {
    "duration": 28,
    "start_time": "2021-07-04T03:34:51.128Z"
   },
   {
    "duration": 12,
    "start_time": "2021-07-04T03:34:51.158Z"
   },
   {
    "duration": 30,
    "start_time": "2021-07-04T03:34:51.171Z"
   },
   {
    "duration": 4,
    "start_time": "2021-07-04T03:34:51.202Z"
   },
   {
    "duration": 26,
    "start_time": "2021-07-04T03:34:51.207Z"
   },
   {
    "duration": 17,
    "start_time": "2021-07-04T03:34:51.236Z"
   },
   {
    "duration": 20,
    "start_time": "2021-07-04T03:34:51.255Z"
   },
   {
    "duration": 66,
    "start_time": "2021-07-04T03:34:51.276Z"
   },
   {
    "duration": 65,
    "start_time": "2021-07-04T03:34:51.344Z"
   },
   {
    "duration": 58,
    "start_time": "2021-07-04T03:34:51.411Z"
   },
   {
    "duration": 8,
    "start_time": "2021-07-04T03:34:51.470Z"
   },
   {
    "duration": 4,
    "start_time": "2021-07-04T03:34:51.479Z"
   },
   {
    "duration": 21,
    "start_time": "2021-07-04T03:34:51.485Z"
   },
   {
    "duration": 10,
    "start_time": "2021-07-04T03:34:51.508Z"
   },
   {
    "duration": 9,
    "start_time": "2021-07-04T03:34:51.519Z"
   },
   {
    "duration": 8,
    "start_time": "2021-07-04T03:34:51.541Z"
   },
   {
    "duration": 3,
    "start_time": "2021-07-04T03:34:51.551Z"
   },
   {
    "duration": 21,
    "start_time": "2021-07-04T03:34:51.555Z"
   },
   {
    "duration": 8,
    "start_time": "2021-07-04T03:34:51.577Z"
   },
   {
    "duration": 10,
    "start_time": "2021-07-04T03:34:51.587Z"
   },
   {
    "duration": 8,
    "start_time": "2021-07-04T03:34:51.598Z"
   },
   {
    "duration": 7,
    "start_time": "2021-07-04T03:34:51.607Z"
   },
   {
    "duration": 9,
    "start_time": "2021-07-04T03:34:51.615Z"
   },
   {
    "duration": 8,
    "start_time": "2021-07-04T03:34:51.627Z"
   },
   {
    "duration": 9,
    "start_time": "2021-07-04T03:34:51.636Z"
   },
   {
    "duration": 12,
    "start_time": "2021-07-04T03:34:51.646Z"
   },
   {
    "duration": 9,
    "start_time": "2021-07-04T03:34:51.659Z"
   },
   {
    "duration": 10,
    "start_time": "2021-07-04T03:34:51.670Z"
   },
   {
    "duration": 8,
    "start_time": "2021-07-04T03:34:51.681Z"
   },
   {
    "duration": 15,
    "start_time": "2021-07-04T03:34:51.690Z"
   },
   {
    "duration": 8,
    "start_time": "2021-07-04T03:34:51.707Z"
   },
   {
    "duration": 8,
    "start_time": "2021-07-04T03:34:51.717Z"
   },
   {
    "duration": 6,
    "start_time": "2021-07-04T03:34:51.726Z"
   },
   {
    "duration": 5,
    "start_time": "2021-07-04T03:34:51.733Z"
   },
   {
    "duration": 5,
    "start_time": "2021-07-04T03:34:51.740Z"
   },
   {
    "duration": 264,
    "start_time": "2021-07-04T03:36:19.681Z"
   },
   {
    "duration": 247,
    "start_time": "2021-07-04T03:36:52.634Z"
   },
   {
    "duration": 9,
    "start_time": "2021-07-04T03:37:43.221Z"
   },
   {
    "duration": 840,
    "start_time": "2021-07-05T18:29:01.948Z"
   },
   {
    "duration": 189,
    "start_time": "2021-07-05T18:29:02.791Z"
   },
   {
    "duration": 26,
    "start_time": "2021-07-05T18:29:02.983Z"
   },
   {
    "duration": 55,
    "start_time": "2021-07-05T18:29:03.012Z"
   },
   {
    "duration": 5,
    "start_time": "2021-07-05T18:29:03.070Z"
   },
   {
    "duration": 31,
    "start_time": "2021-07-05T18:29:03.078Z"
   },
   {
    "duration": 6,
    "start_time": "2021-07-05T18:29:03.112Z"
   },
   {
    "duration": 64,
    "start_time": "2021-07-05T18:29:03.121Z"
   },
   {
    "duration": 21,
    "start_time": "2021-07-05T18:29:03.188Z"
   },
   {
    "duration": 56,
    "start_time": "2021-07-05T18:29:03.212Z"
   },
   {
    "duration": 84,
    "start_time": "2021-07-05T18:29:03.270Z"
   },
   {
    "duration": 123,
    "start_time": "2021-07-05T18:29:03.356Z"
   },
   {
    "duration": 86,
    "start_time": "2021-07-05T18:29:03.482Z"
   },
   {
    "duration": 14,
    "start_time": "2021-07-05T18:29:03.570Z"
   },
   {
    "duration": 4,
    "start_time": "2021-07-05T18:29:03.587Z"
   },
   {
    "duration": 25,
    "start_time": "2021-07-05T18:29:03.593Z"
   },
   {
    "duration": 47,
    "start_time": "2021-07-05T18:29:03.620Z"
   },
   {
    "duration": 15,
    "start_time": "2021-07-05T18:29:03.670Z"
   },
   {
    "duration": 15,
    "start_time": "2021-07-05T18:29:03.687Z"
   },
   {
    "duration": 3,
    "start_time": "2021-07-05T18:29:03.704Z"
   },
   {
    "duration": 7,
    "start_time": "2021-07-05T18:29:03.709Z"
   },
   {
    "duration": 10,
    "start_time": "2021-07-05T18:29:03.718Z"
   },
   {
    "duration": 36,
    "start_time": "2021-07-05T18:29:03.733Z"
   },
   {
    "duration": 5,
    "start_time": "2021-07-05T18:29:03.772Z"
   },
   {
    "duration": 9,
    "start_time": "2021-07-05T18:29:03.779Z"
   },
   {
    "duration": 10,
    "start_time": "2021-07-05T18:29:03.791Z"
   },
   {
    "duration": 7,
    "start_time": "2021-07-05T18:29:03.804Z"
   },
   {
    "duration": 6,
    "start_time": "2021-07-05T18:29:03.814Z"
   },
   {
    "duration": 10,
    "start_time": "2021-07-05T18:29:03.823Z"
   },
   {
    "duration": 14,
    "start_time": "2021-07-05T18:29:03.835Z"
   },
   {
    "duration": 15,
    "start_time": "2021-07-05T18:29:03.867Z"
   },
   {
    "duration": 16,
    "start_time": "2021-07-05T18:29:03.884Z"
   },
   {
    "duration": 11,
    "start_time": "2021-07-05T18:29:03.903Z"
   },
   {
    "duration": 15,
    "start_time": "2021-07-05T18:29:03.916Z"
   },
   {
    "duration": 8,
    "start_time": "2021-07-05T18:29:03.933Z"
   },
   {
    "duration": 8,
    "start_time": "2021-07-05T18:29:03.944Z"
   },
   {
    "duration": 20,
    "start_time": "2021-07-05T18:29:03.955Z"
   },
   {
    "duration": 12,
    "start_time": "2021-07-05T18:29:03.978Z"
   },
   {
    "duration": 4,
    "start_time": "2021-07-05T18:37:32.436Z"
   },
   {
    "duration": 5,
    "start_time": "2021-07-05T18:37:37.238Z"
   },
   {
    "duration": 533,
    "start_time": "2021-07-05T18:37:42.884Z"
   },
   {
    "duration": 5,
    "start_time": "2021-07-05T18:37:55.925Z"
   },
   {
    "duration": 21,
    "start_time": "2021-07-05T18:38:39.991Z"
   },
   {
    "duration": 18,
    "start_time": "2021-07-05T18:40:09.565Z"
   },
   {
    "duration": 19,
    "start_time": "2021-07-05T18:41:19.116Z"
   },
   {
    "duration": 18,
    "start_time": "2021-07-05T18:41:55.438Z"
   },
   {
    "duration": 21,
    "start_time": "2021-07-05T18:42:13.230Z"
   },
   {
    "duration": 19,
    "start_time": "2021-07-05T18:42:47.521Z"
   },
   {
    "duration": 4,
    "start_time": "2021-07-05T18:45:04.740Z"
   },
   {
    "duration": 226,
    "start_time": "2021-07-05T18:45:04.750Z"
   },
   {
    "duration": 15,
    "start_time": "2021-07-05T18:45:04.979Z"
   },
   {
    "duration": 38,
    "start_time": "2021-07-05T18:45:04.996Z"
   },
   {
    "duration": 12,
    "start_time": "2021-07-05T18:45:05.037Z"
   },
   {
    "duration": 42,
    "start_time": "2021-07-05T18:45:05.051Z"
   },
   {
    "duration": 5,
    "start_time": "2021-07-05T18:45:05.096Z"
   },
   {
    "duration": 34,
    "start_time": "2021-07-05T18:45:05.104Z"
   },
   {
    "duration": 24,
    "start_time": "2021-07-05T18:45:05.168Z"
   },
   {
    "duration": 29,
    "start_time": "2021-07-05T18:45:05.195Z"
   },
   {
    "duration": 120,
    "start_time": "2021-07-05T18:45:05.227Z"
   },
   {
    "duration": 108,
    "start_time": "2021-07-05T18:45:05.350Z"
   },
   {
    "duration": 85,
    "start_time": "2021-07-05T18:45:05.460Z"
   },
   {
    "duration": 27,
    "start_time": "2021-07-05T18:45:05.547Z"
   },
   {
    "duration": 6,
    "start_time": "2021-07-05T18:45:05.576Z"
   },
   {
    "duration": 35,
    "start_time": "2021-07-05T18:45:05.584Z"
   },
   {
    "duration": 14,
    "start_time": "2021-07-05T18:45:05.621Z"
   },
   {
    "duration": 31,
    "start_time": "2021-07-05T18:45:05.637Z"
   },
   {
    "duration": 15,
    "start_time": "2021-07-05T18:45:05.670Z"
   },
   {
    "duration": 4,
    "start_time": "2021-07-05T18:45:05.687Z"
   },
   {
    "duration": 29,
    "start_time": "2021-07-05T18:45:05.694Z"
   },
   {
    "duration": 51,
    "start_time": "2021-07-05T18:45:05.725Z"
   },
   {
    "duration": 19,
    "start_time": "2021-07-05T18:45:05.779Z"
   },
   {
    "duration": 18,
    "start_time": "2021-07-05T18:45:05.803Z"
   },
   {
    "duration": 53,
    "start_time": "2021-07-05T18:45:05.824Z"
   },
   {
    "duration": 18,
    "start_time": "2021-07-05T18:45:05.879Z"
   },
   {
    "duration": 3,
    "start_time": "2021-07-05T18:45:05.899Z"
   },
   {
    "duration": 8,
    "start_time": "2021-07-05T18:45:05.904Z"
   },
   {
    "duration": 6,
    "start_time": "2021-07-05T18:45:05.914Z"
   },
   {
    "duration": 44,
    "start_time": "2021-07-05T18:45:05.923Z"
   },
   {
    "duration": 4,
    "start_time": "2021-07-05T18:45:05.970Z"
   },
   {
    "duration": 9,
    "start_time": "2021-07-05T18:45:05.976Z"
   },
   {
    "duration": 10,
    "start_time": "2021-07-05T18:45:05.988Z"
   },
   {
    "duration": 7,
    "start_time": "2021-07-05T18:45:06.000Z"
   },
   {
    "duration": 5,
    "start_time": "2021-07-05T18:45:06.010Z"
   },
   {
    "duration": 6,
    "start_time": "2021-07-05T18:45:06.018Z"
   },
   {
    "duration": 41,
    "start_time": "2021-07-05T18:45:06.027Z"
   },
   {
    "duration": 8,
    "start_time": "2021-07-05T18:45:06.071Z"
   },
   {
    "duration": 398,
    "start_time": "2021-07-05T18:46:43.144Z"
   },
   {
    "duration": 326,
    "start_time": "2021-07-05T18:46:51.823Z"
   },
   {
    "duration": 324,
    "start_time": "2021-07-05T18:47:22.379Z"
   },
   {
    "duration": 321,
    "start_time": "2021-07-05T18:47:30.486Z"
   },
   {
    "duration": 310,
    "start_time": "2021-07-05T18:48:01.152Z"
   },
   {
    "duration": 1277,
    "start_time": "2021-07-05T18:48:47.229Z"
   },
   {
    "duration": 299,
    "start_time": "2021-07-05T18:49:14.516Z"
   },
   {
    "duration": 371,
    "start_time": "2021-07-05T19:23:17.267Z"
   },
   {
    "duration": 6,
    "start_time": "2021-07-05T19:25:36.391Z"
   },
   {
    "duration": 14,
    "start_time": "2021-07-05T19:25:46.999Z"
   },
   {
    "duration": 344,
    "start_time": "2021-07-05T19:26:10.765Z"
   },
   {
    "duration": 18,
    "start_time": "2021-07-05T19:26:18.055Z"
   },
   {
    "duration": 15,
    "start_time": "2021-07-05T19:27:32.841Z"
   },
   {
    "duration": 12,
    "start_time": "2021-07-05T19:28:12.092Z"
   },
   {
    "duration": 5,
    "start_time": "2021-07-05T19:35:57.681Z"
   },
   {
    "duration": 6,
    "start_time": "2021-07-05T19:39:03.403Z"
   },
   {
    "duration": 698,
    "start_time": "2021-07-05T19:39:35.281Z"
   },
   {
    "duration": 5,
    "start_time": "2021-07-05T19:39:46.259Z"
   },
   {
    "duration": 5,
    "start_time": "2021-07-05T19:41:00.040Z"
   },
   {
    "duration": 683,
    "start_time": "2021-07-05T19:41:03.219Z"
   },
   {
    "duration": 6,
    "start_time": "2021-07-05T19:41:49.189Z"
   },
   {
    "duration": 670,
    "start_time": "2021-07-05T19:41:52.059Z"
   },
   {
    "duration": 5,
    "start_time": "2021-07-05T19:42:23.308Z"
   },
   {
    "duration": 29,
    "start_time": "2021-07-05T19:42:26.291Z"
   },
   {
    "duration": 7,
    "start_time": "2021-07-05T19:42:50.441Z"
   },
   {
    "duration": 29,
    "start_time": "2021-07-05T19:42:52.528Z"
   },
   {
    "duration": 315,
    "start_time": "2021-07-05T19:45:58.160Z"
   },
   {
    "duration": 14,
    "start_time": "2021-07-05T19:46:14.650Z"
   },
   {
    "duration": 21,
    "start_time": "2021-07-05T19:46:22.744Z"
   },
   {
    "duration": 21,
    "start_time": "2021-07-05T19:47:56.196Z"
   },
   {
    "duration": 31,
    "start_time": "2021-07-05T19:54:01.616Z"
   },
   {
    "duration": 5,
    "start_time": "2021-07-05T19:54:08.492Z"
   },
   {
    "duration": 650,
    "start_time": "2021-07-05T19:54:22.353Z"
   },
   {
    "duration": 5,
    "start_time": "2021-07-05T19:54:50.195Z"
   },
   {
    "duration": 29,
    "start_time": "2021-07-05T19:54:53.615Z"
   },
   {
    "duration": 5,
    "start_time": "2021-07-05T21:14:29.487Z"
   },
   {
    "duration": 26,
    "start_time": "2021-07-05T21:14:32.377Z"
   },
   {
    "duration": 6,
    "start_time": "2021-07-05T21:15:12.905Z"
   },
   {
    "duration": 28,
    "start_time": "2021-07-05T21:15:15.116Z"
   },
   {
    "duration": 6,
    "start_time": "2021-07-05T21:16:12.897Z"
   },
   {
    "duration": 28,
    "start_time": "2021-07-05T21:16:17.895Z"
   },
   {
    "duration": 5,
    "start_time": "2021-07-05T21:18:09.468Z"
   },
   {
    "duration": 656,
    "start_time": "2021-07-05T21:18:15.369Z"
   },
   {
    "duration": 6,
    "start_time": "2021-07-05T21:18:25.391Z"
   },
   {
    "duration": 25,
    "start_time": "2021-07-05T21:18:27.564Z"
   },
   {
    "duration": 5,
    "start_time": "2021-07-05T21:22:58.605Z"
   },
   {
    "duration": 88,
    "start_time": "2021-07-05T21:23:01.955Z"
   },
   {
    "duration": 5,
    "start_time": "2021-07-05T21:23:27.988Z"
   },
   {
    "duration": 84,
    "start_time": "2021-07-05T21:23:30.830Z"
   },
   {
    "duration": 80,
    "start_time": "2021-07-05T21:24:59.715Z"
   },
   {
    "duration": 74,
    "start_time": "2021-07-05T21:25:43.407Z"
   },
   {
    "duration": 72,
    "start_time": "2021-07-05T21:26:13.981Z"
   },
   {
    "duration": 119,
    "start_time": "2021-07-05T21:27:51.527Z"
   },
   {
    "duration": 61,
    "start_time": "2021-07-05T21:28:20.449Z"
   },
   {
    "duration": 74,
    "start_time": "2021-07-05T21:29:01.534Z"
   },
   {
    "duration": 7,
    "start_time": "2021-07-05T21:29:31.229Z"
   },
   {
    "duration": 363,
    "start_time": "2021-07-05T21:30:11.981Z"
   },
   {
    "duration": 45,
    "start_time": "2021-07-05T21:30:55.181Z"
   },
   {
    "duration": 20,
    "start_time": "2021-07-05T21:30:57.377Z"
   },
   {
    "duration": 32,
    "start_time": "2021-07-05T21:33:11.436Z"
   },
   {
    "duration": 15,
    "start_time": "2021-07-05T21:33:14.766Z"
   },
   {
    "duration": 363,
    "start_time": "2021-07-05T21:34:36.777Z"
   },
   {
    "duration": 31,
    "start_time": "2021-07-05T21:35:08.377Z"
   },
   {
    "duration": 12,
    "start_time": "2021-07-05T21:35:11.480Z"
   },
   {
    "duration": 18,
    "start_time": "2021-07-05T21:36:34.504Z"
   },
   {
    "duration": 31,
    "start_time": "2021-07-05T21:36:58.475Z"
   },
   {
    "duration": 11,
    "start_time": "2021-07-05T21:37:00.596Z"
   },
   {
    "duration": 393,
    "start_time": "2021-07-05T21:37:38.451Z"
   },
   {
    "duration": 11,
    "start_time": "2021-07-05T21:37:56.981Z"
   },
   {
    "duration": 6,
    "start_time": "2021-07-05T21:38:00.746Z"
   },
   {
    "duration": 11,
    "start_time": "2021-07-05T21:38:13.365Z"
   },
   {
    "duration": 6,
    "start_time": "2021-07-05T21:38:17.944Z"
   },
   {
    "duration": 365,
    "start_time": "2021-07-05T21:38:33.296Z"
   },
   {
    "duration": 8,
    "start_time": "2021-07-05T21:38:42.108Z"
   },
   {
    "duration": 6,
    "start_time": "2021-07-05T21:38:54.803Z"
   },
   {
    "duration": 814,
    "start_time": "2021-07-06T12:29:22.376Z"
   },
   {
    "duration": 2607,
    "start_time": "2021-07-06T12:29:23.192Z"
   },
   {
    "duration": 26,
    "start_time": "2021-07-06T12:29:25.803Z"
   },
   {
    "duration": 72,
    "start_time": "2021-07-06T12:29:25.832Z"
   },
   {
    "duration": 9,
    "start_time": "2021-07-06T12:29:25.906Z"
   },
   {
    "duration": 58,
    "start_time": "2021-07-06T12:29:25.917Z"
   },
   {
    "duration": 16,
    "start_time": "2021-07-06T12:29:25.977Z"
   },
   {
    "duration": 42,
    "start_time": "2021-07-06T12:29:25.996Z"
   },
   {
    "duration": 35,
    "start_time": "2021-07-06T12:29:26.041Z"
   },
   {
    "duration": 30,
    "start_time": "2021-07-06T12:29:26.079Z"
   },
   {
    "duration": 116,
    "start_time": "2021-07-06T12:29:26.112Z"
   },
   {
    "duration": 115,
    "start_time": "2021-07-06T12:29:26.231Z"
   },
   {
    "duration": 82,
    "start_time": "2021-07-06T12:29:26.349Z"
   },
   {
    "duration": 38,
    "start_time": "2021-07-06T12:29:26.434Z"
   },
   {
    "duration": 6,
    "start_time": "2021-07-06T12:29:26.475Z"
   },
   {
    "duration": 38,
    "start_time": "2021-07-06T12:29:26.484Z"
   },
   {
    "duration": 44,
    "start_time": "2021-07-06T12:29:26.525Z"
   },
   {
    "duration": 16,
    "start_time": "2021-07-06T12:29:26.572Z"
   },
   {
    "duration": 16,
    "start_time": "2021-07-06T12:29:26.591Z"
   },
   {
    "duration": 47,
    "start_time": "2021-07-06T12:29:26.610Z"
   },
   {
    "duration": 26,
    "start_time": "2021-07-06T12:29:26.661Z"
   },
   {
    "duration": 20,
    "start_time": "2021-07-06T12:29:26.690Z"
   },
   {
    "duration": 48,
    "start_time": "2021-07-06T12:29:26.715Z"
   },
   {
    "duration": 27,
    "start_time": "2021-07-06T12:29:26.768Z"
   },
   {
    "duration": 32,
    "start_time": "2021-07-06T12:29:26.798Z"
   },
   {
    "duration": 28,
    "start_time": "2021-07-06T12:29:26.856Z"
   },
   {
    "duration": 25,
    "start_time": "2021-07-06T12:29:26.887Z"
   },
   {
    "duration": 46,
    "start_time": "2021-07-06T12:29:26.915Z"
   },
   {
    "duration": 17,
    "start_time": "2021-07-06T12:29:26.964Z"
   },
   {
    "duration": 9,
    "start_time": "2021-07-06T12:29:26.983Z"
   },
   {
    "duration": 110,
    "start_time": "2021-07-06T12:29:26.994Z"
   },
   {
    "duration": 108,
    "start_time": "2021-07-06T12:29:27.107Z"
   },
   {
    "duration": 109,
    "start_time": "2021-07-06T12:29:27.218Z"
   },
   {
    "duration": 86,
    "start_time": "2021-07-06T12:29:27.329Z"
   },
   {
    "duration": 10,
    "start_time": "2021-07-06T12:29:27.417Z"
   },
   {
    "duration": 7,
    "start_time": "2021-07-06T12:29:27.430Z"
   },
   {
    "duration": 10,
    "start_time": "2021-07-06T12:29:27.457Z"
   },
   {
    "duration": 22,
    "start_time": "2021-07-06T12:29:27.471Z"
   },
   {
    "duration": 103,
    "start_time": "2021-07-06T12:36:31.267Z"
   },
   {
    "duration": 422,
    "start_time": "2021-07-06T14:58:39.992Z"
   },
   {
    "duration": 834,
    "start_time": "2021-07-06T14:58:47.648Z"
   },
   {
    "duration": 205,
    "start_time": "2021-07-06T14:58:48.485Z"
   },
   {
    "duration": 28,
    "start_time": "2021-07-06T14:58:48.693Z"
   },
   {
    "duration": 55,
    "start_time": "2021-07-06T14:58:48.724Z"
   },
   {
    "duration": 6,
    "start_time": "2021-07-06T14:58:48.782Z"
   },
   {
    "duration": 27,
    "start_time": "2021-07-06T14:58:48.791Z"
   },
   {
    "duration": 6,
    "start_time": "2021-07-06T14:58:48.821Z"
   },
   {
    "duration": 30,
    "start_time": "2021-07-06T14:58:48.867Z"
   },
   {
    "duration": 24,
    "start_time": "2021-07-06T14:58:48.902Z"
   },
   {
    "duration": 54,
    "start_time": "2021-07-06T14:58:48.929Z"
   },
   {
    "duration": 101,
    "start_time": "2021-07-06T14:58:48.985Z"
   },
   {
    "duration": 115,
    "start_time": "2021-07-06T14:58:49.088Z"
   },
   {
    "duration": 86,
    "start_time": "2021-07-06T14:58:49.206Z"
   },
   {
    "duration": 13,
    "start_time": "2021-07-06T14:58:49.294Z"
   },
   {
    "duration": 3,
    "start_time": "2021-07-06T14:58:49.310Z"
   },
   {
    "duration": 52,
    "start_time": "2021-07-06T14:58:49.315Z"
   },
   {
    "duration": 14,
    "start_time": "2021-07-06T14:58:49.370Z"
   },
   {
    "duration": 389,
    "start_time": "2021-07-06T14:58:49.386Z"
   },
   {
    "duration": -24,
    "start_time": "2021-07-06T14:58:49.802Z"
   },
   {
    "duration": -29,
    "start_time": "2021-07-06T14:58:49.809Z"
   },
   {
    "duration": -36,
    "start_time": "2021-07-06T14:58:49.817Z"
   },
   {
    "duration": -40,
    "start_time": "2021-07-06T14:58:49.823Z"
   },
   {
    "duration": -46,
    "start_time": "2021-07-06T14:58:49.830Z"
   },
   {
    "duration": -51,
    "start_time": "2021-07-06T14:58:49.836Z"
   },
   {
    "duration": -56,
    "start_time": "2021-07-06T14:58:49.843Z"
   },
   {
    "duration": -61,
    "start_time": "2021-07-06T14:58:49.849Z"
   },
   {
    "duration": -67,
    "start_time": "2021-07-06T14:58:49.856Z"
   },
   {
    "duration": -72,
    "start_time": "2021-07-06T14:58:49.862Z"
   },
   {
    "duration": -76,
    "start_time": "2021-07-06T14:58:49.868Z"
   },
   {
    "duration": -81,
    "start_time": "2021-07-06T14:58:49.874Z"
   },
   {
    "duration": -87,
    "start_time": "2021-07-06T14:58:49.882Z"
   },
   {
    "duration": -92,
    "start_time": "2021-07-06T14:58:49.888Z"
   },
   {
    "duration": -104,
    "start_time": "2021-07-06T14:58:49.903Z"
   },
   {
    "duration": -106,
    "start_time": "2021-07-06T14:58:49.906Z"
   },
   {
    "duration": -107,
    "start_time": "2021-07-06T14:58:49.909Z"
   },
   {
    "duration": -108,
    "start_time": "2021-07-06T14:58:49.911Z"
   },
   {
    "duration": -110,
    "start_time": "2021-07-06T14:58:49.915Z"
   },
   {
    "duration": -112,
    "start_time": "2021-07-06T14:58:49.918Z"
   },
   {
    "duration": 18,
    "start_time": "2021-07-06T14:59:32.483Z"
   },
   {
    "duration": 436,
    "start_time": "2022-10-04T10:48:29.133Z"
   },
   {
    "duration": 244,
    "start_time": "2022-10-04T10:48:29.571Z"
   },
   {
    "duration": 18,
    "start_time": "2022-10-04T10:48:29.817Z"
   },
   {
    "duration": 39,
    "start_time": "2022-10-04T10:48:29.837Z"
   },
   {
    "duration": 4,
    "start_time": "2022-10-04T10:48:29.878Z"
   },
   {
    "duration": 14,
    "start_time": "2022-10-04T10:48:29.884Z"
   },
   {
    "duration": 7,
    "start_time": "2022-10-04T10:48:29.900Z"
   },
   {
    "duration": 47,
    "start_time": "2022-10-04T10:48:29.909Z"
   },
   {
    "duration": 22,
    "start_time": "2022-10-04T10:48:29.959Z"
   },
   {
    "duration": 28,
    "start_time": "2022-10-04T10:48:29.983Z"
   },
   {
    "duration": 88,
    "start_time": "2022-10-04T10:48:30.013Z"
   },
   {
    "duration": 98,
    "start_time": "2022-10-04T10:48:30.103Z"
   },
   {
    "duration": 74,
    "start_time": "2022-10-04T10:48:30.203Z"
   },
   {
    "duration": 10,
    "start_time": "2022-10-04T10:48:30.281Z"
   },
   {
    "duration": 7,
    "start_time": "2022-10-04T10:48:30.292Z"
   },
   {
    "duration": 39,
    "start_time": "2022-10-04T10:48:30.301Z"
   },
   {
    "duration": 10,
    "start_time": "2022-10-04T10:48:30.342Z"
   },
   {
    "duration": 89,
    "start_time": "2022-10-04T10:48:30.353Z"
   },
   {
    "duration": 0,
    "start_time": "2022-10-04T10:48:30.444Z"
   },
   {
    "duration": 0,
    "start_time": "2022-10-04T10:48:30.446Z"
   },
   {
    "duration": 0,
    "start_time": "2022-10-04T10:48:30.447Z"
   },
   {
    "duration": 0,
    "start_time": "2022-10-04T10:48:30.448Z"
   },
   {
    "duration": 0,
    "start_time": "2022-10-04T10:48:30.449Z"
   },
   {
    "duration": 0,
    "start_time": "2022-10-04T10:48:30.450Z"
   },
   {
    "duration": 0,
    "start_time": "2022-10-04T10:48:30.451Z"
   },
   {
    "duration": 0,
    "start_time": "2022-10-04T10:48:30.452Z"
   },
   {
    "duration": 0,
    "start_time": "2022-10-04T10:48:30.453Z"
   },
   {
    "duration": 0,
    "start_time": "2022-10-04T10:48:30.455Z"
   },
   {
    "duration": 0,
    "start_time": "2022-10-04T10:48:30.456Z"
   },
   {
    "duration": 0,
    "start_time": "2022-10-04T10:48:30.458Z"
   },
   {
    "duration": 0,
    "start_time": "2022-10-04T10:48:30.459Z"
   },
   {
    "duration": 0,
    "start_time": "2022-10-04T10:48:30.460Z"
   },
   {
    "duration": 0,
    "start_time": "2022-10-04T10:48:30.461Z"
   },
   {
    "duration": 0,
    "start_time": "2022-10-04T10:48:30.462Z"
   },
   {
    "duration": 0,
    "start_time": "2022-10-04T10:48:30.463Z"
   },
   {
    "duration": 0,
    "start_time": "2022-10-04T10:48:30.464Z"
   },
   {
    "duration": 0,
    "start_time": "2022-10-04T10:48:30.465Z"
   },
   {
    "duration": 0,
    "start_time": "2022-10-04T10:48:30.466Z"
   },
   {
    "duration": 27,
    "start_time": "2022-10-04T10:51:48.108Z"
   },
   {
    "duration": 27,
    "start_time": "2022-10-04T10:52:29.835Z"
   },
   {
    "duration": 23,
    "start_time": "2022-10-04T10:52:42.334Z"
   },
   {
    "duration": 13,
    "start_time": "2022-10-04T10:52:54.956Z"
   },
   {
    "duration": 377,
    "start_time": "2022-10-04T10:53:06.390Z"
   },
   {
    "duration": 188,
    "start_time": "2022-10-04T10:53:06.769Z"
   },
   {
    "duration": 17,
    "start_time": "2022-10-04T10:53:06.958Z"
   },
   {
    "duration": 42,
    "start_time": "2022-10-04T10:53:06.977Z"
   },
   {
    "duration": 11,
    "start_time": "2022-10-04T10:53:07.021Z"
   },
   {
    "duration": 23,
    "start_time": "2022-10-04T10:53:07.038Z"
   },
   {
    "duration": 20,
    "start_time": "2022-10-04T10:53:07.062Z"
   },
   {
    "duration": 43,
    "start_time": "2022-10-04T10:53:07.084Z"
   },
   {
    "duration": 34,
    "start_time": "2022-10-04T10:53:07.129Z"
   },
   {
    "duration": 31,
    "start_time": "2022-10-04T10:53:07.165Z"
   },
   {
    "duration": 105,
    "start_time": "2022-10-04T10:53:07.197Z"
   },
   {
    "duration": 114,
    "start_time": "2022-10-04T10:53:07.305Z"
   },
   {
    "duration": 88,
    "start_time": "2022-10-04T10:53:07.421Z"
   },
   {
    "duration": 10,
    "start_time": "2022-10-04T10:53:07.511Z"
   },
   {
    "duration": 16,
    "start_time": "2022-10-04T10:53:07.523Z"
   },
   {
    "duration": 37,
    "start_time": "2022-10-04T10:53:07.541Z"
   },
   {
    "duration": 10,
    "start_time": "2022-10-04T10:53:07.579Z"
   },
   {
    "duration": 26,
    "start_time": "2022-10-04T10:53:07.591Z"
   },
   {
    "duration": 19,
    "start_time": "2022-10-04T10:53:07.619Z"
   },
   {
    "duration": 4,
    "start_time": "2022-10-04T10:53:07.640Z"
   },
   {
    "duration": 36,
    "start_time": "2022-10-04T10:53:07.646Z"
   },
   {
    "duration": 17,
    "start_time": "2022-10-04T10:53:07.684Z"
   },
   {
    "duration": 26,
    "start_time": "2022-10-04T10:53:07.703Z"
   },
   {
    "duration": 33,
    "start_time": "2022-10-04T10:53:07.730Z"
   },
   {
    "duration": 18,
    "start_time": "2022-10-04T10:53:07.765Z"
   },
   {
    "duration": 18,
    "start_time": "2022-10-04T10:53:07.785Z"
   },
   {
    "duration": 17,
    "start_time": "2022-10-04T10:53:07.805Z"
   },
   {
    "duration": 27,
    "start_time": "2022-10-04T10:53:07.826Z"
   },
   {
    "duration": 13,
    "start_time": "2022-10-04T10:53:07.854Z"
   },
   {
    "duration": 12,
    "start_time": "2022-10-04T10:53:07.868Z"
   },
   {
    "duration": 74,
    "start_time": "2022-10-04T10:53:07.882Z"
   },
   {
    "duration": 44,
    "start_time": "2022-10-04T10:53:07.957Z"
   },
   {
    "duration": 62,
    "start_time": "2022-10-04T10:53:08.002Z"
   },
   {
    "duration": 44,
    "start_time": "2022-10-04T10:53:08.067Z"
   },
   {
    "duration": 26,
    "start_time": "2022-10-04T10:53:08.113Z"
   },
   {
    "duration": 5,
    "start_time": "2022-10-04T10:53:08.141Z"
   },
   {
    "duration": 16,
    "start_time": "2022-10-04T10:53:08.148Z"
   },
   {
    "duration": 6,
    "start_time": "2022-10-04T10:53:08.166Z"
   },
   {
    "duration": 442,
    "start_time": "2022-10-04T11:46:55.220Z"
   },
   {
    "duration": 180,
    "start_time": "2022-10-04T11:46:55.664Z"
   },
   {
    "duration": 19,
    "start_time": "2022-10-04T11:46:55.846Z"
   },
   {
    "duration": 52,
    "start_time": "2022-10-04T11:46:55.867Z"
   },
   {
    "duration": 5,
    "start_time": "2022-10-04T11:46:55.921Z"
   },
   {
    "duration": 32,
    "start_time": "2022-10-04T11:46:55.927Z"
   },
   {
    "duration": 14,
    "start_time": "2022-10-04T11:46:55.961Z"
   },
   {
    "duration": 52,
    "start_time": "2022-10-04T11:46:55.977Z"
   },
   {
    "duration": 32,
    "start_time": "2022-10-04T11:46:56.031Z"
   },
   {
    "duration": 40,
    "start_time": "2022-10-04T11:46:56.066Z"
   },
   {
    "duration": 84,
    "start_time": "2022-10-04T11:46:56.108Z"
   },
   {
    "duration": 88,
    "start_time": "2022-10-04T11:46:56.194Z"
   },
   {
    "duration": 78,
    "start_time": "2022-10-04T11:46:56.284Z"
   },
   {
    "duration": 11,
    "start_time": "2022-10-04T11:46:56.365Z"
   },
   {
    "duration": 4,
    "start_time": "2022-10-04T11:46:56.378Z"
   },
   {
    "duration": 45,
    "start_time": "2022-10-04T11:46:56.384Z"
   },
   {
    "duration": 14,
    "start_time": "2022-10-04T11:46:56.430Z"
   },
   {
    "duration": 30,
    "start_time": "2022-10-04T11:46:56.445Z"
   },
   {
    "duration": 12,
    "start_time": "2022-10-04T11:46:56.477Z"
   },
   {
    "duration": 26,
    "start_time": "2022-10-04T11:46:56.490Z"
   },
   {
    "duration": 27,
    "start_time": "2022-10-04T11:46:56.518Z"
   },
   {
    "duration": 36,
    "start_time": "2022-10-04T11:46:56.546Z"
   },
   {
    "duration": 31,
    "start_time": "2022-10-04T11:46:56.584Z"
   },
   {
    "duration": 37,
    "start_time": "2022-10-04T11:46:56.618Z"
   },
   {
    "duration": 39,
    "start_time": "2022-10-04T11:46:56.657Z"
   },
   {
    "duration": 35,
    "start_time": "2022-10-04T11:46:56.698Z"
   },
   {
    "duration": 21,
    "start_time": "2022-10-04T11:46:56.735Z"
   },
   {
    "duration": 38,
    "start_time": "2022-10-04T11:46:56.759Z"
   },
   {
    "duration": 32,
    "start_time": "2022-10-04T11:46:56.799Z"
   },
   {
    "duration": 23,
    "start_time": "2022-10-04T11:46:56.833Z"
   },
   {
    "duration": 95,
    "start_time": "2022-10-04T11:46:56.857Z"
   },
   {
    "duration": 48,
    "start_time": "2022-10-04T11:46:56.954Z"
   },
   {
    "duration": 65,
    "start_time": "2022-10-04T11:46:57.004Z"
   },
   {
    "duration": 53,
    "start_time": "2022-10-04T11:46:57.071Z"
   },
   {
    "duration": 13,
    "start_time": "2022-10-04T11:46:57.139Z"
   },
   {
    "duration": 20,
    "start_time": "2022-10-04T11:46:57.155Z"
   },
   {
    "duration": 39,
    "start_time": "2022-10-04T11:46:57.177Z"
   },
   {
    "duration": 16,
    "start_time": "2022-10-04T11:46:57.218Z"
   }
  ],
  "colab": {
   "collapsed_sections": [
    "E0vqbgi9ay0H",
    "VUC88oWjTJw2"
   ],
   "name": "yandex_music_project_2021.2.ipynb",
   "provenance": []
  },
  "kernelspec": {
   "display_name": "Python 3 (ipykernel)",
   "language": "python",
   "name": "python3"
  },
  "language_info": {
   "codemirror_mode": {
    "name": "ipython",
    "version": 3
   },
   "file_extension": ".py",
   "mimetype": "text/x-python",
   "name": "python",
   "nbconvert_exporter": "python",
   "pygments_lexer": "ipython3",
   "version": "3.9.5"
  },
  "toc": {
   "base_numbering": 1,
   "nav_menu": {},
   "number_sections": true,
   "sideBar": true,
   "skip_h1_title": true,
   "title_cell": "Table of Contents",
   "title_sidebar": "Contents",
   "toc_cell": false,
   "toc_position": {},
   "toc_section_display": true,
   "toc_window_display": true
  }
 },
 "nbformat": 4,
 "nbformat_minor": 1
}
