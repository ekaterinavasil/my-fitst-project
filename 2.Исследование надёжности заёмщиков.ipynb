{
 "cells": [
  {
   "cell_type": "markdown",
   "metadata": {},
   "source": [
    "# Исследование надёжности заёмщиков\n",
    "\n",
    "Заказчик — кредитный отдел банка. Нужно разобраться, влияет ли семейное положение и количество детей клиента на факт погашения кредита в срок. Входные данные от банка — статистика о платёжеспособности клиентов.\n",
    "\n",
    "Результаты исследования будут учтены при построении модели **кредитного скоринга** — специальной системы, которая оценивает способность потенциального заёмщика вернуть кредит банку."
   ]
  },
  {
   "cell_type": "markdown",
   "metadata": {},
   "source": [
    "Основные пункты нашего исследования:\n",
    "* Открытие данных\n",
    "* Предобработка данных\n",
    "* Обработка пропущенных значений\n",
    "* Обработка дубликатов\n",
    "* Проведение лемматизации\n",
    "* Категорирование данных\n",
    "* Ответы на вопросы исследования\n",
    "* Проведение общего выводы проекта"
   ]
  },
  {
   "cell_type": "markdown",
   "metadata": {},
   "source": [
    "Входные данные:\n",
    "    Название таблицы - `table`\n",
    "    \n",
    "Столбцы:\n",
    "\n",
    "* children — количество детей в семье\n",
    "* days_employed — общий трудовой стаж в днях\n",
    "* dob_years — возраст клиента в годах\n",
    "* education — уровень образования клиента\n",
    "* education_id — идентификатор уровня образования\n",
    "* family_status — семейное положение\n",
    "* family_status_id — идентификатор семейного положения\n",
    "* gender — пол клиента\n",
    "* income_type — тип занятости\n",
    "* debt — имел ли задолженность по возврату кредитов\n",
    "* total_income — ежемесячный доход\n",
    "* purpose — цель получения кредита\n",
    "* dob_years_rules - тип занятости в соответствии с возрастом\n",
    "* goals - обобщенные цели получения кредита"
   ]
  },
  {
   "cell_type": "markdown",
   "metadata": {},
   "source": [
    "## Шаг 1. Откроем файл с данными и изучаем общую информацию"
   ]
  },
  {
   "cell_type": "code",
   "execution_count": 1,
   "metadata": {},
   "outputs": [],
   "source": [
    "# импортируем библиотеки\n",
    "import pandas as pd\n",
    "from pymystem3 import Mystem"
   ]
  },
  {
   "cell_type": "code",
   "execution_count": 2,
   "metadata": {},
   "outputs": [],
   "source": [
    "# создаем название нашей таблице 'table'\n",
    "table = pd.read_csv('/datasets/data.csv')"
   ]
  },
  {
   "cell_type": "code",
   "execution_count": 3,
   "metadata": {},
   "outputs": [
    {
     "data": {
      "text/html": [
       "<div>\n",
       "<style scoped>\n",
       "    .dataframe tbody tr th:only-of-type {\n",
       "        vertical-align: middle;\n",
       "    }\n",
       "\n",
       "    .dataframe tbody tr th {\n",
       "        vertical-align: top;\n",
       "    }\n",
       "\n",
       "    .dataframe thead th {\n",
       "        text-align: right;\n",
       "    }\n",
       "</style>\n",
       "<table border=\"1\" class=\"dataframe\">\n",
       "  <thead>\n",
       "    <tr style=\"text-align: right;\">\n",
       "      <th></th>\n",
       "      <th>children</th>\n",
       "      <th>days_employed</th>\n",
       "      <th>dob_years</th>\n",
       "      <th>education</th>\n",
       "      <th>education_id</th>\n",
       "      <th>family_status</th>\n",
       "      <th>family_status_id</th>\n",
       "      <th>gender</th>\n",
       "      <th>income_type</th>\n",
       "      <th>debt</th>\n",
       "      <th>total_income</th>\n",
       "      <th>purpose</th>\n",
       "    </tr>\n",
       "  </thead>\n",
       "  <tbody>\n",
       "    <tr>\n",
       "      <th>0</th>\n",
       "      <td>1</td>\n",
       "      <td>-8437.673028</td>\n",
       "      <td>42</td>\n",
       "      <td>высшее</td>\n",
       "      <td>0</td>\n",
       "      <td>женат / замужем</td>\n",
       "      <td>0</td>\n",
       "      <td>F</td>\n",
       "      <td>сотрудник</td>\n",
       "      <td>0</td>\n",
       "      <td>253875.639453</td>\n",
       "      <td>покупка жилья</td>\n",
       "    </tr>\n",
       "    <tr>\n",
       "      <th>1</th>\n",
       "      <td>1</td>\n",
       "      <td>-4024.803754</td>\n",
       "      <td>36</td>\n",
       "      <td>среднее</td>\n",
       "      <td>1</td>\n",
       "      <td>женат / замужем</td>\n",
       "      <td>0</td>\n",
       "      <td>F</td>\n",
       "      <td>сотрудник</td>\n",
       "      <td>0</td>\n",
       "      <td>112080.014102</td>\n",
       "      <td>приобретение автомобиля</td>\n",
       "    </tr>\n",
       "    <tr>\n",
       "      <th>2</th>\n",
       "      <td>0</td>\n",
       "      <td>-5623.422610</td>\n",
       "      <td>33</td>\n",
       "      <td>Среднее</td>\n",
       "      <td>1</td>\n",
       "      <td>женат / замужем</td>\n",
       "      <td>0</td>\n",
       "      <td>M</td>\n",
       "      <td>сотрудник</td>\n",
       "      <td>0</td>\n",
       "      <td>145885.952297</td>\n",
       "      <td>покупка жилья</td>\n",
       "    </tr>\n",
       "    <tr>\n",
       "      <th>3</th>\n",
       "      <td>3</td>\n",
       "      <td>-4124.747207</td>\n",
       "      <td>32</td>\n",
       "      <td>среднее</td>\n",
       "      <td>1</td>\n",
       "      <td>женат / замужем</td>\n",
       "      <td>0</td>\n",
       "      <td>M</td>\n",
       "      <td>сотрудник</td>\n",
       "      <td>0</td>\n",
       "      <td>267628.550329</td>\n",
       "      <td>дополнительное образование</td>\n",
       "    </tr>\n",
       "    <tr>\n",
       "      <th>4</th>\n",
       "      <td>0</td>\n",
       "      <td>340266.072047</td>\n",
       "      <td>53</td>\n",
       "      <td>среднее</td>\n",
       "      <td>1</td>\n",
       "      <td>гражданский брак</td>\n",
       "      <td>1</td>\n",
       "      <td>F</td>\n",
       "      <td>пенсионер</td>\n",
       "      <td>0</td>\n",
       "      <td>158616.077870</td>\n",
       "      <td>сыграть свадьбу</td>\n",
       "    </tr>\n",
       "    <tr>\n",
       "      <th>5</th>\n",
       "      <td>0</td>\n",
       "      <td>-926.185831</td>\n",
       "      <td>27</td>\n",
       "      <td>высшее</td>\n",
       "      <td>0</td>\n",
       "      <td>гражданский брак</td>\n",
       "      <td>1</td>\n",
       "      <td>M</td>\n",
       "      <td>компаньон</td>\n",
       "      <td>0</td>\n",
       "      <td>255763.565419</td>\n",
       "      <td>покупка жилья</td>\n",
       "    </tr>\n",
       "    <tr>\n",
       "      <th>6</th>\n",
       "      <td>0</td>\n",
       "      <td>-2879.202052</td>\n",
       "      <td>43</td>\n",
       "      <td>высшее</td>\n",
       "      <td>0</td>\n",
       "      <td>женат / замужем</td>\n",
       "      <td>0</td>\n",
       "      <td>F</td>\n",
       "      <td>компаньон</td>\n",
       "      <td>0</td>\n",
       "      <td>240525.971920</td>\n",
       "      <td>операции с жильем</td>\n",
       "    </tr>\n",
       "    <tr>\n",
       "      <th>7</th>\n",
       "      <td>0</td>\n",
       "      <td>-152.779569</td>\n",
       "      <td>50</td>\n",
       "      <td>СРЕДНЕЕ</td>\n",
       "      <td>1</td>\n",
       "      <td>женат / замужем</td>\n",
       "      <td>0</td>\n",
       "      <td>M</td>\n",
       "      <td>сотрудник</td>\n",
       "      <td>0</td>\n",
       "      <td>135823.934197</td>\n",
       "      <td>образование</td>\n",
       "    </tr>\n",
       "    <tr>\n",
       "      <th>8</th>\n",
       "      <td>2</td>\n",
       "      <td>-6929.865299</td>\n",
       "      <td>35</td>\n",
       "      <td>ВЫСШЕЕ</td>\n",
       "      <td>0</td>\n",
       "      <td>гражданский брак</td>\n",
       "      <td>1</td>\n",
       "      <td>F</td>\n",
       "      <td>сотрудник</td>\n",
       "      <td>0</td>\n",
       "      <td>95856.832424</td>\n",
       "      <td>на проведение свадьбы</td>\n",
       "    </tr>\n",
       "    <tr>\n",
       "      <th>9</th>\n",
       "      <td>0</td>\n",
       "      <td>-2188.756445</td>\n",
       "      <td>41</td>\n",
       "      <td>среднее</td>\n",
       "      <td>1</td>\n",
       "      <td>женат / замужем</td>\n",
       "      <td>0</td>\n",
       "      <td>M</td>\n",
       "      <td>сотрудник</td>\n",
       "      <td>0</td>\n",
       "      <td>144425.938277</td>\n",
       "      <td>покупка жилья для семьи</td>\n",
       "    </tr>\n",
       "    <tr>\n",
       "      <th>10</th>\n",
       "      <td>2</td>\n",
       "      <td>-4171.483647</td>\n",
       "      <td>36</td>\n",
       "      <td>высшее</td>\n",
       "      <td>0</td>\n",
       "      <td>женат / замужем</td>\n",
       "      <td>0</td>\n",
       "      <td>M</td>\n",
       "      <td>компаньон</td>\n",
       "      <td>0</td>\n",
       "      <td>113943.491460</td>\n",
       "      <td>покупка недвижимости</td>\n",
       "    </tr>\n",
       "    <tr>\n",
       "      <th>11</th>\n",
       "      <td>0</td>\n",
       "      <td>-792.701887</td>\n",
       "      <td>40</td>\n",
       "      <td>среднее</td>\n",
       "      <td>1</td>\n",
       "      <td>женат / замужем</td>\n",
       "      <td>0</td>\n",
       "      <td>F</td>\n",
       "      <td>сотрудник</td>\n",
       "      <td>0</td>\n",
       "      <td>77069.234271</td>\n",
       "      <td>покупка коммерческой недвижимости</td>\n",
       "    </tr>\n",
       "    <tr>\n",
       "      <th>12</th>\n",
       "      <td>0</td>\n",
       "      <td>NaN</td>\n",
       "      <td>65</td>\n",
       "      <td>среднее</td>\n",
       "      <td>1</td>\n",
       "      <td>гражданский брак</td>\n",
       "      <td>1</td>\n",
       "      <td>M</td>\n",
       "      <td>пенсионер</td>\n",
       "      <td>0</td>\n",
       "      <td>NaN</td>\n",
       "      <td>сыграть свадьбу</td>\n",
       "    </tr>\n",
       "    <tr>\n",
       "      <th>13</th>\n",
       "      <td>0</td>\n",
       "      <td>-1846.641941</td>\n",
       "      <td>54</td>\n",
       "      <td>неоконченное высшее</td>\n",
       "      <td>2</td>\n",
       "      <td>женат / замужем</td>\n",
       "      <td>0</td>\n",
       "      <td>F</td>\n",
       "      <td>сотрудник</td>\n",
       "      <td>0</td>\n",
       "      <td>130458.228857</td>\n",
       "      <td>приобретение автомобиля</td>\n",
       "    </tr>\n",
       "    <tr>\n",
       "      <th>14</th>\n",
       "      <td>0</td>\n",
       "      <td>-1844.956182</td>\n",
       "      <td>56</td>\n",
       "      <td>высшее</td>\n",
       "      <td>0</td>\n",
       "      <td>гражданский брак</td>\n",
       "      <td>1</td>\n",
       "      <td>F</td>\n",
       "      <td>компаньон</td>\n",
       "      <td>1</td>\n",
       "      <td>165127.911772</td>\n",
       "      <td>покупка жилой недвижимости</td>\n",
       "    </tr>\n",
       "  </tbody>\n",
       "</table>\n",
       "</div>"
      ],
      "text/plain": [
       "    children  days_employed  dob_years            education  education_id  \\\n",
       "0          1   -8437.673028         42               высшее             0   \n",
       "1          1   -4024.803754         36              среднее             1   \n",
       "2          0   -5623.422610         33              Среднее             1   \n",
       "3          3   -4124.747207         32              среднее             1   \n",
       "4          0  340266.072047         53              среднее             1   \n",
       "5          0    -926.185831         27               высшее             0   \n",
       "6          0   -2879.202052         43               высшее             0   \n",
       "7          0    -152.779569         50              СРЕДНЕЕ             1   \n",
       "8          2   -6929.865299         35               ВЫСШЕЕ             0   \n",
       "9          0   -2188.756445         41              среднее             1   \n",
       "10         2   -4171.483647         36               высшее             0   \n",
       "11         0    -792.701887         40              среднее             1   \n",
       "12         0            NaN         65              среднее             1   \n",
       "13         0   -1846.641941         54  неоконченное высшее             2   \n",
       "14         0   -1844.956182         56               высшее             0   \n",
       "\n",
       "       family_status  family_status_id gender income_type  debt  \\\n",
       "0    женат / замужем                 0      F   сотрудник     0   \n",
       "1    женат / замужем                 0      F   сотрудник     0   \n",
       "2    женат / замужем                 0      M   сотрудник     0   \n",
       "3    женат / замужем                 0      M   сотрудник     0   \n",
       "4   гражданский брак                 1      F   пенсионер     0   \n",
       "5   гражданский брак                 1      M   компаньон     0   \n",
       "6    женат / замужем                 0      F   компаньон     0   \n",
       "7    женат / замужем                 0      M   сотрудник     0   \n",
       "8   гражданский брак                 1      F   сотрудник     0   \n",
       "9    женат / замужем                 0      M   сотрудник     0   \n",
       "10   женат / замужем                 0      M   компаньон     0   \n",
       "11   женат / замужем                 0      F   сотрудник     0   \n",
       "12  гражданский брак                 1      M   пенсионер     0   \n",
       "13   женат / замужем                 0      F   сотрудник     0   \n",
       "14  гражданский брак                 1      F   компаньон     1   \n",
       "\n",
       "     total_income                            purpose  \n",
       "0   253875.639453                      покупка жилья  \n",
       "1   112080.014102            приобретение автомобиля  \n",
       "2   145885.952297                      покупка жилья  \n",
       "3   267628.550329         дополнительное образование  \n",
       "4   158616.077870                    сыграть свадьбу  \n",
       "5   255763.565419                      покупка жилья  \n",
       "6   240525.971920                  операции с жильем  \n",
       "7   135823.934197                        образование  \n",
       "8    95856.832424              на проведение свадьбы  \n",
       "9   144425.938277            покупка жилья для семьи  \n",
       "10  113943.491460               покупка недвижимости  \n",
       "11   77069.234271  покупка коммерческой недвижимости  \n",
       "12            NaN                    сыграть свадьбу  \n",
       "13  130458.228857            приобретение автомобиля  \n",
       "14  165127.911772         покупка жилой недвижимости  "
      ]
     },
     "execution_count": 3,
     "metadata": {},
     "output_type": "execute_result"
    }
   ],
   "source": [
    "# вызываем 15 первых строк таблицы\n",
    "table.head(15)"
   ]
  },
  {
   "cell_type": "markdown",
   "metadata": {},
   "source": [
    "**Вывод**"
   ]
  },
  {
   "cell_type": "markdown",
   "metadata": {},
   "source": [
    "Взглянув на таблицу, мы видим пропуски NaN в некоторых столбцах - `days_employed` и `total_income`.   Возможно, это утеря данных. В любом случае, оставлять в таком виде таблицу нельзя. Заменять на нули эти значения тоже не имеет смысла - банк бы не дал кредит заемщику без трудового стажа и с нулевым доходом. Данные пропущенные значения лучше всего заполнить средним значением соответствующих заемщиков. Для этого следует написать функцию, которая определяет тип занятости в зависимости от возраста и рассчитать медиану трудового стажа в соответствии этой занятости. Этим значением и заполнить пропуски в столбце `days_employed`. Подобным образом поступим и со столбцом `total_income`, посчитав медиану общего заработка исходя из их занятости."
   ]
  },
  {
   "cell_type": "markdown",
   "metadata": {},
   "source": [
    "## Шаг 2. Предобработка данных"
   ]
  },
  {
   "cell_type": "markdown",
   "metadata": {},
   "source": [
    "### Обработка пропусков"
   ]
  },
  {
   "cell_type": "code",
   "execution_count": 4,
   "metadata": {},
   "outputs": [
    {
     "name": "stdout",
     "output_type": "stream",
     "text": [
      "<class 'pandas.core.frame.DataFrame'>\n",
      "RangeIndex: 21525 entries, 0 to 21524\n",
      "Data columns (total 12 columns):\n",
      " #   Column            Non-Null Count  Dtype  \n",
      "---  ------            --------------  -----  \n",
      " 0   children          21525 non-null  int64  \n",
      " 1   days_employed     19351 non-null  float64\n",
      " 2   dob_years         21525 non-null  int64  \n",
      " 3   education         21525 non-null  object \n",
      " 4   education_id      21525 non-null  int64  \n",
      " 5   family_status     21525 non-null  object \n",
      " 6   family_status_id  21525 non-null  int64  \n",
      " 7   gender            21525 non-null  object \n",
      " 8   income_type       21525 non-null  object \n",
      " 9   debt              21525 non-null  int64  \n",
      " 10  total_income      19351 non-null  float64\n",
      " 11  purpose           21525 non-null  object \n",
      "dtypes: float64(2), int64(5), object(5)\n",
      "memory usage: 2.0+ MB\n"
     ]
    }
   ],
   "source": [
    "# запрашиваем информацию о таблице\n",
    "table.info()"
   ]
  },
  {
   "cell_type": "code",
   "execution_count": 5,
   "metadata": {},
   "outputs": [
    {
     "data": {
      "text/plain": [
       "children               0\n",
       "days_employed       2174\n",
       "dob_years              0\n",
       "education              0\n",
       "education_id           0\n",
       "family_status          0\n",
       "family_status_id       0\n",
       "gender                 0\n",
       "income_type            0\n",
       "debt                   0\n",
       "total_income        2174\n",
       "purpose                0\n",
       "dtype: int64"
      ]
     },
     "execution_count": 5,
     "metadata": {},
     "output_type": "execute_result"
    }
   ],
   "source": [
    "# выяснем суммарное количество пропущенных значений\n",
    "table.isnull().sum()"
   ]
  },
  {
   "cell_type": "markdown",
   "metadata": {},
   "source": [
    "Мы видим пропущенные значения в столбце `days_employed` и `total_income`. Количество пропущенных значений в столбцах равно друг другу и равно 2174. Возможно, эти данные были записаны некорректно. \n"
   ]
  },
  {
   "cell_type": "markdown",
   "metadata": {},
   "source": [
    "Напишем функцию `dob_years_rules` которая фильтрует наших заемщиков,исходя от их возраста, на 3 категории - `учаться`, `работают` и `на пенсии`. Затем добавим результаты нашей функции в отдельный столбец под названием `dob_years_rules`.\n"
   ]
  },
  {
   "cell_type": "markdown",
   "metadata": {},
   "source": [
    "После этого рассчитаем медиану для каждой категории исходя из рабочих дней,а,затем, из заработанной суммы. Полученными значениями заполняем пропущенные значения NaN в столбцах `days_employed` и `total_income` соответственно.\n"
   ]
  },
  {
   "cell_type": "code",
   "execution_count": 6,
   "metadata": {},
   "outputs": [],
   "source": [
    "# пишем функцию dob_years_rules()\n",
    "def dob_years_rules(age):\n",
    "    if age < 22:\n",
    "        return 'учаться'\n",
    "    if (22 < age) and (age < 65):\n",
    "        return 'работают'\n",
    "    else:\n",
    "        return 'на пенсии'\n",
    "table['dob_years_rules'] = table ['dob_years'].apply(dob_years_rules)"
   ]
  },
  {
   "cell_type": "code",
   "execution_count": 7,
   "metadata": {},
   "outputs": [
    {
     "name": "stdout",
     "output_type": "stream",
     "text": [
      "Медиана общего трудового стажа у учащихся: -757.6126236444821\n"
     ]
    }
   ],
   "source": [
    "# считаем медиану трудового стажа у учащихся исходя из столбца 'dob_years_rules' и 'days_employed'\n",
    "student_median = table.loc[table.loc[:,'dob_years_rules'] == 'учаться']['days_employed'].median()\n",
    "print('Медиана общего трудового стажа у учащихся:',student_median)"
   ]
  },
  {
   "cell_type": "code",
   "execution_count": 8,
   "metadata": {},
   "outputs": [
    {
     "name": "stdout",
     "output_type": "stream",
     "text": [
      "Медиана общего трудового стажа у работающих: -1305.553988687328\n"
     ]
    }
   ],
   "source": [
    "#считаем медиану трудового стажа у работающих исходя из столбца 'dob_years_rules' и 'days_employed'\n",
    "adult_median = table.loc[table.loc[:,'dob_years_rules'] == 'работают']['days_employed'].median()\n",
    "print('Медиана общего трудового стажа у работающих:',adult_median)"
   ]
  },
  {
   "cell_type": "code",
   "execution_count": 9,
   "metadata": {},
   "outputs": [
    {
     "name": "stdout",
     "output_type": "stream",
     "text": [
      "Медиана общего трудового стажа у пенсионеров: 351421.50795311574\n"
     ]
    }
   ],
   "source": [
    "# считаем медиану трудового стажа у пенсионеров исходя из столбца 'dob_years_rules' и 'days_employed'\n",
    "senior_median = table.loc[table.loc[:,'dob_years_rules'] == 'на пенсии']['days_employed'].median()\n",
    "print('Медиана общего трудового стажа у пенсионеров:',senior_median)"
   ]
  },
  {
   "cell_type": "code",
   "execution_count": 11,
   "metadata": {},
   "outputs": [],
   "source": [
    "#заполняем пропуски в столбце 'days_employed' у заемщиков,\n",
    "#которые учаться('dob_years_rules' = учаться) значением медианы \n",
    "table.loc[(table['dob_years_rules'] == 'учаться')&\n",
    "          (table['days_employed'].isna()), 'days_employed'] = student_median"
   ]
  },
  {
   "cell_type": "code",
   "execution_count": 12,
   "metadata": {},
   "outputs": [],
   "source": [
    "#заполняем пропуски в столбце 'days_employed' у заемщиков,\n",
    "#которые работают('dob_years_rules' = работают) значением медианы \n",
    "table.loc[(table['dob_years_rules'] == 'работают')&\n",
    "          (table['days_employed'].isna()), 'days_employed'] = adult_median"
   ]
  },
  {
   "cell_type": "code",
   "execution_count": 13,
   "metadata": {},
   "outputs": [],
   "source": [
    "#заполняем пропуски в столбце 'days_employed' у заемщиков,\n",
    "#которые находятся на пенсии('dob_years_rules' = на пенсии) значением медианы\n",
    "table.loc[(table['dob_years_rules'] == 'на пенсии')&\n",
    "          (table['days_employed'].isna()), 'days_employed'] = senior_median"
   ]
  },
  {
   "cell_type": "code",
   "execution_count": 14,
   "metadata": {},
   "outputs": [
    {
     "name": "stdout",
     "output_type": "stream",
     "text": [
      "Медиана общего заработка у учащихся: 128265.72087100228\n"
     ]
    }
   ],
   "source": [
    "# считаем медиану заработка у учащихся исходя из столбца 'dob_years_rules' и 'total_income'\n",
    "student_median_2 = table.loc[table.loc[:,'dob_years_rules'] == 'учаться']['total_income'].median()\n",
    "print('Медиана общего заработка у учащихся:',student_median_2)"
   ]
  },
  {
   "cell_type": "code",
   "execution_count": 15,
   "metadata": {},
   "outputs": [
    {
     "name": "stdout",
     "output_type": "stream",
     "text": [
      "Медиана общего заработка у работающих: 146651.1734759125\n"
     ]
    }
   ],
   "source": [
    "# считаем медиану заработка у работающих исходя из столбца 'dob_years_rules' и 'total_income'\n",
    "adult_median_2 = table.loc[table.loc[:,'dob_years_rules'] == 'работают']['total_income'].median()\n",
    "print('Медиана общего заработка у работающих:',adult_median_2)"
   ]
  },
  {
   "cell_type": "code",
   "execution_count": 16,
   "metadata": {},
   "outputs": [
    {
     "name": "stdout",
     "output_type": "stream",
     "text": [
      "Медиана общего заработка у пенсионеров: 116612.71539590893\n"
     ]
    }
   ],
   "source": [
    "# считаем медиану заработка у пенсионеров исходя из столбца 'dob_years_rules' и 'total_income'\n",
    "seniors_median_2 = table.loc[table.loc[:,'dob_years_rules'] == 'на пенсии']['total_income'].median()\n",
    "print('Медиана общего заработка у пенсионеров:',seniors_median_2)"
   ]
  },
  {
   "cell_type": "code",
   "execution_count": 17,
   "metadata": {},
   "outputs": [],
   "source": [
    "# заполняем пропуски в столбце 'total_income' у заемщиков,\n",
    "# которые учаться('dob_years_rules' = учаться) значением медианы \n",
    "table.loc[(table['dob_years_rules'] == 'учаться')&\n",
    "          (table['total_income'].isna()), 'total_income'] = student_median_2"
   ]
  },
  {
   "cell_type": "code",
   "execution_count": 18,
   "metadata": {},
   "outputs": [],
   "source": [
    "#заполняем пропуски в столбце 'total_income' у заемщиков,\n",
    "#которые работают('dob_years_rules' = работают) значением медианы \n",
    "table.loc[(table['dob_years_rules'] == 'работают')&\n",
    "          (table['total_income'].isna()), 'total_income'] = adult_median_2"
   ]
  },
  {
   "cell_type": "code",
   "execution_count": 19,
   "metadata": {},
   "outputs": [],
   "source": [
    "#заполняем пропуски в столбце 'total_income' у заемщиков,\n",
    "#которые работают('dob_years_rules' = работают) значением медианы \n",
    "table.loc[(table['dob_years_rules'] == 'на пенсии')&\n",
    "          (table['total_income'].isna()), 'total_income'] = seniors_median_2"
   ]
  },
  {
   "cell_type": "markdown",
   "metadata": {},
   "source": [
    "Еще раз проверим общую информацию о таблице. Исходя из данных, в таблице теперь нет пропущенных значений."
   ]
  },
  {
   "cell_type": "markdown",
   "metadata": {},
   "source": [
    "**Вывод**"
   ]
  },
  {
   "cell_type": "markdown",
   "metadata": {},
   "source": [
    "Пропуски, которые были в двух столбцах `days_employed` и `total_income` было заполнены соответствующими данными путем нахождения среднего значения у разных категорий заемщиков исходя из их возраста."
   ]
  },
  {
   "cell_type": "markdown",
   "metadata": {},
   "source": [
    "### Замена типа данных"
   ]
  },
  {
   "cell_type": "markdown",
   "metadata": {},
   "source": [
    "В таблице представлено два столбца с вещественными типами данных - `days_employed` и `total_income`. Поскольку дни не могут быть вещественными числами, переведем их в целые, используя метод astype('int').\n"
   ]
  },
  {
   "cell_type": "code",
   "execution_count": 20,
   "metadata": {},
   "outputs": [],
   "source": [
    "# заменяем вещественный тип данных(float) в столбце 'days_employed' на целочисленный(int)\n",
    "# путем использовании функции astype()\n",
    "table['days_employed'] = table['days_employed'].astype('int')"
   ]
  },
  {
   "cell_type": "markdown",
   "metadata": {},
   "source": [
    "Проверим общую информацию о таблице."
   ]
  },
  {
   "cell_type": "code",
   "execution_count": 21,
   "metadata": {},
   "outputs": [
    {
     "name": "stdout",
     "output_type": "stream",
     "text": [
      "<class 'pandas.core.frame.DataFrame'>\n",
      "RangeIndex: 21525 entries, 0 to 21524\n",
      "Data columns (total 13 columns):\n",
      " #   Column            Non-Null Count  Dtype  \n",
      "---  ------            --------------  -----  \n",
      " 0   children          21525 non-null  int64  \n",
      " 1   days_employed     21525 non-null  int64  \n",
      " 2   dob_years         21525 non-null  int64  \n",
      " 3   education         21525 non-null  object \n",
      " 4   education_id      21525 non-null  int64  \n",
      " 5   family_status     21525 non-null  object \n",
      " 6   family_status_id  21525 non-null  int64  \n",
      " 7   gender            21525 non-null  object \n",
      " 8   income_type       21525 non-null  object \n",
      " 9   debt              21525 non-null  int64  \n",
      " 10  total_income      21525 non-null  float64\n",
      " 11  purpose           21525 non-null  object \n",
      " 12  dob_years_rules   21525 non-null  object \n",
      "dtypes: float64(1), int64(6), object(6)\n",
      "memory usage: 2.1+ MB\n"
     ]
    }
   ],
   "source": [
    "#запрашиваем информацию о таблице\n",
    "table.info()"
   ]
  },
  {
   "cell_type": "markdown",
   "metadata": {},
   "source": [
    "Данные в столбце `days_employed` заменены на целочисленные."
   ]
  },
  {
   "cell_type": "markdown",
   "metadata": {},
   "source": [
    "**Вывод**"
   ]
  },
  {
   "cell_type": "markdown",
   "metadata": {},
   "source": [
    "Перевод вещественных данных в целочисленные был сделан при помощи метода astype(), который может изменить наше значение в любой тип данных (в отличии от функции to_numeric(), который превращает значение только в вещественное значение(float), что нам не подходит)"
   ]
  },
  {
   "cell_type": "markdown",
   "metadata": {},
   "source": [
    "### Обработка дубликатов"
   ]
  },
  {
   "cell_type": "markdown",
   "metadata": {},
   "source": [
    "При обработке дубликатов наперво посмотрим на количество абсолютных повторения при помощи метода duplicated().sum(). Затем, удалим идентичные строки, приминив метод drop_duplicates()"
   ]
  },
  {
   "cell_type": "code",
   "execution_count": 22,
   "metadata": {},
   "outputs": [
    {
     "data": {
      "text/plain": [
       "54"
      ]
     },
     "execution_count": 22,
     "metadata": {},
     "output_type": "execute_result"
    }
   ],
   "source": [
    "# проверяем данные таблицы на наличие прямых дубликатов\n",
    "table.duplicated().sum()"
   ]
  },
  {
   "cell_type": "code",
   "execution_count": 23,
   "metadata": {},
   "outputs": [],
   "source": [
    "# избавляемся от данных строк-дубликатив при помощи метода drop_duplicates()\n",
    "# при помощи метода reset_index(drop=True) изменяем индексы на новые и удаляем старые\n",
    "table = table.drop_duplicates().reset_index(drop=True)"
   ]
  },
  {
   "cell_type": "code",
   "execution_count": 24,
   "metadata": {},
   "outputs": [
    {
     "data": {
      "text/plain": [
       "0"
      ]
     },
     "execution_count": 24,
     "metadata": {},
     "output_type": "execute_result"
    }
   ],
   "source": [
    "# проверяем еще раз количество повторов\n",
    "table.duplicated().sum()"
   ]
  },
  {
   "cell_type": "markdown",
   "metadata": {},
   "source": [
    "Проверив количество идентичных повторов, проверим, есть и в столбцах уникальные значения при помощи метода unique()"
   ]
  },
  {
   "cell_type": "code",
   "execution_count": 25,
   "metadata": {},
   "outputs": [
    {
     "data": {
      "text/plain": [
       "array(['высшее', 'среднее', 'Среднее', 'СРЕДНЕЕ', 'ВЫСШЕЕ',\n",
       "       'неоконченное высшее', 'начальное', 'Высшее',\n",
       "       'НЕОКОНЧЕННОЕ ВЫСШЕЕ', 'Неоконченное высшее', 'НАЧАЛЬНОЕ',\n",
       "       'Начальное', 'Ученая степень', 'УЧЕНАЯ СТЕПЕНЬ', 'ученая степень'],\n",
       "      dtype=object)"
      ]
     },
     "execution_count": 25,
     "metadata": {},
     "output_type": "execute_result"
    }
   ],
   "source": [
    "# проверим, есть ли уникальные значение в столбце 'education' с помощью метода unique()\n",
    "table['education'].unique()"
   ]
  },
  {
   "cell_type": "markdown",
   "metadata": {},
   "source": [
    "Как видим, в столбце присутствуют значения, написанные в верхнем регистре. Приведем все значения к нижнему регистру путем использования метода str.lower()."
   ]
  },
  {
   "cell_type": "code",
   "execution_count": 26,
   "metadata": {},
   "outputs": [],
   "source": [
    "# выполним перевод в нижний регистр всех значений в столбце 'education' и\n",
    "# сохраняем новое значение в столбце.\n",
    "table['education'] = table['education'].str.lower()"
   ]
  },
  {
   "cell_type": "code",
   "execution_count": 27,
   "metadata": {},
   "outputs": [
    {
     "data": {
      "text/plain": [
       "array(['высшее', 'среднее', 'неоконченное высшее', 'начальное',\n",
       "       'ученая степень'], dtype=object)"
      ]
     },
     "execution_count": 27,
     "metadata": {},
     "output_type": "execute_result"
    }
   ],
   "source": [
    "# проверяем, остались ли еще необычные значения в столбце 'education' при помощи unique()\n",
    "table['education'].unique()"
   ]
  },
  {
   "cell_type": "markdown",
   "metadata": {},
   "source": [
    "В столбце с образованием нет больше необычных значений. Проверим тем же способом остальные столбцы таблицы на наличие уникальных значений."
   ]
  },
  {
   "cell_type": "code",
   "execution_count": 28,
   "metadata": {},
   "outputs": [
    {
     "data": {
      "text/plain": [
       "array(['женат / замужем', 'гражданский брак', 'вдовец / вдова',\n",
       "       'в разводе', 'Не женат / не замужем'], dtype=object)"
      ]
     },
     "execution_count": 28,
     "metadata": {},
     "output_type": "execute_result"
    }
   ],
   "source": [
    "# проверим, есть ли уникальные значение в столбце 'family_status' при помощи unique()\n",
    "table['family_status'].unique()"
   ]
  },
  {
   "cell_type": "code",
   "execution_count": 29,
   "metadata": {},
   "outputs": [],
   "source": [
    "# выполним перевод в нижний регистр всех значений в столбце 'family_status' и сохраняем новое значение в столбце.\n",
    "table['family_status'] = table['family_status'].str.lower()"
   ]
  },
  {
   "cell_type": "code",
   "execution_count": 30,
   "metadata": {},
   "outputs": [
    {
     "data": {
      "text/plain": [
       "array(['женат / замужем', 'гражданский брак', 'вдовец / вдова',\n",
       "       'в разводе', 'не женат / не замужем'], dtype=object)"
      ]
     },
     "execution_count": 30,
     "metadata": {},
     "output_type": "execute_result"
    }
   ],
   "source": [
    "# проверяем, остались ли еще необычные значения в столбце 'family_status' при помощи unique()\n",
    "table['family_status'].unique()"
   ]
  },
  {
   "cell_type": "code",
   "execution_count": 31,
   "metadata": {},
   "outputs": [
    {
     "data": {
      "text/plain": [
       "array(['сотрудник', 'пенсионер', 'компаньон', 'госслужащий',\n",
       "       'безработный', 'предприниматель', 'студент', 'в декрете'],\n",
       "      dtype=object)"
      ]
     },
     "execution_count": 31,
     "metadata": {},
     "output_type": "execute_result"
    }
   ],
   "source": [
    "# проверим, есть ли уникальные значение в столбце 'income_type' при помощи unique()\n",
    "# похоже, что их нет\n",
    "table['income_type'].unique()"
   ]
  },
  {
   "cell_type": "code",
   "execution_count": 32,
   "metadata": {},
   "outputs": [
    {
     "data": {
      "text/plain": [
       "array(['покупка жилья', 'приобретение автомобиля',\n",
       "       'дополнительное образование', 'сыграть свадьбу',\n",
       "       'операции с жильем', 'образование', 'на проведение свадьбы',\n",
       "       'покупка жилья для семьи', 'покупка недвижимости',\n",
       "       'покупка коммерческой недвижимости', 'покупка жилой недвижимости',\n",
       "       'строительство собственной недвижимости', 'недвижимость',\n",
       "       'строительство недвижимости', 'на покупку подержанного автомобиля',\n",
       "       'на покупку своего автомобиля',\n",
       "       'операции с коммерческой недвижимостью',\n",
       "       'строительство жилой недвижимости', 'жилье',\n",
       "       'операции со своей недвижимостью', 'автомобили',\n",
       "       'заняться образованием', 'сделка с подержанным автомобилем',\n",
       "       'получение образования', 'автомобиль', 'свадьба',\n",
       "       'получение дополнительного образования', 'покупка своего жилья',\n",
       "       'операции с недвижимостью', 'получение высшего образования',\n",
       "       'свой автомобиль', 'сделка с автомобилем',\n",
       "       'профильное образование', 'высшее образование',\n",
       "       'покупка жилья для сдачи', 'на покупку автомобиля', 'ремонт жилью',\n",
       "       'заняться высшим образованием'], dtype=object)"
      ]
     },
     "execution_count": 32,
     "metadata": {},
     "output_type": "execute_result"
    }
   ],
   "source": [
    "# проверим, есть ли уникальные значение в столбце 'purpose' при помощи unique()\n",
    "# похоже, что их нет\n",
    "table['purpose'].unique()"
   ]
  },
  {
   "cell_type": "markdown",
   "metadata": {},
   "source": [
    "**Вывод**"
   ]
  },
  {
   "cell_type": "markdown",
   "metadata": {},
   "source": [
    "Было выполнено удаление дубликатов как прямых(методом drop_duplicates()), так и уникальных значений (методом unique()) путем приведением слов к нижнему регистру при помощи метода str.lower()."
   ]
  },
  {
   "cell_type": "markdown",
   "metadata": {},
   "source": [
    "### Лемматизация"
   ]
  },
  {
   "cell_type": "markdown",
   "metadata": {},
   "source": [
    "Более наглядно изучить цели получения кредита нам поможет лемматизация - приведение слова к его словарной форме. При помощи метода value_counts посмотрим на значения столбца `purpose` который возвращает уникальные значения и количество их упоминаний. Далее вызовем лемматизацию к столбце, используя apply(), который берёт значения столбца и применяет к нему функцию из своего аргумента(в данном случае аргумент - m.lemmatize). Выделив основные леммы, напишем функцию. Затем создадим столбец под названием `goals`, в котором будут записываться результаты нашей функции."
   ]
  },
  {
   "cell_type": "code",
   "execution_count": 33,
   "metadata": {},
   "outputs": [],
   "source": [
    "# вызываем лемматизацию \n",
    "m = Mystem() "
   ]
  },
  {
   "cell_type": "code",
   "execution_count": 34,
   "metadata": {},
   "outputs": [
    {
     "data": {
      "text/plain": [
       "свадьба                                   793\n",
       "на проведение свадьбы                     773\n",
       "сыграть свадьбу                           769\n",
       "операции с недвижимостью                  675\n",
       "покупка коммерческой недвижимости         662\n",
       "покупка жилья для сдачи                   652\n",
       "операции с жильем                         652\n",
       "операции с коммерческой недвижимостью     650\n",
       "жилье                                     646\n",
       "покупка жилья                             646\n",
       "покупка жилья для семьи                   638\n",
       "строительство собственной недвижимости    635\n",
       "недвижимость                              633\n",
       "операции со своей недвижимостью           627\n",
       "строительство жилой недвижимости          625\n",
       "покупка недвижимости                      621\n",
       "покупка своего жилья                      620\n",
       "строительство недвижимости                619\n",
       "ремонт жилью                              607\n",
       "покупка жилой недвижимости                606\n",
       "на покупку своего автомобиля              505\n",
       "заняться высшим образованием              496\n",
       "автомобиль                                494\n",
       "сделка с подержанным автомобилем          486\n",
       "свой автомобиль                           479\n",
       "на покупку подержанного автомобиля        478\n",
       "автомобили                                478\n",
       "на покупку автомобиля                     472\n",
       "приобретение автомобиля                   461\n",
       "дополнительное образование                460\n",
       "сделка с автомобилем                      455\n",
       "высшее образование                        452\n",
       "получение дополнительного образования     447\n",
       "образование                               447\n",
       "получение образования                     442\n",
       "профильное образование                    436\n",
       "получение высшего образования             426\n",
       "заняться образованием                     408\n",
       "Name: purpose, dtype: int64"
      ]
     },
     "execution_count": 34,
     "metadata": {},
     "output_type": "execute_result"
    }
   ],
   "source": [
    "# вызываем метод value_counts() для подсчета уникальных значений\n",
    "table['purpose'].value_counts()"
   ]
  },
  {
   "cell_type": "code",
   "execution_count": 35,
   "metadata": {},
   "outputs": [],
   "source": [
    "# вызываем метод apply(), чтоб применить к столбцу лемитизацию\n",
    "table['purpose'] = table['purpose'].apply(m.lemmatize)"
   ]
  },
  {
   "cell_type": "code",
   "execution_count": 57,
   "metadata": {},
   "outputs": [
    {
     "data": {
      "text/plain": [
       "array(['покупка жилья', 'приобретение автомобиля',\n",
       "       'дополнительное образование', 'сыграть свадьбу',\n",
       "       'операции с жильем', 'образование', 'на проведение свадьбы',\n",
       "       'покупка жилья для семьи', 'покупка недвижимости',\n",
       "       'покупка коммерческой недвижимости', 'покупка жилой недвижимости',\n",
       "       'строительство собственной недвижимости', 'недвижимость',\n",
       "       'строительство недвижимости', 'на покупку подержанного автомобиля',\n",
       "       'на покупку своего автомобиля',\n",
       "       'операции с коммерческой недвижимостью',\n",
       "       'строительство жилой недвижимости', 'жилье',\n",
       "       'операции со своей недвижимостью', 'автомобили',\n",
       "       'заняться образованием', 'сделка с подержанным автомобилем',\n",
       "       'получение образования', 'автомобиль', 'свадьба',\n",
       "       'получение дополнительного образования', 'покупка своего жилья',\n",
       "       'операции с недвижимостью', 'получение высшего образования',\n",
       "       'свой автомобиль', 'сделка с автомобилем',\n",
       "       'профильное образование', 'высшее образование',\n",
       "       'покупка жилья для сдачи', 'на покупку автомобиля', 'ремонт жилью',\n",
       "       'заняться высшим образованием'], dtype=object)"
      ]
     },
     "execution_count": 57,
     "metadata": {},
     "output_type": "execute_result"
    }
   ],
   "source": [
    "# выводим уникальные значения\n",
    "table['purpose'].unique()"
   ]
  },
  {
   "cell_type": "markdown",
   "metadata": {},
   "source": [
    "Пишем функцию, которая разделяет цели, на которые берется кредит, на 4 категории - 'Недвижимость','Автомобиль','Образование', 'Свадьба'(исходя из результатов, которые мы увидели после применения метода value_counts()). Затем добавляем эти значение в новый столбец `goals`."
   ]
  },
  {
   "cell_type": "code",
   "execution_count": 37,
   "metadata": {},
   "outputs": [],
   "source": [
    "# пишем функцию purpose_reason()\n",
    "def purpose_reason(purpose):\n",
    "    if ('жилье' in purpose) or ('недвижимость' in purpose):\n",
    "        return 'Недвижимость'\n",
    "    if 'автомобиль' in purpose:\n",
    "        return 'Автомобиль'\n",
    "    if 'образование' in purpose:\n",
    "        return 'Образование'\n",
    "    if 'свадьба' in purpose:\n",
    "        return 'Свадьба'\n",
    "table['goals'] = table['purpose'].apply(purpose_reason)   "
   ]
  },
  {
   "cell_type": "code",
   "execution_count": 38,
   "metadata": {},
   "outputs": [
    {
     "name": "stdout",
     "output_type": "stream",
     "text": [
      "Недвижимость    3883\n",
      "Образование     2699\n",
      "Автомобиль       973\n",
      "Свадьба          793\n",
      "Name: goals, dtype: int64\n"
     ]
    }
   ],
   "source": [
    "# подсчитываем количество людей в зависимости от цели займа кредита\n",
    "print(table['goals'].value_counts())"
   ]
  },
  {
   "cell_type": "markdown",
   "metadata": {},
   "source": [
    "**Вывод**"
   ]
  },
  {
   "cell_type": "markdown",
   "metadata": {},
   "source": [
    "Применив лематизацию выяснилось, что большая часть заемщиков вкладывается в недвижимость."
   ]
  },
  {
   "cell_type": "markdown",
   "metadata": {},
   "source": [
    "### Категоризация данных"
   ]
  },
  {
   "cell_type": "markdown",
   "metadata": {},
   "source": [
    "В нашей таблице есть два критерия - образования и семейный статус, которые можно категоризировать. Объединим эти данные в группу по этим критериям. Для этого создадим новую таблицу `education_dict`. Из таблицы table перенесем столбцы `education` и `education_id`.Затем удалим из новой таблицы дубликаты и формируем ее в порядке возрастания столбца `education_id` при помощи метода sort_values(). После создадим таблицу `family_dict` по такому же принципу."
   ]
  },
  {
   "cell_type": "code",
   "execution_count": 39,
   "metadata": {},
   "outputs": [
    {
     "data": {
      "text/html": [
       "<div>\n",
       "<style scoped>\n",
       "    .dataframe tbody tr th:only-of-type {\n",
       "        vertical-align: middle;\n",
       "    }\n",
       "\n",
       "    .dataframe tbody tr th {\n",
       "        vertical-align: top;\n",
       "    }\n",
       "\n",
       "    .dataframe thead th {\n",
       "        text-align: right;\n",
       "    }\n",
       "</style>\n",
       "<table border=\"1\" class=\"dataframe\">\n",
       "  <thead>\n",
       "    <tr style=\"text-align: right;\">\n",
       "      <th></th>\n",
       "      <th>education</th>\n",
       "      <th>education_id</th>\n",
       "    </tr>\n",
       "  </thead>\n",
       "  <tbody>\n",
       "    <tr>\n",
       "      <th>0</th>\n",
       "      <td>высшее</td>\n",
       "      <td>0</td>\n",
       "    </tr>\n",
       "    <tr>\n",
       "      <th>1</th>\n",
       "      <td>среднее</td>\n",
       "      <td>1</td>\n",
       "    </tr>\n",
       "    <tr>\n",
       "      <th>2</th>\n",
       "      <td>неоконченное высшее</td>\n",
       "      <td>2</td>\n",
       "    </tr>\n",
       "    <tr>\n",
       "      <th>3</th>\n",
       "      <td>начальное</td>\n",
       "      <td>3</td>\n",
       "    </tr>\n",
       "    <tr>\n",
       "      <th>4</th>\n",
       "      <td>ученая степень</td>\n",
       "      <td>4</td>\n",
       "    </tr>\n",
       "  </tbody>\n",
       "</table>\n",
       "</div>"
      ],
      "text/plain": [
       "             education  education_id\n",
       "0               высшее             0\n",
       "1              среднее             1\n",
       "2  неоконченное высшее             2\n",
       "3            начальное             3\n",
       "4       ученая степень             4"
      ]
     },
     "metadata": {},
     "output_type": "display_data"
    }
   ],
   "source": [
    "# создаем таблицу education_dict\n",
    "# удаляем дубликаты методом drop_duplicates(), фармируем по увеличению столбца 'education_id'\n",
    "education_dict = pd.DataFrame(data = table, columns = ['education', 'education_id'])\n",
    "display(education_dict.drop_duplicates().reset_index(drop=True).sort_values('education_id'))"
   ]
  },
  {
   "cell_type": "code",
   "execution_count": 40,
   "metadata": {},
   "outputs": [
    {
     "data": {
      "text/html": [
       "<div>\n",
       "<style scoped>\n",
       "    .dataframe tbody tr th:only-of-type {\n",
       "        vertical-align: middle;\n",
       "    }\n",
       "\n",
       "    .dataframe tbody tr th {\n",
       "        vertical-align: top;\n",
       "    }\n",
       "\n",
       "    .dataframe thead th {\n",
       "        text-align: right;\n",
       "    }\n",
       "</style>\n",
       "<table border=\"1\" class=\"dataframe\">\n",
       "  <thead>\n",
       "    <tr style=\"text-align: right;\">\n",
       "      <th></th>\n",
       "      <th>family_status</th>\n",
       "      <th>family_status_id</th>\n",
       "    </tr>\n",
       "  </thead>\n",
       "  <tbody>\n",
       "    <tr>\n",
       "      <th>0</th>\n",
       "      <td>женат / замужем</td>\n",
       "      <td>0</td>\n",
       "    </tr>\n",
       "    <tr>\n",
       "      <th>1</th>\n",
       "      <td>гражданский брак</td>\n",
       "      <td>1</td>\n",
       "    </tr>\n",
       "    <tr>\n",
       "      <th>2</th>\n",
       "      <td>вдовец / вдова</td>\n",
       "      <td>2</td>\n",
       "    </tr>\n",
       "    <tr>\n",
       "      <th>3</th>\n",
       "      <td>в разводе</td>\n",
       "      <td>3</td>\n",
       "    </tr>\n",
       "    <tr>\n",
       "      <th>4</th>\n",
       "      <td>не женат / не замужем</td>\n",
       "      <td>4</td>\n",
       "    </tr>\n",
       "  </tbody>\n",
       "</table>\n",
       "</div>"
      ],
      "text/plain": [
       "           family_status  family_status_id\n",
       "0        женат / замужем                 0\n",
       "1       гражданский брак                 1\n",
       "2         вдовец / вдова                 2\n",
       "3              в разводе                 3\n",
       "4  не женат / не замужем                 4"
      ]
     },
     "metadata": {},
     "output_type": "display_data"
    }
   ],
   "source": [
    "# создаем таблицу family_dict\n",
    "# удаляем дубликаты методом drop_duplicates(), формируем по увеличению столбца 'family_status_id'\n",
    "family_dict = pd.DataFrame(data = table, columns = ['family_status', 'family_status_id'])\n",
    "display(family_dict.drop_duplicates().reset_index(drop=True).sort_values('family_status_id'))"
   ]
  },
  {
   "cell_type": "markdown",
   "metadata": {},
   "source": [
    "**Вывод**"
   ]
  },
  {
   "cell_type": "markdown",
   "metadata": {},
   "source": [
    "Мы выделили два словаря для категоризации, касающиеся образования и семейного статуса."
   ]
  },
  {
   "cell_type": "markdown",
   "metadata": {},
   "source": [
    "## Шаг 3. Ответьте на вопросы"
   ]
  },
  {
   "cell_type": "markdown",
   "metadata": {},
   "source": [
    "- Есть ли зависимость между наличием детей и возвратом кредита в срок?"
   ]
  },
  {
   "cell_type": "markdown",
   "metadata": {},
   "source": [
    "Для того, чтоб узнать завиимость между наличием детей и возвратом кредита в срок мы найдем процент должников в каждой группе(у которых нет детей, один. два ребенка и др.). Эти данные наиболее наглядно и удобно можно отразить в сводной таблице, используя метод pivot_table(). Новую таблицу назовем `children_pivot`."
   ]
  },
  {
   "cell_type": "code",
   "execution_count": 41,
   "metadata": {},
   "outputs": [],
   "source": [
    "# создаем сводную таблицу методом pivot_table()\n",
    "children_pivot = table.pivot_table(index = ['children'], values ='debt', aggfunc=('count', 'sum'))"
   ]
  },
  {
   "cell_type": "code",
   "execution_count": 42,
   "metadata": {},
   "outputs": [],
   "source": [
    "# переименовываем название столбцов для большей наглядности при помощи метода set_axis()\n",
    "children_pivot.set_axis(['Колличество заемщиков','Колличество должников'],axis='columns',inplace = True)"
   ]
  },
  {
   "cell_type": "code",
   "execution_count": 43,
   "metadata": {},
   "outputs": [],
   "source": [
    "# находим процентое соотношение количества должников к общему колличеству заемщиков\n",
    "# сохраняем эти значения в столбце 'Процентное соотношение'\n",
    "children_pivot['Процентное соотношение'] = children_pivot['Колличество должников'] / children_pivot['Колличество заемщиков'] * 100"
   ]
  },
  {
   "cell_type": "code",
   "execution_count": 44,
   "metadata": {},
   "outputs": [
    {
     "data": {
      "text/html": [
       "<div>\n",
       "<style scoped>\n",
       "    .dataframe tbody tr th:only-of-type {\n",
       "        vertical-align: middle;\n",
       "    }\n",
       "\n",
       "    .dataframe tbody tr th {\n",
       "        vertical-align: top;\n",
       "    }\n",
       "\n",
       "    .dataframe thead th {\n",
       "        text-align: right;\n",
       "    }\n",
       "</style>\n",
       "<table border=\"1\" class=\"dataframe\">\n",
       "  <thead>\n",
       "    <tr style=\"text-align: right;\">\n",
       "      <th></th>\n",
       "      <th>Колличество заемщиков</th>\n",
       "      <th>Колличество должников</th>\n",
       "      <th>Процентное соотношение</th>\n",
       "    </tr>\n",
       "    <tr>\n",
       "      <th>children</th>\n",
       "      <th></th>\n",
       "      <th></th>\n",
       "      <th></th>\n",
       "    </tr>\n",
       "  </thead>\n",
       "  <tbody>\n",
       "    <tr>\n",
       "      <th>20</th>\n",
       "      <td>76</td>\n",
       "      <td>8</td>\n",
       "      <td>10.526316</td>\n",
       "    </tr>\n",
       "    <tr>\n",
       "      <th>4</th>\n",
       "      <td>41</td>\n",
       "      <td>4</td>\n",
       "      <td>9.756098</td>\n",
       "    </tr>\n",
       "    <tr>\n",
       "      <th>2</th>\n",
       "      <td>2052</td>\n",
       "      <td>194</td>\n",
       "      <td>9.454191</td>\n",
       "    </tr>\n",
       "    <tr>\n",
       "      <th>1</th>\n",
       "      <td>4809</td>\n",
       "      <td>444</td>\n",
       "      <td>9.232689</td>\n",
       "    </tr>\n",
       "    <tr>\n",
       "      <th>3</th>\n",
       "      <td>330</td>\n",
       "      <td>27</td>\n",
       "      <td>8.181818</td>\n",
       "    </tr>\n",
       "    <tr>\n",
       "      <th>0</th>\n",
       "      <td>14107</td>\n",
       "      <td>1063</td>\n",
       "      <td>7.535266</td>\n",
       "    </tr>\n",
       "    <tr>\n",
       "      <th>-1</th>\n",
       "      <td>47</td>\n",
       "      <td>1</td>\n",
       "      <td>2.127660</td>\n",
       "    </tr>\n",
       "    <tr>\n",
       "      <th>5</th>\n",
       "      <td>9</td>\n",
       "      <td>0</td>\n",
       "      <td>0.000000</td>\n",
       "    </tr>\n",
       "  </tbody>\n",
       "</table>\n",
       "</div>"
      ],
      "text/plain": [
       "          Колличество заемщиков  Колличество должников  Процентное соотношение\n",
       "children                                                                      \n",
       " 20                          76                      8               10.526316\n",
       " 4                           41                      4                9.756098\n",
       " 2                         2052                    194                9.454191\n",
       " 1                         4809                    444                9.232689\n",
       " 3                          330                     27                8.181818\n",
       " 0                        14107                   1063                7.535266\n",
       "-1                           47                      1                2.127660\n",
       " 5                            9                      0                0.000000"
      ]
     },
     "execution_count": 44,
     "metadata": {},
     "output_type": "execute_result"
    }
   ],
   "source": [
    "# сортируем нашу сводную таблицу по убыванию по столбцу 'Процентное соотношение' при помощи метода sort_values()\n",
    "children_pivot.sort_values(by='Процентное соотношение', ascending=False)"
   ]
  },
  {
   "cell_type": "markdown",
   "metadata": {},
   "source": [
    "**Вывод**"
   ]
  },
  {
   "cell_type": "markdown",
   "metadata": {},
   "source": [
    "Как видим, колличество детей определенно влияет на возврат кредита в срок. Наибольшее колличество должников имеют 20 детей. Бездетные заемщики состаавляют лишь 7 процентов от общего числа должников."
   ]
  },
  {
   "cell_type": "markdown",
   "metadata": {},
   "source": [
    "- Есть ли зависимость между семейным положением и возвратом кредита в срок?"
   ]
  },
  {
   "cell_type": "markdown",
   "metadata": {},
   "source": [
    "Для того, чтоб узнать завиимость между семейным положением и возвратом кредита в срок мы найдем процент должников в каждой группе(не женат / не замужем, гражданский брак и др.). Эти данные наиболее наглядно и удобно можно отразить в сводной таблице, используя метод pivot_table(). Новую таблицу назовем family_pivot()."
   ]
  },
  {
   "cell_type": "code",
   "execution_count": 45,
   "metadata": {},
   "outputs": [],
   "source": [
    "# создаем сводную таблицу методом pivot_table()\n",
    "family_pivot = table.pivot_table(index = ['family_status'], values ='debt', aggfunc=('count', 'sum'))"
   ]
  },
  {
   "cell_type": "code",
   "execution_count": 46,
   "metadata": {},
   "outputs": [],
   "source": [
    "# переименовываем название столбцов для большей наглядности при помощи метода set_axis()\n",
    "family_pivot.set_axis(['Колличество заемщиков','Колличество должников'],axis='columns',inplace = True)"
   ]
  },
  {
   "cell_type": "code",
   "execution_count": 47,
   "metadata": {},
   "outputs": [],
   "source": [
    "# находим процентое соотношение количества должников к общему колличеству заемщиков\n",
    "# сохраняем эти значения в столбце 'Процентное соотношение'\n",
    "family_pivot['Процентное соотношение'] = family_pivot['Колличество должников']/ family_pivot['Колличество заемщиков'] * 100"
   ]
  },
  {
   "cell_type": "code",
   "execution_count": 48,
   "metadata": {},
   "outputs": [
    {
     "data": {
      "text/html": [
       "<div>\n",
       "<style scoped>\n",
       "    .dataframe tbody tr th:only-of-type {\n",
       "        vertical-align: middle;\n",
       "    }\n",
       "\n",
       "    .dataframe tbody tr th {\n",
       "        vertical-align: top;\n",
       "    }\n",
       "\n",
       "    .dataframe thead th {\n",
       "        text-align: right;\n",
       "    }\n",
       "</style>\n",
       "<table border=\"1\" class=\"dataframe\">\n",
       "  <thead>\n",
       "    <tr style=\"text-align: right;\">\n",
       "      <th></th>\n",
       "      <th>Колличество заемщиков</th>\n",
       "      <th>Колличество должников</th>\n",
       "      <th>Процентное соотношение</th>\n",
       "    </tr>\n",
       "    <tr>\n",
       "      <th>family_status</th>\n",
       "      <th></th>\n",
       "      <th></th>\n",
       "      <th></th>\n",
       "    </tr>\n",
       "  </thead>\n",
       "  <tbody>\n",
       "    <tr>\n",
       "      <th>не женат / не замужем</th>\n",
       "      <td>2810</td>\n",
       "      <td>274</td>\n",
       "      <td>9.750890</td>\n",
       "    </tr>\n",
       "    <tr>\n",
       "      <th>гражданский брак</th>\n",
       "      <td>4163</td>\n",
       "      <td>388</td>\n",
       "      <td>9.320202</td>\n",
       "    </tr>\n",
       "    <tr>\n",
       "      <th>женат / замужем</th>\n",
       "      <td>12344</td>\n",
       "      <td>931</td>\n",
       "      <td>7.542126</td>\n",
       "    </tr>\n",
       "    <tr>\n",
       "      <th>в разводе</th>\n",
       "      <td>1195</td>\n",
       "      <td>85</td>\n",
       "      <td>7.112971</td>\n",
       "    </tr>\n",
       "    <tr>\n",
       "      <th>вдовец / вдова</th>\n",
       "      <td>959</td>\n",
       "      <td>63</td>\n",
       "      <td>6.569343</td>\n",
       "    </tr>\n",
       "  </tbody>\n",
       "</table>\n",
       "</div>"
      ],
      "text/plain": [
       "                       Колличество заемщиков  Колличество должников  \\\n",
       "family_status                                                         \n",
       "не женат / не замужем                   2810                    274   \n",
       "гражданский брак                        4163                    388   \n",
       "женат / замужем                        12344                    931   \n",
       "в разводе                               1195                     85   \n",
       "вдовец / вдова                           959                     63   \n",
       "\n",
       "                       Процентное соотношение  \n",
       "family_status                                  \n",
       "не женат / не замужем                9.750890  \n",
       "гражданский брак                     9.320202  \n",
       "женат / замужем                      7.542126  \n",
       "в разводе                            7.112971  \n",
       "вдовец / вдова                       6.569343  "
      ]
     },
     "execution_count": 48,
     "metadata": {},
     "output_type": "execute_result"
    }
   ],
   "source": [
    "# сортируем нашу сводную таблицу по убыванию по столбцу 'Процентное соотношение' при помощи метода sort_values()\n",
    "family_pivot.sort_values(by='Процентное соотношение', ascending=False)"
   ]
  },
  {
   "cell_type": "markdown",
   "metadata": {},
   "source": [
    "**Вывод**"
   ]
  },
  {
   "cell_type": "markdown",
   "metadata": {},
   "source": [
    "Как ни странно, наибольшее количесто должников - это свободные люди, не состоящие в официальных отношениях -  почти 10 %. На втором месте с небольшим отрывом идут люди, состоящие в гражданском браке(около 10 %). Самые исправные плательщики в этой категори - вдовы и вдовцы, которые состоаляют 6.6 %."
   ]
  },
  {
   "cell_type": "markdown",
   "metadata": {},
   "source": [
    "- Есть ли зависимость между уровнем дохода и возвратом кредита в срок?"
   ]
  },
  {
   "cell_type": "markdown",
   "metadata": {},
   "source": [
    "Для того, чтоб узнать зависимость между уровнем дохода и возвратом кредита в срок мы найдем процент должников в каждой группе(учаться, работают, на пенсии). Эти данные наиболее наглядно и удобно можно отразить в сводной таблице, используя метод pivot_table(). Новую таблицу назовем dedt_pivot()."
   ]
  },
  {
   "cell_type": "code",
   "execution_count": 49,
   "metadata": {},
   "outputs": [],
   "source": [
    "# создаем сводную таблицу методом pivot_table()\n",
    "dedt_pivot = table.pivot_table(index = ['dob_years_rules'], values ='debt', aggfunc=('count', 'sum'))"
   ]
  },
  {
   "cell_type": "code",
   "execution_count": 50,
   "metadata": {},
   "outputs": [],
   "source": [
    "# переименовываем название столбцов для большей наглядности при помощи метода set_axis()\n",
    "dedt_pivot.set_axis(['Колличество заемщиков','Колличество должников'],axis='columns',inplace = True)"
   ]
  },
  {
   "cell_type": "code",
   "execution_count": 51,
   "metadata": {},
   "outputs": [],
   "source": [
    "# находим процентое соотношение количества должников к общему колличеству заемщиков\n",
    "# сохраняем эти значения в столбце 'Процентное соотношение'\n",
    "dedt_pivot['Процентное соотношение'] = dedt_pivot['Колличество должников']/ dedt_pivot['Колличество заемщиков'] * 100"
   ]
  },
  {
   "cell_type": "code",
   "execution_count": 52,
   "metadata": {},
   "outputs": [
    {
     "data": {
      "text/html": [
       "<div>\n",
       "<style scoped>\n",
       "    .dataframe tbody tr th:only-of-type {\n",
       "        vertical-align: middle;\n",
       "    }\n",
       "\n",
       "    .dataframe tbody tr th {\n",
       "        vertical-align: top;\n",
       "    }\n",
       "\n",
       "    .dataframe thead th {\n",
       "        text-align: right;\n",
       "    }\n",
       "</style>\n",
       "<table border=\"1\" class=\"dataframe\">\n",
       "  <thead>\n",
       "    <tr style=\"text-align: right;\">\n",
       "      <th></th>\n",
       "      <th>Колличество заемщиков</th>\n",
       "      <th>Колличество должников</th>\n",
       "      <th>Процентное соотношение</th>\n",
       "    </tr>\n",
       "    <tr>\n",
       "      <th>dob_years_rules</th>\n",
       "      <th></th>\n",
       "      <th></th>\n",
       "      <th></th>\n",
       "    </tr>\n",
       "  </thead>\n",
       "  <tbody>\n",
       "    <tr>\n",
       "      <th>учаться</th>\n",
       "      <td>277</td>\n",
       "      <td>27</td>\n",
       "      <td>9.747292</td>\n",
       "    </tr>\n",
       "    <tr>\n",
       "      <th>работают</th>\n",
       "      <td>20113</td>\n",
       "      <td>1640</td>\n",
       "      <td>8.153930</td>\n",
       "    </tr>\n",
       "    <tr>\n",
       "      <th>на пенсии</th>\n",
       "      <td>1081</td>\n",
       "      <td>74</td>\n",
       "      <td>6.845513</td>\n",
       "    </tr>\n",
       "  </tbody>\n",
       "</table>\n",
       "</div>"
      ],
      "text/plain": [
       "                 Колличество заемщиков  Колличество должников  \\\n",
       "dob_years_rules                                                 \n",
       "учаться                            277                     27   \n",
       "работают                         20113                   1640   \n",
       "на пенсии                         1081                     74   \n",
       "\n",
       "                 Процентное соотношение  \n",
       "dob_years_rules                          \n",
       "учаться                        9.747292  \n",
       "работают                       8.153930  \n",
       "на пенсии                      6.845513  "
      ]
     },
     "execution_count": 52,
     "metadata": {},
     "output_type": "execute_result"
    }
   ],
   "source": [
    "# сортируем нашу сводную таблицу по убыванию по столбцу 'Процентное соотношение' при помощи метода sort_values()\n",
    "dedt_pivot.sort_values(by='Процентное соотношение', ascending=False)"
   ]
  },
  {
   "cell_type": "markdown",
   "metadata": {},
   "source": [
    "**Вывод**"
   ]
  },
  {
   "cell_type": "markdown",
   "metadata": {},
   "source": [
    "Студенты, которые заняты учебой и работой, являются наибольшими должниками в банке - 10 %. Люди, которые отдают себя только работе и не грызут гранит науки, идут следом и сотавляют около 8 %. Среди лиц пожилого возраста, находящихся на заслуженном отпуске, меньше всего должников - около 7 %."
   ]
  },
  {
   "cell_type": "markdown",
   "metadata": {},
   "source": [
    "- Как разные цели кредита влияют на его возврат в срок?"
   ]
  },
  {
   "cell_type": "markdown",
   "metadata": {},
   "source": [
    "Для того, чтоб узнать зависимость между целью займа и возвратом кредита в срок мы найдем процент должников в каждой группе(покупка авто, образование, свадьба или недвижимость). Эти данные наиболее наглядно и удобно можно отразить в сводной таблице, используя метод pivot_table(). Новую таблицу назовем `goals_pivot`."
   ]
  },
  {
   "cell_type": "code",
   "execution_count": 53,
   "metadata": {},
   "outputs": [],
   "source": [
    "# создаем сводную таблицу методом pivot_table()\n",
    "goals_pivot = table.pivot_table(index = ['goals'], values ='debt', aggfunc=('count', 'sum'))"
   ]
  },
  {
   "cell_type": "code",
   "execution_count": 54,
   "metadata": {},
   "outputs": [],
   "source": [
    "# переименовываем название столбцов для большей наглядности при помощи метода set_axis()\n",
    "goals_pivot.set_axis(['Колличество заемщиков','Колличество должников'],axis='columns',inplace = True)"
   ]
  },
  {
   "cell_type": "code",
   "execution_count": 55,
   "metadata": {},
   "outputs": [],
   "source": [
    "# находим процентое соотношение количества должников к общему колличеству заемщиков\n",
    "# сохраняем эти значения в столбце 'Процентное соотношение'\n",
    "goals_pivot['Процентное соотношение'] = goals_pivot['Колличество должников'] / goals_pivot['Колличество заемщиков'] * 100"
   ]
  },
  {
   "cell_type": "code",
   "execution_count": 56,
   "metadata": {},
   "outputs": [
    {
     "data": {
      "text/html": [
       "<div>\n",
       "<style scoped>\n",
       "    .dataframe tbody tr th:only-of-type {\n",
       "        vertical-align: middle;\n",
       "    }\n",
       "\n",
       "    .dataframe tbody tr th {\n",
       "        vertical-align: top;\n",
       "    }\n",
       "\n",
       "    .dataframe thead th {\n",
       "        text-align: right;\n",
       "    }\n",
       "</style>\n",
       "<table border=\"1\" class=\"dataframe\">\n",
       "  <thead>\n",
       "    <tr style=\"text-align: right;\">\n",
       "      <th></th>\n",
       "      <th>Колличество заемщиков</th>\n",
       "      <th>Колличество должников</th>\n",
       "      <th>Процентное соотношение</th>\n",
       "    </tr>\n",
       "    <tr>\n",
       "      <th>goals</th>\n",
       "      <th></th>\n",
       "      <th></th>\n",
       "      <th></th>\n",
       "    </tr>\n",
       "  </thead>\n",
       "  <tbody>\n",
       "    <tr>\n",
       "      <th>Автомобиль</th>\n",
       "      <td>973</td>\n",
       "      <td>90</td>\n",
       "      <td>9.249743</td>\n",
       "    </tr>\n",
       "    <tr>\n",
       "      <th>Образование</th>\n",
       "      <td>2699</td>\n",
       "      <td>236</td>\n",
       "      <td>8.743979</td>\n",
       "    </tr>\n",
       "    <tr>\n",
       "      <th>Свадьба</th>\n",
       "      <td>793</td>\n",
       "      <td>64</td>\n",
       "      <td>8.070618</td>\n",
       "    </tr>\n",
       "    <tr>\n",
       "      <th>Недвижимость</th>\n",
       "      <td>3883</td>\n",
       "      <td>293</td>\n",
       "      <td>7.545712</td>\n",
       "    </tr>\n",
       "  </tbody>\n",
       "</table>\n",
       "</div>"
      ],
      "text/plain": [
       "              Колличество заемщиков  Колличество должников  \\\n",
       "goals                                                        \n",
       "Автомобиль                      973                     90   \n",
       "Образование                    2699                    236   \n",
       "Свадьба                         793                     64   \n",
       "Недвижимость                   3883                    293   \n",
       "\n",
       "              Процентное соотношение  \n",
       "goals                                 \n",
       "Автомобиль                  9.249743  \n",
       "Образование                 8.743979  \n",
       "Свадьба                     8.070618  \n",
       "Недвижимость                7.545712  "
      ]
     },
     "execution_count": 56,
     "metadata": {},
     "output_type": "execute_result"
    }
   ],
   "source": [
    "# сортируем нашу сводную таблицу по убыванию по столбцу 'Процентное соотношение' при помощи метода sort_values()\n",
    "goals_pivot.sort_values(by='Процентное соотношение', ascending=False)"
   ]
  },
  {
   "cell_type": "markdown",
   "metadata": {},
   "source": [
    "**Вывод**"
   ]
  },
  {
   "cell_type": "markdown",
   "metadata": {},
   "source": [
    "Как мы може видеть из данных, основный цели у задолжников это покупка автомобиля и оплата учебы - около 9 %. Наиболее ответственно к выплате кредит подходят там, кто задалс целю купить жилье. Среди них всего 7 % должников."
   ]
  },
  {
   "cell_type": "markdown",
   "metadata": {},
   "source": [
    "\n",
    "## Шаг 4. Общий вывод"
   ]
  },
  {
   "cell_type": "markdown",
   "metadata": {},
   "source": [
    "   В ходе исследования нам далось нарисовать портрет самого нежелательного заемщика - это студент/ка, не обрмененный узами брака, но имеющий детей, который хочет купить машинуу или оплатить учебу. "
   ]
  }
 ],
 "metadata": {
  "ExecuteTimeLog": [
   {
    "duration": 571,
    "start_time": "2021-07-07T03:32:14.063Z"
   },
   {
    "duration": 52,
    "start_time": "2021-07-07T03:32:32.613Z"
   },
   {
    "duration": 20,
    "start_time": "2021-07-07T03:32:49.496Z"
   },
   {
    "duration": 13,
    "start_time": "2021-07-07T03:33:08.702Z"
   },
   {
    "duration": 13,
    "start_time": "2021-07-07T03:33:17.189Z"
   },
   {
    "duration": 12,
    "start_time": "2021-07-07T03:36:27.323Z"
   },
   {
    "duration": 10,
    "start_time": "2021-07-07T03:36:59.417Z"
   },
   {
    "duration": 9,
    "start_time": "2021-07-07T03:39:00.246Z"
   },
   {
    "duration": 10,
    "start_time": "2021-07-07T03:39:25.371Z"
   },
   {
    "duration": 9,
    "start_time": "2021-07-07T03:40:02.987Z"
   },
   {
    "duration": 7,
    "start_time": "2021-07-07T03:40:25.551Z"
   },
   {
    "duration": 7,
    "start_time": "2021-07-07T03:40:46.701Z"
   },
   {
    "duration": 7,
    "start_time": "2021-07-07T03:41:02.652Z"
   },
   {
    "duration": 8,
    "start_time": "2021-07-07T03:41:45.059Z"
   },
   {
    "duration": 13,
    "start_time": "2021-07-07T03:41:53.232Z"
   },
   {
    "duration": 7,
    "start_time": "2021-07-07T03:42:28.043Z"
   },
   {
    "duration": 7,
    "start_time": "2021-07-07T03:43:10.026Z"
   },
   {
    "duration": 7,
    "start_time": "2021-07-07T03:43:33.870Z"
   },
   {
    "duration": 11,
    "start_time": "2021-07-07T03:43:58.506Z"
   },
   {
    "duration": 7,
    "start_time": "2021-07-07T03:44:16.698Z"
   },
   {
    "duration": 7,
    "start_time": "2021-07-07T03:44:55.851Z"
   },
   {
    "duration": 8,
    "start_time": "2021-07-07T03:45:01.601Z"
   },
   {
    "duration": 8,
    "start_time": "2021-07-07T03:45:26.124Z"
   },
   {
    "duration": 7,
    "start_time": "2021-07-07T03:45:52.652Z"
   },
   {
    "duration": 13,
    "start_time": "2021-07-07T03:46:37.185Z"
   },
   {
    "duration": 4,
    "start_time": "2021-07-07T03:48:18.893Z"
   },
   {
    "duration": 12,
    "start_time": "2021-07-07T03:48:48.300Z"
   },
   {
    "duration": 17,
    "start_time": "2021-07-07T03:49:54.336Z"
   },
   {
    "duration": 19,
    "start_time": "2021-07-07T03:50:08.993Z"
   },
   {
    "duration": 18,
    "start_time": "2021-07-07T03:51:18.523Z"
   },
   {
    "duration": 17,
    "start_time": "2021-07-07T03:51:32.527Z"
   },
   {
    "duration": 5,
    "start_time": "2021-07-07T03:52:02.586Z"
   },
   {
    "duration": 11,
    "start_time": "2021-07-07T03:53:05.664Z"
   },
   {
    "duration": 7,
    "start_time": "2021-07-07T03:53:23.222Z"
   },
   {
    "duration": 5,
    "start_time": "2021-07-07T03:54:11.390Z"
   },
   {
    "duration": 12,
    "start_time": "2021-07-07T03:54:35.084Z"
   },
   {
    "duration": 7,
    "start_time": "2021-07-07T03:54:56.706Z"
   },
   {
    "duration": 5,
    "start_time": "2021-07-07T03:55:10.806Z"
   },
   {
    "duration": 6,
    "start_time": "2021-07-07T03:55:27.626Z"
   },
   {
    "duration": 5,
    "start_time": "2021-07-07T03:57:17.129Z"
   },
   {
    "duration": 7,
    "start_time": "2021-07-07T03:57:37.839Z"
   },
   {
    "duration": 3354,
    "start_time": "2021-07-07T03:57:53.773Z"
   },
   {
    "duration": 36,
    "start_time": "2021-07-07T03:58:08.274Z"
   },
   {
    "duration": 13,
    "start_time": "2021-07-07T03:59:04.401Z"
   },
   {
    "duration": 7,
    "start_time": "2021-07-07T03:59:58.691Z"
   },
   {
    "duration": 13,
    "start_time": "2021-07-07T04:00:15.150Z"
   },
   {
    "duration": 6,
    "start_time": "2021-07-07T04:00:19.969Z"
   },
   {
    "duration": 16,
    "start_time": "2021-07-07T04:02:01.097Z"
   },
   {
    "duration": 11,
    "start_time": "2021-07-07T04:02:23.172Z"
   },
   {
    "duration": 7,
    "start_time": "2021-07-07T04:02:45.710Z"
   },
   {
    "duration": 5,
    "start_time": "2021-07-07T04:02:57.237Z"
   },
   {
    "duration": 239,
    "start_time": "2021-07-07T04:04:03.775Z"
   },
   {
    "duration": 12,
    "start_time": "2021-07-07T04:04:31.260Z"
   },
   {
    "duration": 6,
    "start_time": "2021-07-07T04:06:11.540Z"
   },
   {
    "duration": 6,
    "start_time": "2021-07-07T04:07:53.933Z"
   },
   {
    "duration": 6,
    "start_time": "2021-07-07T04:08:27.536Z"
   },
   {
    "duration": 6,
    "start_time": "2021-07-07T04:08:57.636Z"
   },
   {
    "duration": 8,
    "start_time": "2021-07-07T04:09:03.093Z"
   },
   {
    "duration": 6,
    "start_time": "2021-07-07T04:09:34.570Z"
   },
   {
    "duration": 3,
    "start_time": "2021-07-07T04:10:10.412Z"
   },
   {
    "duration": 701,
    "start_time": "2021-07-07T07:04:25.650Z"
   },
   {
    "duration": 79,
    "start_time": "2021-07-07T07:04:26.354Z"
   },
   {
    "duration": 30,
    "start_time": "2021-07-07T07:04:26.436Z"
   },
   {
    "duration": 36,
    "start_time": "2021-07-07T07:04:26.469Z"
   },
   {
    "duration": 14,
    "start_time": "2021-07-07T07:04:26.507Z"
   },
   {
    "duration": 15,
    "start_time": "2021-07-07T07:04:26.523Z"
   },
   {
    "duration": 14,
    "start_time": "2021-07-07T07:04:26.540Z"
   },
   {
    "duration": 11,
    "start_time": "2021-07-07T07:04:26.557Z"
   },
   {
    "duration": 10,
    "start_time": "2021-07-07T07:04:26.603Z"
   },
   {
    "duration": 12,
    "start_time": "2021-07-07T07:04:26.617Z"
   },
   {
    "duration": 15,
    "start_time": "2021-07-07T07:04:26.631Z"
   },
   {
    "duration": 9,
    "start_time": "2021-07-07T07:04:26.649Z"
   },
   {
    "duration": 41,
    "start_time": "2021-07-07T07:04:26.660Z"
   },
   {
    "duration": 11,
    "start_time": "2021-07-07T07:04:26.704Z"
   },
   {
    "duration": 9,
    "start_time": "2021-07-07T07:04:26.717Z"
   },
   {
    "duration": 17,
    "start_time": "2021-07-07T07:04:26.728Z"
   },
   {
    "duration": 9,
    "start_time": "2021-07-07T07:04:26.747Z"
   },
   {
    "duration": 44,
    "start_time": "2021-07-07T07:04:26.758Z"
   },
   {
    "duration": 19,
    "start_time": "2021-07-07T07:04:26.804Z"
   },
   {
    "duration": 4,
    "start_time": "2021-07-07T07:04:26.825Z"
   },
   {
    "duration": 18,
    "start_time": "2021-07-07T07:04:26.832Z"
   },
   {
    "duration": 63,
    "start_time": "2021-07-07T07:04:26.853Z"
   },
   {
    "duration": 26,
    "start_time": "2021-07-07T07:04:26.918Z"
   },
   {
    "duration": 24,
    "start_time": "2021-07-07T07:04:26.947Z"
   },
   {
    "duration": 30,
    "start_time": "2021-07-07T07:04:26.973Z"
   },
   {
    "duration": 16,
    "start_time": "2021-07-07T07:04:27.005Z"
   },
   {
    "duration": 12,
    "start_time": "2021-07-07T07:04:27.027Z"
   },
   {
    "duration": 10,
    "start_time": "2021-07-07T07:04:27.041Z"
   },
   {
    "duration": 60,
    "start_time": "2021-07-07T07:04:27.054Z"
   },
   {
    "duration": 10,
    "start_time": "2021-07-07T07:04:27.116Z"
   },
   {
    "duration": 6,
    "start_time": "2021-07-07T07:04:27.128Z"
   },
   {
    "duration": 10,
    "start_time": "2021-07-07T07:04:27.137Z"
   },
   {
    "duration": 51,
    "start_time": "2021-07-07T07:04:27.150Z"
   },
   {
    "duration": 14,
    "start_time": "2021-07-07T07:04:27.204Z"
   },
   {
    "duration": 4860,
    "start_time": "2021-07-07T07:04:27.222Z"
   },
   {
    "duration": 47,
    "start_time": "2021-07-07T07:04:32.087Z"
   },
   {
    "duration": 22,
    "start_time": "2021-07-07T07:04:32.137Z"
   },
   {
    "duration": 19,
    "start_time": "2021-07-07T07:04:32.162Z"
   },
   {
    "duration": 27,
    "start_time": "2021-07-07T07:04:32.202Z"
   },
   {
    "duration": 19,
    "start_time": "2021-07-07T07:04:32.232Z"
   },
   {
    "duration": 8,
    "start_time": "2021-07-07T07:04:32.253Z"
   },
   {
    "duration": 10,
    "start_time": "2021-07-07T07:04:32.301Z"
   },
   {
    "duration": 12,
    "start_time": "2021-07-07T07:04:32.313Z"
   },
   {
    "duration": 11,
    "start_time": "2021-07-07T07:04:32.329Z"
   },
   {
    "duration": 11,
    "start_time": "2021-07-07T07:04:32.343Z"
   },
   {
    "duration": 5,
    "start_time": "2021-07-07T07:04:32.401Z"
   },
   {
    "duration": 12,
    "start_time": "2021-07-07T07:04:32.409Z"
   },
   {
    "duration": 6,
    "start_time": "2021-07-07T07:05:53.190Z"
   },
   {
    "duration": 6,
    "start_time": "2021-07-07T07:06:16.778Z"
   },
   {
    "duration": 6,
    "start_time": "2021-07-07T07:08:24.449Z"
   },
   {
    "duration": 12,
    "start_time": "2021-07-07T07:09:42.464Z"
   },
   {
    "duration": 11,
    "start_time": "2021-07-07T07:10:03.214Z"
   },
   {
    "duration": 9,
    "start_time": "2021-07-07T07:11:27.828Z"
   },
   {
    "duration": 8,
    "start_time": "2021-07-07T07:12:03.756Z"
   },
   {
    "duration": 8,
    "start_time": "2021-07-07T07:13:04.018Z"
   },
   {
    "duration": 8,
    "start_time": "2021-07-07T07:13:38.974Z"
   },
   {
    "duration": 8,
    "start_time": "2021-07-07T07:13:43.717Z"
   },
   {
    "duration": 8,
    "start_time": "2021-07-07T07:13:48.716Z"
   },
   {
    "duration": 6,
    "start_time": "2021-07-07T07:14:14.429Z"
   },
   {
    "duration": 6,
    "start_time": "2021-07-07T07:14:53.667Z"
   },
   {
    "duration": 5,
    "start_time": "2021-07-07T07:15:21.396Z"
   },
   {
    "duration": 6,
    "start_time": "2021-07-07T07:15:57.876Z"
   },
   {
    "duration": 22,
    "start_time": "2021-07-07T07:16:53.339Z"
   },
   {
    "duration": 3,
    "start_time": "2021-07-07T07:18:46.964Z"
   },
   {
    "duration": 81,
    "start_time": "2021-07-07T07:18:46.970Z"
   },
   {
    "duration": 49,
    "start_time": "2021-07-07T07:18:47.053Z"
   },
   {
    "duration": 15,
    "start_time": "2021-07-07T07:18:47.105Z"
   },
   {
    "duration": 12,
    "start_time": "2021-07-07T07:18:47.123Z"
   },
   {
    "duration": 13,
    "start_time": "2021-07-07T07:18:47.137Z"
   },
   {
    "duration": 52,
    "start_time": "2021-07-07T07:18:47.155Z"
   },
   {
    "duration": 13,
    "start_time": "2021-07-07T07:18:47.210Z"
   },
   {
    "duration": 9,
    "start_time": "2021-07-07T07:18:47.226Z"
   },
   {
    "duration": 17,
    "start_time": "2021-07-07T07:18:47.238Z"
   },
   {
    "duration": 44,
    "start_time": "2021-07-07T07:18:47.258Z"
   },
   {
    "duration": 12,
    "start_time": "2021-07-07T07:18:47.305Z"
   },
   {
    "duration": 11,
    "start_time": "2021-07-07T07:18:47.319Z"
   },
   {
    "duration": 12,
    "start_time": "2021-07-07T07:18:47.333Z"
   },
   {
    "duration": 10,
    "start_time": "2021-07-07T07:18:47.348Z"
   },
   {
    "duration": 46,
    "start_time": "2021-07-07T07:18:47.360Z"
   },
   {
    "duration": 12,
    "start_time": "2021-07-07T07:18:47.408Z"
   },
   {
    "duration": 10,
    "start_time": "2021-07-07T07:18:47.422Z"
   },
   {
    "duration": 17,
    "start_time": "2021-07-07T07:18:47.434Z"
   },
   {
    "duration": 6,
    "start_time": "2021-07-07T07:18:47.454Z"
   },
   {
    "duration": 17,
    "start_time": "2021-07-07T07:18:47.500Z"
   },
   {
    "duration": 28,
    "start_time": "2021-07-07T07:18:47.520Z"
   },
   {
    "duration": 56,
    "start_time": "2021-07-07T07:18:47.551Z"
   },
   {
    "duration": 25,
    "start_time": "2021-07-07T07:18:47.609Z"
   },
   {
    "duration": 7,
    "start_time": "2021-07-07T07:18:47.640Z"
   },
   {
    "duration": 52,
    "start_time": "2021-07-07T07:18:47.651Z"
   },
   {
    "duration": 15,
    "start_time": "2021-07-07T07:18:47.706Z"
   },
   {
    "duration": 9,
    "start_time": "2021-07-07T07:18:47.723Z"
   },
   {
    "duration": 20,
    "start_time": "2021-07-07T07:18:47.735Z"
   },
   {
    "duration": 49,
    "start_time": "2021-07-07T07:18:47.758Z"
   },
   {
    "duration": 9,
    "start_time": "2021-07-07T07:18:47.810Z"
   },
   {
    "duration": 10,
    "start_time": "2021-07-07T07:18:47.822Z"
   },
   {
    "duration": 70,
    "start_time": "2021-07-07T07:18:47.835Z"
   },
   {
    "duration": 10,
    "start_time": "2021-07-07T07:18:47.907Z"
   },
   {
    "duration": 4538,
    "start_time": "2021-07-07T07:18:47.920Z"
   },
   {
    "duration": 44,
    "start_time": "2021-07-07T07:18:52.461Z"
   },
   {
    "duration": 25,
    "start_time": "2021-07-07T07:18:52.508Z"
   },
   {
    "duration": 11,
    "start_time": "2021-07-07T07:18:52.536Z"
   },
   {
    "duration": 34,
    "start_time": "2021-07-07T07:18:52.549Z"
   },
   {
    "duration": 18,
    "start_time": "2021-07-07T07:18:52.601Z"
   },
   {
    "duration": 8,
    "start_time": "2021-07-07T07:18:52.621Z"
   },
   {
    "duration": 15,
    "start_time": "2021-07-07T07:18:52.631Z"
   },
   {
    "duration": 11,
    "start_time": "2021-07-07T07:18:52.649Z"
   },
   {
    "duration": 40,
    "start_time": "2021-07-07T07:18:52.663Z"
   },
   {
    "duration": 8,
    "start_time": "2021-07-07T07:18:52.706Z"
   },
   {
    "duration": 4,
    "start_time": "2021-07-07T07:18:52.717Z"
   },
   {
    "duration": 11,
    "start_time": "2021-07-07T07:18:52.724Z"
   },
   {
    "duration": 9,
    "start_time": "2021-07-07T07:18:52.737Z"
   },
   {
    "duration": 54,
    "start_time": "2021-07-07T07:18:52.748Z"
   },
   {
    "duration": 13,
    "start_time": "2021-07-07T07:18:52.805Z"
   },
   {
    "duration": 16,
    "start_time": "2021-07-07T07:18:52.821Z"
   },
   {
    "duration": 10,
    "start_time": "2021-07-07T07:18:52.840Z"
   },
   {
    "duration": 14,
    "start_time": "2021-07-07T07:18:52.852Z"
   },
   {
    "duration": 34,
    "start_time": "2021-07-07T07:18:52.868Z"
   },
   {
    "duration": 7,
    "start_time": "2021-07-07T07:18:52.905Z"
   },
   {
    "duration": 15,
    "start_time": "2021-07-07T07:18:52.915Z"
   },
   {
    "duration": 10,
    "start_time": "2021-07-07T07:18:52.933Z"
   },
   {
    "duration": 11,
    "start_time": "2021-07-07T07:18:52.946Z"
   },
   {
    "duration": 7,
    "start_time": "2021-07-07T07:18:52.959Z"
   },
   {
    "duration": 44,
    "start_time": "2021-07-07T07:18:52.968Z"
   },
   {
    "duration": 11,
    "start_time": "2021-07-07T07:19:21.760Z"
   },
   {
    "duration": 11,
    "start_time": "2021-07-07T07:20:16.700Z"
   },
   {
    "duration": 18,
    "start_time": "2021-07-07T07:21:02.639Z"
   },
   {
    "duration": 12,
    "start_time": "2021-07-07T07:21:36.106Z"
   },
   {
    "duration": 592,
    "start_time": "2021-07-07T11:00:20.902Z"
   },
   {
    "duration": 48,
    "start_time": "2021-07-07T11:00:21.496Z"
   },
   {
    "duration": 18,
    "start_time": "2021-07-07T11:00:21.546Z"
   },
   {
    "duration": 9,
    "start_time": "2021-07-07T11:00:21.566Z"
   },
   {
    "duration": 18,
    "start_time": "2021-07-07T11:00:21.576Z"
   },
   {
    "duration": 9,
    "start_time": "2021-07-07T11:00:21.595Z"
   },
   {
    "duration": 15,
    "start_time": "2021-07-07T11:00:21.605Z"
   },
   {
    "duration": 7,
    "start_time": "2021-07-07T11:00:21.623Z"
   },
   {
    "duration": 12,
    "start_time": "2021-07-07T11:00:21.631Z"
   },
   {
    "duration": 12,
    "start_time": "2021-07-07T11:00:21.644Z"
   },
   {
    "duration": 11,
    "start_time": "2021-07-07T11:00:21.657Z"
   },
   {
    "duration": 9,
    "start_time": "2021-07-07T11:00:21.669Z"
   },
   {
    "duration": 16,
    "start_time": "2021-07-07T11:00:21.680Z"
   },
   {
    "duration": 14,
    "start_time": "2021-07-07T11:00:21.698Z"
   },
   {
    "duration": 9,
    "start_time": "2021-07-07T11:00:21.713Z"
   },
   {
    "duration": 13,
    "start_time": "2021-07-07T11:00:21.723Z"
   },
   {
    "duration": 10,
    "start_time": "2021-07-07T11:00:21.738Z"
   },
   {
    "duration": 10,
    "start_time": "2021-07-07T11:00:21.749Z"
   },
   {
    "duration": 18,
    "start_time": "2021-07-07T11:00:21.761Z"
   },
   {
    "duration": 10,
    "start_time": "2021-07-07T11:00:21.780Z"
   },
   {
    "duration": 16,
    "start_time": "2021-07-07T11:00:21.792Z"
   },
   {
    "duration": 16,
    "start_time": "2021-07-07T11:00:21.809Z"
   },
   {
    "duration": 17,
    "start_time": "2021-07-07T11:00:21.829Z"
   },
   {
    "duration": 14,
    "start_time": "2021-07-07T11:00:21.849Z"
   },
   {
    "duration": 4,
    "start_time": "2021-07-07T11:00:21.865Z"
   },
   {
    "duration": 27,
    "start_time": "2021-07-07T11:00:21.870Z"
   },
   {
    "duration": 9,
    "start_time": "2021-07-07T11:00:21.899Z"
   },
   {
    "duration": 14,
    "start_time": "2021-07-07T11:00:21.909Z"
   },
   {
    "duration": 15,
    "start_time": "2021-07-07T11:00:21.925Z"
   },
   {
    "duration": 17,
    "start_time": "2021-07-07T11:00:21.942Z"
   },
   {
    "duration": 13,
    "start_time": "2021-07-07T11:00:21.960Z"
   },
   {
    "duration": 11,
    "start_time": "2021-07-07T11:00:21.974Z"
   },
   {
    "duration": 9,
    "start_time": "2021-07-07T11:00:21.987Z"
   },
   {
    "duration": 14,
    "start_time": "2021-07-07T11:00:21.997Z"
   },
   {
    "duration": 3169,
    "start_time": "2021-07-07T11:00:22.012Z"
   },
   {
    "duration": 27,
    "start_time": "2021-07-07T11:00:25.183Z"
   },
   {
    "duration": 15,
    "start_time": "2021-07-07T11:00:25.212Z"
   },
   {
    "duration": 6,
    "start_time": "2021-07-07T11:00:25.229Z"
   },
   {
    "duration": 20,
    "start_time": "2021-07-07T11:00:25.236Z"
   },
   {
    "duration": 38,
    "start_time": "2021-07-07T11:00:25.258Z"
   },
   {
    "duration": 5,
    "start_time": "2021-07-07T11:00:25.297Z"
   },
   {
    "duration": 25,
    "start_time": "2021-07-07T11:00:25.303Z"
   },
   {
    "duration": 12,
    "start_time": "2021-07-07T11:00:25.329Z"
   },
   {
    "duration": 9,
    "start_time": "2021-07-07T11:00:25.342Z"
   },
   {
    "duration": 6,
    "start_time": "2021-07-07T11:00:25.352Z"
   },
   {
    "duration": 6,
    "start_time": "2021-07-07T11:00:25.359Z"
   },
   {
    "duration": 16,
    "start_time": "2021-07-07T11:00:25.367Z"
   },
   {
    "duration": 78,
    "start_time": "2021-07-07T11:00:25.384Z"
   },
   {
    "duration": 10,
    "start_time": "2021-07-07T11:00:25.463Z"
   },
   {
    "duration": 10,
    "start_time": "2021-07-07T11:00:25.474Z"
   },
   {
    "duration": 20,
    "start_time": "2021-07-07T11:00:25.486Z"
   },
   {
    "duration": 11,
    "start_time": "2021-07-07T11:00:25.507Z"
   },
   {
    "duration": 11,
    "start_time": "2021-07-07T11:00:25.519Z"
   },
   {
    "duration": 15,
    "start_time": "2021-07-07T11:00:25.531Z"
   },
   {
    "duration": 16,
    "start_time": "2021-07-07T11:00:25.547Z"
   },
   {
    "duration": 19,
    "start_time": "2021-07-07T11:00:25.565Z"
   },
   {
    "duration": 10,
    "start_time": "2021-07-07T11:00:25.585Z"
   },
   {
    "duration": 14,
    "start_time": "2021-07-07T11:00:25.596Z"
   },
   {
    "duration": 9,
    "start_time": "2021-07-07T11:00:25.612Z"
   },
   {
    "duration": 19,
    "start_time": "2021-07-07T11:00:25.622Z"
   },
   {
    "duration": 7,
    "start_time": "2021-07-07T11:00:25.643Z"
   },
   {
    "duration": 18,
    "start_time": "2021-07-07T11:00:25.651Z"
   },
   {
    "duration": 7,
    "start_time": "2021-07-07T11:00:25.670Z"
   },
   {
    "duration": 317,
    "start_time": "2021-07-10T17:58:31.275Z"
   },
   {
    "duration": 786,
    "start_time": "2021-07-10T17:59:01.359Z"
   },
   {
    "duration": 72,
    "start_time": "2021-07-10T17:59:02.148Z"
   },
   {
    "duration": 39,
    "start_time": "2021-07-10T17:59:02.223Z"
   },
   {
    "duration": 24,
    "start_time": "2021-07-10T17:59:02.265Z"
   },
   {
    "duration": 22,
    "start_time": "2021-07-10T17:59:02.291Z"
   },
   {
    "duration": 23,
    "start_time": "2021-07-10T17:59:02.316Z"
   },
   {
    "duration": 35,
    "start_time": "2021-07-10T17:59:02.342Z"
   },
   {
    "duration": 30,
    "start_time": "2021-07-10T17:59:02.379Z"
   },
   {
    "duration": 28,
    "start_time": "2021-07-10T17:59:02.413Z"
   },
   {
    "duration": 27,
    "start_time": "2021-07-10T17:59:02.445Z"
   },
   {
    "duration": 27,
    "start_time": "2021-07-10T17:59:02.475Z"
   },
   {
    "duration": 20,
    "start_time": "2021-07-10T17:59:02.504Z"
   },
   {
    "duration": 18,
    "start_time": "2021-07-10T17:59:02.527Z"
   },
   {
    "duration": 26,
    "start_time": "2021-07-10T17:59:02.547Z"
   },
   {
    "duration": 31,
    "start_time": "2021-07-10T17:59:02.575Z"
   },
   {
    "duration": 13,
    "start_time": "2021-07-10T17:59:02.609Z"
   },
   {
    "duration": 18,
    "start_time": "2021-07-10T17:59:02.625Z"
   },
   {
    "duration": 48,
    "start_time": "2021-07-10T17:59:02.645Z"
   },
   {
    "duration": 33,
    "start_time": "2021-07-10T17:59:02.695Z"
   },
   {
    "duration": 4,
    "start_time": "2021-07-10T17:59:02.731Z"
   },
   {
    "duration": 48,
    "start_time": "2021-07-10T17:59:02.737Z"
   },
   {
    "duration": 26,
    "start_time": "2021-07-10T17:59:02.787Z"
   },
   {
    "duration": 53,
    "start_time": "2021-07-10T17:59:02.816Z"
   },
   {
    "duration": 28,
    "start_time": "2021-07-10T17:59:02.872Z"
   },
   {
    "duration": 6,
    "start_time": "2021-07-10T17:59:02.903Z"
   },
   {
    "duration": 53,
    "start_time": "2021-07-10T17:59:02.911Z"
   },
   {
    "duration": 8,
    "start_time": "2021-07-10T17:59:02.972Z"
   },
   {
    "duration": 18,
    "start_time": "2021-07-10T17:59:02.985Z"
   },
   {
    "duration": 40,
    "start_time": "2021-07-10T17:59:03.006Z"
   },
   {
    "duration": 26,
    "start_time": "2021-07-10T17:59:03.048Z"
   },
   {
    "duration": 13,
    "start_time": "2021-07-10T17:59:03.077Z"
   },
   {
    "duration": 23,
    "start_time": "2021-07-10T17:59:03.094Z"
   },
   {
    "duration": 14,
    "start_time": "2021-07-10T17:59:03.120Z"
   },
   {
    "duration": 24,
    "start_time": "2021-07-10T17:59:03.136Z"
   },
   {
    "duration": 4472,
    "start_time": "2021-07-10T17:59:03.163Z"
   },
   {
    "duration": 51,
    "start_time": "2021-07-10T17:59:07.638Z"
   },
   {
    "duration": 26,
    "start_time": "2021-07-10T17:59:07.691Z"
   },
   {
    "duration": 19,
    "start_time": "2021-07-10T17:59:07.720Z"
   },
   {
    "duration": 23,
    "start_time": "2021-07-10T17:59:07.755Z"
   },
   {
    "duration": 23,
    "start_time": "2021-07-10T17:59:07.781Z"
   },
   {
    "duration": 12,
    "start_time": "2021-07-10T17:59:07.807Z"
   },
   {
    "duration": 37,
    "start_time": "2021-07-10T17:59:07.822Z"
   },
   {
    "duration": 31,
    "start_time": "2021-07-10T17:59:07.862Z"
   },
   {
    "duration": 9,
    "start_time": "2021-07-10T17:59:07.895Z"
   },
   {
    "duration": 49,
    "start_time": "2021-07-10T17:59:07.907Z"
   },
   {
    "duration": 4,
    "start_time": "2021-07-10T17:59:07.959Z"
   },
   {
    "duration": 18,
    "start_time": "2021-07-10T17:59:07.966Z"
   },
   {
    "duration": 13,
    "start_time": "2021-07-10T17:59:07.987Z"
   },
   {
    "duration": 30,
    "start_time": "2021-07-10T17:59:08.002Z"
   },
   {
    "duration": 22,
    "start_time": "2021-07-10T17:59:08.034Z"
   },
   {
    "duration": 27,
    "start_time": "2021-07-10T17:59:08.059Z"
   },
   {
    "duration": 24,
    "start_time": "2021-07-10T17:59:08.088Z"
   },
   {
    "duration": 20,
    "start_time": "2021-07-10T17:59:08.115Z"
   },
   {
    "duration": 23,
    "start_time": "2021-07-10T17:59:08.137Z"
   },
   {
    "duration": 15,
    "start_time": "2021-07-10T17:59:08.163Z"
   },
   {
    "duration": 26,
    "start_time": "2021-07-10T17:59:08.181Z"
   },
   {
    "duration": 21,
    "start_time": "2021-07-10T17:59:08.210Z"
   },
   {
    "duration": 15,
    "start_time": "2021-07-10T17:59:08.234Z"
   },
   {
    "duration": 12,
    "start_time": "2021-07-10T17:59:08.252Z"
   },
   {
    "duration": 18,
    "start_time": "2021-07-10T17:59:08.267Z"
   },
   {
    "duration": 11,
    "start_time": "2021-07-10T17:59:08.287Z"
   },
   {
    "duration": 56,
    "start_time": "2021-07-10T17:59:08.300Z"
   },
   {
    "duration": 11,
    "start_time": "2021-07-10T17:59:08.359Z"
   },
   {
    "duration": 12,
    "start_time": "2021-07-10T18:00:46.766Z"
   },
   {
    "duration": 9,
    "start_time": "2021-07-10T18:01:08.234Z"
   },
   {
    "duration": 9,
    "start_time": "2021-07-10T18:01:10.244Z"
   },
   {
    "duration": 282,
    "start_time": "2021-07-16T16:30:14.148Z"
   },
   {
    "duration": 530,
    "start_time": "2021-07-16T16:30:19.420Z"
   },
   {
    "duration": 47,
    "start_time": "2021-07-16T16:30:19.952Z"
   },
   {
    "duration": 18,
    "start_time": "2021-07-16T16:30:20.000Z"
   },
   {
    "duration": 10,
    "start_time": "2021-07-16T16:30:20.019Z"
   },
   {
    "duration": 8,
    "start_time": "2021-07-16T16:30:20.031Z"
   },
   {
    "duration": 7,
    "start_time": "2021-07-16T16:30:20.041Z"
   },
   {
    "duration": 11,
    "start_time": "2021-07-16T16:30:20.049Z"
   },
   {
    "duration": 8,
    "start_time": "2021-07-16T16:30:20.062Z"
   },
   {
    "duration": 6,
    "start_time": "2021-07-16T16:30:20.092Z"
   },
   {
    "duration": 9,
    "start_time": "2021-07-16T16:30:20.100Z"
   },
   {
    "duration": 6,
    "start_time": "2021-07-16T16:30:20.110Z"
   },
   {
    "duration": 10,
    "start_time": "2021-07-16T16:30:20.117Z"
   },
   {
    "duration": 13,
    "start_time": "2021-07-16T16:30:20.128Z"
   },
   {
    "duration": 10,
    "start_time": "2021-07-16T16:30:20.143Z"
   },
   {
    "duration": 13,
    "start_time": "2021-07-16T16:30:20.154Z"
   },
   {
    "duration": 9,
    "start_time": "2021-07-16T16:30:20.168Z"
   },
   {
    "duration": 15,
    "start_time": "2021-07-16T16:30:20.179Z"
   },
   {
    "duration": 12,
    "start_time": "2021-07-16T16:30:20.195Z"
   },
   {
    "duration": 14,
    "start_time": "2021-07-16T16:30:20.208Z"
   },
   {
    "duration": 2,
    "start_time": "2021-07-16T16:30:20.224Z"
   },
   {
    "duration": 19,
    "start_time": "2021-07-16T16:30:20.227Z"
   },
   {
    "duration": 14,
    "start_time": "2021-07-16T16:30:20.247Z"
   },
   {
    "duration": 15,
    "start_time": "2021-07-16T16:30:20.262Z"
   },
   {
    "duration": 24,
    "start_time": "2021-07-16T16:30:20.279Z"
   },
   {
    "duration": 3,
    "start_time": "2021-07-16T16:30:20.304Z"
   },
   {
    "duration": 12,
    "start_time": "2021-07-16T16:30:20.309Z"
   },
   {
    "duration": 9,
    "start_time": "2021-07-16T16:30:20.325Z"
   },
   {
    "duration": 7,
    "start_time": "2021-07-16T16:30:20.336Z"
   },
   {
    "duration": 16,
    "start_time": "2021-07-16T16:30:20.345Z"
   },
   {
    "duration": 10,
    "start_time": "2021-07-16T16:30:20.362Z"
   },
   {
    "duration": 20,
    "start_time": "2021-07-16T16:30:20.373Z"
   },
   {
    "duration": 7,
    "start_time": "2021-07-16T16:30:20.395Z"
   },
   {
    "duration": 8,
    "start_time": "2021-07-16T16:30:20.403Z"
   },
   {
    "duration": 12,
    "start_time": "2021-07-16T16:30:20.412Z"
   },
   {
    "duration": 3202,
    "start_time": "2021-07-16T16:30:20.425Z"
   },
   {
    "duration": 22,
    "start_time": "2021-07-16T16:30:23.628Z"
   },
   {
    "duration": 13,
    "start_time": "2021-07-16T16:30:23.651Z"
   },
   {
    "duration": 5,
    "start_time": "2021-07-16T16:30:23.666Z"
   },
   {
    "duration": 30,
    "start_time": "2021-07-16T16:30:23.672Z"
   },
   {
    "duration": 10,
    "start_time": "2021-07-16T16:30:23.703Z"
   },
   {
    "duration": 20,
    "start_time": "2021-07-16T16:30:23.715Z"
   },
   {
    "duration": 6,
    "start_time": "2021-07-16T16:30:23.736Z"
   },
   {
    "duration": 8,
    "start_time": "2021-07-16T16:30:23.743Z"
   },
   {
    "duration": 39,
    "start_time": "2021-07-16T16:30:23.753Z"
   },
   {
    "duration": 6,
    "start_time": "2021-07-16T16:30:23.793Z"
   },
   {
    "duration": 8,
    "start_time": "2021-07-16T16:30:23.801Z"
   },
   {
    "duration": 10,
    "start_time": "2021-07-16T16:30:23.810Z"
   },
   {
    "duration": 11,
    "start_time": "2021-07-16T16:30:23.822Z"
   },
   {
    "duration": 11,
    "start_time": "2021-07-16T16:30:23.834Z"
   },
   {
    "duration": 11,
    "start_time": "2021-07-16T16:30:23.847Z"
   },
   {
    "duration": 7,
    "start_time": "2021-07-16T16:30:23.860Z"
   },
   {
    "duration": 13,
    "start_time": "2021-07-16T16:30:23.868Z"
   },
   {
    "duration": 12,
    "start_time": "2021-07-16T16:30:23.882Z"
   },
   {
    "duration": 7,
    "start_time": "2021-07-16T16:30:23.895Z"
   },
   {
    "duration": 13,
    "start_time": "2021-07-16T16:30:23.904Z"
   },
   {
    "duration": 10,
    "start_time": "2021-07-16T16:30:23.918Z"
   },
   {
    "duration": 9,
    "start_time": "2021-07-16T16:30:23.929Z"
   },
   {
    "duration": 7,
    "start_time": "2021-07-16T16:30:23.940Z"
   },
   {
    "duration": 12,
    "start_time": "2021-07-16T16:30:23.949Z"
   },
   {
    "duration": 9,
    "start_time": "2021-07-16T16:30:23.962Z"
   },
   {
    "duration": 18,
    "start_time": "2021-07-16T16:30:23.972Z"
   },
   {
    "duration": 6,
    "start_time": "2021-07-16T16:30:23.992Z"
   },
   {
    "duration": 10,
    "start_time": "2021-07-16T16:30:24.000Z"
   },
   {
    "duration": 7,
    "start_time": "2021-07-16T16:30:24.011Z"
   },
   {
    "duration": 24,
    "start_time": "2021-07-16T16:41:20.270Z"
   },
   {
    "duration": 5,
    "start_time": "2021-07-16T16:42:44.990Z"
   },
   {
    "duration": 72,
    "start_time": "2021-07-16T16:45:44.810Z"
   },
   {
    "duration": 23,
    "start_time": "2021-07-16T16:46:07.880Z"
   },
   {
    "duration": 43,
    "start_time": "2021-07-16T16:46:21.981Z"
   },
   {
    "duration": 89,
    "start_time": "2021-07-16T16:47:14.548Z"
   },
   {
    "duration": 248,
    "start_time": "2021-07-16T16:47:21.565Z"
   },
   {
    "duration": 239,
    "start_time": "2021-07-16T16:47:30.640Z"
   },
   {
    "duration": 11,
    "start_time": "2021-07-16T16:49:14.230Z"
   },
   {
    "duration": 14,
    "start_time": "2021-07-16T16:49:37.698Z"
   },
   {
    "duration": 16,
    "start_time": "2021-07-16T16:54:58.590Z"
   },
   {
    "duration": 875,
    "start_time": "2021-07-16T16:57:05.470Z"
   },
   {
    "duration": 16,
    "start_time": "2021-07-16T16:58:00.990Z"
   },
   {
    "duration": 631,
    "start_time": "2021-07-16T17:05:01.850Z"
   },
   {
    "duration": 13,
    "start_time": "2021-07-16T17:06:17.831Z"
   },
   {
    "duration": 11,
    "start_time": "2021-07-16T17:06:29.318Z"
   },
   {
    "duration": 566,
    "start_time": "2021-07-16T17:07:09.333Z"
   },
   {
    "duration": 346,
    "start_time": "2021-07-16T17:11:53.268Z"
   },
   {
    "duration": 17,
    "start_time": "2021-07-16T17:12:02.270Z"
   },
   {
    "duration": 4,
    "start_time": "2021-07-16T17:13:34.217Z"
   },
   {
    "duration": 18,
    "start_time": "2021-07-16T17:25:55.621Z"
   },
   {
    "duration": 5,
    "start_time": "2021-07-16T17:26:14.210Z"
   },
   {
    "duration": 2,
    "start_time": "2021-07-16T17:30:27.756Z"
   },
   {
    "duration": 69,
    "start_time": "2021-07-16T17:30:27.760Z"
   },
   {
    "duration": 12,
    "start_time": "2021-07-16T17:30:27.831Z"
   },
   {
    "duration": 13,
    "start_time": "2021-07-16T17:30:27.844Z"
   },
   {
    "duration": 8,
    "start_time": "2021-07-16T17:30:27.859Z"
   },
   {
    "duration": 22,
    "start_time": "2021-07-16T17:30:27.869Z"
   },
   {
    "duration": 8,
    "start_time": "2021-07-16T17:30:27.893Z"
   },
   {
    "duration": 8,
    "start_time": "2021-07-16T17:30:27.902Z"
   },
   {
    "duration": 7,
    "start_time": "2021-07-16T17:30:28.170Z"
   },
   {
    "duration": 7,
    "start_time": "2021-07-16T17:30:28.179Z"
   },
   {
    "duration": 7,
    "start_time": "2021-07-16T17:30:28.188Z"
   },
   {
    "duration": 7,
    "start_time": "2021-07-16T17:30:28.220Z"
   },
   {
    "duration": 8,
    "start_time": "2021-07-16T17:30:28.228Z"
   },
   {
    "duration": 7,
    "start_time": "2021-07-16T17:30:28.238Z"
   },
   {
    "duration": 9,
    "start_time": "2021-07-16T17:30:28.247Z"
   },
   {
    "duration": 9,
    "start_time": "2021-07-16T17:30:28.258Z"
   },
   {
    "duration": 16,
    "start_time": "2021-07-16T17:30:28.269Z"
   },
   {
    "duration": 11,
    "start_time": "2021-07-16T17:30:28.287Z"
   },
   {
    "duration": 15,
    "start_time": "2021-07-16T17:30:28.299Z"
   },
   {
    "duration": 8,
    "start_time": "2021-07-16T17:30:28.316Z"
   },
   {
    "duration": 15,
    "start_time": "2021-07-16T17:30:28.325Z"
   },
   {
    "duration": 17,
    "start_time": "2021-07-16T17:30:28.341Z"
   },
   {
    "duration": 17,
    "start_time": "2021-07-16T17:30:28.359Z"
   },
   {
    "duration": 23,
    "start_time": "2021-07-16T17:30:28.377Z"
   },
   {
    "duration": 4,
    "start_time": "2021-07-16T17:30:28.401Z"
   },
   {
    "duration": 15,
    "start_time": "2021-07-16T17:30:28.406Z"
   },
   {
    "duration": 10,
    "start_time": "2021-07-16T17:30:28.423Z"
   },
   {
    "duration": 17,
    "start_time": "2021-07-16T17:30:28.434Z"
   },
   {
    "duration": 5,
    "start_time": "2021-07-16T17:30:28.452Z"
   },
   {
    "duration": 11,
    "start_time": "2021-07-16T17:30:28.458Z"
   },
   {
    "duration": 26,
    "start_time": "2021-07-16T17:30:28.471Z"
   },
   {
    "duration": 12,
    "start_time": "2021-07-16T17:30:28.498Z"
   },
   {
    "duration": 13,
    "start_time": "2021-07-16T17:30:28.511Z"
   },
   {
    "duration": 10,
    "start_time": "2021-07-16T17:30:28.526Z"
   },
   {
    "duration": 32,
    "start_time": "2021-07-16T17:30:28.539Z"
   },
   {
    "duration": 7,
    "start_time": "2021-07-16T17:30:28.573Z"
   },
   {
    "duration": 1921,
    "start_time": "2021-07-16T17:30:28.582Z"
   },
   {
    "duration": -1336,
    "start_time": "2021-07-16T17:30:31.842Z"
   },
   {
    "duration": -1342,
    "start_time": "2021-07-16T17:30:31.849Z"
   },
   {
    "duration": -1351,
    "start_time": "2021-07-16T17:30:31.859Z"
   },
   {
    "duration": -1360,
    "start_time": "2021-07-16T17:30:31.868Z"
   },
   {
    "duration": -1369,
    "start_time": "2021-07-16T17:30:31.878Z"
   },
   {
    "duration": -1376,
    "start_time": "2021-07-16T17:30:31.886Z"
   },
   {
    "duration": -1383,
    "start_time": "2021-07-16T17:30:31.894Z"
   },
   {
    "duration": -1387,
    "start_time": "2021-07-16T17:30:31.899Z"
   },
   {
    "duration": -1396,
    "start_time": "2021-07-16T17:30:31.908Z"
   },
   {
    "duration": -1405,
    "start_time": "2021-07-16T17:30:31.918Z"
   },
   {
    "duration": -1413,
    "start_time": "2021-07-16T17:30:31.928Z"
   },
   {
    "duration": -1422,
    "start_time": "2021-07-16T17:30:31.937Z"
   },
   {
    "duration": -1453,
    "start_time": "2021-07-16T17:30:31.969Z"
   },
   {
    "duration": -1460,
    "start_time": "2021-07-16T17:30:31.977Z"
   },
   {
    "duration": -1466,
    "start_time": "2021-07-16T17:30:31.984Z"
   },
   {
    "duration": -1471,
    "start_time": "2021-07-16T17:30:31.990Z"
   },
   {
    "duration": -1477,
    "start_time": "2021-07-16T17:30:31.997Z"
   },
   {
    "duration": -1484,
    "start_time": "2021-07-16T17:30:32.004Z"
   },
   {
    "duration": -1490,
    "start_time": "2021-07-16T17:30:32.011Z"
   },
   {
    "duration": -1496,
    "start_time": "2021-07-16T17:30:32.018Z"
   },
   {
    "duration": -1505,
    "start_time": "2021-07-16T17:30:32.028Z"
   },
   {
    "duration": -1514,
    "start_time": "2021-07-16T17:30:32.038Z"
   },
   {
    "duration": -1523,
    "start_time": "2021-07-16T17:30:32.048Z"
   },
   {
    "duration": -1531,
    "start_time": "2021-07-16T17:30:32.057Z"
   },
   {
    "duration": -1540,
    "start_time": "2021-07-16T17:30:32.067Z"
   },
   {
    "duration": -1557,
    "start_time": "2021-07-16T17:30:32.085Z"
   },
   {
    "duration": -1565,
    "start_time": "2021-07-16T17:30:32.094Z"
   },
   {
    "duration": -1571,
    "start_time": "2021-07-16T17:30:32.100Z"
   },
   {
    "duration": -1578,
    "start_time": "2021-07-16T17:30:32.108Z"
   },
   {
    "duration": -1583,
    "start_time": "2021-07-16T17:30:32.114Z"
   },
   {
    "duration": 19,
    "start_time": "2021-07-16T17:30:44.610Z"
   },
   {
    "duration": 241,
    "start_time": "2021-07-16T17:31:25.740Z"
   },
   {
    "duration": 224,
    "start_time": "2021-07-16T17:31:42.910Z"
   },
   {
    "duration": 14,
    "start_time": "2021-07-16T17:32:37.761Z"
   },
   {
    "duration": 17,
    "start_time": "2021-07-16T17:32:49.111Z"
   },
   {
    "duration": 21,
    "start_time": "2021-07-16T17:32:58.142Z"
   },
   {
    "duration": 21,
    "start_time": "2021-07-16T17:34:21.909Z"
   },
   {
    "duration": 909,
    "start_time": "2021-07-16T17:56:46.878Z"
   },
   {
    "duration": 5414,
    "start_time": "2021-07-16T17:57:08.230Z"
   },
   {
    "duration": 20,
    "start_time": "2021-07-16T17:58:01.012Z"
   },
   {
    "duration": 20,
    "start_time": "2021-07-16T17:58:50.378Z"
   },
   {
    "duration": 239,
    "start_time": "2021-07-16T17:59:21.518Z"
   },
   {
    "duration": 19,
    "start_time": "2021-07-16T17:59:31.156Z"
   },
   {
    "duration": 20,
    "start_time": "2021-07-16T18:00:30.981Z"
   },
   {
    "duration": 568,
    "start_time": "2021-07-16T21:44:18.598Z"
   },
   {
    "duration": 50,
    "start_time": "2021-07-16T21:44:19.168Z"
   },
   {
    "duration": 20,
    "start_time": "2021-07-16T21:44:19.220Z"
   },
   {
    "duration": 10,
    "start_time": "2021-07-16T21:44:19.242Z"
   },
   {
    "duration": 9,
    "start_time": "2021-07-16T21:44:19.253Z"
   },
   {
    "duration": 8,
    "start_time": "2021-07-16T21:44:19.263Z"
   },
   {
    "duration": 10,
    "start_time": "2021-07-16T21:44:19.273Z"
   },
   {
    "duration": 8,
    "start_time": "2021-07-16T21:44:19.286Z"
   },
   {
    "duration": 6,
    "start_time": "2021-07-16T21:44:19.296Z"
   },
   {
    "duration": 39,
    "start_time": "2021-07-16T21:44:19.304Z"
   },
   {
    "duration": 7,
    "start_time": "2021-07-16T21:44:19.345Z"
   },
   {
    "duration": 12,
    "start_time": "2021-07-16T21:44:19.353Z"
   },
   {
    "duration": 8,
    "start_time": "2021-07-16T21:44:19.367Z"
   },
   {
    "duration": 16,
    "start_time": "2021-07-16T21:44:19.377Z"
   },
   {
    "duration": 6,
    "start_time": "2021-07-16T21:44:19.395Z"
   },
   {
    "duration": 19,
    "start_time": "2021-07-16T21:44:19.402Z"
   },
   {
    "duration": 6,
    "start_time": "2021-07-16T21:44:19.423Z"
   },
   {
    "duration": 15,
    "start_time": "2021-07-16T21:44:19.431Z"
   },
   {
    "duration": 13,
    "start_time": "2021-07-16T21:44:19.448Z"
   },
   {
    "duration": 4,
    "start_time": "2021-07-16T21:44:19.462Z"
   },
   {
    "duration": 15,
    "start_time": "2021-07-16T21:44:19.467Z"
   },
   {
    "duration": 15,
    "start_time": "2021-07-16T21:44:19.484Z"
   },
   {
    "duration": 43,
    "start_time": "2021-07-16T21:44:19.502Z"
   },
   {
    "duration": 16,
    "start_time": "2021-07-16T21:44:19.547Z"
   },
   {
    "duration": 4,
    "start_time": "2021-07-16T21:44:19.565Z"
   },
   {
    "duration": 21,
    "start_time": "2021-07-16T21:44:19.571Z"
   },
   {
    "duration": 11,
    "start_time": "2021-07-16T21:44:19.594Z"
   },
   {
    "duration": 19,
    "start_time": "2021-07-16T21:44:19.606Z"
   },
   {
    "duration": 15,
    "start_time": "2021-07-16T21:44:19.627Z"
   },
   {
    "duration": 7,
    "start_time": "2021-07-16T21:44:19.643Z"
   },
   {
    "duration": 25,
    "start_time": "2021-07-16T21:44:19.651Z"
   },
   {
    "duration": 14,
    "start_time": "2021-07-16T21:44:19.677Z"
   },
   {
    "duration": 11,
    "start_time": "2021-07-16T21:44:19.693Z"
   },
   {
    "duration": 20,
    "start_time": "2021-07-16T21:44:19.705Z"
   },
   {
    "duration": 10,
    "start_time": "2021-07-16T21:44:19.727Z"
   },
   {
    "duration": 8,
    "start_time": "2021-07-16T21:44:19.738Z"
   },
   {
    "duration": 1910,
    "start_time": "2021-07-16T21:44:19.747Z"
   },
   {
    "duration": -326,
    "start_time": "2021-07-16T21:44:21.985Z"
   },
   {
    "duration": -329,
    "start_time": "2021-07-16T21:44:21.989Z"
   },
   {
    "duration": -332,
    "start_time": "2021-07-16T21:44:21.993Z"
   },
   {
    "duration": -335,
    "start_time": "2021-07-16T21:44:21.997Z"
   },
   {
    "duration": -337,
    "start_time": "2021-07-16T21:44:22.000Z"
   },
   {
    "duration": -340,
    "start_time": "2021-07-16T21:44:22.004Z"
   },
   {
    "duration": -343,
    "start_time": "2021-07-16T21:44:22.008Z"
   },
   {
    "duration": -346,
    "start_time": "2021-07-16T21:44:22.012Z"
   },
   {
    "duration": -348,
    "start_time": "2021-07-16T21:44:22.015Z"
   },
   {
    "duration": -351,
    "start_time": "2021-07-16T21:44:22.019Z"
   },
   {
    "duration": -354,
    "start_time": "2021-07-16T21:44:22.023Z"
   },
   {
    "duration": -356,
    "start_time": "2021-07-16T21:44:22.026Z"
   },
   {
    "duration": -359,
    "start_time": "2021-07-16T21:44:22.030Z"
   },
   {
    "duration": -361,
    "start_time": "2021-07-16T21:44:22.033Z"
   },
   {
    "duration": -364,
    "start_time": "2021-07-16T21:44:22.037Z"
   },
   {
    "duration": -367,
    "start_time": "2021-07-16T21:44:22.041Z"
   },
   {
    "duration": -369,
    "start_time": "2021-07-16T21:44:22.044Z"
   },
   {
    "duration": -373,
    "start_time": "2021-07-16T21:44:22.048Z"
   },
   {
    "duration": -375,
    "start_time": "2021-07-16T21:44:22.051Z"
   },
   {
    "duration": -378,
    "start_time": "2021-07-16T21:44:22.055Z"
   },
   {
    "duration": -380,
    "start_time": "2021-07-16T21:44:22.058Z"
   },
   {
    "duration": -392,
    "start_time": "2021-07-16T21:44:22.071Z"
   },
   {
    "duration": -395,
    "start_time": "2021-07-16T21:44:22.075Z"
   },
   {
    "duration": -398,
    "start_time": "2021-07-16T21:44:22.079Z"
   },
   {
    "duration": -400,
    "start_time": "2021-07-16T21:44:22.082Z"
   },
   {
    "duration": -403,
    "start_time": "2021-07-16T21:44:22.086Z"
   },
   {
    "duration": -406,
    "start_time": "2021-07-16T21:44:22.090Z"
   },
   {
    "duration": -409,
    "start_time": "2021-07-16T21:44:22.094Z"
   },
   {
    "duration": -412,
    "start_time": "2021-07-16T21:44:22.097Z"
   },
   {
    "duration": -415,
    "start_time": "2021-07-16T21:44:22.101Z"
   },
   {
    "duration": 26,
    "start_time": "2021-07-16T21:44:34.458Z"
   },
   {
    "duration": 1099,
    "start_time": "2021-07-16T21:46:49.753Z"
   },
   {
    "duration": 17,
    "start_time": "2021-07-16T21:47:31.870Z"
   },
   {
    "duration": 22,
    "start_time": "2021-07-16T21:48:57.130Z"
   },
   {
    "duration": 22,
    "start_time": "2021-07-16T21:49:17.588Z"
   },
   {
    "duration": 6,
    "start_time": "2021-07-16T21:49:33.983Z"
   },
   {
    "duration": 7,
    "start_time": "2021-07-16T21:49:36.442Z"
   },
   {
    "duration": 270,
    "start_time": "2021-07-16T21:49:43.310Z"
   },
   {
    "duration": 21,
    "start_time": "2021-07-16T21:54:22.129Z"
   },
   {
    "duration": 5,
    "start_time": "2021-07-16T21:56:13.816Z"
   },
   {
    "duration": 4,
    "start_time": "2021-07-16T21:56:27.424Z"
   },
   {
    "duration": 5,
    "start_time": "2021-07-16T21:56:46.631Z"
   },
   {
    "duration": 265,
    "start_time": "2021-07-16T21:59:18.345Z"
   },
   {
    "duration": 17,
    "start_time": "2021-07-16T21:59:41.348Z"
   },
   {
    "duration": 1231,
    "start_time": "2021-07-16T22:00:41.465Z"
   },
   {
    "duration": 6376,
    "start_time": "2021-07-16T22:00:44.141Z"
   },
   {
    "duration": 3,
    "start_time": "2021-07-16T22:02:54.152Z"
   },
   {
    "duration": 7,
    "start_time": "2021-07-16T22:02:55.216Z"
   },
   {
    "duration": 1704,
    "start_time": "2021-07-16T22:02:57.846Z"
   },
   {
    "duration": 2,
    "start_time": "2021-07-16T22:04:04.569Z"
   },
   {
    "duration": 54,
    "start_time": "2021-07-16T22:04:04.573Z"
   },
   {
    "duration": 13,
    "start_time": "2021-07-16T22:04:04.629Z"
   },
   {
    "duration": 15,
    "start_time": "2021-07-16T22:04:04.644Z"
   },
   {
    "duration": 9,
    "start_time": "2021-07-16T22:04:04.660Z"
   },
   {
    "duration": 9,
    "start_time": "2021-07-16T22:04:04.670Z"
   },
   {
    "duration": 9,
    "start_time": "2021-07-16T22:04:04.681Z"
   },
   {
    "duration": 9,
    "start_time": "2021-07-16T22:04:04.692Z"
   },
   {
    "duration": 44,
    "start_time": "2021-07-16T22:04:04.703Z"
   },
   {
    "duration": 11,
    "start_time": "2021-07-16T22:04:04.748Z"
   },
   {
    "duration": 10,
    "start_time": "2021-07-16T22:04:04.760Z"
   },
   {
    "duration": 12,
    "start_time": "2021-07-16T22:04:04.771Z"
   },
   {
    "duration": 8,
    "start_time": "2021-07-16T22:04:04.784Z"
   },
   {
    "duration": 19,
    "start_time": "2021-07-16T22:04:04.793Z"
   },
   {
    "duration": 28,
    "start_time": "2021-07-16T22:04:04.813Z"
   },
   {
    "duration": 7,
    "start_time": "2021-07-16T22:04:04.842Z"
   },
   {
    "duration": 11,
    "start_time": "2021-07-16T22:04:04.850Z"
   },
   {
    "duration": 8,
    "start_time": "2021-07-16T22:04:04.862Z"
   },
   {
    "duration": 6,
    "start_time": "2021-07-16T22:04:04.871Z"
   },
   {
    "duration": 14,
    "start_time": "2021-07-16T22:04:04.878Z"
   },
   {
    "duration": 16,
    "start_time": "2021-07-16T22:04:04.894Z"
   },
   {
    "duration": 42,
    "start_time": "2021-07-16T22:04:04.911Z"
   },
   {
    "duration": 15,
    "start_time": "2021-07-16T22:04:04.956Z"
   },
   {
    "duration": 4,
    "start_time": "2021-07-16T22:04:04.973Z"
   },
   {
    "duration": 14,
    "start_time": "2021-07-16T22:04:04.978Z"
   },
   {
    "duration": 5,
    "start_time": "2021-07-16T22:04:04.994Z"
   },
   {
    "duration": 15,
    "start_time": "2021-07-16T22:04:05.001Z"
   },
   {
    "duration": 25,
    "start_time": "2021-07-16T22:04:05.018Z"
   },
   {
    "duration": 7,
    "start_time": "2021-07-16T22:04:05.044Z"
   },
   {
    "duration": 19,
    "start_time": "2021-07-16T22:04:05.053Z"
   },
   {
    "duration": 9,
    "start_time": "2021-07-16T22:04:05.074Z"
   },
   {
    "duration": 6,
    "start_time": "2021-07-16T22:04:05.085Z"
   },
   {
    "duration": 9,
    "start_time": "2021-07-16T22:04:05.093Z"
   },
   {
    "duration": 5,
    "start_time": "2021-07-16T22:04:05.103Z"
   },
   {
    "duration": 11,
    "start_time": "2021-07-16T22:04:05.109Z"
   },
   {
    "duration": 1718,
    "start_time": "2021-07-16T22:04:05.122Z"
   },
   {
    "duration": -375,
    "start_time": "2021-07-16T22:04:07.217Z"
   },
   {
    "duration": -377,
    "start_time": "2021-07-16T22:04:07.220Z"
   },
   {
    "duration": -379,
    "start_time": "2021-07-16T22:04:07.223Z"
   },
   {
    "duration": -382,
    "start_time": "2021-07-16T22:04:07.227Z"
   },
   {
    "duration": -384,
    "start_time": "2021-07-16T22:04:07.229Z"
   },
   {
    "duration": -386,
    "start_time": "2021-07-16T22:04:07.232Z"
   },
   {
    "duration": -391,
    "start_time": "2021-07-16T22:04:07.238Z"
   },
   {
    "duration": -397,
    "start_time": "2021-07-16T22:04:07.245Z"
   },
   {
    "duration": -402,
    "start_time": "2021-07-16T22:04:07.251Z"
   },
   {
    "duration": -418,
    "start_time": "2021-07-16T22:04:07.267Z"
   },
   {
    "duration": -423,
    "start_time": "2021-07-16T22:04:07.273Z"
   },
   {
    "duration": 8,
    "start_time": "2021-07-16T22:04:47.871Z"
   },
   {
    "duration": 1422,
    "start_time": "2021-07-16T22:04:53.757Z"
   },
   {
    "duration": 7748,
    "start_time": "2021-07-16T22:05:02.529Z"
   },
   {
    "duration": 763,
    "start_time": "2021-07-17T09:37:19.511Z"
   },
   {
    "duration": 66,
    "start_time": "2021-07-17T09:37:20.277Z"
   },
   {
    "duration": 30,
    "start_time": "2021-07-17T09:37:20.346Z"
   },
   {
    "duration": 19,
    "start_time": "2021-07-17T09:37:20.378Z"
   },
   {
    "duration": 12,
    "start_time": "2021-07-17T09:37:20.400Z"
   },
   {
    "duration": 13,
    "start_time": "2021-07-17T09:37:20.415Z"
   },
   {
    "duration": 12,
    "start_time": "2021-07-17T09:37:20.463Z"
   },
   {
    "duration": 12,
    "start_time": "2021-07-17T09:37:20.478Z"
   },
   {
    "duration": 10,
    "start_time": "2021-07-17T09:37:20.494Z"
   },
   {
    "duration": 9,
    "start_time": "2021-07-17T09:37:20.507Z"
   },
   {
    "duration": 49,
    "start_time": "2021-07-17T09:37:20.518Z"
   },
   {
    "duration": 12,
    "start_time": "2021-07-17T09:37:20.570Z"
   },
   {
    "duration": 16,
    "start_time": "2021-07-17T09:37:20.585Z"
   },
   {
    "duration": 22,
    "start_time": "2021-07-17T09:37:20.603Z"
   },
   {
    "duration": 13,
    "start_time": "2021-07-17T09:37:20.627Z"
   },
   {
    "duration": 24,
    "start_time": "2021-07-17T09:37:20.642Z"
   },
   {
    "duration": 11,
    "start_time": "2021-07-17T09:37:20.668Z"
   },
   {
    "duration": 13,
    "start_time": "2021-07-17T09:37:20.681Z"
   },
   {
    "duration": 5,
    "start_time": "2021-07-17T09:37:20.697Z"
   },
   {
    "duration": 20,
    "start_time": "2021-07-17T09:37:20.704Z"
   },
   {
    "duration": 57,
    "start_time": "2021-07-17T09:37:20.726Z"
   },
   {
    "duration": 27,
    "start_time": "2021-07-17T09:37:20.785Z"
   },
   {
    "duration": 48,
    "start_time": "2021-07-17T09:37:20.814Z"
   },
   {
    "duration": 6,
    "start_time": "2021-07-17T09:37:20.864Z"
   },
   {
    "duration": 20,
    "start_time": "2021-07-17T09:37:20.872Z"
   },
   {
    "duration": 10,
    "start_time": "2021-07-17T09:37:20.895Z"
   },
   {
    "duration": 21,
    "start_time": "2021-07-17T09:37:20.910Z"
   },
   {
    "duration": 8,
    "start_time": "2021-07-17T09:37:20.963Z"
   },
   {
    "duration": 12,
    "start_time": "2021-07-17T09:37:20.973Z"
   },
   {
    "duration": 25,
    "start_time": "2021-07-17T09:37:20.988Z"
   },
   {
    "duration": 16,
    "start_time": "2021-07-17T09:37:21.016Z"
   },
   {
    "duration": 30,
    "start_time": "2021-07-17T09:37:21.034Z"
   },
   {
    "duration": 25,
    "start_time": "2021-07-17T09:37:21.066Z"
   },
   {
    "duration": 12,
    "start_time": "2021-07-17T09:37:21.093Z"
   },
   {
    "duration": 9,
    "start_time": "2021-07-17T09:37:21.108Z"
   },
   {
    "duration": 2810,
    "start_time": "2021-07-17T09:37:21.119Z"
   },
   {
    "duration": -373,
    "start_time": "2021-07-17T09:37:24.305Z"
   },
   {
    "duration": -376,
    "start_time": "2021-07-17T09:37:24.309Z"
   },
   {
    "duration": -378,
    "start_time": "2021-07-17T09:37:24.313Z"
   },
   {
    "duration": -380,
    "start_time": "2021-07-17T09:37:24.316Z"
   },
   {
    "duration": -381,
    "start_time": "2021-07-17T09:37:24.319Z"
   },
   {
    "duration": -384,
    "start_time": "2021-07-17T09:37:24.323Z"
   },
   {
    "duration": -386,
    "start_time": "2021-07-17T09:37:24.326Z"
   },
   {
    "duration": -387,
    "start_time": "2021-07-17T09:37:24.329Z"
   },
   {
    "duration": -389,
    "start_time": "2021-07-17T09:37:24.332Z"
   },
   {
    "duration": -397,
    "start_time": "2021-07-17T09:37:24.341Z"
   },
   {
    "duration": -400,
    "start_time": "2021-07-17T09:37:24.345Z"
   },
   {
    "duration": 3,
    "start_time": "2021-07-17T09:40:12.847Z"
   },
   {
    "duration": 11,
    "start_time": "2021-07-17T09:40:15.755Z"
   },
   {
    "duration": 2252,
    "start_time": "2021-07-17T09:40:37.303Z"
   },
   {
    "duration": 11,
    "start_time": "2021-07-17T09:41:33.093Z"
   },
   {
    "duration": 318,
    "start_time": "2021-07-17T09:43:25.305Z"
   },
   {
    "duration": 354,
    "start_time": "2021-07-17T09:43:53.632Z"
   },
   {
    "duration": 1342,
    "start_time": "2021-07-17T09:45:32.555Z"
   },
   {
    "duration": 3,
    "start_time": "2021-07-17T09:46:50.267Z"
   },
   {
    "duration": 101,
    "start_time": "2021-07-17T09:46:50.275Z"
   },
   {
    "duration": 22,
    "start_time": "2021-07-17T09:46:50.378Z"
   },
   {
    "duration": 17,
    "start_time": "2021-07-17T09:46:50.404Z"
   },
   {
    "duration": 43,
    "start_time": "2021-07-17T09:46:50.424Z"
   },
   {
    "duration": 14,
    "start_time": "2021-07-17T09:46:50.469Z"
   },
   {
    "duration": 23,
    "start_time": "2021-07-17T09:46:50.486Z"
   },
   {
    "duration": 16,
    "start_time": "2021-07-17T09:46:50.512Z"
   },
   {
    "duration": 38,
    "start_time": "2021-07-17T09:46:50.530Z"
   },
   {
    "duration": 18,
    "start_time": "2021-07-17T09:46:50.572Z"
   },
   {
    "duration": 23,
    "start_time": "2021-07-17T09:46:50.593Z"
   },
   {
    "duration": 15,
    "start_time": "2021-07-17T09:46:50.618Z"
   },
   {
    "duration": 9,
    "start_time": "2021-07-17T09:46:50.635Z"
   },
   {
    "duration": 21,
    "start_time": "2021-07-17T09:46:50.647Z"
   },
   {
    "duration": 9,
    "start_time": "2021-07-17T09:46:50.670Z"
   },
   {
    "duration": 13,
    "start_time": "2021-07-17T09:46:50.682Z"
   },
   {
    "duration": 11,
    "start_time": "2021-07-17T09:46:50.697Z"
   },
   {
    "duration": 9,
    "start_time": "2021-07-17T09:46:50.711Z"
   },
   {
    "duration": 43,
    "start_time": "2021-07-17T09:46:50.722Z"
   },
   {
    "duration": 23,
    "start_time": "2021-07-17T09:46:50.767Z"
   },
   {
    "duration": 25,
    "start_time": "2021-07-17T09:46:50.792Z"
   },
   {
    "duration": 63,
    "start_time": "2021-07-17T09:46:50.819Z"
   },
   {
    "duration": 27,
    "start_time": "2021-07-17T09:46:50.886Z"
   },
   {
    "duration": 7,
    "start_time": "2021-07-17T09:46:50.916Z"
   },
   {
    "duration": 48,
    "start_time": "2021-07-17T09:46:50.926Z"
   },
   {
    "duration": 21,
    "start_time": "2021-07-17T09:46:50.977Z"
   },
   {
    "duration": 15,
    "start_time": "2021-07-17T09:46:51.001Z"
   },
   {
    "duration": 29,
    "start_time": "2021-07-17T09:46:51.019Z"
   },
   {
    "duration": 15,
    "start_time": "2021-07-17T09:46:51.063Z"
   },
   {
    "duration": 16,
    "start_time": "2021-07-17T09:46:51.081Z"
   },
   {
    "duration": 11,
    "start_time": "2021-07-17T09:46:51.100Z"
   },
   {
    "duration": 5,
    "start_time": "2021-07-17T09:46:51.114Z"
   },
   {
    "duration": 15,
    "start_time": "2021-07-17T09:46:51.163Z"
   },
   {
    "duration": 4780,
    "start_time": "2021-07-17T09:46:51.182Z"
   },
   {
    "duration": 38,
    "start_time": "2021-07-17T09:46:55.964Z"
   },
   {
    "duration": 25,
    "start_time": "2021-07-17T09:46:56.004Z"
   },
   {
    "duration": 31,
    "start_time": "2021-07-17T09:46:56.031Z"
   },
   {
    "duration": 34,
    "start_time": "2021-07-17T09:46:56.065Z"
   },
   {
    "duration": 16,
    "start_time": "2021-07-17T09:46:56.101Z"
   },
   {
    "duration": 404,
    "start_time": "2021-07-17T09:46:56.120Z"
   },
   {
    "duration": -236,
    "start_time": "2021-07-17T09:46:56.762Z"
   },
   {
    "duration": -242,
    "start_time": "2021-07-17T09:46:56.769Z"
   },
   {
    "duration": -248,
    "start_time": "2021-07-17T09:46:56.777Z"
   },
   {
    "duration": -254,
    "start_time": "2021-07-17T09:46:56.784Z"
   },
   {
    "duration": -261,
    "start_time": "2021-07-17T09:46:56.793Z"
   },
   {
    "duration": 32,
    "start_time": "2021-07-17T09:47:26.619Z"
   },
   {
    "duration": 101,
    "start_time": "2021-07-17T09:47:46.566Z"
   },
   {
    "duration": 7789,
    "start_time": "2021-07-17T09:48:08.907Z"
   },
   {
    "duration": 33,
    "start_time": "2021-07-17T09:49:21.456Z"
   },
   {
    "duration": 33,
    "start_time": "2021-07-17T09:49:29.276Z"
   },
   {
    "duration": 32,
    "start_time": "2021-07-17T09:49:36.787Z"
   },
   {
    "duration": 21,
    "start_time": "2021-07-17T10:39:05.534Z"
   },
   {
    "duration": 4,
    "start_time": "2021-07-17T10:40:30.774Z"
   },
   {
    "duration": 123,
    "start_time": "2021-07-17T10:43:55.451Z"
   },
   {
    "duration": 123,
    "start_time": "2021-07-17T10:44:00.477Z"
   },
   {
    "duration": 7,
    "start_time": "2021-07-17T10:44:12.306Z"
   },
   {
    "duration": 11,
    "start_time": "2021-07-17T10:45:32.416Z"
   },
   {
    "duration": 23,
    "start_time": "2021-07-17T11:08:23.829Z"
   },
   {
    "duration": 4,
    "start_time": "2021-07-17T11:10:24.726Z"
   },
   {
    "duration": 6,
    "start_time": "2021-07-17T11:10:25.974Z"
   },
   {
    "duration": 10,
    "start_time": "2021-07-17T11:10:26.878Z"
   },
   {
    "duration": 24,
    "start_time": "2021-07-17T11:21:07.141Z"
   },
   {
    "duration": 4,
    "start_time": "2021-07-17T11:21:09.359Z"
   },
   {
    "duration": 7,
    "start_time": "2021-07-17T11:21:10.082Z"
   },
   {
    "duration": 11,
    "start_time": "2021-07-17T11:21:10.796Z"
   },
   {
    "duration": 22,
    "start_time": "2021-07-17T11:27:21.822Z"
   },
   {
    "duration": 4,
    "start_time": "2021-07-17T11:27:23.718Z"
   },
   {
    "duration": 7,
    "start_time": "2021-07-17T11:27:24.941Z"
   },
   {
    "duration": 11,
    "start_time": "2021-07-17T11:27:25.638Z"
   },
   {
    "duration": 5,
    "start_time": "2021-07-17T11:45:05.111Z"
   },
   {
    "duration": 110,
    "start_time": "2021-07-17T11:45:05.119Z"
   },
   {
    "duration": 48,
    "start_time": "2021-07-17T11:45:05.234Z"
   },
   {
    "duration": 31,
    "start_time": "2021-07-17T11:45:05.285Z"
   },
   {
    "duration": 19,
    "start_time": "2021-07-17T11:45:05.319Z"
   },
   {
    "duration": 18,
    "start_time": "2021-07-17T11:45:05.364Z"
   },
   {
    "duration": 21,
    "start_time": "2021-07-17T11:45:05.385Z"
   },
   {
    "duration": 61,
    "start_time": "2021-07-17T11:45:05.411Z"
   },
   {
    "duration": 22,
    "start_time": "2021-07-17T11:45:05.476Z"
   },
   {
    "duration": 29,
    "start_time": "2021-07-17T11:45:05.501Z"
   },
   {
    "duration": 17,
    "start_time": "2021-07-17T11:45:05.533Z"
   },
   {
    "duration": 25,
    "start_time": "2021-07-17T11:45:05.553Z"
   },
   {
    "duration": 31,
    "start_time": "2021-07-17T11:45:05.581Z"
   },
   {
    "duration": 22,
    "start_time": "2021-07-17T11:45:05.614Z"
   },
   {
    "duration": 10,
    "start_time": "2021-07-17T11:45:05.638Z"
   },
   {
    "duration": 15,
    "start_time": "2021-07-17T11:45:05.650Z"
   },
   {
    "duration": 14,
    "start_time": "2021-07-17T11:45:05.667Z"
   },
   {
    "duration": 10,
    "start_time": "2021-07-17T11:45:05.684Z"
   },
   {
    "duration": 34,
    "start_time": "2021-07-17T11:45:05.696Z"
   },
   {
    "duration": 55,
    "start_time": "2021-07-17T11:45:05.733Z"
   },
   {
    "duration": 35,
    "start_time": "2021-07-17T11:45:05.791Z"
   },
   {
    "duration": 57,
    "start_time": "2021-07-17T11:45:05.829Z"
   },
   {
    "duration": 27,
    "start_time": "2021-07-17T11:45:05.893Z"
   },
   {
    "duration": 9,
    "start_time": "2021-07-17T11:45:05.923Z"
   },
   {
    "duration": 42,
    "start_time": "2021-07-17T11:45:05.936Z"
   },
   {
    "duration": 14,
    "start_time": "2021-07-17T11:45:05.980Z"
   },
   {
    "duration": 20,
    "start_time": "2021-07-17T11:45:05.997Z"
   },
   {
    "duration": 24,
    "start_time": "2021-07-17T11:45:06.019Z"
   },
   {
    "duration": 31,
    "start_time": "2021-07-17T11:45:06.045Z"
   },
   {
    "duration": 10,
    "start_time": "2021-07-17T11:45:06.080Z"
   },
   {
    "duration": 11,
    "start_time": "2021-07-17T11:45:06.093Z"
   },
   {
    "duration": 56,
    "start_time": "2021-07-17T11:45:06.106Z"
   },
   {
    "duration": 14,
    "start_time": "2021-07-17T11:45:06.164Z"
   },
   {
    "duration": 5028,
    "start_time": "2021-07-17T11:45:06.181Z"
   },
   {
    "duration": 37,
    "start_time": "2021-07-17T11:45:11.211Z"
   },
   {
    "duration": 27,
    "start_time": "2021-07-17T11:45:11.250Z"
   },
   {
    "duration": 10,
    "start_time": "2021-07-17T11:45:11.280Z"
   },
   {
    "duration": 27,
    "start_time": "2021-07-17T11:45:11.292Z"
   },
   {
    "duration": 56,
    "start_time": "2021-07-17T11:45:11.321Z"
   },
   {
    "duration": 25,
    "start_time": "2021-07-17T11:45:11.379Z"
   },
   {
    "duration": 3,
    "start_time": "2021-07-17T11:45:11.407Z"
   },
   {
    "duration": 9,
    "start_time": "2021-07-17T11:45:11.413Z"
   },
   {
    "duration": 11,
    "start_time": "2021-07-17T11:45:11.463Z"
   },
   {
    "duration": 25,
    "start_time": "2021-07-17T11:45:11.477Z"
   },
   {
    "duration": 4,
    "start_time": "2021-07-17T11:45:11.504Z"
   },
   {
    "duration": 9,
    "start_time": "2021-07-17T11:45:11.511Z"
   },
   {
    "duration": 47,
    "start_time": "2021-07-17T11:45:11.522Z"
   },
   {
    "duration": 26,
    "start_time": "2021-07-17T11:45:11.572Z"
   },
   {
    "duration": 5,
    "start_time": "2021-07-17T11:45:11.600Z"
   },
   {
    "duration": 19,
    "start_time": "2021-07-17T11:45:11.608Z"
   },
   {
    "duration": 36,
    "start_time": "2021-07-17T11:45:11.629Z"
   },
   {
    "duration": 25,
    "start_time": "2021-07-17T11:45:11.667Z"
   },
   {
    "duration": 4,
    "start_time": "2021-07-17T11:45:11.694Z"
   },
   {
    "duration": 15,
    "start_time": "2021-07-17T11:45:11.701Z"
   },
   {
    "duration": 17,
    "start_time": "2021-07-17T11:45:11.719Z"
   },
   {
    "duration": 721,
    "start_time": "2021-07-17T12:02:58.528Z"
   },
   {
    "duration": 66,
    "start_time": "2021-07-17T12:02:59.252Z"
   },
   {
    "duration": 32,
    "start_time": "2021-07-17T12:02:59.322Z"
   },
   {
    "duration": 44,
    "start_time": "2021-07-17T12:02:59.357Z"
   },
   {
    "duration": 15,
    "start_time": "2021-07-17T12:02:59.404Z"
   },
   {
    "duration": 21,
    "start_time": "2021-07-17T12:02:59.421Z"
   },
   {
    "duration": 13,
    "start_time": "2021-07-17T12:02:59.445Z"
   },
   {
    "duration": 44,
    "start_time": "2021-07-17T12:02:59.464Z"
   },
   {
    "duration": 11,
    "start_time": "2021-07-17T12:02:59.512Z"
   },
   {
    "duration": 16,
    "start_time": "2021-07-17T12:02:59.525Z"
   },
   {
    "duration": 17,
    "start_time": "2021-07-17T12:02:59.544Z"
   },
   {
    "duration": 43,
    "start_time": "2021-07-17T12:02:59.563Z"
   },
   {
    "duration": 21,
    "start_time": "2021-07-17T12:02:59.608Z"
   },
   {
    "duration": 15,
    "start_time": "2021-07-17T12:02:59.632Z"
   },
   {
    "duration": 8,
    "start_time": "2021-07-17T12:02:59.650Z"
   },
   {
    "duration": 21,
    "start_time": "2021-07-17T12:02:59.660Z"
   },
   {
    "duration": 20,
    "start_time": "2021-07-17T12:02:59.683Z"
   },
   {
    "duration": 20,
    "start_time": "2021-07-17T12:02:59.705Z"
   },
   {
    "duration": 10,
    "start_time": "2021-07-17T12:02:59.727Z"
   },
   {
    "duration": 28,
    "start_time": "2021-07-17T12:02:59.740Z"
   },
   {
    "duration": 23,
    "start_time": "2021-07-17T12:02:59.771Z"
   },
   {
    "duration": 27,
    "start_time": "2021-07-17T12:02:59.796Z"
   },
   {
    "duration": 21,
    "start_time": "2021-07-17T12:02:59.828Z"
   },
   {
    "duration": 6,
    "start_time": "2021-07-17T12:02:59.852Z"
   },
   {
    "duration": 47,
    "start_time": "2021-07-17T12:02:59.860Z"
   },
   {
    "duration": 18,
    "start_time": "2021-07-17T12:02:59.909Z"
   },
   {
    "duration": 18,
    "start_time": "2021-07-17T12:02:59.929Z"
   },
   {
    "duration": 25,
    "start_time": "2021-07-17T12:02:59.950Z"
   },
   {
    "duration": 13,
    "start_time": "2021-07-17T12:02:59.978Z"
   },
   {
    "duration": 11,
    "start_time": "2021-07-17T12:02:59.994Z"
   },
   {
    "duration": 17,
    "start_time": "2021-07-17T12:03:00.007Z"
   },
   {
    "duration": 22,
    "start_time": "2021-07-17T12:03:00.027Z"
   },
   {
    "duration": 16,
    "start_time": "2021-07-17T12:03:00.052Z"
   },
   {
    "duration": 4295,
    "start_time": "2021-07-17T12:03:00.070Z"
   },
   {
    "duration": 45,
    "start_time": "2021-07-17T12:03:04.368Z"
   },
   {
    "duration": 23,
    "start_time": "2021-07-17T12:03:04.415Z"
   },
   {
    "duration": 9,
    "start_time": "2021-07-17T12:03:04.440Z"
   },
   {
    "duration": 58,
    "start_time": "2021-07-17T12:03:04.451Z"
   },
   {
    "duration": 19,
    "start_time": "2021-07-17T12:03:04.512Z"
   },
   {
    "duration": 24,
    "start_time": "2021-07-17T12:03:04.533Z"
   },
   {
    "duration": 4,
    "start_time": "2021-07-17T12:03:04.559Z"
   },
   {
    "duration": 45,
    "start_time": "2021-07-17T12:03:04.566Z"
   },
   {
    "duration": 12,
    "start_time": "2021-07-17T12:03:04.613Z"
   },
   {
    "duration": 25,
    "start_time": "2021-07-17T12:03:04.628Z"
   },
   {
    "duration": 3,
    "start_time": "2021-07-17T12:03:04.655Z"
   },
   {
    "duration": 40,
    "start_time": "2021-07-17T12:03:04.661Z"
   },
   {
    "duration": 18,
    "start_time": "2021-07-17T12:03:04.703Z"
   },
   {
    "duration": 27,
    "start_time": "2021-07-17T12:03:04.724Z"
   },
   {
    "duration": 4,
    "start_time": "2021-07-17T12:03:04.754Z"
   },
   {
    "duration": 7,
    "start_time": "2021-07-17T12:03:04.761Z"
   },
   {
    "duration": 38,
    "start_time": "2021-07-17T12:03:04.770Z"
   },
   {
    "duration": 22,
    "start_time": "2021-07-17T12:03:04.810Z"
   },
   {
    "duration": 4,
    "start_time": "2021-07-17T12:03:04.834Z"
   },
   {
    "duration": 8,
    "start_time": "2021-07-17T12:03:04.840Z"
   },
   {
    "duration": 13,
    "start_time": "2021-07-17T12:03:04.850Z"
   },
   {
    "duration": 307,
    "start_time": "2022-01-10T20:33:43.494Z"
   },
   {
    "duration": 623,
    "start_time": "2022-01-24T06:46:24.050Z"
   },
   {
    "duration": 48,
    "start_time": "2022-01-24T06:46:24.675Z"
   },
   {
    "duration": 18,
    "start_time": "2022-01-24T06:46:24.725Z"
   },
   {
    "duration": 11,
    "start_time": "2022-01-24T06:46:24.745Z"
   },
   {
    "duration": 17,
    "start_time": "2022-01-24T06:46:24.757Z"
   },
   {
    "duration": 7,
    "start_time": "2022-01-24T06:46:24.776Z"
   },
   {
    "duration": 9,
    "start_time": "2022-01-24T06:46:24.785Z"
   },
   {
    "duration": 7,
    "start_time": "2022-01-24T06:46:24.797Z"
   },
   {
    "duration": 6,
    "start_time": "2022-01-24T06:46:24.806Z"
   },
   {
    "duration": 6,
    "start_time": "2022-01-24T06:46:24.814Z"
   },
   {
    "duration": 7,
    "start_time": "2022-01-24T06:46:24.822Z"
   },
   {
    "duration": 44,
    "start_time": "2022-01-24T06:46:24.830Z"
   },
   {
    "duration": 6,
    "start_time": "2022-01-24T06:46:24.875Z"
   },
   {
    "duration": 8,
    "start_time": "2022-01-24T06:46:24.882Z"
   },
   {
    "duration": 6,
    "start_time": "2022-01-24T06:46:24.891Z"
   },
   {
    "duration": 12,
    "start_time": "2022-01-24T06:46:24.898Z"
   },
   {
    "duration": 11,
    "start_time": "2022-01-24T06:46:24.911Z"
   },
   {
    "duration": 8,
    "start_time": "2022-01-24T06:46:24.924Z"
   },
   {
    "duration": 8,
    "start_time": "2022-01-24T06:46:24.933Z"
   },
   {
    "duration": 16,
    "start_time": "2022-01-24T06:46:24.943Z"
   },
   {
    "duration": 15,
    "start_time": "2022-01-24T06:46:24.972Z"
   },
   {
    "duration": 18,
    "start_time": "2022-01-24T06:46:24.988Z"
   },
   {
    "duration": 16,
    "start_time": "2022-01-24T06:46:25.009Z"
   },
   {
    "duration": 4,
    "start_time": "2022-01-24T06:46:25.027Z"
   },
   {
    "duration": 41,
    "start_time": "2022-01-24T06:46:25.032Z"
   },
   {
    "duration": 7,
    "start_time": "2022-01-24T06:46:25.075Z"
   },
   {
    "duration": 5,
    "start_time": "2022-01-24T06:46:25.083Z"
   },
   {
    "duration": 14,
    "start_time": "2022-01-24T06:46:25.090Z"
   },
   {
    "duration": 11,
    "start_time": "2022-01-24T06:46:25.106Z"
   },
   {
    "duration": 8,
    "start_time": "2022-01-24T06:46:25.118Z"
   },
   {
    "duration": 13,
    "start_time": "2022-01-24T06:46:25.128Z"
   },
   {
    "duration": 9,
    "start_time": "2022-01-24T06:46:25.142Z"
   },
   {
    "duration": 20,
    "start_time": "2022-01-24T06:46:25.152Z"
   },
   {
    "duration": 3208,
    "start_time": "2022-01-24T06:46:25.174Z"
   },
   {
    "duration": 23,
    "start_time": "2022-01-24T06:46:28.383Z"
   },
   {
    "duration": 11,
    "start_time": "2022-01-24T06:46:28.408Z"
   },
   {
    "duration": 8,
    "start_time": "2022-01-24T06:46:28.420Z"
   },
   {
    "duration": 18,
    "start_time": "2022-01-24T06:46:28.429Z"
   },
   {
    "duration": 31,
    "start_time": "2022-01-24T06:46:28.449Z"
   },
   {
    "duration": 14,
    "start_time": "2022-01-24T06:46:28.481Z"
   },
   {
    "duration": 2,
    "start_time": "2022-01-24T06:46:28.496Z"
   },
   {
    "duration": 7,
    "start_time": "2022-01-24T06:46:28.500Z"
   },
   {
    "duration": 7,
    "start_time": "2022-01-24T06:46:28.508Z"
   },
   {
    "duration": 20,
    "start_time": "2022-01-24T06:46:28.517Z"
   },
   {
    "duration": 10,
    "start_time": "2022-01-24T06:46:28.538Z"
   },
   {
    "duration": 23,
    "start_time": "2022-01-24T06:46:28.549Z"
   },
   {
    "duration": 11,
    "start_time": "2022-01-24T06:46:28.574Z"
   },
   {
    "duration": 17,
    "start_time": "2022-01-24T06:46:28.586Z"
   },
   {
    "duration": 2,
    "start_time": "2022-01-24T06:46:28.605Z"
   },
   {
    "duration": 8,
    "start_time": "2022-01-24T06:46:28.609Z"
   },
   {
    "duration": 12,
    "start_time": "2022-01-24T06:46:28.618Z"
   },
   {
    "duration": 18,
    "start_time": "2022-01-24T06:46:28.632Z"
   },
   {
    "duration": 6,
    "start_time": "2022-01-24T06:46:28.651Z"
   },
   {
    "duration": 4,
    "start_time": "2022-01-24T06:46:28.672Z"
   },
   {
    "duration": 12,
    "start_time": "2022-01-24T06:46:28.677Z"
   },
   {
    "duration": 49,
    "start_time": "2022-10-04T12:18:52.197Z"
   },
   {
    "duration": 397,
    "start_time": "2022-10-04T12:18:59.259Z"
   },
   {
    "duration": 296,
    "start_time": "2022-10-04T12:18:59.658Z"
   },
   {
    "duration": 22,
    "start_time": "2022-10-04T12:18:59.955Z"
   },
   {
    "duration": 15,
    "start_time": "2022-10-04T12:18:59.979Z"
   },
   {
    "duration": 11,
    "start_time": "2022-10-04T12:18:59.996Z"
   },
   {
    "duration": 12,
    "start_time": "2022-10-04T12:19:00.009Z"
   },
   {
    "duration": 22,
    "start_time": "2022-10-04T12:19:00.023Z"
   },
   {
    "duration": 15,
    "start_time": "2022-10-04T12:19:00.047Z"
   },
   {
    "duration": 15,
    "start_time": "2022-10-04T12:19:00.064Z"
   },
   {
    "duration": 33,
    "start_time": "2022-10-04T12:19:00.082Z"
   },
   {
    "duration": 8,
    "start_time": "2022-10-04T12:19:00.117Z"
   },
   {
    "duration": 11,
    "start_time": "2022-10-04T12:19:00.127Z"
   },
   {
    "duration": 15,
    "start_time": "2022-10-04T12:19:00.140Z"
   },
   {
    "duration": 34,
    "start_time": "2022-10-04T12:19:00.156Z"
   },
   {
    "duration": 17,
    "start_time": "2022-10-04T12:19:00.192Z"
   },
   {
    "duration": 16,
    "start_time": "2022-10-04T12:19:00.211Z"
   },
   {
    "duration": 15,
    "start_time": "2022-10-04T12:19:00.229Z"
   },
   {
    "duration": 22,
    "start_time": "2022-10-04T12:19:00.245Z"
   },
   {
    "duration": 13,
    "start_time": "2022-10-04T12:19:00.269Z"
   },
   {
    "duration": 8,
    "start_time": "2022-10-04T12:19:00.284Z"
   },
   {
    "duration": 38,
    "start_time": "2022-10-04T12:19:00.294Z"
   },
   {
    "duration": 42,
    "start_time": "2022-10-04T12:19:00.334Z"
   },
   {
    "duration": 20,
    "start_time": "2022-10-04T12:19:00.378Z"
   },
   {
    "duration": 33,
    "start_time": "2022-10-04T12:19:00.400Z"
   },
   {
    "duration": 4,
    "start_time": "2022-10-04T12:19:00.435Z"
   },
   {
    "duration": 32,
    "start_time": "2022-10-04T12:19:00.441Z"
   },
   {
    "duration": 18,
    "start_time": "2022-10-04T12:19:00.475Z"
   },
   {
    "duration": 15,
    "start_time": "2022-10-04T12:19:00.497Z"
   },
   {
    "duration": 24,
    "start_time": "2022-10-04T12:19:00.514Z"
   },
   {
    "duration": 18,
    "start_time": "2022-10-04T12:19:00.539Z"
   },
   {
    "duration": 23,
    "start_time": "2022-10-04T12:19:00.558Z"
   },
   {
    "duration": 19,
    "start_time": "2022-10-04T12:19:00.583Z"
   },
   {
    "duration": 38,
    "start_time": "2022-10-04T12:19:00.603Z"
   },
   {
    "duration": 19,
    "start_time": "2022-10-04T12:19:00.643Z"
   },
   {
    "duration": 3344,
    "start_time": "2022-10-04T12:19:00.664Z"
   },
   {
    "duration": 375,
    "start_time": "2022-10-04T12:19:04.010Z"
   },
   {
    "duration": 11,
    "start_time": "2022-10-04T12:19:04.387Z"
   },
   {
    "duration": 9,
    "start_time": "2022-10-04T12:19:04.400Z"
   },
   {
    "duration": 22,
    "start_time": "2022-10-04T12:19:04.411Z"
   },
   {
    "duration": 12,
    "start_time": "2022-10-04T12:19:04.435Z"
   },
   {
    "duration": 14,
    "start_time": "2022-10-04T12:19:04.448Z"
   },
   {
    "duration": 3,
    "start_time": "2022-10-04T12:19:04.464Z"
   },
   {
    "duration": 6,
    "start_time": "2022-10-04T12:19:04.469Z"
   },
   {
    "duration": 12,
    "start_time": "2022-10-04T12:19:04.477Z"
   },
   {
    "duration": 17,
    "start_time": "2022-10-04T12:19:04.491Z"
   },
   {
    "duration": 30,
    "start_time": "2022-10-04T12:19:04.509Z"
   },
   {
    "duration": 5,
    "start_time": "2022-10-04T12:19:04.540Z"
   },
   {
    "duration": 14,
    "start_time": "2022-10-04T12:19:04.546Z"
   },
   {
    "duration": 15,
    "start_time": "2022-10-04T12:19:04.562Z"
   },
   {
    "duration": 2,
    "start_time": "2022-10-04T12:19:04.579Z"
   },
   {
    "duration": 7,
    "start_time": "2022-10-04T12:19:04.583Z"
   },
   {
    "duration": 13,
    "start_time": "2022-10-04T12:19:04.591Z"
   },
   {
    "duration": 42,
    "start_time": "2022-10-04T12:19:04.606Z"
   },
   {
    "duration": 3,
    "start_time": "2022-10-04T12:19:04.650Z"
   },
   {
    "duration": 6,
    "start_time": "2022-10-04T12:19:04.655Z"
   },
   {
    "duration": 12,
    "start_time": "2022-10-04T12:19:04.663Z"
   },
   {
    "duration": 51,
    "start_time": "2022-10-05T09:49:32.032Z"
   },
   {
    "duration": 412,
    "start_time": "2022-10-05T09:49:41.739Z"
   },
   {
    "duration": 296,
    "start_time": "2022-10-05T09:49:42.154Z"
   },
   {
    "duration": 39,
    "start_time": "2022-10-05T09:49:42.452Z"
   },
   {
    "duration": 13,
    "start_time": "2022-10-05T09:49:42.494Z"
   },
   {
    "duration": 19,
    "start_time": "2022-10-05T09:49:42.509Z"
   },
   {
    "duration": 13,
    "start_time": "2022-10-05T09:49:42.529Z"
   },
   {
    "duration": 15,
    "start_time": "2022-10-05T09:49:42.544Z"
   },
   {
    "duration": 10,
    "start_time": "2022-10-05T09:49:42.561Z"
   },
   {
    "duration": 8,
    "start_time": "2022-10-05T09:49:42.572Z"
   },
   {
    "duration": 56,
    "start_time": "2022-10-05T09:49:42.582Z"
   },
   {
    "duration": 14,
    "start_time": "2022-10-05T09:49:42.640Z"
   },
   {
    "duration": 23,
    "start_time": "2022-10-05T09:49:42.656Z"
   },
   {
    "duration": 8,
    "start_time": "2022-10-05T09:49:42.681Z"
   },
   {
    "duration": 12,
    "start_time": "2022-10-05T09:49:42.691Z"
   },
   {
    "duration": 18,
    "start_time": "2022-10-05T09:49:42.705Z"
   },
   {
    "duration": 16,
    "start_time": "2022-10-05T09:49:42.725Z"
   },
   {
    "duration": 17,
    "start_time": "2022-10-05T09:49:42.743Z"
   },
   {
    "duration": 11,
    "start_time": "2022-10-05T09:49:42.762Z"
   },
   {
    "duration": 17,
    "start_time": "2022-10-05T09:49:42.775Z"
   },
   {
    "duration": 6,
    "start_time": "2022-10-05T09:49:42.794Z"
   },
   {
    "duration": 17,
    "start_time": "2022-10-05T09:49:42.802Z"
   },
   {
    "duration": 21,
    "start_time": "2022-10-05T09:49:42.821Z"
   },
   {
    "duration": 23,
    "start_time": "2022-10-05T09:49:42.843Z"
   },
   {
    "duration": 20,
    "start_time": "2022-10-05T09:49:42.868Z"
   },
   {
    "duration": 5,
    "start_time": "2022-10-05T09:49:42.890Z"
   },
   {
    "duration": 11,
    "start_time": "2022-10-05T09:49:42.921Z"
   },
   {
    "duration": 17,
    "start_time": "2022-10-05T09:49:42.934Z"
   },
   {
    "duration": 6,
    "start_time": "2022-10-05T09:49:42.955Z"
   },
   {
    "duration": 16,
    "start_time": "2022-10-05T09:49:42.963Z"
   },
   {
    "duration": 10,
    "start_time": "2022-10-05T09:49:42.981Z"
   },
   {
    "duration": 27,
    "start_time": "2022-10-05T09:49:42.994Z"
   },
   {
    "duration": 7,
    "start_time": "2022-10-05T09:49:43.023Z"
   },
   {
    "duration": 6,
    "start_time": "2022-10-05T09:49:43.031Z"
   },
   {
    "duration": 11,
    "start_time": "2022-10-05T09:49:43.039Z"
   },
   {
    "duration": 3643,
    "start_time": "2022-10-05T09:49:43.051Z"
   },
   {
    "duration": 583,
    "start_time": "2022-10-05T09:49:46.697Z"
   },
   {
    "duration": 12,
    "start_time": "2022-10-05T09:49:47.282Z"
   },
   {
    "duration": 8,
    "start_time": "2022-10-05T09:49:47.295Z"
   },
   {
    "duration": 23,
    "start_time": "2022-10-05T09:49:47.305Z"
   },
   {
    "duration": 13,
    "start_time": "2022-10-05T09:49:47.329Z"
   },
   {
    "duration": 15,
    "start_time": "2022-10-05T09:49:47.344Z"
   },
   {
    "duration": 8,
    "start_time": "2022-10-05T09:49:47.361Z"
   },
   {
    "duration": 10,
    "start_time": "2022-10-05T09:49:47.371Z"
   },
   {
    "duration": 13,
    "start_time": "2022-10-05T09:49:47.382Z"
   },
   {
    "duration": 18,
    "start_time": "2022-10-05T09:49:47.419Z"
   },
   {
    "duration": 24,
    "start_time": "2022-10-05T09:49:47.439Z"
   },
   {
    "duration": 26,
    "start_time": "2022-10-05T09:49:47.466Z"
   },
   {
    "duration": 19,
    "start_time": "2022-10-05T09:49:47.494Z"
   },
   {
    "duration": 22,
    "start_time": "2022-10-05T09:49:47.516Z"
   },
   {
    "duration": 3,
    "start_time": "2022-10-05T09:49:47.541Z"
   },
   {
    "duration": 14,
    "start_time": "2022-10-05T09:49:47.547Z"
   },
   {
    "duration": 13,
    "start_time": "2022-10-05T09:49:47.564Z"
   },
   {
    "duration": 20,
    "start_time": "2022-10-05T09:49:47.579Z"
   },
   {
    "duration": 12,
    "start_time": "2022-10-05T09:49:47.601Z"
   },
   {
    "duration": 13,
    "start_time": "2022-10-05T09:49:47.615Z"
   },
   {
    "duration": 20,
    "start_time": "2022-10-05T09:49:47.630Z"
   },
   {
    "duration": 19,
    "start_time": "2022-10-05T09:51:51.098Z"
   },
   {
    "duration": 16,
    "start_time": "2022-10-05T09:52:12.173Z"
   },
   {
    "duration": 383,
    "start_time": "2022-10-05T09:55:09.352Z"
   },
   {
    "duration": 75,
    "start_time": "2022-10-05T09:55:09.737Z"
   },
   {
    "duration": 23,
    "start_time": "2022-10-05T09:55:09.814Z"
   },
   {
    "duration": 16,
    "start_time": "2022-10-05T09:55:09.839Z"
   },
   {
    "duration": 10,
    "start_time": "2022-10-05T09:55:09.857Z"
   },
   {
    "duration": 8,
    "start_time": "2022-10-05T09:55:09.868Z"
   },
   {
    "duration": 11,
    "start_time": "2022-10-05T09:55:09.878Z"
   },
   {
    "duration": 9,
    "start_time": "2022-10-05T09:55:09.920Z"
   },
   {
    "duration": 6,
    "start_time": "2022-10-05T09:55:09.932Z"
   },
   {
    "duration": 24,
    "start_time": "2022-10-05T09:55:09.941Z"
   },
   {
    "duration": 6,
    "start_time": "2022-10-05T09:55:09.967Z"
   },
   {
    "duration": 11,
    "start_time": "2022-10-05T09:55:09.974Z"
   },
   {
    "duration": 36,
    "start_time": "2022-10-05T09:55:09.986Z"
   },
   {
    "duration": 17,
    "start_time": "2022-10-05T09:55:10.024Z"
   },
   {
    "duration": 10,
    "start_time": "2022-10-05T09:55:10.043Z"
   },
   {
    "duration": 6,
    "start_time": "2022-10-05T09:55:10.055Z"
   },
   {
    "duration": 7,
    "start_time": "2022-10-05T09:55:10.063Z"
   },
   {
    "duration": 9,
    "start_time": "2022-10-05T09:55:10.072Z"
   },
   {
    "duration": 14,
    "start_time": "2022-10-05T09:55:10.083Z"
   },
   {
    "duration": 22,
    "start_time": "2022-10-05T09:55:10.099Z"
   },
   {
    "duration": 17,
    "start_time": "2022-10-05T09:55:10.123Z"
   },
   {
    "duration": 19,
    "start_time": "2022-10-05T09:55:10.142Z"
   },
   {
    "duration": 23,
    "start_time": "2022-10-05T09:55:10.163Z"
   },
   {
    "duration": 46,
    "start_time": "2022-10-05T09:55:10.188Z"
   },
   {
    "duration": 5,
    "start_time": "2022-10-05T09:55:10.236Z"
   },
   {
    "duration": 18,
    "start_time": "2022-10-05T09:55:10.242Z"
   },
   {
    "duration": 9,
    "start_time": "2022-10-05T09:55:10.262Z"
   },
   {
    "duration": 5,
    "start_time": "2022-10-05T09:55:10.275Z"
   },
   {
    "duration": 41,
    "start_time": "2022-10-05T09:55:10.282Z"
   },
   {
    "duration": 8,
    "start_time": "2022-10-05T09:55:10.325Z"
   },
   {
    "duration": 7,
    "start_time": "2022-10-05T09:55:10.335Z"
   },
   {
    "duration": 7,
    "start_time": "2022-10-05T09:55:10.344Z"
   },
   {
    "duration": 5,
    "start_time": "2022-10-05T09:55:10.353Z"
   },
   {
    "duration": 10,
    "start_time": "2022-10-05T09:55:10.359Z"
   },
   {
    "duration": 3536,
    "start_time": "2022-10-05T09:55:10.371Z"
   },
   {
    "duration": 777,
    "start_time": "2022-10-05T09:55:13.910Z"
   },
   {
    "duration": 12,
    "start_time": "2022-10-05T09:55:14.688Z"
   },
   {
    "duration": 24,
    "start_time": "2022-10-05T09:55:14.701Z"
   },
   {
    "duration": 38,
    "start_time": "2022-10-05T09:55:14.727Z"
   },
   {
    "duration": 35,
    "start_time": "2022-10-05T09:55:14.767Z"
   },
   {
    "duration": 49,
    "start_time": "2022-10-05T09:55:14.804Z"
   },
   {
    "duration": 33,
    "start_time": "2022-10-05T09:55:14.855Z"
   },
   {
    "duration": 11,
    "start_time": "2022-10-05T09:55:14.890Z"
   },
   {
    "duration": 40,
    "start_time": "2022-10-05T09:55:14.902Z"
   },
   {
    "duration": 48,
    "start_time": "2022-10-05T09:55:14.944Z"
   },
   {
    "duration": 30,
    "start_time": "2022-10-05T09:55:14.994Z"
   },
   {
    "duration": 18,
    "start_time": "2022-10-05T09:55:15.025Z"
   },
   {
    "duration": 33,
    "start_time": "2022-10-05T09:55:15.045Z"
   },
   {
    "duration": 23,
    "start_time": "2022-10-05T09:55:15.079Z"
   },
   {
    "duration": 67,
    "start_time": "2022-10-05T09:55:15.104Z"
   },
   {
    "duration": 26,
    "start_time": "2022-10-05T09:55:15.172Z"
   },
   {
    "duration": 44,
    "start_time": "2022-10-05T09:55:15.200Z"
   },
   {
    "duration": 27,
    "start_time": "2022-10-05T09:55:15.246Z"
   },
   {
    "duration": 29,
    "start_time": "2022-10-05T09:55:15.275Z"
   },
   {
    "duration": 33,
    "start_time": "2022-10-05T09:55:15.306Z"
   },
   {
    "duration": 41,
    "start_time": "2022-10-05T09:55:15.341Z"
   },
   {
    "duration": 8,
    "start_time": "2022-10-05T10:02:52.037Z"
   },
   {
    "duration": 45,
    "start_time": "2022-10-05T10:03:51.302Z"
   },
   {
    "duration": 27,
    "start_time": "2022-10-05T10:04:45.026Z"
   },
   {
    "duration": 11,
    "start_time": "2022-10-05T10:05:19.920Z"
   },
   {
    "duration": 53,
    "start_time": "2022-10-05T10:05:26.517Z"
   },
   {
    "duration": 24,
    "start_time": "2022-10-05T10:05:30.514Z"
   },
   {
    "duration": 9,
    "start_time": "2022-10-05T10:18:33.867Z"
   },
   {
    "duration": 678,
    "start_time": "2022-10-05T10:19:42.675Z"
   },
   {
    "duration": 290,
    "start_time": "2022-10-05T10:19:58.516Z"
   },
   {
    "duration": 8,
    "start_time": "2022-10-05T10:22:20.607Z"
   },
   {
    "duration": 51,
    "start_time": "2022-10-05T10:22:46.969Z"
   },
   {
    "duration": 242,
    "start_time": "2022-10-05T10:22:52.584Z"
   },
   {
    "duration": 198,
    "start_time": "2022-10-05T10:23:43.105Z"
   },
   {
    "duration": 448,
    "start_time": "2022-10-05T10:23:48.690Z"
   },
   {
    "duration": 422,
    "start_time": "2022-10-05T10:24:09.084Z"
   },
   {
    "duration": 75,
    "start_time": "2022-10-05T10:24:09.508Z"
   },
   {
    "duration": 23,
    "start_time": "2022-10-05T10:24:09.584Z"
   },
   {
    "duration": 17,
    "start_time": "2022-10-05T10:24:09.610Z"
   },
   {
    "duration": 10,
    "start_time": "2022-10-05T10:24:09.629Z"
   },
   {
    "duration": 9,
    "start_time": "2022-10-05T10:24:09.641Z"
   },
   {
    "duration": 14,
    "start_time": "2022-10-05T10:24:09.652Z"
   },
   {
    "duration": 9,
    "start_time": "2022-10-05T10:24:09.669Z"
   },
   {
    "duration": 7,
    "start_time": "2022-10-05T10:24:09.680Z"
   },
   {
    "duration": 25,
    "start_time": "2022-10-05T10:24:09.723Z"
   },
   {
    "duration": 9,
    "start_time": "2022-10-05T10:24:09.750Z"
   },
   {
    "duration": 19,
    "start_time": "2022-10-05T10:24:09.760Z"
   },
   {
    "duration": 10,
    "start_time": "2022-10-05T10:24:09.781Z"
   },
   {
    "duration": 8,
    "start_time": "2022-10-05T10:24:09.793Z"
   },
   {
    "duration": 11,
    "start_time": "2022-10-05T10:24:09.821Z"
   },
   {
    "duration": 9,
    "start_time": "2022-10-05T10:24:09.834Z"
   },
   {
    "duration": 8,
    "start_time": "2022-10-05T10:24:09.845Z"
   },
   {
    "duration": 15,
    "start_time": "2022-10-05T10:24:09.855Z"
   },
   {
    "duration": 15,
    "start_time": "2022-10-05T10:24:09.871Z"
   },
   {
    "duration": 8,
    "start_time": "2022-10-05T10:24:09.888Z"
   },
   {
    "duration": 32,
    "start_time": "2022-10-05T10:24:09.897Z"
   },
   {
    "duration": 19,
    "start_time": "2022-10-05T10:24:09.932Z"
   },
   {
    "duration": 22,
    "start_time": "2022-10-05T10:24:09.954Z"
   },
   {
    "duration": 48,
    "start_time": "2022-10-05T10:24:09.978Z"
   },
   {
    "duration": 6,
    "start_time": "2022-10-05T10:24:10.028Z"
   },
   {
    "duration": 27,
    "start_time": "2022-10-05T10:24:10.036Z"
   },
   {
    "duration": 21,
    "start_time": "2022-10-05T10:24:10.065Z"
   },
   {
    "duration": 12,
    "start_time": "2022-10-05T10:24:10.089Z"
   },
   {
    "duration": 20,
    "start_time": "2022-10-05T10:24:10.103Z"
   },
   {
    "duration": 14,
    "start_time": "2022-10-05T10:24:10.125Z"
   },
   {
    "duration": 9,
    "start_time": "2022-10-05T10:24:10.140Z"
   },
   {
    "duration": 12,
    "start_time": "2022-10-05T10:24:10.150Z"
   },
   {
    "duration": 3,
    "start_time": "2022-10-05T10:24:10.163Z"
   },
   {
    "duration": 10,
    "start_time": "2022-10-05T10:24:10.168Z"
   },
   {
    "duration": 3451,
    "start_time": "2022-10-05T10:24:10.180Z"
   },
   {
    "duration": 409,
    "start_time": "2022-10-05T10:24:13.633Z"
   },
   {
    "duration": 11,
    "start_time": "2022-10-05T10:24:14.044Z"
   },
   {
    "duration": 20,
    "start_time": "2022-10-05T10:24:14.057Z"
   },
   {
    "duration": 42,
    "start_time": "2022-10-05T10:24:14.079Z"
   },
   {
    "duration": 12,
    "start_time": "2022-10-05T10:24:14.123Z"
   },
   {
    "duration": 21,
    "start_time": "2022-10-05T10:24:14.136Z"
   },
   {
    "duration": 14,
    "start_time": "2022-10-05T10:24:14.158Z"
   },
   {
    "duration": 38,
    "start_time": "2022-10-05T10:24:14.173Z"
   },
   {
    "duration": 25,
    "start_time": "2022-10-05T10:24:14.213Z"
   },
   {
    "duration": 32,
    "start_time": "2022-10-05T10:24:14.240Z"
   },
   {
    "duration": 28,
    "start_time": "2022-10-05T10:24:14.273Z"
   },
   {
    "duration": 18,
    "start_time": "2022-10-05T10:24:14.303Z"
   },
   {
    "duration": 15,
    "start_time": "2022-10-05T10:24:14.323Z"
   },
   {
    "duration": 37,
    "start_time": "2022-10-05T10:24:14.340Z"
   },
   {
    "duration": 17,
    "start_time": "2022-10-05T10:24:14.379Z"
   },
   {
    "duration": 16,
    "start_time": "2022-10-05T10:24:14.397Z"
   },
   {
    "duration": 27,
    "start_time": "2022-10-05T10:24:14.415Z"
   },
   {
    "duration": 25,
    "start_time": "2022-10-05T10:24:14.444Z"
   },
   {
    "duration": 17,
    "start_time": "2022-10-05T10:24:14.470Z"
   },
   {
    "duration": 33,
    "start_time": "2022-10-05T10:24:14.488Z"
   },
   {
    "duration": 28,
    "start_time": "2022-10-05T10:24:14.523Z"
   },
   {
    "duration": 6,
    "start_time": "2022-10-05T10:26:13.253Z"
   }
  ],
  "kernelspec": {
   "display_name": "Python 3",
   "language": "python",
   "name": "python3"
  },
  "language_info": {
   "codemirror_mode": {
    "name": "ipython",
    "version": 3
   },
   "file_extension": ".py",
   "mimetype": "text/x-python",
   "name": "python",
   "nbconvert_exporter": "python",
   "pygments_lexer": "ipython3",
   "version": "3.8.8"
  },
  "toc": {
   "base_numbering": 1,
   "nav_menu": {},
   "number_sections": true,
   "sideBar": true,
   "skip_h1_title": true,
   "title_cell": "Table of Contents",
   "title_sidebar": "Contents",
   "toc_cell": false,
   "toc_position": {},
   "toc_section_display": true,
   "toc_window_display": false
  }
 },
 "nbformat": 4,
 "nbformat_minor": 2
}
