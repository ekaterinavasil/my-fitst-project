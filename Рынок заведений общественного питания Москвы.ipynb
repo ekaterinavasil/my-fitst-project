{
 "cells": [
  {
   "cell_type": "markdown",
   "metadata": {},
   "source": [
    "<a id=\"presentation\"></a>\n",
    "#  Презентация"
   ]
  },
  {
   "cell_type": "markdown",
   "metadata": {},
   "source": [
    "* [Презентация](https://drive.google.com/file/d/1ofpxUx0YIGwfjOTp-jBnAVzVn2b2ZcW_/view?usp=sharing)"
   ]
  },
  {
   "cell_type": "markdown",
   "metadata": {},
   "source": [
    "# Оглавление:\n",
    "1. [Презентация](#presentation) \n",
    "2. [Описание проекта](#description)\n",
    "3. [Описание данных](#data)\n",
    "4. [Загрузка данных и подготовка их к анализу](#start)\n",
    "5. [Анализ данных](#preprocessing)\n",
    "    * [Исследование соотношения видов объектов общественного питания по количеству и постороенние графика](#number_of_cafes)\n",
    "    * [Исследвание соотношеня сетевых и несетевых заведений по количеству и построение графика](#chain)\n",
    "    * [Для какого вида объекта общественного питания характерно сетевое распространение?](#object_type_chain)\n",
    "    * [Что характерно для сетевых заведений: много заведений с небольшим числом посадочных мест в каждом или мало заведений с большим количеством посадочных мест?](#number)\n",
    "    * [Для каждого вида объекта общественного питания опишите среднее количество посадочных мест. Какой вид предоставляет в среднем самое большое количество посадочных мест? Постройте графики.](#object_type_number)\n",
    "    * [Выделяем в отдельный столбец информацию об улице из столбца address](#address)\n",
    "    * [Построение графика топ-10 улиц по количеству объектов общественного питания. Воспользуйтесь внешней информацией и ответьте на вопрос — в каких районах Москвы находятся эти улицы?](#top10_street)\n",
    "    * [Находим число улиц с одним объектом общественного питания. Воспользуйтесь внешней информацией и ответьте на вопрос — в каких районах Москвы находятся эти улицы?](#one_id_streets)\n",
    "    * [Изучение распределения количества посадочных мест для улиц с большим количеством объектов общественного питания. Какие закономерности можно выявить?](#heatmap)\n",
    "6. [Выводы и рекомендации](#conclusion)"
   ]
  },
  {
   "cell_type": "markdown",
   "metadata": {},
   "source": [
    "# Описание проекта"
   ]
  },
  {
   "cell_type": "markdown",
   "metadata": {},
   "source": [
    "Вы решили открыть небольшое кафе в Москве. Оно оригинальное — гостей должны обслуживать роботы. Проект многообещающий, но дорогой. Вместе с партнёрами вы решились обратиться к инвесторам. Их интересует текущее положение дел на рынке — сможете ли вы снискать популярность на долгое время, когда все зеваки насмотрятся на роботов-официантов?"
   ]
  },
  {
   "cell_type": "markdown",
   "metadata": {},
   "source": [
    "# Описание данных"
   ]
  },
  {
   "cell_type": "markdown",
   "metadata": {},
   "source": [
    "Таблица data:\n",
    "- id — идентификатор объекта;\n",
    "- object_name — название объекта общественного питания;\n",
    "- chain — сетевой ресторан;\n",
    "- object_type — тип объекта общественного питания;\n",
    "- address — адрес;\n",
    "- number — количество посадочных мест."
   ]
  },
  {
   "cell_type": "markdown",
   "metadata": {},
   "source": [
    "<a id=\"start\"></a>\n",
    "#  Загрузка данных и подготовка их к анализу"
   ]
  },
  {
   "cell_type": "markdown",
   "metadata": {},
   "source": [
    "Загружаем данные о заведениях общественного питания Москвы. Проверем, что тип данных в каждой колонке — правильный, а также отсутствуют пропущенные значения и дубликаты. При необходимости обработаем их."
   ]
  },
  {
   "cell_type": "code",
   "execution_count": 1,
   "metadata": {},
   "outputs": [],
   "source": [
    "# импортируем библиотеки\n",
    "import pandas as pd\n",
    "import matplotlib.pyplot as plt\n",
    "import seaborn as sns\n",
    "from io import BytesIO\n",
    "import requests"
   ]
  },
  {
   "cell_type": "code",
   "execution_count": 2,
   "metadata": {},
   "outputs": [
    {
     "data": {
      "text/html": [
       "<div>\n",
       "<style scoped>\n",
       "    .dataframe tbody tr th:only-of-type {\n",
       "        vertical-align: middle;\n",
       "    }\n",
       "\n",
       "    .dataframe tbody tr th {\n",
       "        vertical-align: top;\n",
       "    }\n",
       "\n",
       "    .dataframe thead th {\n",
       "        text-align: right;\n",
       "    }\n",
       "</style>\n",
       "<table border=\"1\" class=\"dataframe\">\n",
       "  <thead>\n",
       "    <tr style=\"text-align: right;\">\n",
       "      <th></th>\n",
       "      <th>id</th>\n",
       "      <th>object_name</th>\n",
       "      <th>chain</th>\n",
       "      <th>object_type</th>\n",
       "      <th>address</th>\n",
       "      <th>number</th>\n",
       "    </tr>\n",
       "  </thead>\n",
       "  <tbody>\n",
       "    <tr>\n",
       "      <th>0</th>\n",
       "      <td>151635</td>\n",
       "      <td>СМЕТАНА</td>\n",
       "      <td>нет</td>\n",
       "      <td>кафе</td>\n",
       "      <td>город Москва, улица Егора Абакумова, дом 9</td>\n",
       "      <td>48</td>\n",
       "    </tr>\n",
       "    <tr>\n",
       "      <th>1</th>\n",
       "      <td>77874</td>\n",
       "      <td>Родник</td>\n",
       "      <td>нет</td>\n",
       "      <td>кафе</td>\n",
       "      <td>город Москва, улица Талалихина, дом 2/1, корпус 1</td>\n",
       "      <td>35</td>\n",
       "    </tr>\n",
       "    <tr>\n",
       "      <th>2</th>\n",
       "      <td>24309</td>\n",
       "      <td>Кафе «Академия»</td>\n",
       "      <td>нет</td>\n",
       "      <td>кафе</td>\n",
       "      <td>город Москва, Абельмановская улица, дом 6</td>\n",
       "      <td>95</td>\n",
       "    </tr>\n",
       "    <tr>\n",
       "      <th>3</th>\n",
       "      <td>21894</td>\n",
       "      <td>ПИЦЦЕТОРИЯ</td>\n",
       "      <td>да</td>\n",
       "      <td>кафе</td>\n",
       "      <td>город Москва, Абрамцевская улица, дом 1</td>\n",
       "      <td>40</td>\n",
       "    </tr>\n",
       "    <tr>\n",
       "      <th>4</th>\n",
       "      <td>119365</td>\n",
       "      <td>Кафе «Вишневая метель»</td>\n",
       "      <td>нет</td>\n",
       "      <td>кафе</td>\n",
       "      <td>город Москва, Абрамцевская улица, дом 9, корпус 1</td>\n",
       "      <td>50</td>\n",
       "    </tr>\n",
       "  </tbody>\n",
       "</table>\n",
       "</div>"
      ],
      "text/plain": [
       "       id             object_name chain object_type  \\\n",
       "0  151635                 СМЕТАНА   нет        кафе   \n",
       "1   77874                  Родник   нет        кафе   \n",
       "2   24309         Кафе «Академия»   нет        кафе   \n",
       "3   21894              ПИЦЦЕТОРИЯ    да        кафе   \n",
       "4  119365  Кафе «Вишневая метель»   нет        кафе   \n",
       "\n",
       "                                             address  number  \n",
       "0         город Москва, улица Егора Абакумова, дом 9      48  \n",
       "1  город Москва, улица Талалихина, дом 2/1, корпус 1      35  \n",
       "2          город Москва, Абельмановская улица, дом 6      95  \n",
       "3            город Москва, Абрамцевская улица, дом 1      40  \n",
       "4  город Москва, Абрамцевская улица, дом 9, корпус 1      50  "
      ]
     },
     "execution_count": 2,
     "metadata": {},
     "output_type": "execute_result"
    }
   ],
   "source": [
    "# создаем таблицу 'data' и вызываем первые пять строк таблицы\n",
    "data = pd.read_csv('/datasets/rest_data.csv')\n",
    "data.head()"
   ]
  },
  {
   "cell_type": "code",
   "execution_count": 3,
   "metadata": {},
   "outputs": [
    {
     "name": "stdout",
     "output_type": "stream",
     "text": [
      "<class 'pandas.core.frame.DataFrame'>\n",
      "RangeIndex: 15366 entries, 0 to 15365\n",
      "Data columns (total 6 columns):\n",
      " #   Column       Non-Null Count  Dtype \n",
      "---  ------       --------------  ----- \n",
      " 0   id           15366 non-null  int64 \n",
      " 1   object_name  15366 non-null  object\n",
      " 2   chain        15366 non-null  object\n",
      " 3   object_type  15366 non-null  object\n",
      " 4   address      15366 non-null  object\n",
      " 5   number       15366 non-null  int64 \n",
      "dtypes: int64(2), object(4)\n",
      "memory usage: 720.4+ KB\n"
     ]
    }
   ],
   "source": [
    "# запрашиваем информацию о таблице\n",
    "data.info()"
   ]
  },
  {
   "cell_type": "markdown",
   "metadata": {},
   "source": [
    "Как мы видим, с типом данных в датасете все хорошо - значения числового типа имеют тип данных int, а не численные значения - тип object. Кроме того, в датасете отсутствуют пропуски."
   ]
  },
  {
   "cell_type": "markdown",
   "metadata": {},
   "source": [
    "    Непрямые дубликаты"
   ]
  },
  {
   "cell_type": "markdown",
   "metadata": {},
   "source": [
    "Проверим, есть и в столбцах уникальные значения при помощи метода unique(). Имеет смысл проверить на наличие таких дубликатов только столбец `object_type`, т.к. в нем мы сможем найти опечатку. "
   ]
  },
  {
   "cell_type": "code",
   "execution_count": 4,
   "metadata": {},
   "outputs": [
    {
     "data": {
      "text/plain": [
       "array(['кафе', 'столовая', 'закусочная',\n",
       "       'предприятие быстрого обслуживания', 'ресторан', 'кафетерий',\n",
       "       'буфет', 'бар', 'магазин (отдел кулинарии)'], dtype=object)"
      ]
     },
     "execution_count": 4,
     "metadata": {},
     "output_type": "execute_result"
    }
   ],
   "source": [
    "# просмотр уникальных названий типов заведений\n",
    "data['object_type'].unique()"
   ]
  },
  {
   "cell_type": "markdown",
   "metadata": {},
   "source": [
    "Так же переведем названия наших заведений в нижний регистр."
   ]
  },
  {
   "cell_type": "code",
   "execution_count": 5,
   "metadata": {},
   "outputs": [],
   "source": [
    "# приводим столбец к нижнему регистру\n",
    "data['object_name'] = data['object_name'].str.lower()"
   ]
  },
  {
   "cell_type": "markdown",
   "metadata": {},
   "source": [
    "    Прямые дубликаты"
   ]
  },
  {
   "cell_type": "markdown",
   "metadata": {},
   "source": [
    "Однако, чтоб работать с нашими данными, надо еще проверить их на наличие дубликатов, что мы дальше и будем делать. Поскольку идентификатор объекта уникален, то нет смысла проверять всю таблицу на наличие дубликатов. Проверим тогда лишь некоторые столбцы, такие как `object_name` и `address`."
   ]
  },
  {
   "cell_type": "code",
   "execution_count": 6,
   "metadata": {},
   "outputs": [
    {
     "data": {
      "text/plain": [
       "5442"
      ]
     },
     "execution_count": 6,
     "metadata": {},
     "output_type": "execute_result"
    }
   ],
   "source": [
    "# проверяем на наличие дубликатов столбец object_name\n",
    "data['object_name'].duplicated().sum()"
   ]
  },
  {
   "cell_type": "markdown",
   "metadata": {},
   "source": [
    "Как видим, у нас много прямых дубликатов. Посмотрим на топ-10 наиболее встречающихся названия объекта общественного питания при помощи метода value_counts()."
   ]
  },
  {
   "cell_type": "code",
   "execution_count": 7,
   "metadata": {},
   "outputs": [
    {
     "data": {
      "text/plain": [
       "столовая           321\n",
       "кафе               278\n",
       "шаурма             250\n",
       "шоколадница        158\n",
       "kfc                155\n",
       "макдоналдс         151\n",
       "бургер кинг        137\n",
       "теремок             94\n",
       "крошка картошка     90\n",
       "домино'с пицца      90\n",
       "Name: object_name, dtype: int64"
      ]
     },
     "execution_count": 7,
     "metadata": {},
     "output_type": "execute_result"
    }
   ],
   "source": [
    "# выводим топ-10 наиболее встречающихся дубликатов на экран\n",
    "data['object_name'].value_counts().head(10)"
   ]
  },
  {
   "cell_type": "markdown",
   "metadata": {},
   "source": [
    "Как мы видим, повторяются у нас названия общеизвестных сетевых заведений - kfc, теремок, шоколадница и др.Кроме того, не является редкостью название небольших несетевых заведений - кафе, столовая, шаурма. \n",
    "\n",
    "Таким образом, такие дубликаты не стоить как-либо менять или удалять, ведь так мы потеряем большую часть данных, что естественным образом скажется на результатах нашего исследования.\n"
   ]
  },
  {
   "cell_type": "markdown",
   "metadata": {},
   "source": [
    "Теперь обратим внимание на столбец `address` и проделаем все те же манипуляции с нашими данными."
   ]
  },
  {
   "cell_type": "code",
   "execution_count": 8,
   "metadata": {},
   "outputs": [
    {
     "data": {
      "text/plain": [
       "6258"
      ]
     },
     "execution_count": 8,
     "metadata": {},
     "output_type": "execute_result"
    }
   ],
   "source": [
    "# проверяем на наличие дубликатов столбец address\n",
    "data['address'].duplicated().sum()"
   ]
  },
  {
   "cell_type": "markdown",
   "metadata": {},
   "source": [
    "Аналогично много прямых дубликатов. Изучим их повнимательнее."
   ]
  },
  {
   "cell_type": "code",
   "execution_count": 9,
   "metadata": {},
   "outputs": [
    {
     "data": {
      "text/plain": [
       "город Москва, Ходынский бульвар, дом 4            95\n",
       "город Москва, Пресненская набережная, дом 2       63\n",
       "город Москва, проспект Мира, дом 211, корпус 2    60\n",
       "город Москва, Кировоградская улица, дом 13А       53\n",
       "город Москва, площадь Киевского Вокзала, дом 2    48\n",
       "город Москва, улица Земляной Вал, дом 33          46\n",
       "город Москва, Мытная улица, дом 74                46\n",
       "город Москва, улица Новый Арбат, дом 21           42\n",
       "город Москва, улица Ленинская Слобода, дом 26     41\n",
       "город Москва, Ярцевская улица, дом 19             40\n",
       "Name: address, dtype: int64"
      ]
     },
     "execution_count": 9,
     "metadata": {},
     "output_type": "execute_result"
    }
   ],
   "source": [
    "# выводим топ-10 наиболее встречающихся дубликатов на экран\n",
    "data['address'].value_counts().head(10)"
   ]
  },
  {
   "cell_type": "markdown",
   "metadata": {},
   "source": [
    "Используя интернет можно с легкостью узнать, что по данным адресам находятся торгово-развлекательные центры. Например, наш лидер по количеству заведений,  Ходынский бульвар, дом 4 - это адрес ТРЦ Авиапарк, следующий адрес - Пресненская набережная, дом 2  - ТРЦ  Афимол. Проспект Мира, дом 211, корпус 2 - адрес ТРЦ Европолис. Естественно, что данные адреса встречаются не по одному разу: в торговых центрах зачастую есть большое количество заведений общественного питания.\n",
    "\n",
    "В связи с этим, не стоит вносить изменения в этото столбец, чтоб не получить неточности в дальнейших расчетах."
   ]
  },
  {
   "cell_type": "markdown",
   "metadata": {},
   "source": [
    "**ВЫВОД**"
   ]
  },
  {
   "cell_type": "markdown",
   "metadata": {},
   "source": [
    "При обработке данных мы заменили все данные на нижний регистр. При проверки данных на прямые и не прямые дубликаты не было найдено никаких ошибок. Теперь данные готовы к анализу."
   ]
  },
  {
   "cell_type": "markdown",
   "metadata": {},
   "source": [
    "<a id=\"preprocessing\"></a>\n",
    "# Анализ данных"
   ]
  },
  {
   "cell_type": "markdown",
   "metadata": {},
   "source": [
    "<a id=\"number_of_cafes\"></a>\n",
    "##### Исследуем соотношение видов объектов общественного питания по количеству и построим график."
   ]
  },
  {
   "cell_type": "markdown",
   "metadata": {},
   "source": [
    "Для данного исследования мы применим value_counts() к столбцу `object_type`, для того, чтоб узнать количество уникальных совпадений в этой колонке. Затем вернем не Series, а DataFrame, для последующего использования этих данных в построении гистограммы.\n",
    "\n",
    "После построим столбчатую гистограмму для большей наглядности на основе нашего дата фрейма."
   ]
  },
  {
   "cell_type": "code",
   "execution_count": 10,
   "metadata": {},
   "outputs": [
    {
     "data": {
      "text/html": [
       "<div>\n",
       "<style scoped>\n",
       "    .dataframe tbody tr th:only-of-type {\n",
       "        vertical-align: middle;\n",
       "    }\n",
       "\n",
       "    .dataframe tbody tr th {\n",
       "        vertical-align: top;\n",
       "    }\n",
       "\n",
       "    .dataframe thead th {\n",
       "        text-align: right;\n",
       "    }\n",
       "</style>\n",
       "<table border=\"1\" class=\"dataframe\">\n",
       "  <thead>\n",
       "    <tr style=\"text-align: right;\">\n",
       "      <th></th>\n",
       "      <th>index</th>\n",
       "      <th>object_type</th>\n",
       "    </tr>\n",
       "  </thead>\n",
       "  <tbody>\n",
       "    <tr>\n",
       "      <th>0</th>\n",
       "      <td>кафе</td>\n",
       "      <td>6099</td>\n",
       "    </tr>\n",
       "    <tr>\n",
       "      <th>1</th>\n",
       "      <td>столовая</td>\n",
       "      <td>2587</td>\n",
       "    </tr>\n",
       "    <tr>\n",
       "      <th>2</th>\n",
       "      <td>ресторан</td>\n",
       "      <td>2285</td>\n",
       "    </tr>\n",
       "    <tr>\n",
       "      <th>3</th>\n",
       "      <td>предприятие быстрого обслуживания</td>\n",
       "      <td>1923</td>\n",
       "    </tr>\n",
       "    <tr>\n",
       "      <th>4</th>\n",
       "      <td>бар</td>\n",
       "      <td>856</td>\n",
       "    </tr>\n",
       "    <tr>\n",
       "      <th>5</th>\n",
       "      <td>буфет</td>\n",
       "      <td>585</td>\n",
       "    </tr>\n",
       "    <tr>\n",
       "      <th>6</th>\n",
       "      <td>кафетерий</td>\n",
       "      <td>398</td>\n",
       "    </tr>\n",
       "    <tr>\n",
       "      <th>7</th>\n",
       "      <td>закусочная</td>\n",
       "      <td>360</td>\n",
       "    </tr>\n",
       "    <tr>\n",
       "      <th>8</th>\n",
       "      <td>магазин (отдел кулинарии)</td>\n",
       "      <td>273</td>\n",
       "    </tr>\n",
       "  </tbody>\n",
       "</table>\n",
       "</div>"
      ],
      "text/plain": [
       "                               index  object_type\n",
       "0                               кафе         6099\n",
       "1                           столовая         2587\n",
       "2                           ресторан         2285\n",
       "3  предприятие быстрого обслуживания         1923\n",
       "4                                бар          856\n",
       "5                              буфет          585\n",
       "6                          кафетерий          398\n",
       "7                         закусочная          360\n",
       "8          магазин (отдел кулинарии)          273"
      ]
     },
     "execution_count": 10,
     "metadata": {},
     "output_type": "execute_result"
    }
   ],
   "source": [
    "# применяем метод value_counts() \n",
    "value_counts = data['object_type'].value_counts()\n",
    "df_value_counts = pd.DataFrame(value_counts)\n",
    "# сбросим индексы методом reset_index()\n",
    "df_value_counts = df_value_counts.reset_index()\n",
    "df_value_counts"
   ]
  },
  {
   "cell_type": "markdown",
   "metadata": {},
   "source": [
    "Теперь строим столбчатую диаграмму."
   ]
  },
  {
   "cell_type": "code",
   "execution_count": 11,
   "metadata": {},
   "outputs": [
    {
     "data": {
      "image/png": "[encoded data removed]",
      "text/plain": [
       "<Figure size 432x288 with 1 Axes>"
      ]
     },
     "metadata": {},
     "output_type": "display_data"
    }
   ],
   "source": [
    "# устанавливаем стиль 'whitegrid' для нашей гистограммы\n",
    "sns.set_style(\"whitegrid\")\n",
    "# устанавливаем заголовок гистограммы\n",
    "plt.title('Cоотношение видов объектов общественного питания по количеству')\n",
    "# строим гистограмму методом barplot()\n",
    "sns.barplot(x='object_type', y='index', data=df_value_counts)\n",
    "# задаем название осям нашей гистограммы \n",
    "plt.xlabel(\"Количество\")\n",
    "plt.ylabel(\"Тип заведения\")\n",
    "plt.show()"
   ]
  },
  {
   "cell_type": "markdown",
   "metadata": {},
   "source": [
    "Лидирующим типом заведений является:\n",
    " * кафе (6 тыс. заведений);\n",
    " * почти вровень столовые и рестораны (около 2.5 тыс. заведений);\n",
    " * cамые малочисленные заведения в Москве - кафетерии, закусочные и отдел кулинарии в магазине (до 400 заведений)."
   ]
  },
  {
   "cell_type": "markdown",
   "metadata": {},
   "source": [
    "<a id=\"chain\"></a>\n",
    "##### Исследуем соотношение сетевых и несетевых заведений по количеству и строим график."
   ]
  },
  {
   "cell_type": "markdown",
   "metadata": {},
   "source": [
    "Проведем анализ в соответствии с предыдущим  пунктом, но за основу уже возьмем столбец `chain`."
   ]
  },
  {
   "cell_type": "code",
   "execution_count": 12,
   "metadata": {},
   "outputs": [
    {
     "data": {
      "text/html": [
       "<div>\n",
       "<style scoped>\n",
       "    .dataframe tbody tr th:only-of-type {\n",
       "        vertical-align: middle;\n",
       "    }\n",
       "\n",
       "    .dataframe tbody tr th {\n",
       "        vertical-align: top;\n",
       "    }\n",
       "\n",
       "    .dataframe thead th {\n",
       "        text-align: right;\n",
       "    }\n",
       "</style>\n",
       "<table border=\"1\" class=\"dataframe\">\n",
       "  <thead>\n",
       "    <tr style=\"text-align: right;\">\n",
       "      <th></th>\n",
       "      <th>index</th>\n",
       "      <th>chain</th>\n",
       "    </tr>\n",
       "  </thead>\n",
       "  <tbody>\n",
       "    <tr>\n",
       "      <th>0</th>\n",
       "      <td>нет</td>\n",
       "      <td>12398</td>\n",
       "    </tr>\n",
       "    <tr>\n",
       "      <th>1</th>\n",
       "      <td>да</td>\n",
       "      <td>2968</td>\n",
       "    </tr>\n",
       "  </tbody>\n",
       "</table>\n",
       "</div>"
      ],
      "text/plain": [
       "  index  chain\n",
       "0   нет  12398\n",
       "1    да   2968"
      ]
     },
     "execution_count": 12,
     "metadata": {},
     "output_type": "execute_result"
    }
   ],
   "source": [
    "# применяем метод value_counts()\n",
    "value_counts = data['chain'].value_counts()\n",
    "df_value_counts = pd.DataFrame(value_counts)\n",
    "# сбросим индексы методом reset_index()\n",
    "df_value_counts = df_value_counts.reset_index()\n",
    "df_value_counts"
   ]
  },
  {
   "cell_type": "markdown",
   "metadata": {},
   "source": [
    "Теперь строим график."
   ]
  },
  {
   "cell_type": "code",
   "execution_count": 13,
   "metadata": {},
   "outputs": [
    {
     "data": {
      "image/png": "[encoded data removed]",
      "text/plain": [
       "<Figure size 432x288 with 1 Axes>"
      ]
     },
     "metadata": {},
     "output_type": "display_data"
    }
   ],
   "source": [
    "# устанавливаем стиль 'whitegrid' для нашей гистограммы\n",
    "sns.set_style(\"whitegrid\")\n",
    "# устанавливаем заголовок гистограммы\n",
    "plt.title('Соотношение сетевых и несетевых заведений')\n",
    "# строим гистограмму методом barplot()\n",
    "sns.barplot(x='index', y='chain', data=df_value_counts)\n",
    "# задаем название осей нашей гистограммы\n",
    "plt.xlabel(\"Сеть\")\n",
    "plt.ylabel(\"Количество\")\n",
    "plt.show()"
   ]
  },
  {
   "cell_type": "markdown",
   "metadata": {},
   "source": [
    "Как мы видим, в Москве преимущественно находятся несетевые заведения. И лишь 19 % заведений имеют сеть. "
   ]
  },
  {
   "cell_type": "markdown",
   "metadata": {},
   "source": [
    "<a id=\"object_type_chain\"></a>\n",
    "##### Для какого вида объекта общественного питания характерно сетевое распространение?\n"
   ]
  },
  {
   "cell_type": "markdown",
   "metadata": {},
   "source": [
    "Создадим переменную `chain_company`, в которой будут только  данные с заведениями сетевого типа. Для этого сделаем срез нашего датасета при помощи метода query().\n",
    "\n",
    "Затем создадим сводную таблицу  со столбцами, в которых отразим количество разных типов заведения, а также соотношение их к общему количеству по типу заведения. Следственно, найдя относительную, а не абсолютную величину, мы не исказим наши итоговые значения, а, напротив, дадим наиболее объективную картину происходящего."
   ]
  },
  {
   "cell_type": "code",
   "execution_count": 14,
   "metadata": {},
   "outputs": [
    {
     "data": {
      "text/html": [
       "<div>\n",
       "<style scoped>\n",
       "    .dataframe tbody tr th:only-of-type {\n",
       "        vertical-align: middle;\n",
       "    }\n",
       "\n",
       "    .dataframe tbody tr th {\n",
       "        vertical-align: top;\n",
       "    }\n",
       "\n",
       "    .dataframe thead th {\n",
       "        text-align: right;\n",
       "    }\n",
       "</style>\n",
       "<table border=\"1\" class=\"dataframe\">\n",
       "  <thead>\n",
       "    <tr style=\"text-align: right;\">\n",
       "      <th></th>\n",
       "      <th>object_type</th>\n",
       "      <th>id</th>\n",
       "      <th>total</th>\n",
       "      <th>ratio</th>\n",
       "    </tr>\n",
       "  </thead>\n",
       "  <tbody>\n",
       "    <tr>\n",
       "      <th>0</th>\n",
       "      <td>предприятие быстрого обслуживания</td>\n",
       "      <td>791</td>\n",
       "      <td>1923</td>\n",
       "      <td>0.411336</td>\n",
       "    </tr>\n",
       "    <tr>\n",
       "      <th>1</th>\n",
       "      <td>магазин (отдел кулинарии)</td>\n",
       "      <td>78</td>\n",
       "      <td>273</td>\n",
       "      <td>0.285714</td>\n",
       "    </tr>\n",
       "    <tr>\n",
       "      <th>2</th>\n",
       "      <td>ресторан</td>\n",
       "      <td>544</td>\n",
       "      <td>2285</td>\n",
       "      <td>0.238074</td>\n",
       "    </tr>\n",
       "    <tr>\n",
       "      <th>3</th>\n",
       "      <td>кафе</td>\n",
       "      <td>1396</td>\n",
       "      <td>6099</td>\n",
       "      <td>0.228890</td>\n",
       "    </tr>\n",
       "    <tr>\n",
       "      <th>4</th>\n",
       "      <td>закусочная</td>\n",
       "      <td>56</td>\n",
       "      <td>360</td>\n",
       "      <td>0.155556</td>\n",
       "    </tr>\n",
       "    <tr>\n",
       "      <th>5</th>\n",
       "      <td>кафетерий</td>\n",
       "      <td>52</td>\n",
       "      <td>398</td>\n",
       "      <td>0.130653</td>\n",
       "    </tr>\n",
       "    <tr>\n",
       "      <th>6</th>\n",
       "      <td>бар</td>\n",
       "      <td>37</td>\n",
       "      <td>856</td>\n",
       "      <td>0.043224</td>\n",
       "    </tr>\n",
       "    <tr>\n",
       "      <th>7</th>\n",
       "      <td>буфет</td>\n",
       "      <td>11</td>\n",
       "      <td>585</td>\n",
       "      <td>0.018803</td>\n",
       "    </tr>\n",
       "    <tr>\n",
       "      <th>8</th>\n",
       "      <td>столовая</td>\n",
       "      <td>3</td>\n",
       "      <td>2587</td>\n",
       "      <td>0.001160</td>\n",
       "    </tr>\n",
       "  </tbody>\n",
       "</table>\n",
       "</div>"
      ],
      "text/plain": [
       "                         object_type    id  total     ratio\n",
       "0  предприятие быстрого обслуживания   791   1923  0.411336\n",
       "1          магазин (отдел кулинарии)    78    273  0.285714\n",
       "2                           ресторан   544   2285  0.238074\n",
       "3                               кафе  1396   6099  0.228890\n",
       "4                         закусочная    56    360  0.155556\n",
       "5                          кафетерий    52    398  0.130653\n",
       "6                                бар    37    856  0.043224\n",
       "7                              буфет    11    585  0.018803\n",
       "8                           столовая     3   2587  0.001160"
      ]
     },
     "execution_count": 14,
     "metadata": {},
     "output_type": "execute_result"
    }
   ],
   "source": [
    "# создаем переменную chain_company\n",
    "chain_company = data.query('chain == \"да\"')\n",
    "# создаем сводную таблицу\n",
    "chain_company = (\n",
    "    chain_company.pivot_table(index='object_type',\n",
    "                              values='id',\n",
    "                              aggfunc='count')\n",
    ") \n",
    "# создаем столбец total, в котором соханяем количество сетевых заведений всего\n",
    "chain_company['total'] = data['object_type'].value_counts()\n",
    "# создаем столбец ratio с нашим относительным значением\n",
    "chain_company['ratio'] = chain_company['id'] / chain_company['total']\n",
    "# фильтруем данные по убыванию столбца ratio\n",
    "chain_company = chain_company.sort_values('ratio', ascending=False)\n",
    "# обновляем наши индексы методом reset_index()\n",
    "chain_company = chain_company.reset_index()\n",
    "chain_company"
   ]
  },
  {
   "cell_type": "markdown",
   "metadata": {},
   "source": [
    "Построим гистограмму по новым данным."
   ]
  },
  {
   "cell_type": "code",
   "execution_count": 15,
   "metadata": {},
   "outputs": [
    {
     "data": {
      "image/png": "[encoded data removed]",
      "text/plain": [
       "<Figure size 432x288 with 1 Axes>"
      ]
     },
     "metadata": {},
     "output_type": "display_data"
    }
   ],
   "source": [
    "# устанавливаем заголовок гистограммы\n",
    "plt.title('Сетевые заведения')\n",
    "# строим гистограмму методом barplot()\n",
    "sns.barplot(x='ratio', y='object_type', data=chain_company)\n",
    "# задаем название осей нашей гистограммы\n",
    "plt.xlabel(\"Количество\")\n",
    "plt.ylabel(\"Тип заведения\")\n",
    "plt.show()"
   ]
  },
  {
   "cell_type": "markdown",
   "metadata": {},
   "source": [
    "Из данных сводной таблицы видно:\n",
    " * больше всего в Москве сетевого типа предприятий быстрого обслуживания (41%);\n",
    " * затем идут предприятия отдела кулинарии (28%) и рестораны(24%);\n",
    " * сетевых кафе у нас лишь 23 %, что говорит нам о том, что кафе несетевого типа более популярны. \n",
    "\n",
    "Остальные типы заведений предпочитают не особо предпочитают сетевое распространение. Наименьше всего в городе столовых сетевого типа(0.1%)."
   ]
  },
  {
   "cell_type": "markdown",
   "metadata": {},
   "source": [
    "<a id=\"number\"></a>\n",
    "##### Что характерно для сетевых заведений: много заведений с небольшим числом посадочных мест в каждом или мало заведений с большим количеством посадочных мест?"
   ]
  },
  {
   "cell_type": "markdown",
   "metadata": {},
   "source": [
    "Для начала нужно определить, какие могут быть типы зависимостей.Выделим четыре группы:\n",
    " * Много мест — много заведений;\n",
    " * Много мест — мало заведений;\n",
    " * Мало мест — много заведений;\n",
    " * Мало мест —  мало заведений.\n",
    "    \n",
    "Делаем срез данных,  в которых будут лишь сетевые заведения и сохраняем в переменную `new_chain_company`.\n",
    "\n",
    "Затем группируем данные по названию объекта и применим агрегирующие функции к персональному номеру и количеству мест. Персональные номера мы посчитаем, а у мест найдем среднее.\n",
    "\n",
    "Затем построим график корреляции, который покажет нам зависимость одного показателя от другого."
   ]
  },
  {
   "cell_type": "code",
   "execution_count": 16,
   "metadata": {},
   "outputs": [
    {
     "data": {
      "text/html": [
       "<div>\n",
       "<style scoped>\n",
       "    .dataframe tbody tr th:only-of-type {\n",
       "        vertical-align: middle;\n",
       "    }\n",
       "\n",
       "    .dataframe tbody tr th {\n",
       "        vertical-align: top;\n",
       "    }\n",
       "\n",
       "    .dataframe thead th {\n",
       "        text-align: right;\n",
       "    }\n",
       "</style>\n",
       "<table border=\"1\" class=\"dataframe\">\n",
       "  <thead>\n",
       "    <tr style=\"text-align: right;\">\n",
       "      <th></th>\n",
       "      <th>number of catering establishments</th>\n",
       "      <th>number of seats</th>\n",
       "    </tr>\n",
       "    <tr>\n",
       "      <th>object_name</th>\n",
       "      <th></th>\n",
       "      <th></th>\n",
       "    </tr>\n",
       "  </thead>\n",
       "  <tbody>\n",
       "    <tr>\n",
       "      <th>чешская пивная «козловица»</th>\n",
       "      <td>1</td>\n",
       "      <td>306.0</td>\n",
       "    </tr>\n",
       "    <tr>\n",
       "      <th>кафе му-му</th>\n",
       "      <td>1</td>\n",
       "      <td>300.0</td>\n",
       "    </tr>\n",
       "    <tr>\n",
       "      <th>ян примус</th>\n",
       "      <td>1</td>\n",
       "      <td>300.0</td>\n",
       "    </tr>\n",
       "    <tr>\n",
       "      <th>якитория и ян примус</th>\n",
       "      <td>1</td>\n",
       "      <td>282.0</td>\n",
       "    </tr>\n",
       "    <tr>\n",
       "      <th>старина миллер</th>\n",
       "      <td>1</td>\n",
       "      <td>280.0</td>\n",
       "    </tr>\n",
       "  </tbody>\n",
       "</table>\n",
       "</div>"
      ],
      "text/plain": [
       "                            number of catering establishments  number of seats\n",
       "object_name                                                                   \n",
       "чешская пивная «козловица»                                  1            306.0\n",
       "кафе му-му                                                  1            300.0\n",
       "ян примус                                                   1            300.0\n",
       "якитория и ян примус                                        1            282.0\n",
       "старина миллер                                              1            280.0"
      ]
     },
     "metadata": {},
     "output_type": "display_data"
    },
    {
     "data": {
      "text/html": [
       "<div>\n",
       "<style scoped>\n",
       "    .dataframe tbody tr th:only-of-type {\n",
       "        vertical-align: middle;\n",
       "    }\n",
       "\n",
       "    .dataframe tbody tr th {\n",
       "        vertical-align: top;\n",
       "    }\n",
       "\n",
       "    .dataframe thead th {\n",
       "        text-align: right;\n",
       "    }\n",
       "</style>\n",
       "<table border=\"1\" class=\"dataframe\">\n",
       "  <thead>\n",
       "    <tr style=\"text-align: right;\">\n",
       "      <th></th>\n",
       "      <th>number of catering establishments</th>\n",
       "      <th>number of seats</th>\n",
       "    </tr>\n",
       "    <tr>\n",
       "      <th>object_name</th>\n",
       "      <th></th>\n",
       "      <th></th>\n",
       "    </tr>\n",
       "  </thead>\n",
       "  <tbody>\n",
       "    <tr>\n",
       "      <th>шоколадница</th>\n",
       "      <td>157</td>\n",
       "      <td>57.184713</td>\n",
       "    </tr>\n",
       "    <tr>\n",
       "      <th>kfc</th>\n",
       "      <td>155</td>\n",
       "      <td>55.341935</td>\n",
       "    </tr>\n",
       "    <tr>\n",
       "      <th>макдоналдс</th>\n",
       "      <td>151</td>\n",
       "      <td>87.119205</td>\n",
       "    </tr>\n",
       "    <tr>\n",
       "      <th>бургер кинг</th>\n",
       "      <td>137</td>\n",
       "      <td>46.649635</td>\n",
       "    </tr>\n",
       "    <tr>\n",
       "      <th>теремок</th>\n",
       "      <td>94</td>\n",
       "      <td>25.606383</td>\n",
       "    </tr>\n",
       "  </tbody>\n",
       "</table>\n",
       "</div>"
      ],
      "text/plain": [
       "             number of catering establishments  number of seats\n",
       "object_name                                                    \n",
       "шоколадница                                157        57.184713\n",
       "kfc                                        155        55.341935\n",
       "макдоналдс                                 151        87.119205\n",
       "бургер кинг                                137        46.649635\n",
       "теремок                                     94        25.606383"
      ]
     },
     "metadata": {},
     "output_type": "display_data"
    }
   ],
   "source": [
    "# делаем срез данных при помощи метода query() \n",
    "new_chain_company = data.query('chain == \"да\"')\n",
    "# группируем данные по типу заведения и применяем к ним агрегирующую функцию\n",
    "new_chain_company = new_chain_company.groupby('object_name').agg({'id':'count','number':'mean' })\n",
    "# переименовываем наши столбцы\n",
    "new_chain_company = (\n",
    "    new_chain_company\n",
    "    .rename(columns={'id':'number of catering establishments','number':'number of seats'})\n",
    ")\n",
    "# группируем таблицу по количеству мест\n",
    "display(new_chain_company.sort_values(by='number of seats',ascending=False).head())\n",
    "# группируем таблицу по количеству зааведений в сети\n",
    "display(new_chain_company.sort_values(by='number of catering establishments',ascending=False).head())"
   ]
  },
  {
   "cell_type": "markdown",
   "metadata": {},
   "source": [
    "Cтроим диаграмму рассеивания на основе нового датасета."
   ]
  },
  {
   "cell_type": "code",
   "execution_count": 17,
   "metadata": {},
   "outputs": [
    {
     "data": {
      "image/png": "[encoded data removed]",
      "text/plain": [
       "<Figure size 432x288 with 1 Axes>"
      ]
     },
     "metadata": {},
     "output_type": "display_data"
    }
   ],
   "source": [
    "# строим диаграмму рассеивания на основе нового датасета\n",
    "new_chain_company.plot(\n",
    "    x='number of seats',\n",
    "    y='number of catering establishments',\n",
    "    kind='scatter',\n",
    "    alpha=0.3)\n",
    "# устанавливаем заголовок диаграммы\n",
    "plt.title('Зависимость количества посадочных мест от количества заведений')\n",
    "# задаем название осей нашей диаграммы\n",
    "plt.xlabel('Количество посадочных мест')\n",
    "plt.ylabel('Количество заведений')\n",
    "plt.show()"
   ]
  },
  {
   "cell_type": "markdown",
   "metadata": {},
   "source": [
    "Согласно графику никакой корреляции между количеством посадочных мест и количеством заведений нет. \n",
    "\n",
    "Так, в среднем, если обратить внимание на график и на таблицу, наибольшее количество посадочных мест рассчитывается в `чешская пивная «козловица»`, в сети которой находится лишь один ресторан.\n",
    "Таким образом, **предположение чем меньше заведений, тем меньше мест, является ложным**. \n",
    "\n",
    "С другой стороны, лидер по количеству заведений `шоколадница`, представленная в 157 заведений, располагает, в среднем, лишь 57 столиками. Поэтому **зависимость между большим количеством заведений и таким же большим количеством посадочных мест не наблюдается**. \n",
    "\n",
    "**Зависимость мало заведений - много мест так же не наблюдается**. В кафе `милано пицца`, представленное лишь 1 раз  количество мест всего лишь 20. \n",
    "\n",
    "**Последняя возможная зависимость - много заведений - мало мест так же является ложной**. Так, рассмотрев пример ресторана `макдональдс`, который является третьим по количеству заведений (151 заведение), мы видим, что количество посадочных мест равно 87.\n",
    "\n",
    "\n",
    "На этом можно сделать вывод, что у нас отсутствует какая-либо зависимость между количеством мест и количеством заведений в сети.\n"
   ]
  },
  {
   "cell_type": "markdown",
   "metadata": {},
   "source": [
    "<a id=\"object_type_number\"></a>\n",
    "##### Для каждого вида объекта общественного питания опишите среднее количество посадочных мест. Какой вид предоставляет в среднем самое большое количество посадочных мест? Постройте графики."
   ]
  },
  {
   "cell_type": "markdown",
   "metadata": {},
   "source": [
    "Мы создадим сводную таблицу `seat_company`, которая отразит вид объекта общественного питания и среднее количество посадочных мест. Затем построим график и сделаем выводы."
   ]
  },
  {
   "cell_type": "code",
   "execution_count": 18,
   "metadata": {},
   "outputs": [
    {
     "data": {
      "image/png": "[encoded data removed]",
      "text/plain": [
       "<Figure size 432x288 with 1 Axes>"
      ]
     },
     "metadata": {},
     "output_type": "display_data"
    }
   ],
   "source": [
    "# создаем сводную таблицу\n",
    "seat_company = data.pivot_table(index='object_type', values='number')\n",
    "seat_company = seat_company.reset_index().sort_values('number')\n",
    "seat_company\n",
    "# строим график\n",
    "sns.barplot(x='object_type', y='number',data=seat_company)\n",
    "# устанавливаем заголовок гистограммы\n",
    "plt.title('Зависимость количества посадочных мест от типа заведения')\n",
    "# поварачиваем подписи на оси-х на 90 градусов\n",
    "plt.xticks(rotation=90)\n",
    "# задаем название осей нашего графика\n",
    "plt.xlabel('Тип заведения')\n",
    "plt.ylabel('Количество заведений')\n",
    "plt.show()"
   ]
  },
  {
   "cell_type": "markdown",
   "metadata": {},
   "source": [
    "Из графика мы можем сделать вывод:\n",
    " * самое большое среднее количество посадочных мест нам предлагают столовые - около 130;\n",
    " * затем рестораны - они предлагают в среднем 96 мест. \n",
    "\n",
    "Связано это, скорее всего, с тем, что в столовых, при небольших ценах, можно полноценно пообедать, чем активно пользуются люди, которые работают неподалеку, ходящие на обеденный перерыв подкрепиться. Поэтому, чтоб поместить всех желающих в этот обеденный перерыв и сделать хорошую выручку на этом, столовые заинтересованы в большом количестве мест.\n",
    "\n",
    "В рестораны же люди часто приходят за атмосферой, чтоб насладится хорошей едой, красивым пространством  и сервисом. И все это уже заложено уже в стоимость блюда, поэтому люди редко берут на вынос, а скорее отдыхают в самом заведении."
   ]
  },
  {
   "cell_type": "markdown",
   "metadata": {},
   "source": [
    "<a id=\"address\"></a>\n",
    "##### Выделим в отдельный столбец информацию об улице из столбца address"
   ]
  },
  {
   "cell_type": "markdown",
   "metadata": {},
   "source": [
    "Для того, чтоб выделить в отдельный столбец информацию об улице применим к столбцу `address` метод apply(lambda x:x.split), чтоб разделить наш столбец на новый. Поскольку город от улицы и номера дома отделяет запятая, то её мы и укажем в качестве аргумента. Улица занимает второе положение в столбце, поэтому мы укажем индекс элемента [1]."
   ]
  },
  {
   "cell_type": "code",
   "execution_count": 19,
   "metadata": {},
   "outputs": [],
   "source": [
    "# создаем столбец street с названием улицы\n",
    "data['street'] = data['address'].apply(lambda x:x.split(',')[1])"
   ]
  },
  {
   "cell_type": "markdown",
   "metadata": {},
   "source": [
    "<a id=\"top10_street\"></a>\n",
    "##### Постройте график топ-10 улиц по количеству объектов общественного питания. Воспользуйтесь внешней информацией и ответьте на вопрос — в каких районах Москвы находятся эти улицы?"
   ]
  },
  {
   "cell_type": "markdown",
   "metadata": {},
   "source": [
    "Построим сводную таблицу `top_10`, в котором отразим улицы и количество заведений на них при помощи агрегирующей функции count(). \n",
    "\n",
    "На основании полученных данных построим график. \n",
    "\n",
    "Затем загрузим классификатор улиц Москвы, и посмотрим на каких районах находятся наши улицы.\n",
    "На основании наших расчетов построим график."
   ]
  },
  {
   "cell_type": "code",
   "execution_count": 20,
   "metadata": {},
   "outputs": [
    {
     "data": {
      "text/html": [
       "<div>\n",
       "<style scoped>\n",
       "    .dataframe tbody tr th:only-of-type {\n",
       "        vertical-align: middle;\n",
       "    }\n",
       "\n",
       "    .dataframe tbody tr th {\n",
       "        vertical-align: top;\n",
       "    }\n",
       "\n",
       "    .dataframe thead th {\n",
       "        text-align: right;\n",
       "    }\n",
       "</style>\n",
       "<table border=\"1\" class=\"dataframe\">\n",
       "  <thead>\n",
       "    <tr style=\"text-align: right;\">\n",
       "      <th></th>\n",
       "      <th>street</th>\n",
       "      <th>number of catering facilities</th>\n",
       "    </tr>\n",
       "  </thead>\n",
       "  <tbody>\n",
       "    <tr>\n",
       "      <th>0</th>\n",
       "      <td>город Зеленоград</td>\n",
       "      <td>232</td>\n",
       "    </tr>\n",
       "    <tr>\n",
       "      <th>1</th>\n",
       "      <td>проспект Мира</td>\n",
       "      <td>204</td>\n",
       "    </tr>\n",
       "    <tr>\n",
       "      <th>2</th>\n",
       "      <td>Профсоюзная улица</td>\n",
       "      <td>182</td>\n",
       "    </tr>\n",
       "    <tr>\n",
       "      <th>3</th>\n",
       "      <td>Ленинградский проспект</td>\n",
       "      <td>171</td>\n",
       "    </tr>\n",
       "    <tr>\n",
       "      <th>4</th>\n",
       "      <td>Пресненская набережная</td>\n",
       "      <td>167</td>\n",
       "    </tr>\n",
       "    <tr>\n",
       "      <th>5</th>\n",
       "      <td>Варшавское шоссе</td>\n",
       "      <td>161</td>\n",
       "    </tr>\n",
       "    <tr>\n",
       "      <th>6</th>\n",
       "      <td>Ленинский проспект</td>\n",
       "      <td>147</td>\n",
       "    </tr>\n",
       "    <tr>\n",
       "      <th>7</th>\n",
       "      <td>поселение Сосенское</td>\n",
       "      <td>138</td>\n",
       "    </tr>\n",
       "    <tr>\n",
       "      <th>8</th>\n",
       "      <td>проспект Вернадского</td>\n",
       "      <td>132</td>\n",
       "    </tr>\n",
       "    <tr>\n",
       "      <th>9</th>\n",
       "      <td>Кутузовский проспект</td>\n",
       "      <td>114</td>\n",
       "    </tr>\n",
       "  </tbody>\n",
       "</table>\n",
       "</div>"
      ],
      "text/plain": [
       "                    street  number of catering facilities\n",
       "0         город Зеленоград                            232\n",
       "1            проспект Мира                            204\n",
       "2        Профсоюзная улица                            182\n",
       "3   Ленинградский проспект                            171\n",
       "4   Пресненская набережная                            167\n",
       "5         Варшавское шоссе                            161\n",
       "6       Ленинский проспект                            147\n",
       "7      поселение Сосенское                            138\n",
       "8     проспект Вернадского                            132\n",
       "9     Кутузовский проспект                            114"
      ]
     },
     "execution_count": 20,
     "metadata": {},
     "output_type": "execute_result"
    }
   ],
   "source": [
    "# создаем сводную таблицу в переменной top_10\n",
    "top_10 = data.pivot_table(index='street', values='object_name',\n",
    "                          aggfunc='count')\n",
    "# переименовымаем столбец методом columns()\n",
    "top_10.columns = ['number of catering facilities']\n",
    "# фильтруем данные по убыванию\n",
    "top_10 = top_10.sort_values('number of catering facilities', ascending=False).head(10)\n",
    "# сбрасываем индексы\n",
    "top_10 = top_10.reset_index()\n",
    "top_10"
   ]
  },
  {
   "cell_type": "markdown",
   "metadata": {},
   "source": [
    "Строим график."
   ]
  },
  {
   "cell_type": "code",
   "execution_count": 21,
   "metadata": {},
   "outputs": [
    {
     "data": {
      "image/png": "[encoded data removed]",
      "text/plain": [
       "<Figure size 432x288 with 1 Axes>"
      ]
     },
     "metadata": {},
     "output_type": "display_data"
    }
   ],
   "source": [
    "# строим гистограмму методом barplot()\n",
    "sns.barplot(x='street', y='number of catering facilities', data=top_10)\n",
    "# устанавливаем заголовок гистограммы\n",
    "plt.title('Топ-10 улиц по количеству объектов общественного питания')\n",
    "# задаем название осей нашей гистограммы\n",
    "plt.xlabel(\"Название улицы\")\n",
    "# поварачиваем подписи на оси-х на 90 градусов\n",
    "plt.xticks(rotation=90)\n",
    "plt.ylabel(\"Количество заведений\")\n",
    "plt.show()"
   ]
  },
  {
   "cell_type": "markdown",
   "metadata": {},
   "source": [
    "По количеству общепита в Москва лидирует:\n",
    " * Зеленоград - 232 заведения;\n",
    " * Затем идет проспект Мира и Профсоюзная улица. "
   ]
  },
  {
   "cell_type": "markdown",
   "metadata": {},
   "source": [
    "Теперь загрузим таблицу `mos_district`, которая покажет нам район, в котором находятся наши десять самый популярных улиц. После объединим наши две таблицы и найдем топ-10 районов."
   ]
  },
  {
   "cell_type": "code",
   "execution_count": 22,
   "metadata": {},
   "outputs": [
    {
     "data": {
      "text/html": [
       "<div>\n",
       "<style scoped>\n",
       "    .dataframe tbody tr th:only-of-type {\n",
       "        vertical-align: middle;\n",
       "    }\n",
       "\n",
       "    .dataframe tbody tr th {\n",
       "        vertical-align: top;\n",
       "    }\n",
       "\n",
       "    .dataframe thead th {\n",
       "        text-align: right;\n",
       "    }\n",
       "</style>\n",
       "<table border=\"1\" class=\"dataframe\">\n",
       "  <thead>\n",
       "    <tr style=\"text-align: right;\">\n",
       "      <th></th>\n",
       "      <th>street</th>\n",
       "      <th>areaid</th>\n",
       "      <th>okrug</th>\n",
       "      <th>area</th>\n",
       "    </tr>\n",
       "  </thead>\n",
       "  <tbody>\n",
       "    <tr>\n",
       "      <th>0</th>\n",
       "      <td>Выставочный переулок</td>\n",
       "      <td>17</td>\n",
       "      <td>ЦАО</td>\n",
       "      <td>Пресненский район</td>\n",
       "    </tr>\n",
       "    <tr>\n",
       "      <th>1</th>\n",
       "      <td>улица Гашека</td>\n",
       "      <td>17</td>\n",
       "      <td>ЦАО</td>\n",
       "      <td>Пресненский район</td>\n",
       "    </tr>\n",
       "    <tr>\n",
       "      <th>2</th>\n",
       "      <td>Большая Никитская улица</td>\n",
       "      <td>17</td>\n",
       "      <td>ЦАО</td>\n",
       "      <td>Пресненский район</td>\n",
       "    </tr>\n",
       "    <tr>\n",
       "      <th>3</th>\n",
       "      <td>Глубокий переулок</td>\n",
       "      <td>17</td>\n",
       "      <td>ЦАО</td>\n",
       "      <td>Пресненский район</td>\n",
       "    </tr>\n",
       "    <tr>\n",
       "      <th>4</th>\n",
       "      <td>Большой Гнездниковский переулок</td>\n",
       "      <td>17</td>\n",
       "      <td>ЦАО</td>\n",
       "      <td>Пресненский район</td>\n",
       "    </tr>\n",
       "  </tbody>\n",
       "</table>\n",
       "</div>"
      ],
      "text/plain": [
       "                            street  areaid okrug               area\n",
       "0             Выставочный переулок      17   ЦАО  Пресненский район\n",
       "1                     улица Гашека      17   ЦАО  Пресненский район\n",
       "2          Большая Никитская улица      17   ЦАО  Пресненский район\n",
       "3                Глубокий переулок      17   ЦАО  Пресненский район\n",
       "4  Большой Гнездниковский переулок      17   ЦАО  Пресненский район"
      ]
     },
     "execution_count": 22,
     "metadata": {},
     "output_type": "execute_result"
    }
   ],
   "source": [
    "# загружаем нашу таблицу и даем ей имя mos_district\n",
    "spreadsheet_id = '1kqYTjvBcn-ArBMdg3b4sPAkIFUyndBVu6WKZKovKodQ'\n",
    "file_name = 'https://docs.google.com/spreadsheets/d/{}/export?format=csv'.format(spreadsheet_id)\n",
    "r = requests.get(file_name)\n",
    "mos_district = pd.read_csv(BytesIO(r.content))\n",
    "# меняем название столбца в таблице методом rename()\n",
    "mos_district = mos_district.rename(columns={'streetname':'street'})\n",
    "mos_district.head()"
   ]
  },
  {
   "cell_type": "markdown",
   "metadata": {},
   "source": [
    "Теперь объединим наши две таблицы, чтоб узнать каким районам соответствуют наш топ-10. У данных таблиц мы видим общий столбец `street`, по которому мы и будем соединять наши таблицы в одну методом merge().\n",
    "\n",
    "Перед этим мы уберем лишние пробелы в наших столбцах методом str.strip()"
   ]
  },
  {
   "cell_type": "code",
   "execution_count": 23,
   "metadata": {},
   "outputs": [],
   "source": [
    "# убираем лишние пробелы в наших таблицах методом str.strip()\n",
    "top_10['street'] = top_10['street'].str.strip()\n",
    "mos_district['street'] = mos_district['street'].str.strip()"
   ]
  },
  {
   "cell_type": "markdown",
   "metadata": {},
   "source": [
    "Теперь можем объединять наши таблицы по общему столбцу."
   ]
  },
  {
   "cell_type": "code",
   "execution_count": 24,
   "metadata": {},
   "outputs": [
    {
     "data": {
      "text/html": [
       "<div>\n",
       "<style scoped>\n",
       "    .dataframe tbody tr th:only-of-type {\n",
       "        vertical-align: middle;\n",
       "    }\n",
       "\n",
       "    .dataframe tbody tr th {\n",
       "        vertical-align: top;\n",
       "    }\n",
       "\n",
       "    .dataframe thead th {\n",
       "        text-align: right;\n",
       "    }\n",
       "</style>\n",
       "<table border=\"1\" class=\"dataframe\">\n",
       "  <thead>\n",
       "    <tr style=\"text-align: right;\">\n",
       "      <th></th>\n",
       "      <th>area</th>\n",
       "      <th>street</th>\n",
       "      <th>number of catering facilities</th>\n",
       "    </tr>\n",
       "  </thead>\n",
       "  <tbody>\n",
       "    <tr>\n",
       "      <th>0</th>\n",
       "      <td>Обручевский район</td>\n",
       "      <td>2</td>\n",
       "      <td>329</td>\n",
       "    </tr>\n",
       "    <tr>\n",
       "      <th>1</th>\n",
       "      <td>Район Теплый Стан</td>\n",
       "      <td>2</td>\n",
       "      <td>329</td>\n",
       "    </tr>\n",
       "    <tr>\n",
       "      <th>2</th>\n",
       "      <td>Донской район</td>\n",
       "      <td>2</td>\n",
       "      <td>308</td>\n",
       "    </tr>\n",
       "    <tr>\n",
       "      <th>3</th>\n",
       "      <td>Ломоносовский район</td>\n",
       "      <td>2</td>\n",
       "      <td>279</td>\n",
       "    </tr>\n",
       "    <tr>\n",
       "      <th>4</th>\n",
       "      <td>Район Проспект Вернадского</td>\n",
       "      <td>2</td>\n",
       "      <td>279</td>\n",
       "    </tr>\n",
       "    <tr>\n",
       "      <th>5</th>\n",
       "      <td>Район Тропарево-Никулино</td>\n",
       "      <td>2</td>\n",
       "      <td>279</td>\n",
       "    </tr>\n",
       "    <tr>\n",
       "      <th>6</th>\n",
       "      <td>Район Гагаринский</td>\n",
       "      <td>2</td>\n",
       "      <td>279</td>\n",
       "    </tr>\n",
       "    <tr>\n",
       "      <th>7</th>\n",
       "      <td>Район Матушкино-Савелки</td>\n",
       "      <td>1</td>\n",
       "      <td>232</td>\n",
       "    </tr>\n",
       "    <tr>\n",
       "      <th>8</th>\n",
       "      <td>Район Крюково</td>\n",
       "      <td>1</td>\n",
       "      <td>232</td>\n",
       "    </tr>\n",
       "    <tr>\n",
       "      <th>9</th>\n",
       "      <td>Панфиловский район</td>\n",
       "      <td>1</td>\n",
       "      <td>232</td>\n",
       "    </tr>\n",
       "  </tbody>\n",
       "</table>\n",
       "</div>"
      ],
      "text/plain": [
       "                         area  street  number of catering facilities\n",
       "0           Обручевский район       2                            329\n",
       "1           Район Теплый Стан       2                            329\n",
       "2               Донской район       2                            308\n",
       "3         Ломоносовский район       2                            279\n",
       "4  Район Проспект Вернадского       2                            279\n",
       "5    Район Тропарево-Никулино       2                            279\n",
       "6           Район Гагаринский       2                            279\n",
       "7     Район Матушкино-Савелки       1                            232\n",
       "8               Район Крюково       1                            232\n",
       "9          Панфиловский район       1                            232"
      ]
     },
     "execution_count": 24,
     "metadata": {},
     "output_type": "execute_result"
    }
   ],
   "source": [
    "# объединяем наши таблицы \n",
    "street_district =  top_10.merge(mos_district, on='street', how='left')\n",
    "# группируем таблицу по району и применяем агрегирующие функции\n",
    "# к столбцу с улицей и количеством заведений\n",
    "street_district = (\n",
    "    street_district.groupby('area')\n",
    "    .agg({'street':'count', 'number of catering facilities':'sum'})\n",
    ")\n",
    "# фильтруем наш получившийся датафрейм по количеству заведеий\n",
    "street_district = (\n",
    "    street_district\n",
    "    .sort_values('number of catering facilities', ascending=False)\n",
    "    .head(10)\n",
    ")\n",
    "street_district = street_district.reset_index()\n",
    "street_district"
   ]
  },
  {
   "cell_type": "markdown",
   "metadata": {},
   "source": [
    "Теперь строим гистограмму."
   ]
  },
  {
   "cell_type": "code",
   "execution_count": 25,
   "metadata": {},
   "outputs": [
    {
     "data": {
      "image/png": "[encoded data removed]",
      "text/plain": [
       "<Figure size 432x288 with 1 Axes>"
      ]
     },
     "metadata": {},
     "output_type": "display_data"
    }
   ],
   "source": [
    "# строим гистограмму методом barplot()\n",
    "sns.barplot(x='area', y='number of catering facilities', data=street_district)\n",
    "# устанавливаем заголовок гистограммы\n",
    "plt.title('Топ-10 районов по количеству объектов общественного питания')\n",
    "# поварачиваем подписи на оси-х на 90 градусов\n",
    "plt.xticks(rotation=90)\n",
    "# задаем название осей нашей гистограммы\n",
    "plt.xlabel(\"Название района\")\n",
    "plt.ylabel(\"Количество заведений\")\n",
    "plt.show()"
   ]
  },
  {
   "cell_type": "markdown",
   "metadata": {},
   "source": [
    "Как мы видим по таблице и гистограмме, самые **популярные районы для общественного питания это Обручевский район и Теплый Стан**, которые находятся на юго-западе столицы. Популярность этих улиц связана с тем, что они длинные, и, соответственно, довольно большое число заведений на них находятся вследствии значительного размера самих улиц.  "
   ]
  },
  {
   "cell_type": "markdown",
   "metadata": {},
   "source": [
    "<a id=\"one_id_streets\"></a>\n",
    "##### Найдите число улиц с одним объектом общественного питания. Воспользуйтесь внешней информацией и ответьте на вопрос — в каких районах Москвы находятся эти улицы?"
   ]
  },
  {
   "cell_type": "markdown",
   "metadata": {},
   "source": [
    "Для того, чтоб найти число улиц с одним объектом общественного питания нужно сгруппировать данные по улице и посчитать количество объектов. Сохраним эти данные в переменную `one_in_street`.\n",
    "\n",
    "Затем перевести структуру данных Series в DataFrame методом to_frame() и \"обновить\" индексы методом reset_index(). После данной операции мы отфильтровать только те данные, где количество объектов равно единице при помощи lambda.После считаем количество получившихся строк методом len(). \n",
    "\n",
    "\n",
    "Как и в предыдущем пункте, объединим получившуюся таблицу с загруженной ранее таблицей `mos_district` и отсортируем ее по району, а затем построим гистограмму."
   ]
  },
  {
   "cell_type": "code",
   "execution_count": 26,
   "metadata": {},
   "outputs": [
    {
     "data": {
      "text/plain": [
       "579"
      ]
     },
     "execution_count": 26,
     "metadata": {},
     "output_type": "execute_result"
    }
   ],
   "source": [
    "# создаем переменную one_in_street\n",
    "one_in_street = (\n",
    "    data.groupby('street')['id'].count()\n",
    "    .to_frame()\n",
    "    .reset_index()\n",
    "    .loc[lambda x:x['id'] == 1]           \n",
    ")    \n",
    "len(one_in_street)"
   ]
  },
  {
   "cell_type": "markdown",
   "metadata": {},
   "source": [
    "Как видно из наших вычислений, количество улиц с одним обьектом общественного питания равно 579."
   ]
  },
  {
   "cell_type": "markdown",
   "metadata": {},
   "source": [
    "Теперь объединим наши две таблицы, чтоб узнать каким районам соответствуют улицы с одним обьектом общественного. У данных таблиц мы видим общий столбец `street`, по которому мы и будем соединять наши таблицы в одну методом merge().\n",
    "\n",
    "Перед этим мы уберем лишние пробелы в наших столбцах методом str.strip()"
   ]
  },
  {
   "cell_type": "code",
   "execution_count": 27,
   "metadata": {},
   "outputs": [],
   "source": [
    "# убираем лишние пробелы в столбце\n",
    "one_in_street['street'] = one_in_street['street'].str.strip()"
   ]
  },
  {
   "cell_type": "markdown",
   "metadata": {},
   "source": [
    "Объединяем наши данные в таблицу `min_district`."
   ]
  },
  {
   "cell_type": "code",
   "execution_count": 28,
   "metadata": {},
   "outputs": [
    {
     "data": {
      "text/html": [
       "<div>\n",
       "<style scoped>\n",
       "    .dataframe tbody tr th:only-of-type {\n",
       "        vertical-align: middle;\n",
       "    }\n",
       "\n",
       "    .dataframe tbody tr th {\n",
       "        vertical-align: top;\n",
       "    }\n",
       "\n",
       "    .dataframe thead th {\n",
       "        text-align: right;\n",
       "    }\n",
       "</style>\n",
       "<table border=\"1\" class=\"dataframe\">\n",
       "  <thead>\n",
       "    <tr style=\"text-align: right;\">\n",
       "      <th></th>\n",
       "      <th>area</th>\n",
       "      <th>street</th>\n",
       "      <th>id</th>\n",
       "    </tr>\n",
       "  </thead>\n",
       "  <tbody>\n",
       "    <tr>\n",
       "      <th>0</th>\n",
       "      <td>Таганский район</td>\n",
       "      <td>27</td>\n",
       "      <td>27</td>\n",
       "    </tr>\n",
       "    <tr>\n",
       "      <th>1</th>\n",
       "      <td>Район Хамовники</td>\n",
       "      <td>26</td>\n",
       "      <td>26</td>\n",
       "    </tr>\n",
       "    <tr>\n",
       "      <th>2</th>\n",
       "      <td>Басманный район</td>\n",
       "      <td>25</td>\n",
       "      <td>25</td>\n",
       "    </tr>\n",
       "    <tr>\n",
       "      <th>3</th>\n",
       "      <td>Тверской район</td>\n",
       "      <td>20</td>\n",
       "      <td>20</td>\n",
       "    </tr>\n",
       "    <tr>\n",
       "      <th>4</th>\n",
       "      <td>Пресненский район</td>\n",
       "      <td>19</td>\n",
       "      <td>19</td>\n",
       "    </tr>\n",
       "  </tbody>\n",
       "</table>\n",
       "</div>"
      ],
      "text/plain": [
       "                area  street  id\n",
       "0    Таганский район      27  27\n",
       "1    Район Хамовники      26  26\n",
       "2    Басманный район      25  25\n",
       "3     Тверской район      20  20\n",
       "4  Пресненский район      19  19"
      ]
     },
     "execution_count": 28,
     "metadata": {},
     "output_type": "execute_result"
    }
   ],
   "source": [
    "# создаем таблицу min_district\n",
    "min_district =  one_in_street.merge(mos_district, on='street', how='left')\n",
    "# группируем таблицу по району и применяем агрегирующие функции\n",
    "# к столбцу с улицей и количеством заведений\n",
    "min_district = (\n",
    "    min_district.groupby('area')\n",
    "    .agg({'street':'count', 'id':'sum'})\n",
    ")\n",
    "# фильтруем наш получившийся датафрейм по количеству заведеий\n",
    "min_district = min_district.sort_values('id', ascending=False)\n",
    "min_district = min_district.reset_index()\n",
    "min_district.head()                       "
   ]
  },
  {
   "cell_type": "markdown",
   "metadata": {},
   "source": [
    "Строим по нашим данным график."
   ]
  },
  {
   "cell_type": "code",
   "execution_count": 29,
   "metadata": {},
   "outputs": [
    {
     "data": {
      "image/png": "[encoded data removed]",
      "text/plain": [
       "<Figure size 1440x360 with 1 Axes>"
      ]
     },
     "metadata": {},
     "output_type": "display_data"
    }
   ],
   "source": [
    "#  устанавливаем размер нашей гистограммы\n",
    "plt.figure(figsize=(20,5))\n",
    "#задаем заголовок гистограммы и его размер\n",
    "plt.title('Районы с одним объектом общественного питания', fontsize = 16)\n",
    "# строим гистограмму методом barplot()\n",
    "sns.barplot(x='area', y='street', data=min_district)\n",
    "# поварачиваем подписи на оси-х на 90 градусов\n",
    "plt.xticks(rotation=90)\n",
    "# задаем название осей нашей гистограммы\n",
    "plt.xlabel(\"Название района\", fontsize = 12)\n",
    "plt.ylabel(\"Количество улиц\", fontsize = 12)\n",
    "plt.show()"
   ]
  },
  {
   "cell_type": "markdown",
   "metadata": {},
   "source": [
    "Из нашей гистограммы и сгруппированных данных можно сделать вывод, что **больше всего улиц с одним заведений в Москве в Таганском районе, Хамовниках и Басманном районе**. Это дорогие улицы в историческом центре Москвы с центрами современного искусства, дорогими брами и высокой кухней. \n",
    "\n",
    "Полагаю, что на этих улицах располагается лишь одно заведение, поскольку не все заведения могут позволить себе такую дорогую аренду помещения в самом сердце Москвы.Также улицы в центре меньше и на них просто не поместится большое число заведений.\n",
    "\n",
    "Всего в Мосвке 99 районов с улицами на которых одно заведение общественного питания."
   ]
  },
  {
   "cell_type": "markdown",
   "metadata": {},
   "source": [
    "<a id=\"heatmap\"></a>\n",
    "##### Посмотрите на распределение количества посадочных мест для улиц с большим количеством объектов общественного питания. Какие закономерности можно выявить?"
   ]
  },
  {
   "cell_type": "markdown",
   "metadata": {},
   "source": [
    "Объединим наш изначальный датасет с датасетом `top_10`, в котором у нас находятся самые популярные для общепита улицы. Получившийся датасет назовем `top_10_street`.\n",
    "\n",
    "Затем создадим сводную таблицу , где столбцу `columns` передадим значение object_type, а значение `number`, которое мы подсчитаем методом count(). Таким образом, мы увидим, количество  посадочных мест в зависимости от типа заведения на каждой из популярной улицы.\n",
    "\n",
    "После, создадим тепловую карту на основе данных и выявим закономерности."
   ]
  },
  {
   "cell_type": "markdown",
   "metadata": {},
   "source": [
    "Перед начало объединения даасетов убираем лишние пробелы в столбце `street`."
   ]
  },
  {
   "cell_type": "code",
   "execution_count": 30,
   "metadata": {},
   "outputs": [],
   "source": [
    "# убираем лишние пробелы в столбце\n",
    "data['street'] = data['street'].str.strip()"
   ]
  },
  {
   "cell_type": "markdown",
   "metadata": {},
   "source": [
    "Теперь объединяем две таблицы. Пропуски заполним нулями."
   ]
  },
  {
   "cell_type": "code",
   "execution_count": 31,
   "metadata": {},
   "outputs": [
    {
     "data": {
      "text/html": [
       "<div>\n",
       "<style scoped>\n",
       "    .dataframe tbody tr th:only-of-type {\n",
       "        vertical-align: middle;\n",
       "    }\n",
       "\n",
       "    .dataframe tbody tr th {\n",
       "        vertical-align: top;\n",
       "    }\n",
       "\n",
       "    .dataframe thead th {\n",
       "        text-align: right;\n",
       "    }\n",
       "</style>\n",
       "<table border=\"1\" class=\"dataframe\">\n",
       "  <thead>\n",
       "    <tr style=\"text-align: right;\">\n",
       "      <th>street</th>\n",
       "      <th>Варшавское шоссе</th>\n",
       "      <th>Кутузовский проспект</th>\n",
       "      <th>Ленинградский проспект</th>\n",
       "      <th>Ленинский проспект</th>\n",
       "      <th>Пресненская набережная</th>\n",
       "      <th>Профсоюзная улица</th>\n",
       "      <th>город Зеленоград</th>\n",
       "      <th>поселение Сосенское</th>\n",
       "      <th>проспект Вернадского</th>\n",
       "      <th>проспект Мира</th>\n",
       "    </tr>\n",
       "    <tr>\n",
       "      <th>object_type</th>\n",
       "      <th></th>\n",
       "      <th></th>\n",
       "      <th></th>\n",
       "      <th></th>\n",
       "      <th></th>\n",
       "      <th></th>\n",
       "      <th></th>\n",
       "      <th></th>\n",
       "      <th></th>\n",
       "      <th></th>\n",
       "    </tr>\n",
       "  </thead>\n",
       "  <tbody>\n",
       "    <tr>\n",
       "      <th>бар</th>\n",
       "      <td>6.0</td>\n",
       "      <td>6.0</td>\n",
       "      <td>10.0</td>\n",
       "      <td>6.0</td>\n",
       "      <td>5.0</td>\n",
       "      <td>5.0</td>\n",
       "      <td>10.0</td>\n",
       "      <td>8.0</td>\n",
       "      <td>4.0</td>\n",
       "      <td>15.0</td>\n",
       "    </tr>\n",
       "    <tr>\n",
       "      <th>буфет</th>\n",
       "      <td>6.0</td>\n",
       "      <td>1.0</td>\n",
       "      <td>6.0</td>\n",
       "      <td>1.0</td>\n",
       "      <td>1.0</td>\n",
       "      <td>5.0</td>\n",
       "      <td>4.0</td>\n",
       "      <td>0</td>\n",
       "      <td>5.0</td>\n",
       "      <td>3.0</td>\n",
       "    </tr>\n",
       "    <tr>\n",
       "      <th>закусочная</th>\n",
       "      <td>2.0</td>\n",
       "      <td>2.0</td>\n",
       "      <td>0</td>\n",
       "      <td>1.0</td>\n",
       "      <td>0</td>\n",
       "      <td>2.0</td>\n",
       "      <td>0</td>\n",
       "      <td>16.0</td>\n",
       "      <td>2.0</td>\n",
       "      <td>4.0</td>\n",
       "    </tr>\n",
       "    <tr>\n",
       "      <th>кафе</th>\n",
       "      <td>63.0</td>\n",
       "      <td>41.0</td>\n",
       "      <td>70.0</td>\n",
       "      <td>64.0</td>\n",
       "      <td>98.0</td>\n",
       "      <td>90.0</td>\n",
       "      <td>68.0</td>\n",
       "      <td>92.0</td>\n",
       "      <td>56.0</td>\n",
       "      <td>103.0</td>\n",
       "    </tr>\n",
       "    <tr>\n",
       "      <th>кафетерий</th>\n",
       "      <td>8.0</td>\n",
       "      <td>0</td>\n",
       "      <td>3.0</td>\n",
       "      <td>3.0</td>\n",
       "      <td>5.0</td>\n",
       "      <td>10.0</td>\n",
       "      <td>21.0</td>\n",
       "      <td>1.0</td>\n",
       "      <td>3.0</td>\n",
       "      <td>5.0</td>\n",
       "    </tr>\n",
       "    <tr>\n",
       "      <th>магазин (отдел кулинарии)</th>\n",
       "      <td>2.0</td>\n",
       "      <td>2.0</td>\n",
       "      <td>5.0</td>\n",
       "      <td>0</td>\n",
       "      <td>0</td>\n",
       "      <td>2.0</td>\n",
       "      <td>1.0</td>\n",
       "      <td>0</td>\n",
       "      <td>2.0</td>\n",
       "      <td>8.0</td>\n",
       "    </tr>\n",
       "    <tr>\n",
       "      <th>предприятие быстрого обслуживания</th>\n",
       "      <td>40.0</td>\n",
       "      <td>8.0</td>\n",
       "      <td>16.0</td>\n",
       "      <td>9.0</td>\n",
       "      <td>18.0</td>\n",
       "      <td>23.0</td>\n",
       "      <td>26.0</td>\n",
       "      <td>3.0</td>\n",
       "      <td>27.0</td>\n",
       "      <td>26.0</td>\n",
       "    </tr>\n",
       "    <tr>\n",
       "      <th>ресторан</th>\n",
       "      <td>9.0</td>\n",
       "      <td>48.0</td>\n",
       "      <td>48.0</td>\n",
       "      <td>37.0</td>\n",
       "      <td>40.0</td>\n",
       "      <td>31.0</td>\n",
       "      <td>15.0</td>\n",
       "      <td>15.0</td>\n",
       "      <td>19.0</td>\n",
       "      <td>32.0</td>\n",
       "    </tr>\n",
       "    <tr>\n",
       "      <th>столовая</th>\n",
       "      <td>25.0</td>\n",
       "      <td>6.0</td>\n",
       "      <td>13.0</td>\n",
       "      <td>26.0</td>\n",
       "      <td>0</td>\n",
       "      <td>14.0</td>\n",
       "      <td>87.0</td>\n",
       "      <td>3.0</td>\n",
       "      <td>14.0</td>\n",
       "      <td>8.0</td>\n",
       "    </tr>\n",
       "  </tbody>\n",
       "</table>\n",
       "</div>"
      ],
      "text/plain": [
       "street                             Варшавское шоссе Кутузовский проспект  \\\n",
       "object_type                                                                \n",
       "бар                                             6.0                  6.0   \n",
       "буфет                                           6.0                  1.0   \n",
       "закусочная                                      2.0                  2.0   \n",
       "кафе                                           63.0                 41.0   \n",
       "кафетерий                                       8.0                    0   \n",
       "магазин (отдел кулинарии)                       2.0                  2.0   \n",
       "предприятие быстрого обслуживания              40.0                  8.0   \n",
       "ресторан                                        9.0                 48.0   \n",
       "столовая                                       25.0                  6.0   \n",
       "\n",
       "street                            Ленинградский проспект Ленинский проспект  \\\n",
       "object_type                                                                   \n",
       "бар                                                 10.0                6.0   \n",
       "буфет                                                6.0                1.0   \n",
       "закусочная                                             0                1.0   \n",
       "кафе                                                70.0               64.0   \n",
       "кафетерий                                            3.0                3.0   \n",
       "магазин (отдел кулинарии)                            5.0                  0   \n",
       "предприятие быстрого обслуживания                   16.0                9.0   \n",
       "ресторан                                            48.0               37.0   \n",
       "столовая                                            13.0               26.0   \n",
       "\n",
       "street                            Пресненская набережная  Профсоюзная улица  \\\n",
       "object_type                                                                   \n",
       "бар                                                  5.0                5.0   \n",
       "буфет                                                1.0                5.0   \n",
       "закусочная                                             0                2.0   \n",
       "кафе                                                98.0               90.0   \n",
       "кафетерий                                            5.0               10.0   \n",
       "магазин (отдел кулинарии)                              0                2.0   \n",
       "предприятие быстрого обслуживания                   18.0               23.0   \n",
       "ресторан                                            40.0               31.0   \n",
       "столовая                                               0               14.0   \n",
       "\n",
       "street                            город Зеленоград поселение Сосенское  \\\n",
       "object_type                                                              \n",
       "бар                                           10.0                 8.0   \n",
       "буфет                                          4.0                   0   \n",
       "закусочная                                       0                16.0   \n",
       "кафе                                          68.0                92.0   \n",
       "кафетерий                                     21.0                 1.0   \n",
       "магазин (отдел кулинарии)                      1.0                   0   \n",
       "предприятие быстрого обслуживания             26.0                 3.0   \n",
       "ресторан                                      15.0                15.0   \n",
       "столовая                                      87.0                 3.0   \n",
       "\n",
       "street                             проспект Вернадского  проспект Мира  \n",
       "object_type                                                             \n",
       "бар                                                 4.0           15.0  \n",
       "буфет                                               5.0            3.0  \n",
       "закусочная                                          2.0            4.0  \n",
       "кафе                                               56.0          103.0  \n",
       "кафетерий                                           3.0            5.0  \n",
       "магазин (отдел кулинарии)                           2.0            8.0  \n",
       "предприятие быстрого обслуживания                  27.0           26.0  \n",
       "ресторан                                           19.0           32.0  \n",
       "столовая                                           14.0            8.0  "
      ]
     },
     "execution_count": 31,
     "metadata": {},
     "output_type": "execute_result"
    }
   ],
   "source": [
    "# объединяем две таблицы методом merge() в top_10_street\n",
    "top_10_street = top_10.merge(data, on='street', how='left')\n",
    "# создаем сводную таблицу при помощи метода pivot_table()\n",
    "top_10_street = (\n",
    "    top_10_street.pivot_table\n",
    "    (index = 'object_type',\n",
    "     columns = 'street',\n",
    "     values='number',\n",
    "     aggfunc='count')\n",
    ")\n",
    "# заполнем наши пропуски нулями\n",
    "top_10_street.fillna('0')"
   ]
  },
  {
   "cell_type": "markdown",
   "metadata": {},
   "source": [
    "Строим тепловую карту."
   ]
  },
  {
   "cell_type": "code",
   "execution_count": 32,
   "metadata": {},
   "outputs": [
    {
     "data": {
      "image/png": "[encoded data removed]",
      "text/plain": [
       "<Figure size 1440x720 with 2 Axes>"
      ]
     },
     "metadata": {},
     "output_type": "display_data"
    }
   ],
   "source": [
    "# устанавливаем размер нашей тепловой карте\n",
    "plt.figure(figsize=(20,10))\n",
    "# задаем заголовок и размер нашей таблицы\n",
    "plt.title('Распределение количества посадочных мест для улиц с большим количеством объектов общественного питания',\n",
    "        fontsize = 16)\n",
    "# строим тепловую карту методом heatmap()\n",
    "sns.heatmap(top_10_street,\n",
    "            annot = True, \n",
    "            cmap = 'Accent',\n",
    "            linewidths=1,\n",
    "            linecolor='black',\n",
    "            square=True)\n",
    "# задаем название осей нашей гистограммы\n",
    "plt.xlabel(\"Название улиц\", fontsize = 12)\n",
    "plt.ylabel(\"Тип заведеня\", fontsize = 12)\n",
    "plt.show()"
   ]
  },
  {
   "cell_type": "markdown",
   "metadata": {},
   "source": [
    "Закономерномерности:\n",
    " * наибольшее количество посадочных мест у нас находятся в кафе и ресторанах;\n",
    " * по большей части заведения имеют небольшое количество посадочных мест (меньше 10), что говорит о том, что люди в заведениях не задерживаются, а берут еду и напитки с собой."
   ]
  },
  {
   "cell_type": "markdown",
   "metadata": {},
   "source": [
    "<a id=\"conclusion\"></a>\n",
    "# Выводы и рекомендации"
   ]
  },
  {
   "cell_type": "markdown",
   "metadata": {},
   "source": [
    "**ВЫВОДЫ**"
   ]
  },
  {
   "cell_type": "markdown",
   "metadata": {},
   "source": [
    "    1. Тип заведения"
   ]
  },
  {
   "cell_type": "markdown",
   "metadata": {},
   "source": [
    "Лидирующим типом заведений является:\n",
    " * кафе (6 тыс. заведений)\n",
    " * далее с огромным перевесом идут почти вровень столовые и рестораны (около 2.5 тыс. заведений)\n",
    " * самыми малочисленными заведениями в Москве являются кафетерии, закусочные и отдел кулинарии в магазине (около 400 заведений).\n",
    " \n",
    "Лишь 19 % заведений от общего числа имеют сеть, остальные представлены в единственном числе."
   ]
  },
  {
   "cell_type": "markdown",
   "metadata": {},
   "source": [
    "    2. Посадочные места"
   ]
  },
  {
   "cell_type": "markdown",
   "metadata": {},
   "source": [
    "Наибольшее количество посадочных мест находятся в кафе и ресторанах (от 41 до 103).\n",
    "\n",
    "По большей свой части заведения имеют небольшое количество посадочных мест (меньше 10), что говорит о том, что люди в заведениях не задерживаются, а берут еду с собой."
   ]
  },
  {
   "cell_type": "markdown",
   "metadata": {},
   "source": [
    "    3. Расположение"
   ]
  },
  {
   "cell_type": "markdown",
   "metadata": {},
   "source": [
    "В ходе нашего исследования мы нашли самые популярные для общепита адеса и это:\n",
    " * город Зеленоград;\n",
    " * проспект Мира;\n",
    " * Профсоюзная улица;\n",
    " * Ленинградский проспект;\n",
    " * Пресненская набережная;\n",
    " * Варшавское шоссе;\n",
    " * Ленинский проспект;\n",
    " * поселение Сосенское;\n",
    " * проспект Вернадского;\n",
    " * Кутузовский проспект. \n",
    " \n",
    "Больше всего улиц с одним заведений в Москве в Таганском районе, Хамовниках и Басманном районе.\n",
    "\n",
    "Всего в Москве 99 районов с улицами на которых одно заведение общественного питания.\n",
    "\n",
    "Самые популярные районы для общественного питания это Обручевский район и Теплый Стан, которые находятся на юго-западе столицы.\n",
    " \n"
   ]
  },
  {
   "cell_type": "markdown",
   "metadata": {},
   "source": [
    "**РЕКОМЕНДАЦИИ**"
   ]
  },
  {
   "cell_type": "markdown",
   "metadata": {},
   "source": [
    "В ходе исследования, мы выявили, что наиболее перспективной идеей будет открытие несетевого кафе, находящейся в Обручевский районе или Теплом Стане. Количество посадочных мест варьируется от 41 до 103."
   ]
  }
 ],
 "metadata": {
  "ExecuteTimeLog": [
   {
    "duration": 1134,
    "start_time": "2021-10-16T10:32:57.372Z"
   },
   {
    "duration": 91,
    "start_time": "2021-10-16T10:33:33.373Z"
   },
   {
    "duration": 63,
    "start_time": "2021-10-16T10:35:35.223Z"
   },
   {
    "duration": 61,
    "start_time": "2021-10-16T10:35:49.924Z"
   },
   {
    "duration": 61,
    "start_time": "2021-10-16T10:36:03.519Z"
   },
   {
    "duration": 13,
    "start_time": "2021-10-16T10:37:18.583Z"
   },
   {
    "duration": 356,
    "start_time": "2021-10-16T10:51:34.781Z"
   },
   {
    "duration": 24,
    "start_time": "2021-10-16T10:51:49.936Z"
   },
   {
    "duration": 785,
    "start_time": "2021-10-16T10:53:31.778Z"
   },
   {
    "duration": 105,
    "start_time": "2021-10-16T10:53:53.637Z"
   },
   {
    "duration": 9,
    "start_time": "2021-10-16T10:53:57.998Z"
   },
   {
    "duration": 19,
    "start_time": "2021-10-16T11:17:17.383Z"
   },
   {
    "duration": 27,
    "start_time": "2021-10-16T11:17:38.585Z"
   },
   {
    "duration": 9,
    "start_time": "2021-10-16T11:18:12.432Z"
   },
   {
    "duration": 36,
    "start_time": "2021-10-16T11:23:30.267Z"
   },
   {
    "duration": 18,
    "start_time": "2021-10-16T11:23:33.387Z"
   },
   {
    "duration": 41,
    "start_time": "2021-10-16T11:23:37.868Z"
   },
   {
    "duration": 11,
    "start_time": "2021-10-16T11:23:38.936Z"
   },
   {
    "duration": 23,
    "start_time": "2021-10-16T11:24:32.463Z"
   },
   {
    "duration": 26,
    "start_time": "2021-10-16T11:25:43.453Z"
   },
   {
    "duration": 9,
    "start_time": "2021-10-16T11:26:41.532Z"
   },
   {
    "duration": 23,
    "start_time": "2021-10-16T11:32:00.417Z"
   },
   {
    "duration": 7,
    "start_time": "2021-10-16T11:32:46.473Z"
   },
   {
    "duration": 7,
    "start_time": "2021-10-16T11:33:58.230Z"
   },
   {
    "duration": 10,
    "start_time": "2021-10-16T11:34:15.425Z"
   },
   {
    "duration": 17,
    "start_time": "2021-10-16T11:34:30.052Z"
   },
   {
    "duration": 18,
    "start_time": "2021-10-16T11:34:56.185Z"
   },
   {
    "duration": 13,
    "start_time": "2021-10-16T11:35:16.557Z"
   },
   {
    "duration": 22,
    "start_time": "2021-10-16T11:35:33.778Z"
   },
   {
    "duration": 23,
    "start_time": "2021-10-16T11:35:44.727Z"
   },
   {
    "duration": 11,
    "start_time": "2021-10-16T11:36:14.870Z"
   },
   {
    "duration": 1814,
    "start_time": "2021-10-20T15:54:05.598Z"
   },
   {
    "duration": 4,
    "start_time": "2021-10-20T15:54:21.856Z"
   },
   {
    "duration": 70,
    "start_time": "2021-10-20T15:54:21.863Z"
   },
   {
    "duration": 12,
    "start_time": "2021-10-20T15:54:21.935Z"
   },
   {
    "duration": 31,
    "start_time": "2021-10-20T15:54:21.950Z"
   },
   {
    "duration": 9,
    "start_time": "2021-10-20T15:54:21.984Z"
   },
   {
    "duration": 277,
    "start_time": "2021-10-20T15:54:21.996Z"
   },
   {
    "duration": 10,
    "start_time": "2021-10-20T15:55:12.970Z"
   },
   {
    "duration": 274,
    "start_time": "2021-10-20T15:56:13.746Z"
   },
   {
    "duration": 10,
    "start_time": "2021-10-20T15:57:35.114Z"
   },
   {
    "duration": 12,
    "start_time": "2021-10-20T15:58:46.593Z"
   },
   {
    "duration": 30,
    "start_time": "2021-10-20T15:58:54.291Z"
   },
   {
    "duration": 26,
    "start_time": "2021-10-20T16:03:29.628Z"
   },
   {
    "duration": 10,
    "start_time": "2021-10-20T16:03:35.431Z"
   },
   {
    "duration": 10,
    "start_time": "2021-10-20T16:03:52.935Z"
   },
   {
    "duration": 7,
    "start_time": "2021-10-20T16:12:24.850Z"
   },
   {
    "duration": 9,
    "start_time": "2021-10-20T16:12:34.219Z"
   },
   {
    "duration": 273,
    "start_time": "2021-10-20T16:14:43.927Z"
   },
   {
    "duration": 7,
    "start_time": "2021-10-20T16:15:12.222Z"
   },
   {
    "duration": 12,
    "start_time": "2021-10-20T16:15:22.012Z"
   },
   {
    "duration": 10,
    "start_time": "2021-10-20T16:16:01.905Z"
   },
   {
    "duration": 15,
    "start_time": "2021-10-20T16:18:08.376Z"
   },
   {
    "duration": 2254,
    "start_time": "2021-10-20T16:26:37.009Z"
   },
   {
    "duration": 1448,
    "start_time": "2021-10-20T16:27:14.504Z"
   },
   {
    "duration": 1321,
    "start_time": "2021-10-20T16:28:43.597Z"
   },
   {
    "duration": 16,
    "start_time": "2021-10-20T16:29:51.284Z"
   },
   {
    "duration": 1914,
    "start_time": "2021-10-20T16:29:53.469Z"
   },
   {
    "duration": 1450,
    "start_time": "2021-10-20T16:30:28.827Z"
   },
   {
    "duration": 320,
    "start_time": "2021-10-20T16:31:57.515Z"
   },
   {
    "duration": 347,
    "start_time": "2021-10-20T16:33:15.160Z"
   },
   {
    "duration": 335,
    "start_time": "2021-10-20T16:33:52.932Z"
   },
   {
    "duration": 231,
    "start_time": "2021-10-20T16:35:17.639Z"
   },
   {
    "duration": 326,
    "start_time": "2021-10-20T16:35:25.733Z"
   },
   {
    "duration": 14,
    "start_time": "2021-10-20T18:30:29.589Z"
   },
   {
    "duration": 16,
    "start_time": "2021-10-20T18:30:38.368Z"
   },
   {
    "duration": 2251,
    "start_time": "2021-10-21T19:45:12.569Z"
   },
   {
    "duration": 400,
    "start_time": "2021-10-21T19:45:19.866Z"
   },
   {
    "duration": 3,
    "start_time": "2021-10-21T19:45:26.625Z"
   },
   {
    "duration": 80,
    "start_time": "2021-10-21T19:45:26.632Z"
   },
   {
    "duration": 13,
    "start_time": "2021-10-21T19:45:26.717Z"
   },
   {
    "duration": 46,
    "start_time": "2021-10-21T19:45:26.734Z"
   },
   {
    "duration": 8,
    "start_time": "2021-10-21T19:45:26.783Z"
   },
   {
    "duration": 17,
    "start_time": "2021-10-21T19:45:26.794Z"
   },
   {
    "duration": 745,
    "start_time": "2021-10-21T19:45:26.814Z"
   },
   {
    "duration": 1555,
    "start_time": "2021-10-21T19:45:50.805Z"
   },
   {
    "duration": 693,
    "start_time": "2021-10-21T19:47:19.233Z"
   },
   {
    "duration": 729,
    "start_time": "2021-10-21T19:47:46.904Z"
   },
   {
    "duration": 696,
    "start_time": "2021-10-21T19:49:15.064Z"
   },
   {
    "duration": 800,
    "start_time": "2021-10-21T19:51:47.742Z"
   },
   {
    "duration": 839,
    "start_time": "2021-10-21T19:58:31.347Z"
   },
   {
    "duration": 715,
    "start_time": "2021-10-21T19:59:44.233Z"
   },
   {
    "duration": 314,
    "start_time": "2021-10-21T19:59:59.915Z"
   },
   {
    "duration": 634,
    "start_time": "2021-10-21T20:00:25.058Z"
   },
   {
    "duration": 646,
    "start_time": "2021-10-21T20:01:20.951Z"
   },
   {
    "duration": 663,
    "start_time": "2021-10-21T20:04:36.201Z"
   },
   {
    "duration": 335,
    "start_time": "2021-10-21T20:07:30.422Z"
   },
   {
    "duration": 327,
    "start_time": "2021-10-21T20:07:48.115Z"
   },
   {
    "duration": 325,
    "start_time": "2021-10-21T20:08:01.557Z"
   },
   {
    "duration": 331,
    "start_time": "2021-10-21T20:08:13.078Z"
   },
   {
    "duration": 434,
    "start_time": "2021-10-21T20:11:02.747Z"
   },
   {
    "duration": 840,
    "start_time": "2021-10-21T20:16:50.607Z"
   },
   {
    "duration": 319,
    "start_time": "2021-10-21T20:18:15.880Z"
   },
   {
    "duration": 15,
    "start_time": "2021-10-21T20:28:11.136Z"
   },
   {
    "duration": 210,
    "start_time": "2021-10-21T20:33:40.628Z"
   },
   {
    "duration": 232,
    "start_time": "2021-10-21T20:34:03.060Z"
   },
   {
    "duration": 206,
    "start_time": "2021-10-22T22:36:33.874Z"
   },
   {
    "duration": 657,
    "start_time": "2021-10-22T22:36:42.071Z"
   },
   {
    "duration": 73,
    "start_time": "2021-10-22T22:36:42.731Z"
   },
   {
    "duration": 11,
    "start_time": "2021-10-22T22:36:42.807Z"
   },
   {
    "duration": 24,
    "start_time": "2021-10-22T22:36:42.829Z"
   },
   {
    "duration": 5,
    "start_time": "2021-10-22T22:36:42.855Z"
   },
   {
    "duration": 24,
    "start_time": "2021-10-22T22:36:42.862Z"
   },
   {
    "duration": 1016,
    "start_time": "2021-10-22T22:36:42.888Z"
   },
   {
    "duration": 14,
    "start_time": "2021-10-22T22:36:43.906Z"
   },
   {
    "duration": 229,
    "start_time": "2021-10-22T22:36:43.930Z"
   },
   {
    "duration": 453,
    "start_time": "2021-10-22T22:39:53.513Z"
   },
   {
    "duration": 379,
    "start_time": "2021-10-22T22:40:12.689Z"
   },
   {
    "duration": 13,
    "start_time": "2021-10-22T22:40:28.273Z"
   },
   {
    "duration": 158,
    "start_time": "2021-10-22T22:49:03.125Z"
   },
   {
    "duration": 149,
    "start_time": "2021-10-22T22:49:24.125Z"
   },
   {
    "duration": 949,
    "start_time": "2021-10-22T22:50:09.831Z"
   },
   {
    "duration": 10,
    "start_time": "2021-10-22T22:50:27.174Z"
   },
   {
    "duration": 24,
    "start_time": "2021-10-22T22:50:38.365Z"
   },
   {
    "duration": 149,
    "start_time": "2021-10-22T22:51:25.765Z"
   },
   {
    "duration": 25,
    "start_time": "2021-10-22T22:51:40.474Z"
   },
   {
    "duration": 220,
    "start_time": "2021-10-22T22:52:19.251Z"
   },
   {
    "duration": 13,
    "start_time": "2021-10-22T22:55:52.914Z"
   },
   {
    "duration": 4625,
    "start_time": "2021-10-22T22:56:32.348Z"
   },
   {
    "duration": 6,
    "start_time": "2021-10-22T22:57:17.343Z"
   },
   {
    "duration": 224,
    "start_time": "2021-10-22T22:58:08.311Z"
   },
   {
    "duration": 16,
    "start_time": "2021-10-22T22:58:19.724Z"
   },
   {
    "duration": 19,
    "start_time": "2021-10-22T22:58:35.294Z"
   },
   {
    "duration": 214,
    "start_time": "2021-10-22T22:58:55.148Z"
   },
   {
    "duration": 192,
    "start_time": "2021-10-22T22:59:11.595Z"
   },
   {
    "duration": 157,
    "start_time": "2021-10-22T22:59:24.636Z"
   },
   {
    "duration": 198,
    "start_time": "2021-10-22T22:59:32.184Z"
   },
   {
    "duration": 204,
    "start_time": "2021-10-22T22:59:42.332Z"
   },
   {
    "duration": 214,
    "start_time": "2021-10-22T23:00:11.675Z"
   },
   {
    "duration": 150,
    "start_time": "2021-10-22T23:00:41.084Z"
   },
   {
    "duration": 181,
    "start_time": "2021-10-22T23:01:37.223Z"
   },
   {
    "duration": 4,
    "start_time": "2021-10-22T23:01:50.614Z"
   },
   {
    "duration": 66,
    "start_time": "2021-10-22T23:01:50.633Z"
   },
   {
    "duration": 14,
    "start_time": "2021-10-22T23:01:50.702Z"
   },
   {
    "duration": 30,
    "start_time": "2021-10-22T23:01:50.729Z"
   },
   {
    "duration": 8,
    "start_time": "2021-10-22T23:01:50.762Z"
   },
   {
    "duration": 58,
    "start_time": "2021-10-22T23:01:50.773Z"
   },
   {
    "duration": 340,
    "start_time": "2021-10-22T23:01:50.835Z"
   },
   {
    "duration": 14,
    "start_time": "2021-10-22T23:01:51.177Z"
   },
   {
    "duration": 238,
    "start_time": "2021-10-22T23:01:51.194Z"
   },
   {
    "duration": 189,
    "start_time": "2021-10-22T23:01:51.434Z"
   },
   {
    "duration": -1490,
    "start_time": "2021-10-22T23:01:53.115Z"
   },
   {
    "duration": 17,
    "start_time": "2021-10-22T23:02:08.302Z"
   },
   {
    "duration": 14,
    "start_time": "2021-10-22T23:03:00.413Z"
   },
   {
    "duration": 65,
    "start_time": "2021-10-22T23:03:16.903Z"
   },
   {
    "duration": 222,
    "start_time": "2021-10-22T23:03:20.372Z"
   },
   {
    "duration": 214,
    "start_time": "2021-10-22T23:03:43.304Z"
   },
   {
    "duration": 14,
    "start_time": "2021-10-22T23:04:04.364Z"
   },
   {
    "duration": 167,
    "start_time": "2021-10-22T23:04:29.563Z"
   },
   {
    "duration": 200,
    "start_time": "2021-10-22T23:04:39.236Z"
   },
   {
    "duration": 8,
    "start_time": "2021-10-22T23:04:45.464Z"
   },
   {
    "duration": 168,
    "start_time": "2021-10-22T23:04:55.365Z"
   },
   {
    "duration": 15,
    "start_time": "2021-10-22T23:05:19.662Z"
   },
   {
    "duration": 10,
    "start_time": "2021-10-22T23:05:37.642Z"
   },
   {
    "duration": 19,
    "start_time": "2021-10-22T23:06:11.394Z"
   },
   {
    "duration": 12,
    "start_time": "2021-10-22T23:06:38.137Z"
   },
   {
    "duration": 14,
    "start_time": "2021-10-22T23:07:02.694Z"
   },
   {
    "duration": 12,
    "start_time": "2021-10-22T23:07:11.003Z"
   },
   {
    "duration": 10,
    "start_time": "2021-10-22T23:09:08.944Z"
   },
   {
    "duration": 250,
    "start_time": "2021-10-22T23:10:39.025Z"
   },
   {
    "duration": 219,
    "start_time": "2021-10-22T23:11:06.516Z"
   },
   {
    "duration": 209,
    "start_time": "2021-10-22T23:12:24.185Z"
   },
   {
    "duration": 214,
    "start_time": "2021-10-22T23:13:06.845Z"
   },
   {
    "duration": 213,
    "start_time": "2021-10-22T23:14:29.127Z"
   },
   {
    "duration": 219,
    "start_time": "2021-10-22T23:15:34.505Z"
   },
   {
    "duration": 21,
    "start_time": "2021-10-22T23:15:39.966Z"
   },
   {
    "duration": 22,
    "start_time": "2021-10-22T23:15:58.771Z"
   },
   {
    "duration": 31,
    "start_time": "2021-10-22T23:21:42.344Z"
   },
   {
    "duration": 22,
    "start_time": "2021-10-22T23:30:28.674Z"
   },
   {
    "duration": 157,
    "start_time": "2021-10-22T23:46:44.154Z"
   },
   {
    "duration": 10,
    "start_time": "2021-10-22T23:46:52.892Z"
   },
   {
    "duration": 25,
    "start_time": "2021-10-22T23:46:58.035Z"
   },
   {
    "duration": 8,
    "start_time": "2021-10-22T23:47:37.111Z"
   },
   {
    "duration": 11,
    "start_time": "2021-10-22T23:47:45.063Z"
   },
   {
    "duration": 14,
    "start_time": "2021-10-22T23:47:51.363Z"
   },
   {
    "duration": 8,
    "start_time": "2021-10-22T23:48:56.891Z"
   },
   {
    "duration": 11,
    "start_time": "2021-10-22T23:49:00.254Z"
   },
   {
    "duration": 274,
    "start_time": "2021-10-23T22:55:24.592Z"
   },
   {
    "duration": 559,
    "start_time": "2021-10-23T22:56:14.004Z"
   },
   {
    "duration": 63,
    "start_time": "2021-10-23T22:56:14.565Z"
   },
   {
    "duration": 10,
    "start_time": "2021-10-23T22:56:14.631Z"
   },
   {
    "duration": 36,
    "start_time": "2021-10-23T22:56:14.644Z"
   },
   {
    "duration": 5,
    "start_time": "2021-10-23T22:56:14.681Z"
   },
   {
    "duration": 17,
    "start_time": "2021-10-23T22:56:14.687Z"
   },
   {
    "duration": 791,
    "start_time": "2021-10-23T22:56:14.706Z"
   },
   {
    "duration": 10,
    "start_time": "2021-10-23T22:56:15.499Z"
   },
   {
    "duration": 140,
    "start_time": "2021-10-23T22:56:15.510Z"
   },
   {
    "duration": 22,
    "start_time": "2021-10-23T22:56:15.651Z"
   },
   {
    "duration": 15,
    "start_time": "2021-10-23T22:56:15.674Z"
   },
   {
    "duration": 18,
    "start_time": "2021-10-23T22:56:49.119Z"
   },
   {
    "duration": 299,
    "start_time": "2021-10-23T22:57:06.751Z"
   },
   {
    "duration": 238,
    "start_time": "2021-10-23T22:57:16.212Z"
   },
   {
    "duration": 16,
    "start_time": "2021-10-23T22:57:33.820Z"
   },
   {
    "duration": 242,
    "start_time": "2021-10-23T23:08:49.837Z"
   },
   {
    "duration": 243,
    "start_time": "2021-10-23T23:09:04.192Z"
   },
   {
    "duration": 10,
    "start_time": "2021-10-23T23:14:40.463Z"
   },
   {
    "duration": 240,
    "start_time": "2021-10-23T23:18:01.927Z"
   },
   {
    "duration": 9,
    "start_time": "2021-10-23T23:22:28.833Z"
   },
   {
    "duration": 11,
    "start_time": "2021-10-23T23:23:17.933Z"
   },
   {
    "duration": 231,
    "start_time": "2021-10-23T23:27:18.873Z"
   },
   {
    "duration": 5,
    "start_time": "2021-10-23T23:28:33.373Z"
   },
   {
    "duration": 7,
    "start_time": "2021-10-23T23:28:46.584Z"
   },
   {
    "duration": 7,
    "start_time": "2021-10-23T23:29:20.155Z"
   },
   {
    "duration": 240,
    "start_time": "2021-10-23T23:29:43.577Z"
   },
   {
    "duration": 7,
    "start_time": "2021-10-23T23:29:57.786Z"
   },
   {
    "duration": 6,
    "start_time": "2021-10-23T23:31:27.423Z"
   },
   {
    "duration": 9,
    "start_time": "2021-10-23T23:31:42.543Z"
   },
   {
    "duration": 9,
    "start_time": "2021-10-23T23:32:20.353Z"
   },
   {
    "duration": 6,
    "start_time": "2021-10-23T23:32:35.926Z"
   },
   {
    "duration": 6,
    "start_time": "2021-10-23T23:32:44.194Z"
   },
   {
    "duration": 3,
    "start_time": "2021-10-23T23:32:56.710Z"
   },
   {
    "duration": 61,
    "start_time": "2021-10-23T23:32:56.715Z"
   },
   {
    "duration": 9,
    "start_time": "2021-10-23T23:32:56.778Z"
   },
   {
    "duration": 22,
    "start_time": "2021-10-23T23:32:56.789Z"
   },
   {
    "duration": 5,
    "start_time": "2021-10-23T23:32:56.812Z"
   },
   {
    "duration": 11,
    "start_time": "2021-10-23T23:32:56.818Z"
   },
   {
    "duration": 208,
    "start_time": "2021-10-23T23:32:56.831Z"
   },
   {
    "duration": 10,
    "start_time": "2021-10-23T23:32:57.041Z"
   },
   {
    "duration": 150,
    "start_time": "2021-10-23T23:32:57.064Z"
   },
   {
    "duration": 15,
    "start_time": "2021-10-23T23:32:57.215Z"
   },
   {
    "duration": 9,
    "start_time": "2021-10-23T23:32:57.231Z"
   },
   {
    "duration": 7,
    "start_time": "2021-10-23T23:32:57.263Z"
   },
   {
    "duration": 16,
    "start_time": "2021-10-23T23:32:57.271Z"
   },
   {
    "duration": 8,
    "start_time": "2021-10-23T23:33:11.316Z"
   },
   {
    "duration": 11,
    "start_time": "2021-10-23T23:34:31.616Z"
   },
   {
    "duration": 10,
    "start_time": "2021-10-23T23:35:24.014Z"
   },
   {
    "duration": 10,
    "start_time": "2021-10-23T23:35:36.866Z"
   },
   {
    "duration": 11,
    "start_time": "2021-10-23T23:37:15.364Z"
   },
   {
    "duration": 14,
    "start_time": "2021-10-23T23:37:46.574Z"
   },
   {
    "duration": 10,
    "start_time": "2021-10-23T23:39:15.306Z"
   },
   {
    "duration": 16,
    "start_time": "2021-10-23T23:39:29.956Z"
   },
   {
    "duration": 15,
    "start_time": "2021-10-24T00:41:57.719Z"
   },
   {
    "duration": 6245,
    "start_time": "2021-10-24T00:45:44.870Z"
   },
   {
    "duration": 15,
    "start_time": "2021-10-24T00:46:24.529Z"
   },
   {
    "duration": 12,
    "start_time": "2021-10-24T00:46:59.637Z"
   },
   {
    "duration": 13,
    "start_time": "2021-10-24T00:47:04.319Z"
   },
   {
    "duration": 13,
    "start_time": "2021-10-24T00:47:33.357Z"
   },
   {
    "duration": 227,
    "start_time": "2021-10-24T00:49:28.540Z"
   },
   {
    "duration": 11,
    "start_time": "2021-10-24T00:49:42.249Z"
   },
   {
    "duration": 3,
    "start_time": "2021-10-24T00:49:48.858Z"
   },
   {
    "duration": 54,
    "start_time": "2021-10-24T00:49:48.875Z"
   },
   {
    "duration": 9,
    "start_time": "2021-10-24T00:49:48.931Z"
   },
   {
    "duration": 26,
    "start_time": "2021-10-24T00:49:48.943Z"
   },
   {
    "duration": 4,
    "start_time": "2021-10-24T00:49:48.971Z"
   },
   {
    "duration": 12,
    "start_time": "2021-10-24T00:49:48.977Z"
   },
   {
    "duration": 13,
    "start_time": "2021-10-24T00:49:48.991Z"
   },
   {
    "duration": 220,
    "start_time": "2021-10-24T00:49:49.006Z"
   },
   {
    "duration": 11,
    "start_time": "2021-10-24T00:49:49.228Z"
   },
   {
    "duration": 143,
    "start_time": "2021-10-24T00:49:49.241Z"
   },
   {
    "duration": 17,
    "start_time": "2021-10-24T00:49:49.386Z"
   },
   {
    "duration": 7,
    "start_time": "2021-10-24T00:49:49.404Z"
   },
   {
    "duration": 15,
    "start_time": "2021-10-24T00:49:49.412Z"
   },
   {
    "duration": 78,
    "start_time": "2021-10-24T00:49:49.429Z"
   },
   {
    "duration": 16,
    "start_time": "2021-10-24T00:51:24.327Z"
   },
   {
    "duration": 13,
    "start_time": "2021-10-24T00:54:35.976Z"
   },
   {
    "duration": 15,
    "start_time": "2021-10-24T00:55:28.559Z"
   },
   {
    "duration": 15,
    "start_time": "2021-10-24T00:55:55.967Z"
   },
   {
    "duration": 92,
    "start_time": "2021-10-24T01:04:11.847Z"
   },
   {
    "duration": 74,
    "start_time": "2021-10-29T16:37:56.364Z"
   },
   {
    "duration": 721,
    "start_time": "2021-10-29T16:38:13.115Z"
   },
   {
    "duration": 518,
    "start_time": "2021-10-29T16:38:22.843Z"
   },
   {
    "duration": 58,
    "start_time": "2021-10-29T16:38:23.363Z"
   },
   {
    "duration": 10,
    "start_time": "2021-10-29T16:38:23.424Z"
   },
   {
    "duration": 18,
    "start_time": "2021-10-29T16:38:23.436Z"
   },
   {
    "duration": 5,
    "start_time": "2021-10-29T16:38:23.456Z"
   },
   {
    "duration": 63,
    "start_time": "2021-10-29T16:38:23.492Z"
   },
   {
    "duration": -366,
    "start_time": "2021-10-29T16:38:23.923Z"
   },
   {
    "duration": -393,
    "start_time": "2021-10-29T16:38:23.951Z"
   },
   {
    "duration": -396,
    "start_time": "2021-10-29T16:38:23.956Z"
   },
   {
    "duration": -399,
    "start_time": "2021-10-29T16:38:23.960Z"
   },
   {
    "duration": -409,
    "start_time": "2021-10-29T16:38:23.972Z"
   },
   {
    "duration": -442,
    "start_time": "2021-10-29T16:38:24.006Z"
   },
   {
    "duration": -451,
    "start_time": "2021-10-29T16:38:24.017Z"
   },
   {
    "duration": -456,
    "start_time": "2021-10-29T16:38:24.023Z"
   },
   {
    "duration": -464,
    "start_time": "2021-10-29T16:38:24.032Z"
   },
   {
    "duration": 3,
    "start_time": "2021-10-29T16:38:49.357Z"
   },
   {
    "duration": 48,
    "start_time": "2021-10-29T16:38:49.390Z"
   },
   {
    "duration": 9,
    "start_time": "2021-10-29T16:38:49.440Z"
   },
   {
    "duration": 16,
    "start_time": "2021-10-29T16:38:49.451Z"
   },
   {
    "duration": 4,
    "start_time": "2021-10-29T16:38:49.476Z"
   },
   {
    "duration": 57,
    "start_time": "2021-10-29T16:38:49.506Z"
   },
   {
    "duration": -292,
    "start_time": "2021-10-29T16:38:49.857Z"
   },
   {
    "duration": 10,
    "start_time": "2021-10-29T16:38:49.637Z"
   },
   {
    "duration": 688,
    "start_time": "2021-10-29T16:38:49.656Z"
   },
   {
    "duration": 10,
    "start_time": "2021-10-29T16:38:50.346Z"
   },
   {
    "duration": 139,
    "start_time": "2021-10-29T16:38:50.358Z"
   },
   {
    "duration": 16,
    "start_time": "2021-10-29T16:38:50.499Z"
   },
   {
    "duration": 10,
    "start_time": "2021-10-29T16:38:50.516Z"
   },
   {
    "duration": 55,
    "start_time": "2021-10-29T16:38:50.528Z"
   },
   {
    "duration": -395,
    "start_time": "2021-10-29T16:38:50.979Z"
   },
   {
    "duration": 15,
    "start_time": "2021-10-29T16:43:07.387Z"
   },
   {
    "duration": 13,
    "start_time": "2021-10-29T16:43:57.897Z"
   },
   {
    "duration": 8,
    "start_time": "2021-10-29T16:44:21.131Z"
   },
   {
    "duration": 7,
    "start_time": "2021-10-29T18:13:38.631Z"
   },
   {
    "duration": 2,
    "start_time": "2021-10-29T18:13:46.175Z"
   },
   {
    "duration": 54,
    "start_time": "2021-10-29T18:13:46.179Z"
   },
   {
    "duration": 8,
    "start_time": "2021-10-29T18:13:46.235Z"
   },
   {
    "duration": 17,
    "start_time": "2021-10-29T18:13:46.244Z"
   },
   {
    "duration": 4,
    "start_time": "2021-10-29T18:13:46.263Z"
   },
   {
    "duration": 61,
    "start_time": "2021-10-29T18:13:46.268Z"
   },
   {
    "duration": -149,
    "start_time": "2021-10-29T18:13:46.480Z"
   },
   {
    "duration": -149,
    "start_time": "2021-10-29T18:13:46.481Z"
   },
   {
    "duration": -150,
    "start_time": "2021-10-29T18:13:46.483Z"
   },
   {
    "duration": -150,
    "start_time": "2021-10-29T18:13:46.484Z"
   },
   {
    "duration": -151,
    "start_time": "2021-10-29T18:13:46.486Z"
   },
   {
    "duration": -152,
    "start_time": "2021-10-29T18:13:46.488Z"
   },
   {
    "duration": -152,
    "start_time": "2021-10-29T18:13:46.489Z"
   },
   {
    "duration": -153,
    "start_time": "2021-10-29T18:13:46.491Z"
   },
   {
    "duration": -154,
    "start_time": "2021-10-29T18:13:46.493Z"
   },
   {
    "duration": 3,
    "start_time": "2021-10-29T18:14:28.953Z"
   },
   {
    "duration": 52,
    "start_time": "2021-10-29T18:14:28.957Z"
   },
   {
    "duration": 7,
    "start_time": "2021-10-29T18:14:29.011Z"
   },
   {
    "duration": 19,
    "start_time": "2021-10-29T18:14:29.020Z"
   },
   {
    "duration": 4,
    "start_time": "2021-10-29T18:14:29.040Z"
   },
   {
    "duration": 59,
    "start_time": "2021-10-29T18:14:29.045Z"
   },
   {
    "duration": -132,
    "start_time": "2021-10-29T18:14:29.238Z"
   },
   {
    "duration": -133,
    "start_time": "2021-10-29T18:14:29.240Z"
   },
   {
    "duration": -134,
    "start_time": "2021-10-29T18:14:29.242Z"
   },
   {
    "duration": -135,
    "start_time": "2021-10-29T18:14:29.244Z"
   },
   {
    "duration": -136,
    "start_time": "2021-10-29T18:14:29.246Z"
   },
   {
    "duration": -136,
    "start_time": "2021-10-29T18:14:29.247Z"
   },
   {
    "duration": -137,
    "start_time": "2021-10-29T18:14:29.249Z"
   },
   {
    "duration": -141,
    "start_time": "2021-10-29T18:14:29.254Z"
   },
   {
    "duration": -142,
    "start_time": "2021-10-29T18:14:29.256Z"
   },
   {
    "duration": 207,
    "start_time": "2021-10-30T22:25:40.347Z"
   },
   {
    "duration": 596,
    "start_time": "2021-10-30T22:25:49.773Z"
   },
   {
    "duration": 57,
    "start_time": "2021-10-30T22:25:50.371Z"
   },
   {
    "duration": 8,
    "start_time": "2021-10-30T22:25:50.430Z"
   },
   {
    "duration": 20,
    "start_time": "2021-10-30T22:25:50.439Z"
   },
   {
    "duration": 5,
    "start_time": "2021-10-30T22:25:50.460Z"
   },
   {
    "duration": 59,
    "start_time": "2021-10-30T22:25:50.466Z"
   },
   {
    "duration": -798,
    "start_time": "2021-10-30T22:25:51.325Z"
   },
   {
    "duration": -798,
    "start_time": "2021-10-30T22:25:51.326Z"
   },
   {
    "duration": -799,
    "start_time": "2021-10-30T22:25:51.328Z"
   },
   {
    "duration": -800,
    "start_time": "2021-10-30T22:25:51.330Z"
   },
   {
    "duration": -800,
    "start_time": "2021-10-30T22:25:51.331Z"
   },
   {
    "duration": -802,
    "start_time": "2021-10-30T22:25:51.334Z"
   },
   {
    "duration": -803,
    "start_time": "2021-10-30T22:25:51.336Z"
   },
   {
    "duration": -807,
    "start_time": "2021-10-30T22:25:51.341Z"
   },
   {
    "duration": -808,
    "start_time": "2021-10-30T22:25:51.343Z"
   },
   {
    "duration": 701,
    "start_time": "2021-10-31T14:23:26.816Z"
   },
   {
    "duration": 75,
    "start_time": "2021-10-31T14:23:27.519Z"
   },
   {
    "duration": 10,
    "start_time": "2021-10-31T14:23:27.597Z"
   },
   {
    "duration": 22,
    "start_time": "2021-10-31T14:23:27.609Z"
   },
   {
    "duration": 5,
    "start_time": "2021-10-31T14:23:27.633Z"
   },
   {
    "duration": 13,
    "start_time": "2021-10-31T14:23:27.640Z"
   },
   {
    "duration": 13,
    "start_time": "2021-10-31T14:23:27.655Z"
   },
   {
    "duration": 924,
    "start_time": "2021-10-31T14:23:27.669Z"
   },
   {
    "duration": 18,
    "start_time": "2021-10-31T14:23:28.597Z"
   },
   {
    "duration": 234,
    "start_time": "2021-10-31T14:23:28.618Z"
   },
   {
    "duration": 18,
    "start_time": "2021-10-31T14:23:28.854Z"
   },
   {
    "duration": 14,
    "start_time": "2021-10-31T14:23:28.874Z"
   },
   {
    "duration": 8,
    "start_time": "2021-10-31T14:23:28.907Z"
   },
   {
    "duration": 425,
    "start_time": "2021-10-31T14:23:28.917Z"
   },
   {
    "duration": 352,
    "start_time": "2021-10-31T14:24:00.224Z"
   },
   {
    "duration": 4,
    "start_time": "2021-10-31T14:24:40.537Z"
   },
   {
    "duration": 8,
    "start_time": "2021-10-31T14:24:46.427Z"
   },
   {
    "duration": -1119,
    "start_time": "2021-10-31T14:25:29.895Z"
   },
   {
    "duration": 11196,
    "start_time": "2021-10-31T14:25:32.438Z"
   },
   {
    "duration": 9310,
    "start_time": "2021-10-31T14:26:58.954Z"
   },
   {
    "duration": 137,
    "start_time": "2021-10-31T14:27:13.535Z"
   },
   {
    "duration": 8470,
    "start_time": "2021-10-31T14:27:22.392Z"
   },
   {
    "duration": 12,
    "start_time": "2021-10-31T14:34:17.788Z"
   },
   {
    "duration": 12,
    "start_time": "2021-10-31T14:35:02.008Z"
   },
   {
    "duration": 430,
    "start_time": "2021-10-31T14:35:18.668Z"
   },
   {
    "duration": 8,
    "start_time": "2021-10-31T14:35:33.328Z"
   },
   {
    "duration": 8,
    "start_time": "2021-10-31T14:35:47.002Z"
   },
   {
    "duration": 357,
    "start_time": "2021-10-31T14:35:57.366Z"
   },
   {
    "duration": 8,
    "start_time": "2021-10-31T14:36:11.442Z"
   },
   {
    "duration": 8,
    "start_time": "2021-10-31T14:36:31.026Z"
   },
   {
    "duration": 166,
    "start_time": "2021-10-31T14:37:14.242Z"
   },
   {
    "duration": 6,
    "start_time": "2021-10-31T14:37:24.171Z"
   },
   {
    "duration": 11,
    "start_time": "2021-10-31T14:37:40.779Z"
   },
   {
    "duration": 8,
    "start_time": "2021-10-31T14:37:52.794Z"
   },
   {
    "duration": 157,
    "start_time": "2021-10-31T14:38:53.614Z"
   },
   {
    "duration": 5,
    "start_time": "2021-10-31T14:39:01.509Z"
   },
   {
    "duration": 9,
    "start_time": "2021-10-31T14:39:24.586Z"
   },
   {
    "duration": 9,
    "start_time": "2021-10-31T14:40:38.605Z"
   },
   {
    "duration": 265,
    "start_time": "2021-10-31T23:04:44.127Z"
   },
   {
    "duration": 757,
    "start_time": "2021-10-31T23:05:30.892Z"
   },
   {
    "duration": 79,
    "start_time": "2021-10-31T23:05:31.651Z"
   },
   {
    "duration": 13,
    "start_time": "2021-10-31T23:05:31.733Z"
   },
   {
    "duration": 26,
    "start_time": "2021-10-31T23:05:31.748Z"
   },
   {
    "duration": 6,
    "start_time": "2021-10-31T23:05:31.777Z"
   },
   {
    "duration": 55,
    "start_time": "2021-10-31T23:05:31.786Z"
   },
   {
    "duration": 20,
    "start_time": "2021-10-31T23:05:31.844Z"
   },
   {
    "duration": 1064,
    "start_time": "2021-10-31T23:05:31.868Z"
   },
   {
    "duration": 15,
    "start_time": "2021-10-31T23:05:32.935Z"
   },
   {
    "duration": 245,
    "start_time": "2021-10-31T23:05:32.953Z"
   },
   {
    "duration": 39,
    "start_time": "2021-10-31T23:05:33.201Z"
   },
   {
    "duration": 22,
    "start_time": "2021-10-31T23:05:33.243Z"
   },
   {
    "duration": 12,
    "start_time": "2021-10-31T23:05:33.268Z"
   },
   {
    "duration": 52,
    "start_time": "2021-10-31T23:05:33.283Z"
   },
   {
    "duration": 15,
    "start_time": "2021-10-31T23:05:33.338Z"
   },
   {
    "duration": 13,
    "start_time": "2021-10-31T23:05:33.355Z"
   },
   {
    "duration": 9,
    "start_time": "2021-10-31T23:05:33.371Z"
   },
   {
    "duration": 3,
    "start_time": "2021-10-31T23:08:04.767Z"
   },
   {
    "duration": 70,
    "start_time": "2021-10-31T23:08:04.773Z"
   },
   {
    "duration": 11,
    "start_time": "2021-10-31T23:08:04.846Z"
   },
   {
    "duration": 26,
    "start_time": "2021-10-31T23:08:04.860Z"
   },
   {
    "duration": 7,
    "start_time": "2021-10-31T23:08:04.888Z"
   },
   {
    "duration": 45,
    "start_time": "2021-10-31T23:08:04.897Z"
   },
   {
    "duration": 18,
    "start_time": "2021-10-31T23:08:04.945Z"
   },
   {
    "duration": 355,
    "start_time": "2021-10-31T23:08:04.965Z"
   },
   {
    "duration": 20,
    "start_time": "2021-10-31T23:08:05.323Z"
   },
   {
    "duration": 236,
    "start_time": "2021-10-31T23:08:05.345Z"
   },
   {
    "duration": 23,
    "start_time": "2021-10-31T23:08:05.584Z"
   },
   {
    "duration": 33,
    "start_time": "2021-10-31T23:08:05.609Z"
   },
   {
    "duration": 10,
    "start_time": "2021-10-31T23:08:05.644Z"
   },
   {
    "duration": 15,
    "start_time": "2021-10-31T23:08:05.656Z"
   },
   {
    "duration": 15,
    "start_time": "2021-10-31T23:08:05.673Z"
   },
   {
    "duration": 46,
    "start_time": "2021-10-31T23:08:05.690Z"
   },
   {
    "duration": 11,
    "start_time": "2021-10-31T23:08:05.739Z"
   },
   {
    "duration": 20,
    "start_time": "2021-10-31T23:08:36.171Z"
   },
   {
    "duration": 4,
    "start_time": "2021-10-31T23:09:05.188Z"
   },
   {
    "duration": 76,
    "start_time": "2021-10-31T23:09:05.200Z"
   },
   {
    "duration": 11,
    "start_time": "2021-10-31T23:09:05.279Z"
   },
   {
    "duration": 43,
    "start_time": "2021-10-31T23:09:05.293Z"
   },
   {
    "duration": 5,
    "start_time": "2021-10-31T23:09:05.339Z"
   },
   {
    "duration": 37,
    "start_time": "2021-10-31T23:09:05.347Z"
   },
   {
    "duration": 46,
    "start_time": "2021-10-31T23:09:05.386Z"
   },
   {
    "duration": 340,
    "start_time": "2021-10-31T23:09:05.435Z"
   },
   {
    "duration": 15,
    "start_time": "2021-10-31T23:09:05.778Z"
   },
   {
    "duration": 243,
    "start_time": "2021-10-31T23:09:05.797Z"
   },
   {
    "duration": 22,
    "start_time": "2021-10-31T23:09:06.043Z"
   },
   {
    "duration": 20,
    "start_time": "2021-10-31T23:09:06.068Z"
   },
   {
    "duration": 44,
    "start_time": "2021-10-31T23:09:06.090Z"
   },
   {
    "duration": 47,
    "start_time": "2021-10-31T23:09:06.136Z"
   },
   {
    "duration": 34,
    "start_time": "2021-10-31T23:09:06.185Z"
   },
   {
    "duration": 38,
    "start_time": "2021-10-31T23:09:06.222Z"
   },
   {
    "duration": 42,
    "start_time": "2021-10-31T23:09:06.262Z"
   },
   {
    "duration": 4,
    "start_time": "2021-10-31T23:10:05.517Z"
   },
   {
    "duration": 66,
    "start_time": "2021-10-31T23:10:05.536Z"
   },
   {
    "duration": 11,
    "start_time": "2021-10-31T23:10:05.605Z"
   },
   {
    "duration": 33,
    "start_time": "2021-10-31T23:10:05.619Z"
   },
   {
    "duration": 5,
    "start_time": "2021-10-31T23:10:05.655Z"
   },
   {
    "duration": 114,
    "start_time": "2021-10-31T23:10:05.663Z"
   },
   {
    "duration": 18,
    "start_time": "2021-10-31T23:10:05.780Z"
   },
   {
    "duration": 466,
    "start_time": "2021-10-31T23:10:05.800Z"
   },
   {
    "duration": 14,
    "start_time": "2021-10-31T23:10:06.270Z"
   },
   {
    "duration": 235,
    "start_time": "2021-10-31T23:10:06.287Z"
   },
   {
    "duration": 24,
    "start_time": "2021-10-31T23:10:06.528Z"
   },
   {
    "duration": 20,
    "start_time": "2021-10-31T23:10:06.554Z"
   },
   {
    "duration": 10,
    "start_time": "2021-10-31T23:10:06.576Z"
   },
   {
    "duration": 44,
    "start_time": "2021-10-31T23:10:06.589Z"
   },
   {
    "duration": 15,
    "start_time": "2021-10-31T23:10:06.636Z"
   },
   {
    "duration": 11,
    "start_time": "2021-10-31T23:10:06.653Z"
   },
   {
    "duration": 16,
    "start_time": "2021-10-31T23:10:06.666Z"
   },
   {
    "duration": 19,
    "start_time": "2021-10-31T23:12:04.355Z"
   },
   {
    "duration": 11,
    "start_time": "2021-10-31T23:12:23.523Z"
   },
   {
    "duration": 11,
    "start_time": "2021-10-31T23:15:05.013Z"
   },
   {
    "duration": 87,
    "start_time": "2021-10-31T23:15:18.746Z"
   },
   {
    "duration": 11,
    "start_time": "2021-10-31T23:15:29.804Z"
   },
   {
    "duration": 11,
    "start_time": "2021-10-31T23:15:36.590Z"
   },
   {
    "duration": 11,
    "start_time": "2021-10-31T23:15:42.526Z"
   },
   {
    "duration": 12,
    "start_time": "2021-10-31T23:15:54.218Z"
   },
   {
    "duration": 11,
    "start_time": "2021-10-31T23:16:07.600Z"
   },
   {
    "duration": 11,
    "start_time": "2021-10-31T23:16:29.314Z"
   },
   {
    "duration": 11,
    "start_time": "2021-10-31T23:16:33.176Z"
   },
   {
    "duration": 11,
    "start_time": "2021-10-31T23:16:37.157Z"
   },
   {
    "duration": 20,
    "start_time": "2021-10-31T23:18:13.926Z"
   },
   {
    "duration": 326,
    "start_time": "2021-10-31T23:18:23.991Z"
   },
   {
    "duration": 249,
    "start_time": "2021-10-31T23:21:03.150Z"
   },
   {
    "duration": 244,
    "start_time": "2021-10-31T23:21:44.431Z"
   },
   {
    "duration": 268,
    "start_time": "2021-10-31T23:22:11.458Z"
   },
   {
    "duration": 22,
    "start_time": "2021-10-31T23:22:50.657Z"
   },
   {
    "duration": 239,
    "start_time": "2021-10-31T23:23:04.367Z"
   },
   {
    "duration": 239,
    "start_time": "2021-10-31T23:23:35.531Z"
   },
   {
    "duration": 242,
    "start_time": "2021-10-31T23:24:25.559Z"
   },
   {
    "duration": 19,
    "start_time": "2021-10-31T23:24:33.169Z"
   },
   {
    "duration": 22,
    "start_time": "2021-10-31T23:25:01.581Z"
   },
   {
    "duration": 619,
    "start_time": "2021-10-31T23:25:30.315Z"
   },
   {
    "duration": 350,
    "start_time": "2021-10-31T23:25:36.362Z"
   },
   {
    "duration": 251,
    "start_time": "2021-10-31T23:26:01.181Z"
   },
   {
    "duration": 340,
    "start_time": "2021-10-31T23:26:15.497Z"
   },
   {
    "duration": 267,
    "start_time": "2021-10-31T23:30:16.979Z"
   },
   {
    "duration": 1408,
    "start_time": "2021-10-31T23:31:12.517Z"
   },
   {
    "duration": 429,
    "start_time": "2021-10-31T23:31:22.418Z"
   },
   {
    "duration": 351,
    "start_time": "2021-10-31T23:32:49.040Z"
   },
   {
    "duration": 234,
    "start_time": "2021-10-31T23:33:41.980Z"
   },
   {
    "duration": 232,
    "start_time": "2021-10-31T23:34:13.306Z"
   },
   {
    "duration": 418,
    "start_time": "2021-10-31T23:35:02.418Z"
   },
   {
    "duration": 18,
    "start_time": "2021-10-31T23:36:12.667Z"
   },
   {
    "duration": 18,
    "start_time": "2021-10-31T23:36:24.955Z"
   },
   {
    "duration": 16,
    "start_time": "2021-10-31T23:37:15.787Z"
   },
   {
    "duration": 21,
    "start_time": "2021-10-31T23:41:30.471Z"
   },
   {
    "duration": 253,
    "start_time": "2021-10-31T23:41:53.751Z"
   },
   {
    "duration": 254,
    "start_time": "2021-10-31T23:42:36.730Z"
   },
   {
    "duration": 247,
    "start_time": "2021-10-31T23:42:43.526Z"
   },
   {
    "duration": 297,
    "start_time": "2021-10-31T23:45:59.962Z"
   },
   {
    "duration": 370,
    "start_time": "2021-10-31T23:46:29.111Z"
   },
   {
    "duration": 905,
    "start_time": "2021-10-31T23:47:18.008Z"
   },
   {
    "duration": 937,
    "start_time": "2021-10-31T23:48:45.021Z"
   },
   {
    "duration": 353,
    "start_time": "2021-10-31T23:48:58.398Z"
   },
   {
    "duration": 399,
    "start_time": "2021-10-31T23:50:02.582Z"
   },
   {
    "duration": 382,
    "start_time": "2021-10-31T23:50:18.384Z"
   },
   {
    "duration": 643,
    "start_time": "2021-10-31T23:58:35.843Z"
   },
   {
    "duration": 544,
    "start_time": "2021-10-31T23:58:52.112Z"
   },
   {
    "duration": 391,
    "start_time": "2021-10-31T23:59:13.987Z"
   },
   {
    "duration": 71,
    "start_time": "2021-10-31T23:59:26.259Z"
   },
   {
    "duration": 376,
    "start_time": "2021-10-31T23:59:36.842Z"
   },
   {
    "duration": 391,
    "start_time": "2021-10-31T23:59:47.274Z"
   },
   {
    "duration": 621,
    "start_time": "2021-11-01T00:00:46.554Z"
   },
   {
    "duration": 394,
    "start_time": "2021-11-01T00:00:52.422Z"
   },
   {
    "duration": 528,
    "start_time": "2021-11-01T21:34:17.617Z"
   },
   {
    "duration": 56,
    "start_time": "2021-11-01T21:34:18.147Z"
   },
   {
    "duration": 9,
    "start_time": "2021-11-01T21:34:18.205Z"
   },
   {
    "duration": 16,
    "start_time": "2021-11-01T21:34:18.216Z"
   },
   {
    "duration": 4,
    "start_time": "2021-11-01T21:34:18.233Z"
   },
   {
    "duration": 12,
    "start_time": "2021-11-01T21:34:18.239Z"
   },
   {
    "duration": 12,
    "start_time": "2021-11-01T21:34:18.252Z"
   },
   {
    "duration": 745,
    "start_time": "2021-11-01T21:34:18.266Z"
   },
   {
    "duration": 9,
    "start_time": "2021-11-01T21:34:19.013Z"
   },
   {
    "duration": 139,
    "start_time": "2021-11-01T21:34:19.023Z"
   },
   {
    "duration": 15,
    "start_time": "2021-11-01T21:34:19.164Z"
   },
   {
    "duration": 23,
    "start_time": "2021-11-01T21:34:19.180Z"
   },
   {
    "duration": 7,
    "start_time": "2021-11-01T21:34:19.204Z"
   },
   {
    "duration": 8,
    "start_time": "2021-11-01T21:34:19.212Z"
   },
   {
    "duration": 11,
    "start_time": "2021-11-01T21:34:19.222Z"
   },
   {
    "duration": 12,
    "start_time": "2021-11-01T21:34:19.235Z"
   },
   {
    "duration": 7,
    "start_time": "2021-11-01T21:34:19.248Z"
   },
   {
    "duration": 261,
    "start_time": "2021-11-01T21:34:19.257Z"
   },
   {
    "duration": 494,
    "start_time": "2021-11-01T21:34:29.327Z"
   },
   {
    "duration": 419,
    "start_time": "2021-11-01T21:34:56.940Z"
   },
   {
    "duration": 230,
    "start_time": "2021-11-01T21:35:03.182Z"
   },
   {
    "duration": 10,
    "start_time": "2021-11-01T22:14:06.026Z"
   },
   {
    "duration": 13,
    "start_time": "2021-11-01T22:14:16.356Z"
   },
   {
    "duration": 8,
    "start_time": "2021-11-01T22:19:50.757Z"
   },
   {
    "duration": 11,
    "start_time": "2021-11-01T22:21:33.551Z"
   },
   {
    "duration": 25,
    "start_time": "2021-11-01T22:21:41.703Z"
   },
   {
    "duration": 413,
    "start_time": "2021-11-02T11:43:43.901Z"
   },
   {
    "duration": 831,
    "start_time": "2021-11-02T11:43:53.542Z"
   },
   {
    "duration": 88,
    "start_time": "2021-11-02T11:43:54.375Z"
   },
   {
    "duration": 17,
    "start_time": "2021-11-02T11:43:54.466Z"
   },
   {
    "duration": 26,
    "start_time": "2021-11-02T11:43:54.486Z"
   },
   {
    "duration": 6,
    "start_time": "2021-11-02T11:43:54.515Z"
   },
   {
    "duration": 15,
    "start_time": "2021-11-02T11:43:54.524Z"
   },
   {
    "duration": 47,
    "start_time": "2021-11-02T11:43:54.542Z"
   },
   {
    "duration": 1090,
    "start_time": "2021-11-02T11:43:54.592Z"
   },
   {
    "duration": 15,
    "start_time": "2021-11-02T11:43:55.685Z"
   },
   {
    "duration": 237,
    "start_time": "2021-11-02T11:43:55.703Z"
   },
   {
    "duration": 27,
    "start_time": "2021-11-02T11:43:55.943Z"
   },
   {
    "duration": 20,
    "start_time": "2021-11-02T11:43:55.982Z"
   },
   {
    "duration": 10,
    "start_time": "2021-11-02T11:43:56.005Z"
   },
   {
    "duration": 14,
    "start_time": "2021-11-02T11:43:56.017Z"
   },
   {
    "duration": 12,
    "start_time": "2021-11-02T11:43:56.034Z"
   },
   {
    "duration": 11,
    "start_time": "2021-11-02T11:43:56.082Z"
   },
   {
    "duration": 10,
    "start_time": "2021-11-02T11:43:56.096Z"
   },
   {
    "duration": 404,
    "start_time": "2021-11-02T11:43:56.108Z"
   },
   {
    "duration": 19,
    "start_time": "2021-11-02T11:43:56.516Z"
   },
   {
    "duration": 59,
    "start_time": "2021-11-02T11:43:56.538Z"
   },
   {
    "duration": 36,
    "start_time": "2021-11-02T11:44:05.586Z"
   },
   {
    "duration": 368,
    "start_time": "2021-11-02T11:46:34.836Z"
   },
   {
    "duration": 15,
    "start_time": "2021-11-02T11:46:46.125Z"
   },
   {
    "duration": 27,
    "start_time": "2021-11-02T11:48:42.032Z"
   },
   {
    "duration": 1182,
    "start_time": "2021-11-02T11:51:23.630Z"
   },
   {
    "duration": 26,
    "start_time": "2021-11-02T11:51:50.238Z"
   },
   {
    "duration": 25,
    "start_time": "2021-11-02T11:52:03.182Z"
   },
   {
    "duration": 28,
    "start_time": "2021-11-02T11:52:13.085Z"
   },
   {
    "duration": 25,
    "start_time": "2021-11-02T11:52:36.434Z"
   },
   {
    "duration": 326,
    "start_time": "2021-11-02T11:54:00.062Z"
   },
   {
    "duration": 25,
    "start_time": "2021-11-02T11:54:14.893Z"
   },
   {
    "duration": 19,
    "start_time": "2021-11-02T11:54:27.202Z"
   },
   {
    "duration": 25,
    "start_time": "2021-11-02T11:54:32.778Z"
   },
   {
    "duration": 3,
    "start_time": "2021-11-02T12:10:03.118Z"
   },
   {
    "duration": 78,
    "start_time": "2021-11-02T12:10:03.128Z"
   },
   {
    "duration": 14,
    "start_time": "2021-11-02T12:10:03.272Z"
   },
   {
    "duration": 32,
    "start_time": "2021-11-02T12:10:03.291Z"
   },
   {
    "duration": 7,
    "start_time": "2021-11-02T12:10:03.325Z"
   },
   {
    "duration": 19,
    "start_time": "2021-11-02T12:10:03.334Z"
   },
   {
    "duration": 17,
    "start_time": "2021-11-02T12:10:03.623Z"
   },
   {
    "duration": 343,
    "start_time": "2021-11-02T12:10:03.643Z"
   },
   {
    "duration": 15,
    "start_time": "2021-11-02T12:10:03.989Z"
   },
   {
    "duration": 252,
    "start_time": "2021-11-02T12:10:04.007Z"
   },
   {
    "duration": 32,
    "start_time": "2021-11-02T12:10:04.262Z"
   },
   {
    "duration": 21,
    "start_time": "2021-11-02T12:10:05.079Z"
   },
   {
    "duration": 12,
    "start_time": "2021-11-02T12:10:05.103Z"
   },
   {
    "duration": 11,
    "start_time": "2021-11-02T12:10:06.209Z"
   },
   {
    "duration": 14,
    "start_time": "2021-11-02T12:10:06.224Z"
   },
   {
    "duration": 14,
    "start_time": "2021-11-02T12:10:06.241Z"
   },
   {
    "duration": 19,
    "start_time": "2021-11-02T12:10:06.257Z"
   },
   {
    "duration": 96,
    "start_time": "2021-11-02T20:45:38.668Z"
   },
   {
    "duration": 1626,
    "start_time": "2021-11-02T20:45:54.707Z"
   },
   {
    "duration": 704,
    "start_time": "2021-11-02T20:46:48.222Z"
   },
   {
    "duration": 78,
    "start_time": "2021-11-02T20:46:48.929Z"
   },
   {
    "duration": 13,
    "start_time": "2021-11-02T20:46:49.012Z"
   },
   {
    "duration": 55,
    "start_time": "2021-11-02T20:46:49.029Z"
   },
   {
    "duration": 8,
    "start_time": "2021-11-02T20:46:49.087Z"
   },
   {
    "duration": 16,
    "start_time": "2021-11-02T20:46:49.098Z"
   },
   {
    "duration": 17,
    "start_time": "2021-11-02T20:46:49.117Z"
   },
   {
    "duration": 1106,
    "start_time": "2021-11-02T20:46:49.136Z"
   },
   {
    "duration": 14,
    "start_time": "2021-11-02T20:46:50.248Z"
   },
   {
    "duration": 255,
    "start_time": "2021-11-02T20:46:50.264Z"
   },
   {
    "duration": 27,
    "start_time": "2021-11-02T20:46:50.522Z"
   },
   {
    "duration": 38,
    "start_time": "2021-11-02T20:46:50.551Z"
   },
   {
    "duration": 11,
    "start_time": "2021-11-02T20:46:50.591Z"
   },
   {
    "duration": 18,
    "start_time": "2021-11-02T20:46:50.604Z"
   },
   {
    "duration": 13,
    "start_time": "2021-11-02T20:46:50.624Z"
   },
   {
    "duration": 43,
    "start_time": "2021-11-02T20:46:50.640Z"
   },
   {
    "duration": 11,
    "start_time": "2021-11-02T20:46:50.686Z"
   },
   {
    "duration": 402,
    "start_time": "2021-11-02T20:46:50.699Z"
   },
   {
    "duration": 18,
    "start_time": "2021-11-02T20:46:51.103Z"
   },
   {
    "duration": 32,
    "start_time": "2021-11-02T20:46:51.123Z"
   },
   {
    "duration": 1249,
    "start_time": "2021-11-02T20:46:51.181Z"
   },
   {
    "duration": 384,
    "start_time": "2021-11-02T20:50:34.653Z"
   },
   {
    "duration": 12,
    "start_time": "2021-11-02T20:50:39.950Z"
   },
   {
    "duration": 17,
    "start_time": "2021-11-02T20:50:50.688Z"
   },
   {
    "duration": 17,
    "start_time": "2021-11-02T20:51:47.252Z"
   },
   {
    "duration": 16,
    "start_time": "2021-11-02T20:51:53.435Z"
   },
   {
    "duration": 23,
    "start_time": "2021-11-02T20:52:20.679Z"
   },
   {
    "duration": 20,
    "start_time": "2021-11-02T20:52:25.210Z"
   },
   {
    "duration": 35,
    "start_time": "2021-11-02T20:52:50.844Z"
   },
   {
    "duration": 19,
    "start_time": "2021-11-02T21:35:04.826Z"
   },
   {
    "duration": 787,
    "start_time": "2021-11-03T07:34:14.271Z"
   },
   {
    "duration": 105,
    "start_time": "2021-11-03T07:34:15.060Z"
   },
   {
    "duration": 22,
    "start_time": "2021-11-03T07:34:15.169Z"
   },
   {
    "duration": 28,
    "start_time": "2021-11-03T07:34:15.194Z"
   },
   {
    "duration": 6,
    "start_time": "2021-11-03T07:34:15.225Z"
   },
   {
    "duration": 54,
    "start_time": "2021-11-03T07:34:15.233Z"
   },
   {
    "duration": 16,
    "start_time": "2021-11-03T07:34:15.290Z"
   },
   {
    "duration": 1179,
    "start_time": "2021-11-03T07:34:15.312Z"
   },
   {
    "duration": 16,
    "start_time": "2021-11-03T07:34:16.494Z"
   },
   {
    "duration": 237,
    "start_time": "2021-11-03T07:34:16.512Z"
   },
   {
    "duration": 37,
    "start_time": "2021-11-03T07:34:16.752Z"
   },
   {
    "duration": 21,
    "start_time": "2021-11-03T07:34:16.791Z"
   },
   {
    "duration": 11,
    "start_time": "2021-11-03T07:34:16.815Z"
   },
   {
    "duration": 16,
    "start_time": "2021-11-03T07:34:16.829Z"
   },
   {
    "duration": 50,
    "start_time": "2021-11-03T07:34:16.848Z"
   },
   {
    "duration": 12,
    "start_time": "2021-11-03T07:34:16.900Z"
   },
   {
    "duration": 13,
    "start_time": "2021-11-03T07:34:16.914Z"
   },
   {
    "duration": 433,
    "start_time": "2021-11-03T07:34:16.929Z"
   },
   {
    "duration": 26,
    "start_time": "2021-11-03T07:34:17.364Z"
   },
   {
    "duration": 34,
    "start_time": "2021-11-03T07:34:17.392Z"
   },
   {
    "duration": 1870,
    "start_time": "2021-11-03T07:34:17.428Z"
   },
   {
    "duration": 103,
    "start_time": "2021-11-03T07:34:19.301Z"
   },
   {
    "duration": 623,
    "start_time": "2021-11-03T07:34:18.783Z"
   },
   {
    "duration": 12,
    "start_time": "2021-11-03T07:34:27.191Z"
   },
   {
    "duration": 11,
    "start_time": "2021-11-03T07:35:28.404Z"
   },
   {
    "duration": 1237,
    "start_time": "2021-11-03T07:35:42.265Z"
   },
   {
    "duration": 734,
    "start_time": "2021-11-03T07:36:41.279Z"
   },
   {
    "duration": 962,
    "start_time": "2021-11-03T07:36:47.161Z"
   },
   {
    "duration": 8514,
    "start_time": "2021-11-03T07:37:06.433Z"
   },
   {
    "duration": 8,
    "start_time": "2021-11-03T07:37:25.381Z"
   },
   {
    "duration": 106,
    "start_time": "2021-11-03T07:38:30.524Z"
   },
   {
    "duration": 291,
    "start_time": "2021-11-03T07:38:34.669Z"
   },
   {
    "duration": 7,
    "start_time": "2021-11-03T07:39:00.851Z"
   },
   {
    "duration": 7,
    "start_time": "2021-11-03T07:39:06.491Z"
   },
   {
    "duration": 10,
    "start_time": "2021-11-03T07:39:15.159Z"
   },
   {
    "duration": 17,
    "start_time": "2021-11-03T07:39:52.639Z"
   },
   {
    "duration": 15,
    "start_time": "2021-11-03T07:39:59.141Z"
   },
   {
    "duration": 26,
    "start_time": "2021-11-03T07:41:01.160Z"
   },
   {
    "duration": 400,
    "start_time": "2021-11-03T07:43:07.447Z"
   },
   {
    "duration": 89,
    "start_time": "2021-11-03T12:37:04.438Z"
   },
   {
    "duration": 315,
    "start_time": "2021-11-03T12:37:12.991Z"
   },
   {
    "duration": 607,
    "start_time": "2021-11-03T12:37:27.274Z"
   },
   {
    "duration": 62,
    "start_time": "2021-11-03T12:37:27.883Z"
   },
   {
    "duration": 10,
    "start_time": "2021-11-03T12:37:27.947Z"
   },
   {
    "duration": 22,
    "start_time": "2021-11-03T12:37:27.958Z"
   },
   {
    "duration": 4,
    "start_time": "2021-11-03T12:37:27.982Z"
   },
   {
    "duration": 12,
    "start_time": "2021-11-03T12:37:27.988Z"
   },
   {
    "duration": 12,
    "start_time": "2021-11-03T12:37:28.002Z"
   },
   {
    "duration": 916,
    "start_time": "2021-11-03T12:37:28.016Z"
   },
   {
    "duration": 10,
    "start_time": "2021-11-03T12:37:28.934Z"
   },
   {
    "duration": 144,
    "start_time": "2021-11-03T12:37:28.946Z"
   },
   {
    "duration": 17,
    "start_time": "2021-11-03T12:37:29.092Z"
   },
   {
    "duration": 16,
    "start_time": "2021-11-03T12:37:29.111Z"
   },
   {
    "duration": 35,
    "start_time": "2021-11-03T12:37:29.129Z"
   },
   {
    "duration": 8,
    "start_time": "2021-11-03T12:37:29.166Z"
   },
   {
    "duration": 11,
    "start_time": "2021-11-03T12:37:29.175Z"
   },
   {
    "duration": 8,
    "start_time": "2021-11-03T12:37:29.187Z"
   },
   {
    "duration": 8,
    "start_time": "2021-11-03T12:37:29.197Z"
   },
   {
    "duration": 276,
    "start_time": "2021-11-03T12:37:29.207Z"
   },
   {
    "duration": 14,
    "start_time": "2021-11-03T12:37:29.485Z"
   },
   {
    "duration": 32,
    "start_time": "2021-11-03T12:37:29.501Z"
   },
   {
    "duration": 1662,
    "start_time": "2021-11-03T12:37:29.535Z"
   },
   {
    "duration": 79,
    "start_time": "2021-11-03T12:37:31.199Z"
   },
   {
    "duration": -300,
    "start_time": "2021-11-03T12:37:31.579Z"
   },
   {
    "duration": -305,
    "start_time": "2021-11-03T12:37:31.585Z"
   },
   {
    "duration": 2,
    "start_time": "2021-11-03T12:37:48.050Z"
   },
   {
    "duration": 61,
    "start_time": "2021-11-03T12:37:48.055Z"
   },
   {
    "duration": 12,
    "start_time": "2021-11-03T12:37:48.119Z"
   },
   {
    "duration": 40,
    "start_time": "2021-11-03T12:37:48.134Z"
   },
   {
    "duration": 6,
    "start_time": "2021-11-03T12:37:48.176Z"
   },
   {
    "duration": 14,
    "start_time": "2021-11-03T12:37:48.184Z"
   },
   {
    "duration": 18,
    "start_time": "2021-11-03T12:37:48.200Z"
   },
   {
    "duration": 321,
    "start_time": "2021-11-03T12:37:48.220Z"
   },
   {
    "duration": 22,
    "start_time": "2021-11-03T12:37:48.545Z"
   },
   {
    "duration": 145,
    "start_time": "2021-11-03T12:37:48.569Z"
   },
   {
    "duration": 17,
    "start_time": "2021-11-03T12:37:48.716Z"
   },
   {
    "duration": 32,
    "start_time": "2021-11-03T12:37:48.734Z"
   },
   {
    "duration": 8,
    "start_time": "2021-11-03T12:37:48.768Z"
   },
   {
    "duration": 9,
    "start_time": "2021-11-03T12:37:48.777Z"
   },
   {
    "duration": 10,
    "start_time": "2021-11-03T12:37:48.788Z"
   },
   {
    "duration": 8,
    "start_time": "2021-11-03T12:37:48.800Z"
   },
   {
    "duration": 14,
    "start_time": "2021-11-03T12:37:48.810Z"
   },
   {
    "duration": 273,
    "start_time": "2021-11-03T12:37:48.826Z"
   },
   {
    "duration": 11,
    "start_time": "2021-11-03T12:37:49.101Z"
   },
   {
    "duration": 26,
    "start_time": "2021-11-03T12:37:49.114Z"
   },
   {
    "duration": 1333,
    "start_time": "2021-11-03T12:37:49.142Z"
   },
   {
    "duration": 77,
    "start_time": "2021-11-03T12:37:50.477Z"
   },
   {
    "duration": -270,
    "start_time": "2021-11-03T12:37:50.826Z"
   },
   {
    "duration": -275,
    "start_time": "2021-11-03T12:37:50.832Z"
   },
   {
    "duration": 3,
    "start_time": "2021-11-03T12:37:55.897Z"
   },
   {
    "duration": 57,
    "start_time": "2021-11-03T12:37:55.902Z"
   },
   {
    "duration": 8,
    "start_time": "2021-11-03T12:37:55.961Z"
   },
   {
    "duration": 18,
    "start_time": "2021-11-03T12:37:55.971Z"
   },
   {
    "duration": 5,
    "start_time": "2021-11-03T12:37:55.991Z"
   },
   {
    "duration": 12,
    "start_time": "2021-11-03T12:37:55.998Z"
   },
   {
    "duration": 14,
    "start_time": "2021-11-03T12:37:56.012Z"
   },
   {
    "duration": 236,
    "start_time": "2021-11-03T12:37:56.028Z"
   },
   {
    "duration": 11,
    "start_time": "2021-11-03T12:37:56.266Z"
   },
   {
    "duration": 151,
    "start_time": "2021-11-03T12:37:56.278Z"
   },
   {
    "duration": 16,
    "start_time": "2021-11-03T12:37:56.431Z"
   },
   {
    "duration": 24,
    "start_time": "2021-11-03T12:37:56.449Z"
   },
   {
    "duration": 6,
    "start_time": "2021-11-03T12:37:56.475Z"
   },
   {
    "duration": 9,
    "start_time": "2021-11-03T12:37:56.483Z"
   },
   {
    "duration": 17,
    "start_time": "2021-11-03T12:37:56.494Z"
   },
   {
    "duration": 9,
    "start_time": "2021-11-03T12:37:56.513Z"
   },
   {
    "duration": 10,
    "start_time": "2021-11-03T12:37:56.523Z"
   },
   {
    "duration": 272,
    "start_time": "2021-11-03T12:37:56.535Z"
   },
   {
    "duration": 12,
    "start_time": "2021-11-03T12:37:56.809Z"
   },
   {
    "duration": 24,
    "start_time": "2021-11-03T12:37:56.823Z"
   },
   {
    "duration": 1164,
    "start_time": "2021-11-03T12:37:56.863Z"
   },
   {
    "duration": 92,
    "start_time": "2021-11-03T12:37:58.029Z"
   },
   {
    "duration": -270,
    "start_time": "2021-11-03T12:37:58.394Z"
   },
   {
    "duration": -273,
    "start_time": "2021-11-03T12:37:58.398Z"
   },
   {
    "duration": 3,
    "start_time": "2021-11-03T12:38:44.230Z"
   },
   {
    "duration": 59,
    "start_time": "2021-11-03T12:38:44.236Z"
   },
   {
    "duration": 10,
    "start_time": "2021-11-03T12:38:44.298Z"
   },
   {
    "duration": 21,
    "start_time": "2021-11-03T12:38:44.311Z"
   },
   {
    "duration": 31,
    "start_time": "2021-11-03T12:38:44.334Z"
   },
   {
    "duration": 13,
    "start_time": "2021-11-03T12:38:44.366Z"
   },
   {
    "duration": 13,
    "start_time": "2021-11-03T12:38:44.381Z"
   },
   {
    "duration": 217,
    "start_time": "2021-11-03T12:38:44.395Z"
   },
   {
    "duration": 10,
    "start_time": "2021-11-03T12:38:44.614Z"
   },
   {
    "duration": 151,
    "start_time": "2021-11-03T12:38:44.627Z"
   },
   {
    "duration": 15,
    "start_time": "2021-11-03T12:38:44.779Z"
   },
   {
    "duration": 12,
    "start_time": "2021-11-03T12:38:44.796Z"
   },
   {
    "duration": 6,
    "start_time": "2021-11-03T12:38:44.810Z"
   },
   {
    "duration": 7,
    "start_time": "2021-11-03T12:38:44.818Z"
   },
   {
    "duration": 37,
    "start_time": "2021-11-03T12:38:44.827Z"
   },
   {
    "duration": 9,
    "start_time": "2021-11-03T12:38:44.866Z"
   },
   {
    "duration": 9,
    "start_time": "2021-11-03T12:38:44.877Z"
   },
   {
    "duration": 263,
    "start_time": "2021-11-03T12:38:44.888Z"
   },
   {
    "duration": 18,
    "start_time": "2021-11-03T12:38:45.152Z"
   },
   {
    "duration": 28,
    "start_time": "2021-11-03T12:38:45.172Z"
   },
   {
    "duration": 1291,
    "start_time": "2021-11-03T12:38:45.201Z"
   },
   {
    "duration": 23,
    "start_time": "2021-11-03T12:38:46.495Z"
   },
   {
    "duration": 17,
    "start_time": "2021-11-03T12:38:46.520Z"
   },
   {
    "duration": 14,
    "start_time": "2021-11-03T12:39:08.449Z"
   },
   {
    "duration": 16,
    "start_time": "2021-11-03T12:39:17.032Z"
   },
   {
    "duration": 103,
    "start_time": "2021-11-03T12:39:56.997Z"
   },
   {
    "duration": 17,
    "start_time": "2021-11-03T12:40:00.640Z"
   },
   {
    "duration": 16,
    "start_time": "2021-11-03T12:41:49.398Z"
   },
   {
    "duration": 17,
    "start_time": "2021-11-03T12:42:31.161Z"
   },
   {
    "duration": 18,
    "start_time": "2021-11-03T12:42:54.510Z"
   },
   {
    "duration": 16,
    "start_time": "2021-11-03T12:43:02.883Z"
   },
   {
    "duration": 16,
    "start_time": "2021-11-03T12:43:15.006Z"
   },
   {
    "duration": 344,
    "start_time": "2021-11-03T12:44:31.282Z"
   },
   {
    "duration": 87,
    "start_time": "2021-11-03T12:45:23.782Z"
   },
   {
    "duration": 15,
    "start_time": "2021-11-03T12:45:27.381Z"
   },
   {
    "duration": 18,
    "start_time": "2021-11-03T12:45:37.611Z"
   },
   {
    "duration": 270,
    "start_time": "2021-11-03T12:46:21.841Z"
   },
   {
    "duration": 258,
    "start_time": "2021-11-03T12:46:48.480Z"
   },
   {
    "duration": 17,
    "start_time": "2021-11-03T12:47:02.176Z"
   },
   {
    "duration": 17,
    "start_time": "2021-11-03T12:47:08.392Z"
   },
   {
    "duration": 267,
    "start_time": "2021-11-03T12:47:34.961Z"
   },
   {
    "duration": 263,
    "start_time": "2021-11-03T12:48:23.448Z"
   },
   {
    "duration": 277,
    "start_time": "2021-11-03T12:48:50.480Z"
   },
   {
    "duration": 17,
    "start_time": "2021-11-03T12:51:01.440Z"
   },
   {
    "duration": 388,
    "start_time": "2021-11-05T09:59:39.719Z"
   },
   {
    "duration": 729,
    "start_time": "2021-11-05T09:59:44.280Z"
   },
   {
    "duration": 60,
    "start_time": "2021-11-05T09:59:45.011Z"
   },
   {
    "duration": 9,
    "start_time": "2021-11-05T09:59:45.073Z"
   },
   {
    "duration": 27,
    "start_time": "2021-11-05T09:59:45.084Z"
   },
   {
    "duration": 5,
    "start_time": "2021-11-05T09:59:45.113Z"
   },
   {
    "duration": 15,
    "start_time": "2021-11-05T09:59:45.119Z"
   },
   {
    "duration": 12,
    "start_time": "2021-11-05T09:59:45.136Z"
   },
   {
    "duration": 779,
    "start_time": "2021-11-05T09:59:45.151Z"
   },
   {
    "duration": 10,
    "start_time": "2021-11-05T09:59:45.933Z"
   },
   {
    "duration": 152,
    "start_time": "2021-11-05T09:59:45.945Z"
   },
   {
    "duration": 20,
    "start_time": "2021-11-05T09:59:46.099Z"
   },
   {
    "duration": 20,
    "start_time": "2021-11-05T09:59:46.121Z"
   },
   {
    "duration": 7,
    "start_time": "2021-11-05T09:59:46.143Z"
   },
   {
    "duration": 15,
    "start_time": "2021-11-05T09:59:46.152Z"
   },
   {
    "duration": 26,
    "start_time": "2021-11-05T09:59:46.169Z"
   },
   {
    "duration": 19,
    "start_time": "2021-11-05T09:59:46.197Z"
   },
   {
    "duration": 18,
    "start_time": "2021-11-05T09:59:46.218Z"
   },
   {
    "duration": 252,
    "start_time": "2021-11-05T09:59:46.238Z"
   },
   {
    "duration": 14,
    "start_time": "2021-11-05T09:59:46.492Z"
   },
   {
    "duration": 27,
    "start_time": "2021-11-05T09:59:46.508Z"
   },
   {
    "duration": 1622,
    "start_time": "2021-11-05T09:59:46.536Z"
   },
   {
    "duration": 24,
    "start_time": "2021-11-05T09:59:48.161Z"
   },
   {
    "duration": 24,
    "start_time": "2021-11-05T09:59:48.189Z"
   },
   {
    "duration": 21,
    "start_time": "2021-11-05T09:59:48.215Z"
   },
   {
    "duration": 572,
    "start_time": "2021-11-05T15:23:45.910Z"
   },
   {
    "duration": 62,
    "start_time": "2021-11-05T15:23:46.484Z"
   },
   {
    "duration": 8,
    "start_time": "2021-11-05T15:23:46.549Z"
   },
   {
    "duration": 19,
    "start_time": "2021-11-05T15:23:46.559Z"
   },
   {
    "duration": 5,
    "start_time": "2021-11-05T15:23:46.580Z"
   },
   {
    "duration": 14,
    "start_time": "2021-11-05T15:23:46.586Z"
   },
   {
    "duration": 14,
    "start_time": "2021-11-05T15:23:46.601Z"
   },
   {
    "duration": 795,
    "start_time": "2021-11-05T15:23:46.619Z"
   },
   {
    "duration": 11,
    "start_time": "2021-11-05T15:23:47.416Z"
   },
   {
    "duration": 166,
    "start_time": "2021-11-05T15:23:47.429Z"
   },
   {
    "duration": 19,
    "start_time": "2021-11-05T15:23:47.597Z"
   },
   {
    "duration": 14,
    "start_time": "2021-11-05T15:23:47.618Z"
   },
   {
    "duration": 31,
    "start_time": "2021-11-05T15:23:47.634Z"
   },
   {
    "duration": 8,
    "start_time": "2021-11-05T15:23:47.667Z"
   },
   {
    "duration": 24,
    "start_time": "2021-11-05T15:23:47.676Z"
   },
   {
    "duration": 16,
    "start_time": "2021-11-05T15:23:47.702Z"
   },
   {
    "duration": 18,
    "start_time": "2021-11-05T15:23:47.720Z"
   },
   {
    "duration": 251,
    "start_time": "2021-11-05T15:23:47.740Z"
   },
   {
    "duration": 14,
    "start_time": "2021-11-05T15:23:47.993Z"
   },
   {
    "duration": 33,
    "start_time": "2021-11-05T15:23:48.009Z"
   },
   {
    "duration": 1613,
    "start_time": "2021-11-05T15:23:48.044Z"
   },
   {
    "duration": 23,
    "start_time": "2021-11-05T15:23:49.659Z"
   },
   {
    "duration": 19,
    "start_time": "2021-11-05T15:23:49.685Z"
   },
   {
    "duration": 14,
    "start_time": "2021-11-05T15:23:49.706Z"
   },
   {
    "duration": 11,
    "start_time": "2021-11-05T15:30:58.775Z"
   },
   {
    "duration": 8,
    "start_time": "2021-11-05T15:31:20.350Z"
   },
   {
    "duration": 80,
    "start_time": "2021-11-05T15:33:17.336Z"
   },
   {
    "duration": 377,
    "start_time": "2021-11-05T15:33:20.981Z"
   },
   {
    "duration": 7,
    "start_time": "2021-11-05T15:33:24.911Z"
   },
   {
    "duration": 252,
    "start_time": "2021-11-05T15:34:01.077Z"
   },
   {
    "duration": 257,
    "start_time": "2021-11-05T15:34:13.251Z"
   },
   {
    "duration": 252,
    "start_time": "2021-11-05T15:34:23.108Z"
   },
   {
    "duration": 260,
    "start_time": "2021-11-05T15:34:30.519Z"
   },
   {
    "duration": 247,
    "start_time": "2021-11-05T15:34:51.563Z"
   },
   {
    "duration": 250,
    "start_time": "2021-11-05T15:35:27.407Z"
   },
   {
    "duration": 2,
    "start_time": "2021-11-05T15:35:37.805Z"
   },
   {
    "duration": 60,
    "start_time": "2021-11-05T15:35:37.809Z"
   },
   {
    "duration": 9,
    "start_time": "2021-11-05T15:35:37.871Z"
   },
   {
    "duration": 19,
    "start_time": "2021-11-05T15:35:37.882Z"
   },
   {
    "duration": 5,
    "start_time": "2021-11-05T15:35:37.903Z"
   },
   {
    "duration": 11,
    "start_time": "2021-11-05T15:35:37.910Z"
   },
   {
    "duration": 45,
    "start_time": "2021-11-05T15:35:37.922Z"
   },
   {
    "duration": 380,
    "start_time": "2021-11-05T15:35:37.970Z"
   },
   {
    "duration": 11,
    "start_time": "2021-11-05T15:35:38.363Z"
   },
   {
    "duration": 141,
    "start_time": "2021-11-05T15:35:38.376Z"
   },
   {
    "duration": 18,
    "start_time": "2021-11-05T15:35:38.519Z"
   },
   {
    "duration": 32,
    "start_time": "2021-11-05T15:35:38.538Z"
   },
   {
    "duration": 7,
    "start_time": "2021-11-05T15:35:38.571Z"
   },
   {
    "duration": 9,
    "start_time": "2021-11-05T15:35:38.580Z"
   },
   {
    "duration": 9,
    "start_time": "2021-11-05T15:35:38.590Z"
   },
   {
    "duration": 7,
    "start_time": "2021-11-05T15:35:38.601Z"
   },
   {
    "duration": 14,
    "start_time": "2021-11-05T15:35:38.609Z"
   },
   {
    "duration": 266,
    "start_time": "2021-11-05T15:35:38.625Z"
   },
   {
    "duration": 12,
    "start_time": "2021-11-05T15:35:38.892Z"
   },
   {
    "duration": 26,
    "start_time": "2021-11-05T15:35:38.906Z"
   },
   {
    "duration": 1517,
    "start_time": "2021-11-05T15:35:38.933Z"
   },
   {
    "duration": 20,
    "start_time": "2021-11-05T15:35:40.452Z"
   },
   {
    "duration": 23,
    "start_time": "2021-11-05T15:35:40.475Z"
   },
   {
    "duration": 22,
    "start_time": "2021-11-05T15:35:40.499Z"
   },
   {
    "duration": 262,
    "start_time": "2021-11-05T15:35:40.523Z"
   },
   {
    "duration": 258,
    "start_time": "2021-11-05T15:38:24.567Z"
   },
   {
    "duration": 265,
    "start_time": "2021-11-05T15:39:12.528Z"
   },
   {
    "duration": 11,
    "start_time": "2021-11-05T15:40:04.148Z"
   },
   {
    "duration": 5,
    "start_time": "2021-11-05T15:40:08.620Z"
   },
   {
    "duration": 9,
    "start_time": "2021-11-05T15:40:12.629Z"
   },
   {
    "duration": 106,
    "start_time": "2021-11-05T15:40:32.188Z"
   },
   {
    "duration": 93,
    "start_time": "2021-11-05T15:40:40.089Z"
   },
   {
    "duration": 6,
    "start_time": "2021-11-05T15:40:45.445Z"
   },
   {
    "duration": 6,
    "start_time": "2021-11-05T15:41:17.285Z"
   },
   {
    "duration": 7,
    "start_time": "2021-11-05T15:41:30.074Z"
   },
   {
    "duration": 5,
    "start_time": "2021-11-05T15:42:30.613Z"
   },
   {
    "duration": 5,
    "start_time": "2021-11-05T15:42:41.150Z"
   },
   {
    "duration": 4,
    "start_time": "2021-11-05T15:42:46.663Z"
   },
   {
    "duration": 58,
    "start_time": "2021-11-05T15:42:46.670Z"
   },
   {
    "duration": 9,
    "start_time": "2021-11-05T15:42:46.730Z"
   },
   {
    "duration": 40,
    "start_time": "2021-11-05T15:42:46.741Z"
   },
   {
    "duration": 6,
    "start_time": "2021-11-05T15:42:46.783Z"
   },
   {
    "duration": 13,
    "start_time": "2021-11-05T15:42:46.791Z"
   },
   {
    "duration": 15,
    "start_time": "2021-11-05T15:42:46.806Z"
   },
   {
    "duration": 245,
    "start_time": "2021-11-05T15:42:46.824Z"
   },
   {
    "duration": 15,
    "start_time": "2021-11-05T15:42:47.072Z"
   },
   {
    "duration": 165,
    "start_time": "2021-11-05T15:42:47.090Z"
   },
   {
    "duration": 24,
    "start_time": "2021-11-05T15:42:47.257Z"
   },
   {
    "duration": 17,
    "start_time": "2021-11-05T15:42:47.284Z"
   },
   {
    "duration": 8,
    "start_time": "2021-11-05T15:42:47.303Z"
   },
   {
    "duration": 9,
    "start_time": "2021-11-05T15:42:47.312Z"
   },
   {
    "duration": 43,
    "start_time": "2021-11-05T15:42:47.323Z"
   },
   {
    "duration": 16,
    "start_time": "2021-11-05T15:42:47.369Z"
   },
   {
    "duration": 14,
    "start_time": "2021-11-05T15:42:47.387Z"
   },
   {
    "duration": 304,
    "start_time": "2021-11-05T15:42:47.404Z"
   },
   {
    "duration": 13,
    "start_time": "2021-11-05T15:42:47.709Z"
   },
   {
    "duration": 26,
    "start_time": "2021-11-05T15:42:47.724Z"
   },
   {
    "duration": 1528,
    "start_time": "2021-11-05T15:42:47.752Z"
   },
   {
    "duration": 21,
    "start_time": "2021-11-05T15:42:49.283Z"
   },
   {
    "duration": 19,
    "start_time": "2021-11-05T15:42:49.307Z"
   },
   {
    "duration": 4,
    "start_time": "2021-11-05T15:42:49.328Z"
   },
   {
    "duration": 30,
    "start_time": "2021-11-05T15:42:49.334Z"
   },
   {
    "duration": 8,
    "start_time": "2021-11-05T15:43:02.814Z"
   },
   {
    "duration": 251,
    "start_time": "2021-11-05T15:43:16.946Z"
   },
   {
    "duration": 8,
    "start_time": "2021-11-05T15:43:21.180Z"
   },
   {
    "duration": 6,
    "start_time": "2021-11-05T15:43:40.915Z"
   },
   {
    "duration": 9,
    "start_time": "2021-11-05T16:16:13.996Z"
   },
   {
    "duration": 7265,
    "start_time": "2021-11-05T16:27:58.447Z"
   },
   {
    "duration": 2,
    "start_time": "2021-11-05T16:29:19.836Z"
   },
   {
    "duration": 68,
    "start_time": "2021-11-05T16:29:19.842Z"
   },
   {
    "duration": 10,
    "start_time": "2021-11-05T16:29:19.913Z"
   },
   {
    "duration": 51,
    "start_time": "2021-11-05T16:29:19.926Z"
   },
   {
    "duration": 6,
    "start_time": "2021-11-05T16:29:19.979Z"
   },
   {
    "duration": 18,
    "start_time": "2021-11-05T16:29:19.987Z"
   },
   {
    "duration": 20,
    "start_time": "2021-11-05T16:29:20.007Z"
   },
   {
    "duration": 247,
    "start_time": "2021-11-05T16:29:20.029Z"
   },
   {
    "duration": 12,
    "start_time": "2021-11-05T16:29:20.279Z"
   },
   {
    "duration": 160,
    "start_time": "2021-11-05T16:29:20.293Z"
   },
   {
    "duration": 33,
    "start_time": "2021-11-05T16:29:20.455Z"
   },
   {
    "duration": 16,
    "start_time": "2021-11-05T16:29:20.490Z"
   },
   {
    "duration": 13,
    "start_time": "2021-11-05T16:29:20.507Z"
   },
   {
    "duration": 10,
    "start_time": "2021-11-05T16:29:20.522Z"
   },
   {
    "duration": 35,
    "start_time": "2021-11-05T16:29:20.534Z"
   },
   {
    "duration": 11,
    "start_time": "2021-11-05T16:29:20.571Z"
   },
   {
    "duration": 12,
    "start_time": "2021-11-05T16:29:20.584Z"
   },
   {
    "duration": 291,
    "start_time": "2021-11-05T16:29:20.598Z"
   },
   {
    "duration": 13,
    "start_time": "2021-11-05T16:29:20.892Z"
   },
   {
    "duration": 25,
    "start_time": "2021-11-05T16:29:20.907Z"
   },
   {
    "duration": 1446,
    "start_time": "2021-11-05T16:29:20.934Z"
   },
   {
    "duration": 21,
    "start_time": "2021-11-05T16:29:22.382Z"
   },
   {
    "duration": 7674,
    "start_time": "2021-11-05T16:29:22.405Z"
   },
   {
    "duration": 7395,
    "start_time": "2021-11-05T16:29:37.382Z"
   },
   {
    "duration": 17,
    "start_time": "2021-11-05T16:30:54.322Z"
   },
   {
    "duration": 11,
    "start_time": "2021-11-05T16:32:17.312Z"
   },
   {
    "duration": 7109,
    "start_time": "2021-11-05T16:32:36.381Z"
   },
   {
    "duration": 84,
    "start_time": "2021-11-05T16:32:54.778Z"
   },
   {
    "duration": 10,
    "start_time": "2021-11-05T16:33:01.630Z"
   },
   {
    "duration": 368,
    "start_time": "2021-11-05T16:39:58.858Z"
   },
   {
    "duration": 261,
    "start_time": "2021-11-05T16:40:03.583Z"
   },
   {
    "duration": 80,
    "start_time": "2021-11-05T16:40:32.531Z"
   },
   {
    "duration": 11,
    "start_time": "2021-11-05T16:40:45.178Z"
   },
   {
    "duration": 11,
    "start_time": "2021-11-05T16:40:50.027Z"
   },
   {
    "duration": 13,
    "start_time": "2021-11-05T16:41:11.914Z"
   },
   {
    "duration": 13,
    "start_time": "2021-11-05T16:41:49.266Z"
   },
   {
    "duration": 770,
    "start_time": "2021-11-06T13:47:35.372Z"
   },
   {
    "duration": 76,
    "start_time": "2021-11-06T13:47:36.145Z"
   },
   {
    "duration": 12,
    "start_time": "2021-11-06T13:47:36.224Z"
   },
   {
    "duration": 43,
    "start_time": "2021-11-06T13:47:36.238Z"
   },
   {
    "duration": 6,
    "start_time": "2021-11-06T13:47:36.284Z"
   },
   {
    "duration": 15,
    "start_time": "2021-11-06T13:47:36.293Z"
   },
   {
    "duration": 18,
    "start_time": "2021-11-06T13:47:36.311Z"
   },
   {
    "duration": 1078,
    "start_time": "2021-11-06T13:47:36.333Z"
   },
   {
    "duration": 15,
    "start_time": "2021-11-06T13:47:37.414Z"
   },
   {
    "duration": 249,
    "start_time": "2021-11-06T13:47:37.432Z"
   },
   {
    "duration": 28,
    "start_time": "2021-11-06T13:47:37.684Z"
   },
   {
    "duration": 20,
    "start_time": "2021-11-06T13:47:37.715Z"
   },
   {
    "duration": 36,
    "start_time": "2021-11-06T13:47:37.738Z"
   },
   {
    "duration": 12,
    "start_time": "2021-11-06T13:47:37.777Z"
   },
   {
    "duration": 19,
    "start_time": "2021-11-06T13:47:37.791Z"
   },
   {
    "duration": 12,
    "start_time": "2021-11-06T13:47:37.814Z"
   },
   {
    "duration": 47,
    "start_time": "2021-11-06T13:47:37.829Z"
   },
   {
    "duration": 416,
    "start_time": "2021-11-06T13:47:37.879Z"
   },
   {
    "duration": 20,
    "start_time": "2021-11-06T13:47:38.298Z"
   },
   {
    "duration": 63,
    "start_time": "2021-11-06T13:47:38.321Z"
   },
   {
    "duration": 1917,
    "start_time": "2021-11-06T13:47:38.386Z"
   },
   {
    "duration": 32,
    "start_time": "2021-11-06T13:47:40.306Z"
   },
   {
    "duration": 36,
    "start_time": "2021-11-06T13:47:40.342Z"
   },
   {
    "duration": 433,
    "start_time": "2021-11-06T14:00:09.081Z"
   },
   {
    "duration": 4,
    "start_time": "2021-11-06T14:00:18.175Z"
   },
   {
    "duration": 69,
    "start_time": "2021-11-06T14:00:18.182Z"
   },
   {
    "duration": 12,
    "start_time": "2021-11-06T14:00:18.267Z"
   },
   {
    "duration": 26,
    "start_time": "2021-11-06T14:00:18.282Z"
   },
   {
    "duration": 6,
    "start_time": "2021-11-06T14:00:18.311Z"
   },
   {
    "duration": 54,
    "start_time": "2021-11-06T14:00:18.320Z"
   },
   {
    "duration": 17,
    "start_time": "2021-11-06T14:00:18.376Z"
   },
   {
    "duration": 451,
    "start_time": "2021-11-06T14:00:18.395Z"
   },
   {
    "duration": 24,
    "start_time": "2021-11-06T14:00:18.850Z"
   },
   {
    "duration": 242,
    "start_time": "2021-11-06T14:00:18.877Z"
   },
   {
    "duration": 24,
    "start_time": "2021-11-06T14:00:19.121Z"
   },
   {
    "duration": 22,
    "start_time": "2021-11-06T14:00:19.168Z"
   },
   {
    "duration": 12,
    "start_time": "2021-11-06T14:00:19.193Z"
   },
   {
    "duration": 14,
    "start_time": "2021-11-06T14:00:19.208Z"
   },
   {
    "duration": 53,
    "start_time": "2021-11-06T14:00:19.225Z"
   },
   {
    "duration": 11,
    "start_time": "2021-11-06T14:00:19.280Z"
   },
   {
    "duration": 13,
    "start_time": "2021-11-06T14:00:19.293Z"
   },
   {
    "duration": 426,
    "start_time": "2021-11-06T14:00:19.309Z"
   },
   {
    "duration": 31,
    "start_time": "2021-11-06T14:00:19.737Z"
   },
   {
    "duration": 31,
    "start_time": "2021-11-06T14:00:19.771Z"
   },
   {
    "duration": 1629,
    "start_time": "2021-11-06T14:00:19.805Z"
   },
   {
    "duration": 55,
    "start_time": "2021-11-06T14:00:21.437Z"
   },
   {
    "duration": 19,
    "start_time": "2021-11-06T14:00:21.495Z"
   },
   {
    "duration": 15,
    "start_time": "2021-11-06T14:00:21.517Z"
   },
   {
    "duration": 114,
    "start_time": "2021-11-06T14:37:26.799Z"
   },
   {
    "duration": 95,
    "start_time": "2021-11-06T14:38:47.008Z"
   },
   {
    "duration": 95,
    "start_time": "2021-11-06T14:39:54.344Z"
   },
   {
    "duration": 869,
    "start_time": "2021-11-06T14:40:05.651Z"
   },
   {
    "duration": 115,
    "start_time": "2021-11-06T14:42:03.611Z"
   },
   {
    "duration": 107,
    "start_time": "2021-11-06T14:44:47.765Z"
   },
   {
    "duration": 108,
    "start_time": "2021-11-06T14:44:59.134Z"
   },
   {
    "duration": 104,
    "start_time": "2021-11-06T14:45:09.015Z"
   },
   {
    "duration": 114,
    "start_time": "2021-11-06T14:45:19.265Z"
   },
   {
    "duration": 105,
    "start_time": "2021-11-06T14:45:34.492Z"
   },
   {
    "duration": 16,
    "start_time": "2021-11-06T14:46:02.863Z"
   },
   {
    "duration": 11,
    "start_time": "2021-11-06T14:46:08.987Z"
   },
   {
    "duration": 12,
    "start_time": "2021-11-06T14:46:16.311Z"
   },
   {
    "duration": 21,
    "start_time": "2021-11-06T14:46:48.337Z"
   },
   {
    "duration": 20,
    "start_time": "2021-11-06T14:47:13.715Z"
   },
   {
    "duration": 13,
    "start_time": "2021-11-06T14:47:23.834Z"
   },
   {
    "duration": 884,
    "start_time": "2021-11-06T14:48:26.442Z"
   },
   {
    "duration": 1150,
    "start_time": "2021-11-06T14:58:57.820Z"
   },
   {
    "duration": 807,
    "start_time": "2021-11-06T14:59:46.941Z"
   },
   {
    "duration": 106,
    "start_time": "2021-11-06T15:02:09.855Z"
   },
   {
    "duration": 295,
    "start_time": "2021-11-06T15:02:19.827Z"
   },
   {
    "duration": 106,
    "start_time": "2021-11-06T15:02:50.980Z"
   },
   {
    "duration": 1047,
    "start_time": "2021-11-06T15:03:10.456Z"
   },
   {
    "duration": 6157,
    "start_time": "2021-11-06T15:03:20.804Z"
   },
   {
    "duration": 795,
    "start_time": "2021-11-06T15:03:32.438Z"
   },
   {
    "duration": 1143,
    "start_time": "2021-11-06T15:03:44.416Z"
   },
   {
    "duration": 802,
    "start_time": "2021-11-06T15:04:04.920Z"
   },
   {
    "duration": 11,
    "start_time": "2021-11-06T15:20:42.837Z"
   },
   {
    "duration": 28,
    "start_time": "2021-11-06T15:20:52.347Z"
   },
   {
    "duration": 29,
    "start_time": "2021-11-06T15:21:10.153Z"
   },
   {
    "duration": 30,
    "start_time": "2021-11-06T15:23:08.313Z"
   },
   {
    "duration": 23,
    "start_time": "2021-11-06T15:23:34.974Z"
   },
   {
    "duration": 25,
    "start_time": "2021-11-06T15:23:45.161Z"
   },
   {
    "duration": 23,
    "start_time": "2021-11-06T15:23:51.161Z"
   },
   {
    "duration": 17,
    "start_time": "2021-11-06T15:26:15.793Z"
   },
   {
    "duration": 308,
    "start_time": "2021-11-06T15:26:49.796Z"
   },
   {
    "duration": 7425,
    "start_time": "2021-11-06T15:28:08.429Z"
   },
   {
    "duration": 40,
    "start_time": "2021-11-06T15:28:30.461Z"
   },
   {
    "duration": 8363,
    "start_time": "2021-11-06T15:30:38.999Z"
   },
   {
    "duration": 11,
    "start_time": "2021-11-06T15:31:00.060Z"
   },
   {
    "duration": 7710,
    "start_time": "2021-11-06T15:31:10.463Z"
   },
   {
    "duration": 8195,
    "start_time": "2021-11-06T15:31:59.781Z"
   },
   {
    "duration": 4,
    "start_time": "2021-11-06T15:32:20.717Z"
   },
   {
    "duration": 66,
    "start_time": "2021-11-06T15:32:20.727Z"
   },
   {
    "duration": 12,
    "start_time": "2021-11-06T15:32:20.796Z"
   },
   {
    "duration": 31,
    "start_time": "2021-11-06T15:32:20.811Z"
   },
   {
    "duration": 8,
    "start_time": "2021-11-06T15:32:20.869Z"
   },
   {
    "duration": 19,
    "start_time": "2021-11-06T15:32:20.880Z"
   },
   {
    "duration": 28,
    "start_time": "2021-11-06T15:32:20.902Z"
   },
   {
    "duration": 376,
    "start_time": "2021-11-06T15:32:20.933Z"
   },
   {
    "duration": 16,
    "start_time": "2021-11-06T15:32:21.315Z"
   },
   {
    "duration": 251,
    "start_time": "2021-11-06T15:32:21.334Z"
   },
   {
    "duration": 25,
    "start_time": "2021-11-06T15:32:21.588Z"
   },
   {
    "duration": 20,
    "start_time": "2021-11-06T15:32:21.616Z"
   },
   {
    "duration": 12,
    "start_time": "2021-11-06T15:32:21.667Z"
   },
   {
    "duration": 18,
    "start_time": "2021-11-06T15:32:21.681Z"
   },
   {
    "duration": 15,
    "start_time": "2021-11-06T15:32:21.702Z"
   },
   {
    "duration": 14,
    "start_time": "2021-11-06T15:32:21.720Z"
   },
   {
    "duration": 11,
    "start_time": "2021-11-06T15:32:21.768Z"
   },
   {
    "duration": 429,
    "start_time": "2021-11-06T15:32:21.781Z"
   },
   {
    "duration": 18,
    "start_time": "2021-11-06T15:32:22.212Z"
   },
   {
    "duration": 52,
    "start_time": "2021-11-06T15:32:22.232Z"
   },
   {
    "duration": 1628,
    "start_time": "2021-11-06T15:32:22.287Z"
   },
   {
    "duration": 31,
    "start_time": "2021-11-06T15:32:23.917Z"
   },
   {
    "duration": 28,
    "start_time": "2021-11-06T15:32:23.950Z"
   },
   {
    "duration": 10,
    "start_time": "2021-11-06T15:32:23.982Z"
   },
   {
    "duration": 879,
    "start_time": "2021-11-06T15:32:23.995Z"
   },
   {
    "duration": 7538,
    "start_time": "2021-11-06T15:32:24.876Z"
   },
   {
    "duration": 293,
    "start_time": "2021-11-06T15:33:25.119Z"
   },
   {
    "duration": 11885,
    "start_time": "2021-11-06T15:33:53.790Z"
   },
   {
    "duration": 19,
    "start_time": "2021-11-06T15:35:21.837Z"
   },
   {
    "duration": 7134,
    "start_time": "2021-11-06T15:36:06.437Z"
   },
   {
    "duration": 305,
    "start_time": "2021-11-06T15:36:50.119Z"
   },
   {
    "duration": 12801,
    "start_time": "2021-11-06T15:37:12.802Z"
   },
   {
    "duration": 8021,
    "start_time": "2021-11-06T15:38:37.598Z"
   },
   {
    "duration": 532,
    "start_time": "2021-11-06T15:39:45.943Z"
   },
   {
    "duration": 326,
    "start_time": "2021-11-06T15:40:27.489Z"
   },
   {
    "duration": 409,
    "start_time": "2021-11-06T15:40:48.028Z"
   },
   {
    "duration": 309,
    "start_time": "2021-11-06T15:41:30.375Z"
   },
   {
    "duration": 384,
    "start_time": "2021-11-06T15:42:00.027Z"
   },
   {
    "duration": 302,
    "start_time": "2021-11-06T15:42:56.411Z"
   },
   {
    "duration": 24,
    "start_time": "2021-11-06T15:43:41.949Z"
   },
   {
    "duration": 17,
    "start_time": "2021-11-06T15:44:07.922Z"
   },
   {
    "duration": 2214,
    "start_time": "2021-11-06T15:45:08.787Z"
   },
   {
    "duration": 26,
    "start_time": "2021-11-06T15:45:55.796Z"
   },
   {
    "duration": 27,
    "start_time": "2021-11-06T15:46:10.080Z"
   },
   {
    "duration": 844,
    "start_time": "2021-11-06T20:00:34.765Z"
   },
   {
    "duration": 79,
    "start_time": "2021-11-06T20:00:35.611Z"
   },
   {
    "duration": 15,
    "start_time": "2021-11-06T20:00:35.693Z"
   },
   {
    "duration": 26,
    "start_time": "2021-11-06T20:00:35.710Z"
   },
   {
    "duration": 5,
    "start_time": "2021-11-06T20:00:35.739Z"
   },
   {
    "duration": 24,
    "start_time": "2021-11-06T20:00:35.747Z"
   },
   {
    "duration": 34,
    "start_time": "2021-11-06T20:00:35.774Z"
   },
   {
    "duration": 1109,
    "start_time": "2021-11-06T20:00:35.812Z"
   },
   {
    "duration": 14,
    "start_time": "2021-11-06T20:00:36.924Z"
   },
   {
    "duration": 241,
    "start_time": "2021-11-06T20:00:36.940Z"
   },
   {
    "duration": 34,
    "start_time": "2021-11-06T20:00:37.184Z"
   },
   {
    "duration": 23,
    "start_time": "2021-11-06T20:00:37.220Z"
   },
   {
    "duration": 12,
    "start_time": "2021-11-06T20:00:37.246Z"
   },
   {
    "duration": 43,
    "start_time": "2021-11-06T20:00:37.261Z"
   },
   {
    "duration": 16,
    "start_time": "2021-11-06T20:00:37.307Z"
   },
   {
    "duration": 14,
    "start_time": "2021-11-06T20:00:37.326Z"
   },
   {
    "duration": 10,
    "start_time": "2021-11-06T20:00:37.343Z"
   },
   {
    "duration": 435,
    "start_time": "2021-11-06T20:00:37.355Z"
   },
   {
    "duration": 18,
    "start_time": "2021-11-06T20:00:37.800Z"
   },
   {
    "duration": 45,
    "start_time": "2021-11-06T20:00:37.820Z"
   },
   {
    "duration": 1896,
    "start_time": "2021-11-06T20:00:37.868Z"
   },
   {
    "duration": 32,
    "start_time": "2021-11-06T20:00:39.766Z"
   },
   {
    "duration": 25,
    "start_time": "2021-11-06T20:00:39.802Z"
   },
   {
    "duration": 1226,
    "start_time": "2021-11-06T20:00:39.830Z"
   },
   {
    "duration": 26,
    "start_time": "2021-11-06T20:00:41.059Z"
   },
   {
    "duration": 17,
    "start_time": "2021-11-06T20:01:04.616Z"
   },
   {
    "duration": 896,
    "start_time": "2021-11-06T20:10:59.457Z"
   },
   {
    "duration": 294,
    "start_time": "2021-11-07T07:34:27.490Z"
   },
   {
    "duration": 580,
    "start_time": "2021-11-07T07:34:45.907Z"
   },
   {
    "duration": 55,
    "start_time": "2021-11-07T07:34:46.488Z"
   },
   {
    "duration": 8,
    "start_time": "2021-11-07T07:34:46.545Z"
   },
   {
    "duration": 16,
    "start_time": "2021-11-07T07:34:46.555Z"
   },
   {
    "duration": 4,
    "start_time": "2021-11-07T07:34:46.573Z"
   },
   {
    "duration": 18,
    "start_time": "2021-11-07T07:34:46.579Z"
   },
   {
    "duration": 12,
    "start_time": "2021-11-07T07:34:46.598Z"
   },
   {
    "duration": 772,
    "start_time": "2021-11-07T07:34:46.612Z"
   },
   {
    "duration": 10,
    "start_time": "2021-11-07T07:34:47.387Z"
   },
   {
    "duration": 143,
    "start_time": "2021-11-07T07:34:47.398Z"
   },
   {
    "duration": 14,
    "start_time": "2021-11-07T07:34:47.543Z"
   },
   {
    "duration": 12,
    "start_time": "2021-11-07T07:34:47.559Z"
   },
   {
    "duration": 6,
    "start_time": "2021-11-07T07:34:47.573Z"
   },
   {
    "duration": 16,
    "start_time": "2021-11-07T07:34:47.580Z"
   },
   {
    "duration": 16,
    "start_time": "2021-11-07T07:34:47.597Z"
   },
   {
    "duration": 15,
    "start_time": "2021-11-07T07:34:47.614Z"
   },
   {
    "duration": 8,
    "start_time": "2021-11-07T07:34:47.644Z"
   },
   {
    "duration": 241,
    "start_time": "2021-11-07T07:34:47.653Z"
   },
   {
    "duration": 13,
    "start_time": "2021-11-07T07:34:47.896Z"
   },
   {
    "duration": 40,
    "start_time": "2021-11-07T07:34:47.911Z"
   },
   {
    "duration": 1584,
    "start_time": "2021-11-07T07:34:47.953Z"
   },
   {
    "duration": 20,
    "start_time": "2021-11-07T07:34:49.539Z"
   },
   {
    "duration": 18,
    "start_time": "2021-11-07T07:34:49.561Z"
   },
   {
    "duration": 1337,
    "start_time": "2021-11-07T07:34:49.581Z"
   },
   {
    "duration": 10,
    "start_time": "2021-11-07T07:34:50.920Z"
   },
   {
    "duration": 544,
    "start_time": "2021-11-07T07:34:50.931Z"
   },
   {
    "duration": 2,
    "start_time": "2021-11-07T07:35:28.671Z"
   },
   {
    "duration": 55,
    "start_time": "2021-11-07T07:35:28.675Z"
   },
   {
    "duration": 8,
    "start_time": "2021-11-07T07:35:28.733Z"
   },
   {
    "duration": 23,
    "start_time": "2021-11-07T07:35:28.743Z"
   },
   {
    "duration": 4,
    "start_time": "2021-11-07T07:35:28.768Z"
   },
   {
    "duration": 11,
    "start_time": "2021-11-07T07:35:28.774Z"
   },
   {
    "duration": 13,
    "start_time": "2021-11-07T07:35:28.787Z"
   },
   {
    "duration": 211,
    "start_time": "2021-11-07T07:35:28.802Z"
   },
   {
    "duration": 10,
    "start_time": "2021-11-07T07:35:29.016Z"
   },
   {
    "duration": 142,
    "start_time": "2021-11-07T07:35:29.028Z"
   },
   {
    "duration": 16,
    "start_time": "2021-11-07T07:35:29.172Z"
   },
   {
    "duration": 15,
    "start_time": "2021-11-07T07:35:29.189Z"
   },
   {
    "duration": 8,
    "start_time": "2021-11-07T07:35:29.206Z"
   },
   {
    "duration": 32,
    "start_time": "2021-11-07T07:35:29.215Z"
   },
   {
    "duration": 9,
    "start_time": "2021-11-07T07:35:29.249Z"
   },
   {
    "duration": 7,
    "start_time": "2021-11-07T07:35:29.260Z"
   },
   {
    "duration": 7,
    "start_time": "2021-11-07T07:35:29.269Z"
   },
   {
    "duration": 334,
    "start_time": "2021-11-07T07:35:29.278Z"
   },
   {
    "duration": 16,
    "start_time": "2021-11-07T07:35:29.615Z"
   },
   {
    "duration": 30,
    "start_time": "2021-11-07T07:35:29.633Z"
   },
   {
    "duration": 985,
    "start_time": "2021-11-07T07:35:29.665Z"
   },
   {
    "duration": 20,
    "start_time": "2021-11-07T07:35:30.651Z"
   },
   {
    "duration": 23,
    "start_time": "2021-11-07T07:35:30.672Z"
   },
   {
    "duration": 1064,
    "start_time": "2021-11-07T07:35:30.697Z"
   },
   {
    "duration": 10,
    "start_time": "2021-11-07T07:35:31.762Z"
   },
   {
    "duration": 439,
    "start_time": "2021-11-07T07:35:31.774Z"
   },
   {
    "duration": 1922,
    "start_time": "2021-11-07T07:36:04.538Z"
   },
   {
    "duration": 1972,
    "start_time": "2021-11-07T07:36:24.705Z"
   },
   {
    "duration": 23,
    "start_time": "2021-11-07T07:36:48.306Z"
   },
   {
    "duration": 12,
    "start_time": "2021-11-07T07:37:23.784Z"
   },
   {
    "duration": 17,
    "start_time": "2021-11-07T07:40:09.178Z"
   },
   {
    "duration": 87,
    "start_time": "2021-11-07T07:44:11.616Z"
   },
   {
    "duration": 96,
    "start_time": "2021-11-07T07:44:25.190Z"
   },
   {
    "duration": 88,
    "start_time": "2021-11-07T07:44:40.591Z"
   },
   {
    "duration": 289,
    "start_time": "2021-11-07T07:44:51.337Z"
   },
   {
    "duration": 272,
    "start_time": "2021-11-07T07:46:20.138Z"
   },
   {
    "duration": 10,
    "start_time": "2021-11-07T07:48:03.107Z"
   },
   {
    "duration": 16,
    "start_time": "2021-11-07T07:48:16.218Z"
   },
   {
    "duration": 11,
    "start_time": "2021-11-07T07:49:45.410Z"
   },
   {
    "duration": 13,
    "start_time": "2021-11-07T07:49:57.791Z"
   },
   {
    "duration": 17,
    "start_time": "2021-11-07T07:50:27.472Z"
   },
   {
    "duration": 404,
    "start_time": "2021-11-07T07:50:48.571Z"
   },
   {
    "duration": 445,
    "start_time": "2021-11-07T07:51:20.068Z"
   },
   {
    "duration": 86,
    "start_time": "2021-11-07T07:52:31.840Z"
   },
   {
    "duration": 15,
    "start_time": "2021-11-07T07:52:38.951Z"
   },
   {
    "duration": 15,
    "start_time": "2021-11-07T07:53:07.058Z"
   },
   {
    "duration": 11,
    "start_time": "2021-11-07T07:53:18.677Z"
   },
   {
    "duration": 109,
    "start_time": "2021-11-07T07:54:08.800Z"
   },
   {
    "duration": 1718,
    "start_time": "2021-11-07T12:37:43.292Z"
   },
   {
    "duration": 849,
    "start_time": "2021-11-07T12:37:59.663Z"
   },
   {
    "duration": 85,
    "start_time": "2021-11-07T12:38:00.514Z"
   },
   {
    "duration": 12,
    "start_time": "2021-11-07T12:38:00.602Z"
   },
   {
    "duration": 32,
    "start_time": "2021-11-07T12:38:00.616Z"
   },
   {
    "duration": 6,
    "start_time": "2021-11-07T12:38:00.650Z"
   },
   {
    "duration": 44,
    "start_time": "2021-11-07T12:38:00.658Z"
   },
   {
    "duration": 18,
    "start_time": "2021-11-07T12:38:00.705Z"
   },
   {
    "duration": 1132,
    "start_time": "2021-11-07T12:38:00.728Z"
   },
   {
    "duration": 26,
    "start_time": "2021-11-07T12:38:01.863Z"
   },
   {
    "duration": 260,
    "start_time": "2021-11-07T12:38:01.893Z"
   },
   {
    "duration": 44,
    "start_time": "2021-11-07T12:38:02.156Z"
   },
   {
    "duration": 22,
    "start_time": "2021-11-07T12:38:02.202Z"
   },
   {
    "duration": 14,
    "start_time": "2021-11-07T12:38:02.226Z"
   },
   {
    "duration": 42,
    "start_time": "2021-11-07T12:38:02.242Z"
   },
   {
    "duration": 20,
    "start_time": "2021-11-07T12:38:02.288Z"
   },
   {
    "duration": 11,
    "start_time": "2021-11-07T12:38:02.310Z"
   },
   {
    "duration": 21,
    "start_time": "2021-11-07T12:38:02.323Z"
   },
   {
    "duration": 442,
    "start_time": "2021-11-07T12:38:02.347Z"
   },
   {
    "duration": 22,
    "start_time": "2021-11-07T12:38:02.791Z"
   },
   {
    "duration": 46,
    "start_time": "2021-11-07T12:38:02.815Z"
   },
   {
    "duration": 787,
    "start_time": "2021-11-07T12:38:02.863Z"
   },
   {
    "duration": 377,
    "start_time": "2021-11-07T12:38:03.652Z"
   },
   {
    "duration": 266,
    "start_time": "2021-11-07T12:38:03.766Z"
   },
   {
    "duration": 256,
    "start_time": "2021-11-07T12:38:03.778Z"
   },
   {
    "duration": 253,
    "start_time": "2021-11-07T12:38:03.783Z"
   },
   {
    "duration": 209,
    "start_time": "2021-11-07T12:38:03.829Z"
   },
   {
    "duration": 97,
    "start_time": "2021-11-07T12:39:55.120Z"
   },
   {
    "duration": 10,
    "start_time": "2021-11-07T12:40:07.417Z"
   },
   {
    "duration": 21,
    "start_time": "2021-11-07T12:40:20.329Z"
   },
   {
    "duration": 38,
    "start_time": "2021-11-07T12:40:54.469Z"
   },
   {
    "duration": 31,
    "start_time": "2021-11-07T12:41:53.391Z"
   },
   {
    "duration": 7828,
    "start_time": "2021-11-07T12:43:37.289Z"
   },
   {
    "duration": 453,
    "start_time": "2021-11-08T03:33:42.440Z"
   },
   {
    "duration": 765,
    "start_time": "2021-11-08T03:33:54.927Z"
   },
   {
    "duration": 79,
    "start_time": "2021-11-08T03:33:55.695Z"
   },
   {
    "duration": 13,
    "start_time": "2021-11-08T03:33:55.776Z"
   },
   {
    "duration": 29,
    "start_time": "2021-11-08T03:33:55.792Z"
   },
   {
    "duration": 43,
    "start_time": "2021-11-08T03:33:55.824Z"
   },
   {
    "duration": 15,
    "start_time": "2021-11-08T03:33:55.870Z"
   },
   {
    "duration": 16,
    "start_time": "2021-11-08T03:33:55.887Z"
   },
   {
    "duration": 1081,
    "start_time": "2021-11-08T03:33:55.908Z"
   },
   {
    "duration": 16,
    "start_time": "2021-11-08T03:33:56.993Z"
   },
   {
    "duration": 255,
    "start_time": "2021-11-08T03:33:57.012Z"
   },
   {
    "duration": 29,
    "start_time": "2021-11-08T03:33:57.270Z"
   },
   {
    "duration": 23,
    "start_time": "2021-11-08T03:33:57.301Z"
   },
   {
    "duration": 45,
    "start_time": "2021-11-08T03:33:57.327Z"
   },
   {
    "duration": 10,
    "start_time": "2021-11-08T03:33:57.374Z"
   },
   {
    "duration": 12,
    "start_time": "2021-11-08T03:33:57.387Z"
   },
   {
    "duration": 11,
    "start_time": "2021-11-08T03:33:57.402Z"
   },
   {
    "duration": 15,
    "start_time": "2021-11-08T03:33:57.415Z"
   },
   {
    "duration": 439,
    "start_time": "2021-11-08T03:33:57.433Z"
   },
   {
    "duration": 18,
    "start_time": "2021-11-08T03:33:57.874Z"
   },
   {
    "duration": 379,
    "start_time": "2021-11-08T03:33:57.894Z"
   },
   {
    "duration": -2012,
    "start_time": "2021-11-08T03:34:00.287Z"
   },
   {
    "duration": -2013,
    "start_time": "2021-11-08T03:34:00.290Z"
   },
   {
    "duration": -2015,
    "start_time": "2021-11-08T03:34:00.293Z"
   },
   {
    "duration": -2027,
    "start_time": "2021-11-08T03:34:00.306Z"
   },
   {
    "duration": -2030,
    "start_time": "2021-11-08T03:34:00.310Z"
   },
   {
    "duration": -2032,
    "start_time": "2021-11-08T03:34:00.313Z"
   },
   {
    "duration": -2033,
    "start_time": "2021-11-08T03:34:00.316Z"
   },
   {
    "duration": 322,
    "start_time": "2021-11-08T03:34:45.571Z"
   },
   {
    "duration": 307,
    "start_time": "2021-11-08T03:35:48.670Z"
   },
   {
    "duration": 14,
    "start_time": "2021-11-08T03:36:28.459Z"
   },
   {
    "duration": 12,
    "start_time": "2021-11-08T03:36:36.339Z"
   },
   {
    "duration": 110,
    "start_time": "2021-11-08T03:38:57.964Z"
   },
   {
    "duration": 94,
    "start_time": "2021-11-08T03:39:10.189Z"
   },
   {
    "duration": 405,
    "start_time": "2021-11-08T03:39:15.524Z"
   },
   {
    "duration": 338,
    "start_time": "2021-11-08T03:40:03.697Z"
   },
   {
    "duration": 325,
    "start_time": "2021-11-08T03:40:17.327Z"
   },
   {
    "duration": 310,
    "start_time": "2021-11-08T03:40:46.159Z"
   },
   {
    "duration": 300,
    "start_time": "2021-11-08T03:41:09.810Z"
   },
   {
    "duration": 294,
    "start_time": "2021-11-08T03:41:56.362Z"
   },
   {
    "duration": 320,
    "start_time": "2021-11-08T03:43:29.875Z"
   },
   {
    "duration": 356,
    "start_time": "2021-11-08T03:43:44.995Z"
   },
   {
    "duration": 313,
    "start_time": "2021-11-08T03:43:55.820Z"
   },
   {
    "duration": 383,
    "start_time": "2021-11-08T03:45:45.368Z"
   },
   {
    "duration": 9,
    "start_time": "2021-11-08T03:48:42.389Z"
   },
   {
    "duration": 13,
    "start_time": "2021-11-08T03:48:53.790Z"
   },
   {
    "duration": 13,
    "start_time": "2021-11-08T03:51:20.995Z"
   },
   {
    "duration": 30,
    "start_time": "2021-11-08T03:51:48.460Z"
   },
   {
    "duration": 29,
    "start_time": "2021-11-08T03:51:55.416Z"
   },
   {
    "duration": 307,
    "start_time": "2021-11-08T03:52:16.712Z"
   },
   {
    "duration": 27,
    "start_time": "2021-11-08T03:52:21.846Z"
   },
   {
    "duration": 1065,
    "start_time": "2021-11-08T03:52:44.952Z"
   },
   {
    "duration": 7506,
    "start_time": "2021-11-08T03:52:57.946Z"
   },
   {
    "duration": 728,
    "start_time": "2021-11-08T03:53:30.317Z"
   },
   {
    "duration": 729,
    "start_time": "2021-11-08T03:54:57.226Z"
   },
   {
    "duration": 8236,
    "start_time": "2021-11-08T03:55:27.207Z"
   },
   {
    "duration": 40,
    "start_time": "2021-11-08T03:56:28.976Z"
   },
   {
    "duration": 31,
    "start_time": "2021-11-08T03:56:42.390Z"
   },
   {
    "duration": 106,
    "start_time": "2021-11-08T03:58:46.831Z"
   },
   {
    "duration": 19,
    "start_time": "2021-11-08T04:01:36.530Z"
   },
   {
    "duration": 25,
    "start_time": "2021-11-08T04:01:47.117Z"
   },
   {
    "duration": 25,
    "start_time": "2021-11-08T04:02:28.250Z"
   },
   {
    "duration": 26,
    "start_time": "2021-11-08T04:04:03.361Z"
   },
   {
    "duration": 26,
    "start_time": "2021-11-08T04:04:16.712Z"
   },
   {
    "duration": 717,
    "start_time": "2021-11-08T07:33:24.870Z"
   },
   {
    "duration": 77,
    "start_time": "2021-11-08T07:33:25.590Z"
   },
   {
    "duration": 61,
    "start_time": "2021-11-08T07:33:25.669Z"
   },
   {
    "duration": 26,
    "start_time": "2021-11-08T07:33:25.733Z"
   },
   {
    "duration": 62,
    "start_time": "2021-11-08T07:33:25.762Z"
   },
   {
    "duration": 15,
    "start_time": "2021-11-08T07:33:25.826Z"
   },
   {
    "duration": 28,
    "start_time": "2021-11-08T07:33:25.843Z"
   },
   {
    "duration": 1581,
    "start_time": "2021-11-08T07:33:25.873Z"
   },
   {
    "duration": 69,
    "start_time": "2021-11-08T07:33:27.458Z"
   },
   {
    "duration": 256,
    "start_time": "2021-11-08T07:33:27.530Z"
   },
   {
    "duration": 45,
    "start_time": "2021-11-08T07:33:27.788Z"
   },
   {
    "duration": 20,
    "start_time": "2021-11-08T07:33:27.836Z"
   },
   {
    "duration": 11,
    "start_time": "2021-11-08T07:33:27.858Z"
   },
   {
    "duration": 51,
    "start_time": "2021-11-08T07:33:27.871Z"
   },
   {
    "duration": 11,
    "start_time": "2021-11-08T07:33:27.925Z"
   },
   {
    "duration": 10,
    "start_time": "2021-11-08T07:33:27.938Z"
   },
   {
    "duration": 10,
    "start_time": "2021-11-08T07:33:27.951Z"
   },
   {
    "duration": 426,
    "start_time": "2021-11-08T07:33:27.964Z"
   },
   {
    "duration": 33,
    "start_time": "2021-11-08T07:33:28.393Z"
   },
   {
    "duration": 41,
    "start_time": "2021-11-08T07:33:28.428Z"
   },
   {
    "duration": 1008,
    "start_time": "2021-11-08T07:33:28.472Z"
   },
   {
    "duration": 26,
    "start_time": "2021-11-08T07:33:29.482Z"
   },
   {
    "duration": 19,
    "start_time": "2021-11-08T07:33:29.510Z"
   },
   {
    "duration": 720,
    "start_time": "2021-11-08T07:33:29.532Z"
   },
   {
    "duration": 89,
    "start_time": "2021-11-08T07:33:30.254Z"
   },
   {
    "duration": -7469,
    "start_time": "2021-11-08T07:33:37.814Z"
   },
   {
    "duration": 486,
    "start_time": "2021-11-08T07:46:52.713Z"
   },
   {
    "duration": 279,
    "start_time": "2021-11-08T07:47:25.763Z"
   },
   {
    "duration": 1137,
    "start_time": "2021-11-08T07:49:08.723Z"
   },
   {
    "duration": 35,
    "start_time": "2021-11-08T07:49:31.279Z"
   },
   {
    "duration": 396,
    "start_time": "2021-11-08T07:49:42.588Z"
   },
   {
    "duration": 318,
    "start_time": "2021-11-08T07:51:28.265Z"
   },
   {
    "duration": 346,
    "start_time": "2021-11-08T07:53:03.676Z"
   },
   {
    "duration": 343,
    "start_time": "2021-11-08T07:53:16.969Z"
   },
   {
    "duration": 344,
    "start_time": "2021-11-08T07:53:24.022Z"
   },
   {
    "duration": 334,
    "start_time": "2021-11-08T07:53:40.438Z"
   },
   {
    "duration": 350,
    "start_time": "2021-11-08T07:53:45.467Z"
   },
   {
    "duration": 339,
    "start_time": "2021-11-08T07:53:51.877Z"
   },
   {
    "duration": 386,
    "start_time": "2021-11-08T07:53:57.769Z"
   },
   {
    "duration": 329,
    "start_time": "2021-11-08T07:54:05.478Z"
   },
   {
    "duration": 840,
    "start_time": "2021-11-08T12:39:16.052Z"
   },
   {
    "duration": 82,
    "start_time": "2021-11-08T12:39:16.894Z"
   },
   {
    "duration": 16,
    "start_time": "2021-11-08T12:39:16.981Z"
   },
   {
    "duration": 27,
    "start_time": "2021-11-08T12:39:17.000Z"
   },
   {
    "duration": 6,
    "start_time": "2021-11-08T12:39:17.029Z"
   },
   {
    "duration": 17,
    "start_time": "2021-11-08T12:39:17.068Z"
   },
   {
    "duration": 22,
    "start_time": "2021-11-08T12:39:17.087Z"
   },
   {
    "duration": 1067,
    "start_time": "2021-11-08T12:39:17.111Z"
   },
   {
    "duration": 15,
    "start_time": "2021-11-08T12:39:18.182Z"
   },
   {
    "duration": 262,
    "start_time": "2021-11-08T12:39:18.200Z"
   },
   {
    "duration": 32,
    "start_time": "2021-11-08T12:39:18.465Z"
   },
   {
    "duration": 25,
    "start_time": "2021-11-08T12:39:18.500Z"
   },
   {
    "duration": 13,
    "start_time": "2021-11-08T12:39:18.528Z"
   },
   {
    "duration": 32,
    "start_time": "2021-11-08T12:39:18.543Z"
   },
   {
    "duration": 17,
    "start_time": "2021-11-08T12:39:18.578Z"
   },
   {
    "duration": 12,
    "start_time": "2021-11-08T12:39:18.598Z"
   },
   {
    "duration": 18,
    "start_time": "2021-11-08T12:39:18.613Z"
   },
   {
    "duration": 427,
    "start_time": "2021-11-08T12:39:18.633Z"
   },
   {
    "duration": 17,
    "start_time": "2021-11-08T12:39:19.067Z"
   },
   {
    "duration": 65,
    "start_time": "2021-11-08T12:39:19.087Z"
   },
   {
    "duration": 353,
    "start_time": "2021-11-08T12:39:19.155Z"
   },
   {
    "duration": 2969,
    "start_time": "2021-11-08T12:39:19.510Z"
   },
   {
    "duration": 26,
    "start_time": "2021-11-08T12:39:22.482Z"
   },
   {
    "duration": 20,
    "start_time": "2021-11-08T12:39:22.510Z"
   },
   {
    "duration": 746,
    "start_time": "2021-11-08T12:39:22.533Z"
   },
   {
    "duration": 124,
    "start_time": "2021-11-08T12:39:23.283Z"
   },
   {
    "duration": -571,
    "start_time": "2021-11-08T12:39:23.980Z"
   },
   {
    "duration": 27,
    "start_time": "2021-11-08T12:42:39.911Z"
   },
   {
    "duration": 3,
    "start_time": "2021-11-08T12:42:45.025Z"
   },
   {
    "duration": 78,
    "start_time": "2021-11-08T12:42:45.031Z"
   },
   {
    "duration": 13,
    "start_time": "2021-11-08T12:42:45.114Z"
   },
   {
    "duration": 55,
    "start_time": "2021-11-08T12:42:45.129Z"
   },
   {
    "duration": 7,
    "start_time": "2021-11-08T12:42:45.186Z"
   },
   {
    "duration": 16,
    "start_time": "2021-11-08T12:42:45.196Z"
   },
   {
    "duration": 21,
    "start_time": "2021-11-08T12:42:45.214Z"
   },
   {
    "duration": 366,
    "start_time": "2021-11-08T12:42:45.237Z"
   },
   {
    "duration": 14,
    "start_time": "2021-11-08T12:42:45.607Z"
   },
   {
    "duration": 242,
    "start_time": "2021-11-08T12:42:45.625Z"
   },
   {
    "duration": 24,
    "start_time": "2021-11-08T12:42:45.869Z"
   },
   {
    "duration": 20,
    "start_time": "2021-11-08T12:42:45.895Z"
   },
   {
    "duration": 10,
    "start_time": "2021-11-08T12:42:45.917Z"
   },
   {
    "duration": 47,
    "start_time": "2021-11-08T12:42:45.929Z"
   },
   {
    "duration": 12,
    "start_time": "2021-11-08T12:42:45.978Z"
   },
   {
    "duration": 12,
    "start_time": "2021-11-08T12:42:45.992Z"
   },
   {
    "duration": 11,
    "start_time": "2021-11-08T12:42:46.006Z"
   },
   {
    "duration": 663,
    "start_time": "2021-11-08T12:42:46.020Z"
   },
   {
    "duration": 28,
    "start_time": "2021-11-08T12:42:46.686Z"
   },
   {
    "duration": 71,
    "start_time": "2021-11-08T12:42:46.717Z"
   },
   {
    "duration": 543,
    "start_time": "2021-11-08T12:42:46.791Z"
   },
   {
    "duration": 702,
    "start_time": "2021-11-08T12:42:47.337Z"
   },
   {
    "duration": 27,
    "start_time": "2021-11-08T12:42:48.041Z"
   },
   {
    "duration": 25,
    "start_time": "2021-11-08T12:42:48.071Z"
   },
   {
    "duration": 807,
    "start_time": "2021-11-08T12:42:48.098Z"
   },
   {
    "duration": 104,
    "start_time": "2021-11-08T12:42:48.907Z"
   },
   {
    "duration": -566,
    "start_time": "2021-11-08T12:42:49.581Z"
   },
   {
    "duration": 39,
    "start_time": "2021-11-08T12:43:43.266Z"
   },
   {
    "duration": 24,
    "start_time": "2021-11-08T12:44:46.346Z"
   },
   {
    "duration": 25,
    "start_time": "2021-11-08T12:45:10.932Z"
   },
   {
    "duration": 4,
    "start_time": "2021-11-08T12:48:13.891Z"
   },
   {
    "duration": 71,
    "start_time": "2021-11-08T12:48:13.897Z"
   },
   {
    "duration": 12,
    "start_time": "2021-11-08T12:48:13.971Z"
   },
   {
    "duration": 28,
    "start_time": "2021-11-08T12:48:13.986Z"
   },
   {
    "duration": 6,
    "start_time": "2021-11-08T12:48:14.017Z"
   },
   {
    "duration": 41,
    "start_time": "2021-11-08T12:48:14.026Z"
   },
   {
    "duration": 16,
    "start_time": "2021-11-08T12:48:14.069Z"
   },
   {
    "duration": 356,
    "start_time": "2021-11-08T12:48:14.087Z"
   },
   {
    "duration": 22,
    "start_time": "2021-11-08T12:48:14.447Z"
   },
   {
    "duration": 223,
    "start_time": "2021-11-08T12:48:14.472Z"
   },
   {
    "duration": 23,
    "start_time": "2021-11-08T12:48:14.697Z"
   },
   {
    "duration": 45,
    "start_time": "2021-11-08T12:48:14.723Z"
   },
   {
    "duration": 10,
    "start_time": "2021-11-08T12:48:14.770Z"
   },
   {
    "duration": 14,
    "start_time": "2021-11-08T12:48:14.782Z"
   },
   {
    "duration": 12,
    "start_time": "2021-11-08T12:48:14.798Z"
   },
   {
    "duration": 12,
    "start_time": "2021-11-08T12:48:14.812Z"
   },
   {
    "duration": 44,
    "start_time": "2021-11-08T12:48:14.826Z"
   },
   {
    "duration": 410,
    "start_time": "2021-11-08T12:48:14.873Z"
   },
   {
    "duration": 20,
    "start_time": "2021-11-08T12:48:15.286Z"
   },
   {
    "duration": 60,
    "start_time": "2021-11-08T12:48:15.309Z"
   },
   {
    "duration": 379,
    "start_time": "2021-11-08T12:48:15.372Z"
   },
   {
    "duration": 1012,
    "start_time": "2021-11-08T12:48:15.754Z"
   },
   {
    "duration": 26,
    "start_time": "2021-11-08T12:48:16.769Z"
   },
   {
    "duration": 27,
    "start_time": "2021-11-08T12:48:16.798Z"
   },
   {
    "duration": 667,
    "start_time": "2021-11-08T12:48:16.827Z"
   },
   {
    "duration": 114,
    "start_time": "2021-11-08T12:48:17.497Z"
   },
   {
    "duration": -579,
    "start_time": "2021-11-08T12:48:18.192Z"
   },
   {
    "duration": 27,
    "start_time": "2021-11-08T12:49:16.934Z"
   },
   {
    "duration": 27,
    "start_time": "2021-11-08T12:51:21.763Z"
   },
   {
    "duration": 28,
    "start_time": "2021-11-08T12:51:29.210Z"
   },
   {
    "duration": 793,
    "start_time": "2021-11-09T17:54:21.017Z"
   },
   {
    "duration": 81,
    "start_time": "2021-11-09T17:54:21.813Z"
   },
   {
    "duration": 12,
    "start_time": "2021-11-09T17:54:21.897Z"
   },
   {
    "duration": 41,
    "start_time": "2021-11-09T17:54:21.912Z"
   },
   {
    "duration": 6,
    "start_time": "2021-11-09T17:54:21.955Z"
   },
   {
    "duration": 36,
    "start_time": "2021-11-09T17:54:21.964Z"
   },
   {
    "duration": 15,
    "start_time": "2021-11-09T17:54:22.003Z"
   },
   {
    "duration": 1082,
    "start_time": "2021-11-09T17:54:22.021Z"
   },
   {
    "duration": 13,
    "start_time": "2021-11-09T17:54:23.107Z"
   },
   {
    "duration": 262,
    "start_time": "2021-11-09T17:54:23.123Z"
   },
   {
    "duration": 28,
    "start_time": "2021-11-09T17:54:23.387Z"
   },
   {
    "duration": 19,
    "start_time": "2021-11-09T17:54:23.418Z"
   },
   {
    "duration": 9,
    "start_time": "2021-11-09T17:54:23.440Z"
   },
   {
    "duration": 10,
    "start_time": "2021-11-09T17:54:23.451Z"
   },
   {
    "duration": 10,
    "start_time": "2021-11-09T17:54:23.500Z"
   },
   {
    "duration": 11,
    "start_time": "2021-11-09T17:54:23.513Z"
   },
   {
    "duration": 18,
    "start_time": "2021-11-09T17:54:23.526Z"
   },
   {
    "duration": 427,
    "start_time": "2021-11-09T17:54:23.547Z"
   },
   {
    "duration": 27,
    "start_time": "2021-11-09T17:54:23.976Z"
   },
   {
    "duration": 38,
    "start_time": "2021-11-09T17:54:24.005Z"
   },
   {
    "duration": 372,
    "start_time": "2021-11-09T17:54:24.046Z"
   },
   {
    "duration": 1288,
    "start_time": "2021-11-09T17:54:24.420Z"
   },
   {
    "duration": 25,
    "start_time": "2021-11-09T17:54:25.712Z"
   },
   {
    "duration": 23,
    "start_time": "2021-11-09T17:54:25.740Z"
   },
   {
    "duration": 790,
    "start_time": "2021-11-09T17:54:25.766Z"
   },
   {
    "duration": 127,
    "start_time": "2021-11-09T17:54:26.559Z"
   },
   {
    "duration": -633,
    "start_time": "2021-11-09T17:54:27.321Z"
   },
   {
    "duration": 32,
    "start_time": "2021-11-09T18:00:38.724Z"
   },
   {
    "duration": 431,
    "start_time": "2021-11-11T13:00:56.570Z"
   },
   {
    "duration": 674,
    "start_time": "2021-11-11T13:01:00.009Z"
   },
   {
    "duration": 61,
    "start_time": "2021-11-11T13:01:00.685Z"
   },
   {
    "duration": 9,
    "start_time": "2021-11-11T13:01:00.748Z"
   },
   {
    "duration": 31,
    "start_time": "2021-11-11T13:01:00.760Z"
   },
   {
    "duration": 14,
    "start_time": "2021-11-11T13:01:00.793Z"
   },
   {
    "duration": 27,
    "start_time": "2021-11-11T13:01:00.809Z"
   },
   {
    "duration": 24,
    "start_time": "2021-11-11T13:01:00.837Z"
   },
   {
    "duration": 821,
    "start_time": "2021-11-11T13:01:00.862Z"
   },
   {
    "duration": 10,
    "start_time": "2021-11-11T13:01:01.686Z"
   },
   {
    "duration": 227,
    "start_time": "2021-11-11T13:01:01.698Z"
   },
   {
    "duration": 17,
    "start_time": "2021-11-11T13:01:01.927Z"
   },
   {
    "duration": 23,
    "start_time": "2021-11-11T13:01:01.946Z"
   },
   {
    "duration": 34,
    "start_time": "2021-11-11T13:01:01.971Z"
   },
   {
    "duration": 24,
    "start_time": "2021-11-11T13:01:02.007Z"
   },
   {
    "duration": 120,
    "start_time": "2021-11-11T13:01:02.033Z"
   },
   {
    "duration": 61,
    "start_time": "2021-11-11T13:01:02.155Z"
   },
   {
    "duration": 17,
    "start_time": "2021-11-11T13:01:02.218Z"
   },
   {
    "duration": 269,
    "start_time": "2021-11-11T13:01:02.237Z"
   },
   {
    "duration": 13,
    "start_time": "2021-11-11T13:01:02.508Z"
   },
   {
    "duration": 45,
    "start_time": "2021-11-11T13:01:02.523Z"
   },
   {
    "duration": 246,
    "start_time": "2021-11-11T13:01:02.570Z"
   },
   {
    "duration": 1078,
    "start_time": "2021-11-11T13:01:02.818Z"
   },
   {
    "duration": 20,
    "start_time": "2021-11-11T13:01:03.898Z"
   },
   {
    "duration": 525,
    "start_time": "2021-11-11T13:01:03.919Z"
   },
   {
    "duration": -685,
    "start_time": "2021-11-11T13:01:05.132Z"
   },
   {
    "duration": -690,
    "start_time": "2021-11-11T13:01:05.138Z"
   },
   {
    "duration": -693,
    "start_time": "2021-11-11T13:01:05.143Z"
   },
   {
    "duration": 3,
    "start_time": "2021-11-11T13:01:42.223Z"
   },
   {
    "duration": 58,
    "start_time": "2021-11-11T13:01:42.232Z"
   },
   {
    "duration": 9,
    "start_time": "2021-11-11T13:01:42.292Z"
   },
   {
    "duration": 19,
    "start_time": "2021-11-11T13:01:42.307Z"
   },
   {
    "duration": 4,
    "start_time": "2021-11-11T13:01:42.329Z"
   },
   {
    "duration": 15,
    "start_time": "2021-11-11T13:01:42.335Z"
   },
   {
    "duration": 15,
    "start_time": "2021-11-11T13:01:42.352Z"
   },
   {
    "duration": 295,
    "start_time": "2021-11-11T13:01:42.369Z"
   },
   {
    "duration": 13,
    "start_time": "2021-11-11T13:01:42.666Z"
   },
   {
    "duration": 162,
    "start_time": "2021-11-11T13:01:42.683Z"
   },
   {
    "duration": 19,
    "start_time": "2021-11-11T13:01:42.848Z"
   },
   {
    "duration": 18,
    "start_time": "2021-11-11T13:01:42.869Z"
   },
   {
    "duration": 9,
    "start_time": "2021-11-11T13:01:42.907Z"
   },
   {
    "duration": 10,
    "start_time": "2021-11-11T13:01:42.919Z"
   },
   {
    "duration": 9,
    "start_time": "2021-11-11T13:01:42.931Z"
   },
   {
    "duration": 9,
    "start_time": "2021-11-11T13:01:42.942Z"
   },
   {
    "duration": 11,
    "start_time": "2021-11-11T13:01:42.953Z"
   },
   {
    "duration": 308,
    "start_time": "2021-11-11T13:01:42.966Z"
   },
   {
    "duration": 14,
    "start_time": "2021-11-11T13:01:43.277Z"
   },
   {
    "duration": 38,
    "start_time": "2021-11-11T13:01:43.293Z"
   },
   {
    "duration": 255,
    "start_time": "2021-11-11T13:01:43.334Z"
   },
   {
    "duration": 772,
    "start_time": "2021-11-11T13:01:43.591Z"
   },
   {
    "duration": 18,
    "start_time": "2021-11-11T13:01:44.365Z"
   },
   {
    "duration": 397,
    "start_time": "2021-11-11T13:01:44.385Z"
   },
   {
    "duration": -706,
    "start_time": "2021-11-11T13:01:45.490Z"
   },
   {
    "duration": -711,
    "start_time": "2021-11-11T13:01:45.496Z"
   },
   {
    "duration": -716,
    "start_time": "2021-11-11T13:01:45.502Z"
   },
   {
    "duration": 1282,
    "start_time": "2021-11-11T13:04:30.145Z"
   },
   {
    "duration": 120,
    "start_time": "2021-11-11T13:04:47.344Z"
   },
   {
    "duration": 392,
    "start_time": "2021-11-11T13:04:52.134Z"
   },
   {
    "duration": 20,
    "start_time": "2021-11-11T13:05:14.275Z"
   },
   {
    "duration": 359,
    "start_time": "2021-11-11T13:05:15.895Z"
   },
   {
    "duration": 15,
    "start_time": "2021-11-11T13:06:39.076Z"
   },
   {
    "duration": 23,
    "start_time": "2021-11-11T13:06:49.106Z"
   },
   {
    "duration": 241,
    "start_time": "2021-11-11T13:06:52.035Z"
   },
   {
    "duration": 3,
    "start_time": "2021-11-11T13:32:28.707Z"
   },
   {
    "duration": 58,
    "start_time": "2021-11-11T13:32:28.715Z"
   },
   {
    "duration": 10,
    "start_time": "2021-11-11T13:32:28.776Z"
   },
   {
    "duration": 35,
    "start_time": "2021-11-11T13:32:28.788Z"
   },
   {
    "duration": 4,
    "start_time": "2021-11-11T13:32:28.825Z"
   },
   {
    "duration": 16,
    "start_time": "2021-11-11T13:32:28.831Z"
   },
   {
    "duration": 17,
    "start_time": "2021-11-11T13:32:28.849Z"
   },
   {
    "duration": 231,
    "start_time": "2021-11-11T13:32:28.868Z"
   },
   {
    "duration": 15,
    "start_time": "2021-11-11T13:32:29.100Z"
   },
   {
    "duration": 153,
    "start_time": "2021-11-11T13:32:29.118Z"
   },
   {
    "duration": 17,
    "start_time": "2021-11-11T13:32:29.273Z"
   },
   {
    "duration": 28,
    "start_time": "2021-11-11T13:32:29.291Z"
   },
   {
    "duration": 7,
    "start_time": "2021-11-11T13:32:29.320Z"
   },
   {
    "duration": 10,
    "start_time": "2021-11-11T13:32:29.329Z"
   },
   {
    "duration": 17,
    "start_time": "2021-11-11T13:32:29.340Z"
   },
   {
    "duration": 9,
    "start_time": "2021-11-11T13:32:29.359Z"
   },
   {
    "duration": 14,
    "start_time": "2021-11-11T13:32:29.370Z"
   },
   {
    "duration": 255,
    "start_time": "2021-11-11T13:32:29.406Z"
   },
   {
    "duration": 13,
    "start_time": "2021-11-11T13:32:29.663Z"
   },
   {
    "duration": 36,
    "start_time": "2021-11-11T13:32:29.677Z"
   },
   {
    "duration": 236,
    "start_time": "2021-11-11T13:32:29.715Z"
   },
   {
    "duration": 1521,
    "start_time": "2021-11-11T13:32:29.952Z"
   },
   {
    "duration": 20,
    "start_time": "2021-11-11T13:32:31.475Z"
   },
   {
    "duration": 236,
    "start_time": "2021-11-11T13:32:31.496Z"
   },
   {
    "duration": 424,
    "start_time": "2021-11-11T13:32:31.734Z"
   },
   {
    "duration": -772,
    "start_time": "2021-11-11T13:32:32.932Z"
   },
   {
    "duration": -774,
    "start_time": "2021-11-11T13:32:32.935Z"
   },
   {
    "duration": -775,
    "start_time": "2021-11-11T13:32:32.937Z"
   },
   {
    "duration": 374,
    "start_time": "2021-11-11T13:36:33.175Z"
   },
   {
    "duration": 11,
    "start_time": "2021-11-11T13:36:49.908Z"
   },
   {
    "duration": 119,
    "start_time": "2021-11-11T13:54:41.699Z"
   },
   {
    "duration": 9340,
    "start_time": "2021-11-11T13:57:01.921Z"
   },
   {
    "duration": 472,
    "start_time": "2021-11-11T13:58:18.582Z"
   },
   {
    "duration": 110,
    "start_time": "2021-11-11T13:59:18.581Z"
   },
   {
    "duration": 23,
    "start_time": "2021-11-11T13:59:41.014Z"
   },
   {
    "duration": 12,
    "start_time": "2021-11-11T14:00:08.134Z"
   },
   {
    "duration": 20,
    "start_time": "2021-11-11T14:01:12.932Z"
   },
   {
    "duration": 363,
    "start_time": "2021-11-11T14:01:26.360Z"
   },
   {
    "duration": 28,
    "start_time": "2021-11-11T14:01:39.741Z"
   },
   {
    "duration": 3,
    "start_time": "2021-11-11T14:01:51.033Z"
   },
   {
    "duration": 83,
    "start_time": "2021-11-11T14:01:51.038Z"
   },
   {
    "duration": 12,
    "start_time": "2021-11-11T14:01:51.123Z"
   },
   {
    "duration": 33,
    "start_time": "2021-11-11T14:01:51.137Z"
   },
   {
    "duration": 6,
    "start_time": "2021-11-11T14:01:51.172Z"
   },
   {
    "duration": 38,
    "start_time": "2021-11-11T14:01:51.180Z"
   },
   {
    "duration": 27,
    "start_time": "2021-11-11T14:01:51.221Z"
   },
   {
    "duration": 247,
    "start_time": "2021-11-11T14:01:51.250Z"
   },
   {
    "duration": 15,
    "start_time": "2021-11-11T14:01:51.500Z"
   },
   {
    "duration": 153,
    "start_time": "2021-11-11T14:01:51.517Z"
   },
   {
    "duration": 17,
    "start_time": "2021-11-11T14:01:51.672Z"
   },
   {
    "duration": 26,
    "start_time": "2021-11-11T14:01:51.691Z"
   },
   {
    "duration": 6,
    "start_time": "2021-11-11T14:01:51.719Z"
   },
   {
    "duration": 16,
    "start_time": "2021-11-11T14:01:51.727Z"
   },
   {
    "duration": 15,
    "start_time": "2021-11-11T14:01:51.745Z"
   },
   {
    "duration": 14,
    "start_time": "2021-11-11T14:01:51.762Z"
   },
   {
    "duration": 14,
    "start_time": "2021-11-11T14:01:51.778Z"
   },
   {
    "duration": 269,
    "start_time": "2021-11-11T14:01:51.793Z"
   },
   {
    "duration": 13,
    "start_time": "2021-11-11T14:01:52.065Z"
   },
   {
    "duration": 44,
    "start_time": "2021-11-11T14:01:52.081Z"
   },
   {
    "duration": 230,
    "start_time": "2021-11-11T14:01:52.127Z"
   },
   {
    "duration": 1315,
    "start_time": "2021-11-11T14:01:52.359Z"
   },
   {
    "duration": 21,
    "start_time": "2021-11-11T14:01:53.676Z"
   },
   {
    "duration": 245,
    "start_time": "2021-11-11T14:01:53.698Z"
   },
   {
    "duration": 16,
    "start_time": "2021-11-11T14:01:53.945Z"
   },
   {
    "duration": 11,
    "start_time": "2021-11-11T14:01:53.963Z"
   },
   {
    "duration": 46,
    "start_time": "2021-11-11T14:01:53.976Z"
   },
   {
    "duration": 241,
    "start_time": "2021-11-11T14:01:54.024Z"
   },
   {
    "duration": 393,
    "start_time": "2021-11-11T14:02:56.302Z"
   },
   {
    "duration": 12,
    "start_time": "2021-11-11T14:03:15.293Z"
   },
   {
    "duration": 389,
    "start_time": "2021-11-11T14:03:24.622Z"
   },
   {
    "duration": 364,
    "start_time": "2021-11-11T14:04:09.710Z"
   },
   {
    "duration": 366,
    "start_time": "2021-11-11T14:04:48.742Z"
   },
   {
    "duration": 362,
    "start_time": "2021-11-11T14:04:59.491Z"
   },
   {
    "duration": 382,
    "start_time": "2021-11-11T14:08:02.505Z"
   },
   {
    "duration": 376,
    "start_time": "2021-11-11T14:13:09.595Z"
   },
   {
    "duration": 539,
    "start_time": "2021-11-11T14:15:49.032Z"
   },
   {
    "duration": 383,
    "start_time": "2021-11-11T14:16:43.805Z"
   },
   {
    "duration": 411,
    "start_time": "2021-11-11T14:17:23.578Z"
   },
   {
    "duration": 12,
    "start_time": "2021-11-11T14:17:34.038Z"
   },
   {
    "duration": 17,
    "start_time": "2021-11-11T14:17:41.906Z"
   },
   {
    "duration": 2,
    "start_time": "2021-11-11T14:18:22.736Z"
   },
   {
    "duration": 72,
    "start_time": "2021-11-11T14:18:22.741Z"
   },
   {
    "duration": 11,
    "start_time": "2021-11-11T14:18:22.816Z"
   },
   {
    "duration": 31,
    "start_time": "2021-11-11T14:18:22.829Z"
   },
   {
    "duration": 11,
    "start_time": "2021-11-11T14:18:22.861Z"
   },
   {
    "duration": 26,
    "start_time": "2021-11-11T14:18:22.874Z"
   },
   {
    "duration": 32,
    "start_time": "2021-11-11T14:18:22.902Z"
   },
   {
    "duration": 225,
    "start_time": "2021-11-11T14:18:22.937Z"
   },
   {
    "duration": 13,
    "start_time": "2021-11-11T14:18:23.165Z"
   },
   {
    "duration": 164,
    "start_time": "2021-11-11T14:18:23.180Z"
   },
   {
    "duration": 18,
    "start_time": "2021-11-11T14:18:23.346Z"
   },
   {
    "duration": 27,
    "start_time": "2021-11-11T14:18:23.366Z"
   },
   {
    "duration": 9,
    "start_time": "2021-11-11T14:18:23.405Z"
   },
   {
    "duration": 29,
    "start_time": "2021-11-11T14:18:23.416Z"
   },
   {
    "duration": 29,
    "start_time": "2021-11-11T14:18:23.448Z"
   },
   {
    "duration": 23,
    "start_time": "2021-11-11T14:18:23.480Z"
   },
   {
    "duration": 30,
    "start_time": "2021-11-11T14:18:23.504Z"
   },
   {
    "duration": 264,
    "start_time": "2021-11-11T14:18:23.535Z"
   },
   {
    "duration": 16,
    "start_time": "2021-11-11T14:18:23.801Z"
   },
   {
    "duration": 61,
    "start_time": "2021-11-11T14:18:23.819Z"
   },
   {
    "duration": 229,
    "start_time": "2021-11-11T14:18:23.882Z"
   },
   {
    "duration": 1191,
    "start_time": "2021-11-11T14:18:24.114Z"
   },
   {
    "duration": 20,
    "start_time": "2021-11-11T14:18:25.309Z"
   },
   {
    "duration": 258,
    "start_time": "2021-11-11T14:18:25.331Z"
   },
   {
    "duration": 16,
    "start_time": "2021-11-11T14:18:25.591Z"
   },
   {
    "duration": 11,
    "start_time": "2021-11-11T14:18:25.609Z"
   },
   {
    "duration": 18,
    "start_time": "2021-11-11T14:18:25.622Z"
   },
   {
    "duration": 346,
    "start_time": "2021-11-11T14:18:25.642Z"
   },
   {
    "duration": 3,
    "start_time": "2021-11-11T14:56:29.132Z"
   },
   {
    "duration": 83,
    "start_time": "2021-11-11T14:56:29.139Z"
   },
   {
    "duration": 10,
    "start_time": "2021-11-11T14:56:29.224Z"
   },
   {
    "duration": 54,
    "start_time": "2021-11-11T14:56:29.236Z"
   },
   {
    "duration": 15,
    "start_time": "2021-11-11T14:56:29.292Z"
   },
   {
    "duration": 34,
    "start_time": "2021-11-11T14:56:29.308Z"
   },
   {
    "duration": 38,
    "start_time": "2021-11-11T14:56:29.344Z"
   },
   {
    "duration": 226,
    "start_time": "2021-11-11T14:56:29.384Z"
   },
   {
    "duration": 11,
    "start_time": "2021-11-11T14:56:29.611Z"
   },
   {
    "duration": 166,
    "start_time": "2021-11-11T14:56:29.625Z"
   },
   {
    "duration": 17,
    "start_time": "2021-11-11T14:56:29.793Z"
   },
   {
    "duration": 36,
    "start_time": "2021-11-11T14:56:29.811Z"
   },
   {
    "duration": 18,
    "start_time": "2021-11-11T14:56:29.848Z"
   },
   {
    "duration": 33,
    "start_time": "2021-11-11T14:56:29.867Z"
   },
   {
    "duration": 27,
    "start_time": "2021-11-11T14:56:29.902Z"
   },
   {
    "duration": 17,
    "start_time": "2021-11-11T14:56:29.931Z"
   },
   {
    "duration": 39,
    "start_time": "2021-11-11T14:56:29.950Z"
   },
   {
    "duration": 269,
    "start_time": "2021-11-11T14:56:29.991Z"
   },
   {
    "duration": 14,
    "start_time": "2021-11-11T14:56:30.261Z"
   },
   {
    "duration": 55,
    "start_time": "2021-11-11T14:56:30.276Z"
   },
   {
    "duration": 235,
    "start_time": "2021-11-11T14:56:30.333Z"
   },
   {
    "duration": 1237,
    "start_time": "2021-11-11T14:56:30.570Z"
   },
   {
    "duration": 19,
    "start_time": "2021-11-11T14:56:31.809Z"
   },
   {
    "duration": 246,
    "start_time": "2021-11-11T14:56:31.830Z"
   },
   {
    "duration": 11,
    "start_time": "2021-11-11T14:56:32.078Z"
   },
   {
    "duration": 27,
    "start_time": "2021-11-11T14:56:32.090Z"
   },
   {
    "duration": 27,
    "start_time": "2021-11-11T14:56:32.119Z"
   },
   {
    "duration": 257,
    "start_time": "2021-11-11T14:56:32.149Z"
   },
   {
    "duration": 16,
    "start_time": "2021-11-11T14:56:54.681Z"
   },
   {
    "duration": 13,
    "start_time": "2021-11-11T14:58:36.333Z"
   },
   {
    "duration": 18,
    "start_time": "2021-11-11T14:58:41.824Z"
   },
   {
    "duration": 16,
    "start_time": "2021-11-11T14:59:02.190Z"
   },
   {
    "duration": 18,
    "start_time": "2021-11-11T14:59:31.981Z"
   },
   {
    "duration": 19,
    "start_time": "2021-11-11T15:00:12.021Z"
   },
   {
    "duration": 1959,
    "start_time": "2021-11-11T15:00:55.421Z"
   },
   {
    "duration": 2101,
    "start_time": "2021-11-11T15:01:50.239Z"
   },
   {
    "duration": 2079,
    "start_time": "2021-11-11T15:02:43.153Z"
   },
   {
    "duration": 2195,
    "start_time": "2021-11-11T15:03:03.760Z"
   },
   {
    "duration": 1950,
    "start_time": "2021-11-11T15:03:35.769Z"
   },
   {
    "duration": 2003,
    "start_time": "2021-11-11T15:05:58.641Z"
   },
   {
    "duration": 2460,
    "start_time": "2021-11-11T15:06:11.738Z"
   },
   {
    "duration": 2041,
    "start_time": "2021-11-11T15:06:26.932Z"
   },
   {
    "duration": 2987,
    "start_time": "2021-11-11T15:06:48.158Z"
   },
   {
    "duration": 3333,
    "start_time": "2021-11-11T15:07:08.408Z"
   },
   {
    "duration": 2572,
    "start_time": "2021-11-11T15:07:25.438Z"
   },
   {
    "duration": 2556,
    "start_time": "2021-11-11T15:07:36.238Z"
   },
   {
    "duration": 2426,
    "start_time": "2021-11-11T15:07:48.401Z"
   },
   {
    "duration": 2231,
    "start_time": "2021-11-11T15:07:59.918Z"
   },
   {
    "duration": 2399,
    "start_time": "2021-11-11T15:08:11.707Z"
   },
   {
    "duration": 2224,
    "start_time": "2021-11-11T15:08:38.811Z"
   },
   {
    "duration": 2258,
    "start_time": "2021-11-11T15:08:55.165Z"
   },
   {
    "duration": 2348,
    "start_time": "2021-11-11T15:09:09.845Z"
   },
   {
    "duration": 2335,
    "start_time": "2021-11-11T15:11:01.637Z"
   },
   {
    "duration": 2145,
    "start_time": "2021-11-11T15:11:30.161Z"
   },
   {
    "duration": 2291,
    "start_time": "2021-11-11T15:11:38.298Z"
   },
   {
    "duration": 2219,
    "start_time": "2021-11-11T15:11:45.891Z"
   },
   {
    "duration": 2116,
    "start_time": "2021-11-11T15:12:03.618Z"
   },
   {
    "duration": 2317,
    "start_time": "2021-11-11T15:12:20.221Z"
   },
   {
    "duration": 2146,
    "start_time": "2021-11-11T15:12:32.051Z"
   },
   {
    "duration": 2560,
    "start_time": "2021-11-11T15:12:43.977Z"
   },
   {
    "duration": 2445,
    "start_time": "2021-11-11T15:13:02.429Z"
   },
   {
    "duration": 2158,
    "start_time": "2021-11-11T15:13:53.786Z"
   },
   {
    "duration": 582,
    "start_time": "2021-11-11T15:49:18.907Z"
   },
   {
    "duration": 12,
    "start_time": "2021-11-11T15:49:40.553Z"
   },
   {
    "duration": 202,
    "start_time": "2021-11-11T15:49:43.154Z"
   },
   {
    "duration": 357,
    "start_time": "2021-11-11T15:50:20.662Z"
   },
   {
    "duration": 516,
    "start_time": "2021-11-11T15:50:43.561Z"
   },
   {
    "duration": 11,
    "start_time": "2021-11-11T15:50:51.044Z"
   },
   {
    "duration": 141,
    "start_time": "2021-11-11T15:50:52.975Z"
   },
   {
    "duration": 373,
    "start_time": "2021-11-11T15:53:00.184Z"
   },
   {
    "duration": 623,
    "start_time": "2021-11-11T15:53:17.642Z"
   },
   {
    "duration": 564,
    "start_time": "2021-11-11T15:54:14.864Z"
   },
   {
    "duration": 218,
    "start_time": "2021-11-11T15:54:51.447Z"
   },
   {
    "duration": 224,
    "start_time": "2021-11-11T15:55:06.403Z"
   },
   {
    "duration": 222,
    "start_time": "2021-11-11T15:55:19.911Z"
   },
   {
    "duration": 220,
    "start_time": "2021-11-11T15:55:25.274Z"
   },
   {
    "duration": 227,
    "start_time": "2021-11-11T15:55:31.497Z"
   },
   {
    "duration": 229,
    "start_time": "2021-11-11T15:55:36.958Z"
   },
   {
    "duration": 328,
    "start_time": "2021-11-11T15:55:42.994Z"
   },
   {
    "duration": 224,
    "start_time": "2021-11-11T15:55:48.385Z"
   },
   {
    "duration": 224,
    "start_time": "2021-11-11T15:55:58.834Z"
   },
   {
    "duration": 13,
    "start_time": "2021-11-11T16:12:52.088Z"
   },
   {
    "duration": 11,
    "start_time": "2021-11-11T16:13:07.628Z"
   },
   {
    "duration": 21,
    "start_time": "2021-11-11T16:13:12.388Z"
   },
   {
    "duration": 3,
    "start_time": "2021-11-11T16:23:34.462Z"
   },
   {
    "duration": 71,
    "start_time": "2021-11-11T16:23:34.467Z"
   },
   {
    "duration": 9,
    "start_time": "2021-11-11T16:23:34.541Z"
   },
   {
    "duration": 35,
    "start_time": "2021-11-11T16:23:34.552Z"
   },
   {
    "duration": 5,
    "start_time": "2021-11-11T16:23:34.589Z"
   },
   {
    "duration": 21,
    "start_time": "2021-11-11T16:23:34.595Z"
   },
   {
    "duration": 16,
    "start_time": "2021-11-11T16:23:34.618Z"
   },
   {
    "duration": 240,
    "start_time": "2021-11-11T16:23:34.636Z"
   },
   {
    "duration": 10,
    "start_time": "2021-11-11T16:23:34.880Z"
   },
   {
    "duration": 152,
    "start_time": "2021-11-11T16:23:34.892Z"
   },
   {
    "duration": 16,
    "start_time": "2021-11-11T16:23:35.046Z"
   },
   {
    "duration": 15,
    "start_time": "2021-11-11T16:23:35.064Z"
   },
   {
    "duration": 29,
    "start_time": "2021-11-11T16:23:35.080Z"
   },
   {
    "duration": 16,
    "start_time": "2021-11-11T16:23:35.111Z"
   },
   {
    "duration": 21,
    "start_time": "2021-11-11T16:23:35.129Z"
   },
   {
    "duration": 29,
    "start_time": "2021-11-11T16:23:35.151Z"
   },
   {
    "duration": 31,
    "start_time": "2021-11-11T16:23:35.182Z"
   },
   {
    "duration": 229,
    "start_time": "2021-11-11T16:23:35.215Z"
   },
   {
    "duration": 12,
    "start_time": "2021-11-11T16:23:35.446Z"
   },
   {
    "duration": 34,
    "start_time": "2021-11-11T16:23:35.460Z"
   },
   {
    "duration": 248,
    "start_time": "2021-11-11T16:23:35.496Z"
   },
   {
    "duration": 1561,
    "start_time": "2021-11-11T16:23:35.746Z"
   },
   {
    "duration": 20,
    "start_time": "2021-11-11T16:23:37.309Z"
   },
   {
    "duration": 254,
    "start_time": "2021-11-11T16:23:37.331Z"
   },
   {
    "duration": 20,
    "start_time": "2021-11-11T16:23:37.587Z"
   },
   {
    "duration": 35,
    "start_time": "2021-11-11T16:23:37.609Z"
   },
   {
    "duration": 2225,
    "start_time": "2021-11-11T16:23:37.648Z"
   },
   {
    "duration": 618,
    "start_time": "2021-11-12T14:19:16.487Z"
   },
   {
    "duration": 54,
    "start_time": "2021-11-12T14:19:17.107Z"
   },
   {
    "duration": 7,
    "start_time": "2021-11-12T14:19:17.163Z"
   },
   {
    "duration": 24,
    "start_time": "2021-11-12T14:19:17.172Z"
   },
   {
    "duration": 4,
    "start_time": "2021-11-12T14:19:17.197Z"
   },
   {
    "duration": 14,
    "start_time": "2021-11-12T14:19:17.206Z"
   },
   {
    "duration": 14,
    "start_time": "2021-11-12T14:19:17.222Z"
   },
   {
    "duration": 699,
    "start_time": "2021-11-12T14:19:17.237Z"
   },
   {
    "duration": 9,
    "start_time": "2021-11-12T14:19:17.939Z"
   },
   {
    "duration": 138,
    "start_time": "2021-11-12T14:19:17.950Z"
   },
   {
    "duration": 18,
    "start_time": "2021-11-12T14:19:18.090Z"
   },
   {
    "duration": 12,
    "start_time": "2021-11-12T14:19:18.110Z"
   },
   {
    "duration": 9,
    "start_time": "2021-11-12T14:19:18.124Z"
   },
   {
    "duration": 21,
    "start_time": "2021-11-12T14:19:18.135Z"
   },
   {
    "duration": 15,
    "start_time": "2021-11-12T14:19:18.157Z"
   },
   {
    "duration": 8,
    "start_time": "2021-11-12T14:19:18.174Z"
   },
   {
    "duration": 10,
    "start_time": "2021-11-12T14:19:18.183Z"
   },
   {
    "duration": 199,
    "start_time": "2021-11-12T14:19:18.194Z"
   },
   {
    "duration": 20,
    "start_time": "2021-11-12T14:19:18.395Z"
   },
   {
    "duration": 27,
    "start_time": "2021-11-12T14:19:18.416Z"
   },
   {
    "duration": 203,
    "start_time": "2021-11-12T14:19:18.445Z"
   },
   {
    "duration": 1370,
    "start_time": "2021-11-12T14:19:18.649Z"
   },
   {
    "duration": 16,
    "start_time": "2021-11-12T14:19:20.021Z"
   },
   {
    "duration": 217,
    "start_time": "2021-11-12T14:19:20.039Z"
   },
   {
    "duration": 10,
    "start_time": "2021-11-12T14:19:20.259Z"
   },
   {
    "duration": 18,
    "start_time": "2021-11-12T14:19:20.271Z"
   },
   {
    "duration": 1855,
    "start_time": "2021-11-12T14:19:20.307Z"
   },
   {
    "duration": 7,
    "start_time": "2021-11-12T14:21:30.803Z"
   },
   {
    "duration": 11,
    "start_time": "2021-11-12T14:22:33.719Z"
   },
   {
    "duration": 467,
    "start_time": "2021-11-12T14:22:41.941Z"
   },
   {
    "duration": 16,
    "start_time": "2021-11-12T14:23:15.800Z"
   },
   {
    "duration": 41,
    "start_time": "2021-11-12T14:23:59.616Z"
   },
   {
    "duration": 28,
    "start_time": "2021-11-12T14:25:04.211Z"
   },
   {
    "duration": 9,
    "start_time": "2021-11-12T14:26:31.351Z"
   },
   {
    "duration": 7,
    "start_time": "2021-11-12T14:27:25.601Z"
   },
   {
    "duration": 17,
    "start_time": "2021-11-12T14:29:11.811Z"
   },
   {
    "duration": 356,
    "start_time": "2021-11-12T14:31:08.218Z"
   },
   {
    "duration": 365,
    "start_time": "2021-11-12T14:31:24.050Z"
   },
   {
    "duration": 5,
    "start_time": "2021-11-12T14:31:35.270Z"
   },
   {
    "duration": 5,
    "start_time": "2021-11-12T14:31:37.470Z"
   },
   {
    "duration": 4,
    "start_time": "2021-11-12T14:31:59.750Z"
   },
   {
    "duration": 6,
    "start_time": "2021-11-12T14:32:30.959Z"
   },
   {
    "duration": 6,
    "start_time": "2021-11-12T14:35:25.222Z"
   },
   {
    "duration": 8,
    "start_time": "2021-11-12T14:36:10.492Z"
   },
   {
    "duration": 8,
    "start_time": "2021-11-12T14:37:38.384Z"
   },
   {
    "duration": 12,
    "start_time": "2021-11-12T14:37:47.804Z"
   },
   {
    "duration": 14,
    "start_time": "2021-11-12T14:38:55.490Z"
   },
   {
    "duration": 18,
    "start_time": "2021-11-12T14:39:30.440Z"
   },
   {
    "duration": 6,
    "start_time": "2021-11-12T14:40:08.818Z"
   },
   {
    "duration": 22,
    "start_time": "2021-11-12T14:41:07.392Z"
   },
   {
    "duration": 358,
    "start_time": "2021-11-12T15:01:13.669Z"
   },
   {
    "duration": 14,
    "start_time": "2021-11-12T15:01:20.834Z"
   },
   {
    "duration": 383,
    "start_time": "2021-11-12T15:02:48.500Z"
   },
   {
    "duration": 6,
    "start_time": "2021-11-12T15:03:04.527Z"
   },
   {
    "duration": 9,
    "start_time": "2021-11-12T15:03:17.166Z"
   },
   {
    "duration": 16,
    "start_time": "2021-11-12T15:03:24.897Z"
   },
   {
    "duration": 16,
    "start_time": "2021-11-12T15:03:27.296Z"
   },
   {
    "duration": 2,
    "start_time": "2021-11-12T15:06:20.994Z"
   },
   {
    "duration": 56,
    "start_time": "2021-11-12T15:06:21.009Z"
   },
   {
    "duration": 7,
    "start_time": "2021-11-12T15:06:21.067Z"
   },
   {
    "duration": 26,
    "start_time": "2021-11-12T15:06:21.076Z"
   },
   {
    "duration": 4,
    "start_time": "2021-11-12T15:06:21.104Z"
   },
   {
    "duration": 12,
    "start_time": "2021-11-12T15:06:21.109Z"
   },
   {
    "duration": 29,
    "start_time": "2021-11-12T15:06:21.123Z"
   },
   {
    "duration": 191,
    "start_time": "2021-11-12T15:06:21.153Z"
   },
   {
    "duration": 10,
    "start_time": "2021-11-12T15:06:21.346Z"
   },
   {
    "duration": 134,
    "start_time": "2021-11-12T15:06:21.358Z"
   },
   {
    "duration": 19,
    "start_time": "2021-11-12T15:06:21.494Z"
   },
   {
    "duration": 12,
    "start_time": "2021-11-12T15:06:21.514Z"
   },
   {
    "duration": 7,
    "start_time": "2021-11-12T15:06:21.527Z"
   },
   {
    "duration": 11,
    "start_time": "2021-11-12T15:06:21.535Z"
   },
   {
    "duration": 8,
    "start_time": "2021-11-12T15:06:21.547Z"
   },
   {
    "duration": 12,
    "start_time": "2021-11-12T15:06:21.556Z"
   },
   {
    "duration": 10,
    "start_time": "2021-11-12T15:06:21.569Z"
   },
   {
    "duration": 210,
    "start_time": "2021-11-12T15:06:21.581Z"
   },
   {
    "duration": 16,
    "start_time": "2021-11-12T15:06:21.793Z"
   },
   {
    "duration": 21,
    "start_time": "2021-11-12T15:06:21.810Z"
   },
   {
    "duration": 206,
    "start_time": "2021-11-12T15:06:21.832Z"
   },
   {
    "duration": 1281,
    "start_time": "2021-11-12T15:06:22.040Z"
   },
   {
    "duration": 17,
    "start_time": "2021-11-12T15:06:23.322Z"
   },
   {
    "duration": 222,
    "start_time": "2021-11-12T15:06:23.340Z"
   },
   {
    "duration": 9,
    "start_time": "2021-11-12T15:06:23.563Z"
   },
   {
    "duration": 37,
    "start_time": "2021-11-12T15:06:23.574Z"
   },
   {
    "duration": 2024,
    "start_time": "2021-11-12T15:06:23.613Z"
   },
   {
    "duration": 14,
    "start_time": "2021-11-12T15:06:25.640Z"
   },
   {
    "duration": 19,
    "start_time": "2021-11-12T15:06:25.656Z"
   },
   {
    "duration": 14,
    "start_time": "2021-11-12T15:07:05.397Z"
   },
   {
    "duration": 14,
    "start_time": "2021-11-12T15:08:25.465Z"
   },
   {
    "duration": 14,
    "start_time": "2021-11-12T15:08:35.857Z"
   },
   {
    "duration": 12,
    "start_time": "2021-11-12T15:10:03.321Z"
   },
   {
    "duration": 13,
    "start_time": "2021-11-12T15:10:39.467Z"
   },
   {
    "duration": 16,
    "start_time": "2021-11-12T15:10:45.298Z"
   },
   {
    "duration": 386,
    "start_time": "2021-11-12T15:11:35.008Z"
   },
   {
    "duration": 7,
    "start_time": "2021-11-12T15:22:19.267Z"
   },
   {
    "duration": 10,
    "start_time": "2021-11-12T15:22:49.826Z"
   },
   {
    "duration": 4,
    "start_time": "2021-11-12T15:24:51.537Z"
   },
   {
    "duration": 16,
    "start_time": "2021-11-12T15:25:27.349Z"
   },
   {
    "duration": 15,
    "start_time": "2021-11-12T15:25:54.258Z"
   },
   {
    "duration": 16,
    "start_time": "2021-11-12T15:26:03.321Z"
   },
   {
    "duration": 384,
    "start_time": "2021-11-12T15:27:00.061Z"
   },
   {
    "duration": 9,
    "start_time": "2021-11-12T15:27:46.884Z"
   },
   {
    "duration": 6,
    "start_time": "2021-11-12T15:28:01.664Z"
   },
   {
    "duration": 8,
    "start_time": "2021-11-12T15:28:07.954Z"
   },
   {
    "duration": 3,
    "start_time": "2021-11-12T15:28:50.736Z"
   },
   {
    "duration": 54,
    "start_time": "2021-11-12T15:28:50.741Z"
   },
   {
    "duration": 8,
    "start_time": "2021-11-12T15:28:50.797Z"
   },
   {
    "duration": 20,
    "start_time": "2021-11-12T15:28:50.807Z"
   },
   {
    "duration": 13,
    "start_time": "2021-11-12T15:28:50.829Z"
   },
   {
    "duration": 27,
    "start_time": "2021-11-12T15:28:50.844Z"
   },
   {
    "duration": 30,
    "start_time": "2021-11-12T15:28:50.873Z"
   },
   {
    "duration": 213,
    "start_time": "2021-11-12T15:28:50.906Z"
   },
   {
    "duration": 10,
    "start_time": "2021-11-12T15:28:51.121Z"
   },
   {
    "duration": 148,
    "start_time": "2021-11-12T15:28:51.132Z"
   },
   {
    "duration": 14,
    "start_time": "2021-11-12T15:28:51.282Z"
   },
   {
    "duration": 13,
    "start_time": "2021-11-12T15:28:51.306Z"
   },
   {
    "duration": 6,
    "start_time": "2021-11-12T15:28:51.321Z"
   },
   {
    "duration": 26,
    "start_time": "2021-11-12T15:28:51.329Z"
   },
   {
    "duration": 23,
    "start_time": "2021-11-12T15:28:51.356Z"
   },
   {
    "duration": 12,
    "start_time": "2021-11-12T15:28:51.381Z"
   },
   {
    "duration": 16,
    "start_time": "2021-11-12T15:28:51.394Z"
   },
   {
    "duration": 218,
    "start_time": "2021-11-12T15:28:51.412Z"
   },
   {
    "duration": 12,
    "start_time": "2021-11-12T15:28:51.632Z"
   },
   {
    "duration": 29,
    "start_time": "2021-11-12T15:28:51.645Z"
   },
   {
    "duration": 209,
    "start_time": "2021-11-12T15:28:51.676Z"
   },
   {
    "duration": 1126,
    "start_time": "2021-11-12T15:28:51.887Z"
   },
   {
    "duration": 17,
    "start_time": "2021-11-12T15:28:53.016Z"
   },
   {
    "duration": 221,
    "start_time": "2021-11-12T15:28:53.035Z"
   },
   {
    "duration": 10,
    "start_time": "2021-11-12T15:28:53.257Z"
   },
   {
    "duration": 31,
    "start_time": "2021-11-12T15:28:53.269Z"
   },
   {
    "duration": 2004,
    "start_time": "2021-11-12T15:28:53.302Z"
   },
   {
    "duration": 15,
    "start_time": "2021-11-12T15:28:55.308Z"
   },
   {
    "duration": 416,
    "start_time": "2021-11-12T15:28:55.325Z"
   },
   {
    "duration": 7,
    "start_time": "2021-11-12T15:29:21.094Z"
   },
   {
    "duration": 115,
    "start_time": "2021-11-12T15:29:21.645Z"
   },
   {
    "duration": 2,
    "start_time": "2021-11-12T15:29:27.744Z"
   },
   {
    "duration": 8,
    "start_time": "2021-11-12T15:29:29.705Z"
   },
   {
    "duration": 7,
    "start_time": "2021-11-12T15:30:26.646Z"
   },
   {
    "duration": 7,
    "start_time": "2021-11-12T15:30:41.663Z"
   },
   {
    "duration": 6,
    "start_time": "2021-11-12T15:30:54.587Z"
   },
   {
    "duration": 2,
    "start_time": "2021-11-12T15:31:05.485Z"
   },
   {
    "duration": 2,
    "start_time": "2021-11-12T15:31:10.724Z"
   },
   {
    "duration": 49,
    "start_time": "2021-11-12T15:31:10.754Z"
   },
   {
    "duration": 8,
    "start_time": "2021-11-12T15:31:10.805Z"
   },
   {
    "duration": 50,
    "start_time": "2021-11-12T15:31:10.815Z"
   },
   {
    "duration": 5,
    "start_time": "2021-11-12T15:31:10.867Z"
   },
   {
    "duration": 10,
    "start_time": "2021-11-12T15:31:10.882Z"
   },
   {
    "duration": 9,
    "start_time": "2021-11-12T15:31:10.905Z"
   },
   {
    "duration": 203,
    "start_time": "2021-11-12T15:31:10.923Z"
   },
   {
    "duration": 13,
    "start_time": "2021-11-12T15:31:11.128Z"
   },
   {
    "duration": 163,
    "start_time": "2021-11-12T15:31:11.143Z"
   },
   {
    "duration": 14,
    "start_time": "2021-11-12T15:31:11.308Z"
   },
   {
    "duration": 27,
    "start_time": "2021-11-12T15:31:11.324Z"
   },
   {
    "duration": 9,
    "start_time": "2021-11-12T15:31:11.352Z"
   },
   {
    "duration": 19,
    "start_time": "2021-11-12T15:31:11.362Z"
   },
   {
    "duration": 21,
    "start_time": "2021-11-12T15:31:11.383Z"
   },
   {
    "duration": 14,
    "start_time": "2021-11-12T15:31:11.406Z"
   },
   {
    "duration": 13,
    "start_time": "2021-11-12T15:31:11.421Z"
   },
   {
    "duration": 199,
    "start_time": "2021-11-12T15:31:11.435Z"
   },
   {
    "duration": 10,
    "start_time": "2021-11-12T15:31:11.635Z"
   },
   {
    "duration": 35,
    "start_time": "2021-11-12T15:31:11.646Z"
   },
   {
    "duration": 196,
    "start_time": "2021-11-12T15:31:11.683Z"
   },
   {
    "duration": 751,
    "start_time": "2021-11-12T15:31:11.881Z"
   },
   {
    "duration": 16,
    "start_time": "2021-11-12T15:31:12.633Z"
   },
   {
    "duration": 215,
    "start_time": "2021-11-12T15:31:12.651Z"
   },
   {
    "duration": 10,
    "start_time": "2021-11-12T15:31:12.868Z"
   },
   {
    "duration": 28,
    "start_time": "2021-11-12T15:31:12.879Z"
   },
   {
    "duration": 1979,
    "start_time": "2021-11-12T15:31:12.909Z"
   },
   {
    "duration": 17,
    "start_time": "2021-11-12T15:31:14.889Z"
   },
   {
    "duration": 5,
    "start_time": "2021-11-12T15:31:14.908Z"
   },
   {
    "duration": 9,
    "start_time": "2021-11-12T15:32:23.738Z"
   },
   {
    "duration": 6,
    "start_time": "2021-11-12T15:43:08.300Z"
   },
   {
    "duration": 4,
    "start_time": "2021-11-12T15:46:04.031Z"
   },
   {
    "duration": 10,
    "start_time": "2021-11-12T15:47:04.552Z"
   },
   {
    "duration": 350,
    "start_time": "2021-11-12T15:47:56.535Z"
   },
   {
    "duration": 737,
    "start_time": "2021-11-12T15:48:07.962Z"
   },
   {
    "duration": 4,
    "start_time": "2021-11-12T15:48:21.502Z"
   },
   {
    "duration": 359,
    "start_time": "2021-11-12T15:48:59.335Z"
   },
   {
    "duration": 2,
    "start_time": "2021-11-12T15:49:33.614Z"
   },
   {
    "duration": 4,
    "start_time": "2021-11-12T15:49:38.174Z"
   },
   {
    "duration": 17,
    "start_time": "2021-11-12T15:50:54.884Z"
   },
   {
    "duration": 12,
    "start_time": "2021-11-12T16:03:18.856Z"
   },
   {
    "duration": 108,
    "start_time": "2021-11-12T16:04:48.006Z"
   },
   {
    "duration": 16,
    "start_time": "2021-11-12T16:05:08.785Z"
   },
   {
    "duration": 15,
    "start_time": "2021-11-12T16:06:17.213Z"
   },
   {
    "duration": 17,
    "start_time": "2021-11-12T16:07:46.973Z"
   },
   {
    "duration": 16,
    "start_time": "2021-11-12T16:07:53.653Z"
   },
   {
    "duration": 31,
    "start_time": "2021-11-12T16:08:01.183Z"
   },
   {
    "duration": 23,
    "start_time": "2021-11-12T16:08:05.982Z"
   },
   {
    "duration": 46,
    "start_time": "2021-11-12T16:08:32.693Z"
   },
   {
    "duration": 32,
    "start_time": "2021-11-12T16:09:04.008Z"
   },
   {
    "duration": 47,
    "start_time": "2021-11-12T16:09:36.563Z"
   },
   {
    "duration": 385,
    "start_time": "2021-11-12T16:39:54.103Z"
   },
   {
    "duration": 637,
    "start_time": "2021-11-12T16:40:42.034Z"
   },
   {
    "duration": 614,
    "start_time": "2021-11-12T16:43:50.902Z"
   },
   {
    "duration": 632,
    "start_time": "2021-11-12T16:45:05.621Z"
   },
   {
    "duration": 618,
    "start_time": "2021-11-12T16:45:37.581Z"
   },
   {
    "duration": 677,
    "start_time": "2021-11-12T16:45:45.913Z"
   },
   {
    "duration": 753,
    "start_time": "2021-11-12T16:46:39.532Z"
   },
   {
    "duration": 379,
    "start_time": "2021-11-12T16:46:55.982Z"
   },
   {
    "duration": 358,
    "start_time": "2021-11-12T16:47:26.060Z"
   },
   {
    "duration": 400,
    "start_time": "2021-11-12T16:48:30.913Z"
   },
   {
    "duration": 648,
    "start_time": "2021-11-12T16:52:02.563Z"
   },
   {
    "duration": 677,
    "start_time": "2021-11-12T16:52:23.581Z"
   },
   {
    "duration": 660,
    "start_time": "2021-11-12T16:52:30.811Z"
   },
   {
    "duration": 667,
    "start_time": "2021-11-12T16:52:49.081Z"
   },
   {
    "duration": 737,
    "start_time": "2021-11-12T16:53:11.461Z"
   },
   {
    "duration": 651,
    "start_time": "2021-11-12T16:53:23.762Z"
   },
   {
    "duration": 752,
    "start_time": "2021-11-12T16:53:49.262Z"
   },
   {
    "duration": 711,
    "start_time": "2021-11-12T16:54:39.532Z"
   },
   {
    "duration": 32,
    "start_time": "2021-11-12T16:55:29.936Z"
   },
   {
    "duration": 760,
    "start_time": "2021-11-12T16:55:34.382Z"
   },
   {
    "duration": 34,
    "start_time": "2021-11-12T16:55:44.062Z"
   },
   {
    "duration": 747,
    "start_time": "2021-11-12T16:55:46.632Z"
   },
   {
    "duration": 871,
    "start_time": "2021-11-12T16:55:51.512Z"
   },
   {
    "duration": 764,
    "start_time": "2021-11-12T16:55:56.222Z"
   },
   {
    "duration": 595,
    "start_time": "2021-11-12T21:37:47.724Z"
   },
   {
    "duration": 60,
    "start_time": "2021-11-12T21:37:48.321Z"
   },
   {
    "duration": 9,
    "start_time": "2021-11-12T21:37:48.384Z"
   },
   {
    "duration": 23,
    "start_time": "2021-11-12T21:37:48.395Z"
   },
   {
    "duration": 6,
    "start_time": "2021-11-12T21:37:48.420Z"
   },
   {
    "duration": 22,
    "start_time": "2021-11-12T21:37:48.427Z"
   },
   {
    "duration": 13,
    "start_time": "2021-11-12T21:37:48.465Z"
   },
   {
    "duration": 744,
    "start_time": "2021-11-12T21:37:48.480Z"
   },
   {
    "duration": 11,
    "start_time": "2021-11-12T21:37:49.226Z"
   },
   {
    "duration": 140,
    "start_time": "2021-11-12T21:37:49.239Z"
   },
   {
    "duration": 17,
    "start_time": "2021-11-12T21:37:49.382Z"
   },
   {
    "duration": 13,
    "start_time": "2021-11-12T21:37:49.400Z"
   },
   {
    "duration": 11,
    "start_time": "2021-11-12T21:37:49.415Z"
   },
   {
    "duration": 18,
    "start_time": "2021-11-12T21:37:49.428Z"
   },
   {
    "duration": 17,
    "start_time": "2021-11-12T21:37:49.447Z"
   },
   {
    "duration": 10,
    "start_time": "2021-11-12T21:37:49.465Z"
   },
   {
    "duration": 12,
    "start_time": "2021-11-12T21:37:49.476Z"
   },
   {
    "duration": 222,
    "start_time": "2021-11-12T21:37:49.489Z"
   },
   {
    "duration": 12,
    "start_time": "2021-11-12T21:37:49.713Z"
   },
   {
    "duration": 37,
    "start_time": "2021-11-12T21:37:49.727Z"
   },
   {
    "duration": 211,
    "start_time": "2021-11-12T21:37:49.766Z"
   },
   {
    "duration": 973,
    "start_time": "2021-11-12T21:37:49.978Z"
   },
   {
    "duration": 19,
    "start_time": "2021-11-12T21:37:50.953Z"
   },
   {
    "duration": 217,
    "start_time": "2021-11-12T21:37:50.973Z"
   },
   {
    "duration": 10,
    "start_time": "2021-11-12T21:37:51.192Z"
   },
   {
    "duration": 23,
    "start_time": "2021-11-12T21:37:51.204Z"
   },
   {
    "duration": 1979,
    "start_time": "2021-11-12T21:37:51.230Z"
   },
   {
    "duration": 53,
    "start_time": "2021-11-12T21:37:53.211Z"
   },
   {
    "duration": 791,
    "start_time": "2021-11-12T21:37:53.266Z"
   },
   {
    "duration": 795,
    "start_time": "2021-11-12T21:38:08.134Z"
   },
   {
    "duration": 956,
    "start_time": "2021-11-12T21:39:03.435Z"
   },
   {
    "duration": 903,
    "start_time": "2021-11-12T21:39:12.749Z"
   },
   {
    "duration": 802,
    "start_time": "2021-11-12T21:39:43.002Z"
   },
   {
    "duration": 814,
    "start_time": "2021-11-12T21:41:12.801Z"
   },
   {
    "duration": 805,
    "start_time": "2021-11-12T21:44:39.061Z"
   },
   {
    "duration": 835,
    "start_time": "2021-11-12T21:45:51.541Z"
   },
   {
    "duration": 952,
    "start_time": "2021-11-12T21:46:08.025Z"
   },
   {
    "duration": 32,
    "start_time": "2021-11-12T21:47:05.360Z"
   },
   {
    "duration": 4,
    "start_time": "2021-11-13T13:38:57.356Z"
   },
   {
    "duration": 63,
    "start_time": "2021-11-13T13:38:57.366Z"
   },
   {
    "duration": 11,
    "start_time": "2021-11-13T13:38:57.431Z"
   },
   {
    "duration": 41,
    "start_time": "2021-11-13T13:38:57.445Z"
   },
   {
    "duration": 6,
    "start_time": "2021-11-13T13:38:57.489Z"
   },
   {
    "duration": 21,
    "start_time": "2021-11-13T13:38:57.497Z"
   },
   {
    "duration": 47,
    "start_time": "2021-11-13T13:38:57.520Z"
   },
   {
    "duration": 370,
    "start_time": "2021-11-13T13:38:57.569Z"
   },
   {
    "duration": 26,
    "start_time": "2021-11-13T13:38:57.942Z"
   },
   {
    "duration": 233,
    "start_time": "2021-11-13T13:38:57.971Z"
   },
   {
    "duration": 24,
    "start_time": "2021-11-13T13:38:58.206Z"
   },
   {
    "duration": 49,
    "start_time": "2021-11-13T13:38:58.233Z"
   },
   {
    "duration": 11,
    "start_time": "2021-11-13T13:38:58.285Z"
   },
   {
    "duration": 18,
    "start_time": "2021-11-13T13:38:58.299Z"
   },
   {
    "duration": 46,
    "start_time": "2021-11-13T13:38:58.321Z"
   },
   {
    "duration": 13,
    "start_time": "2021-11-13T13:38:58.369Z"
   },
   {
    "duration": 11,
    "start_time": "2021-11-13T13:38:58.385Z"
   },
   {
    "duration": 396,
    "start_time": "2021-11-13T13:38:58.398Z"
   },
   {
    "duration": 17,
    "start_time": "2021-11-13T13:38:58.796Z"
   },
   {
    "duration": 57,
    "start_time": "2021-11-13T13:38:58.816Z"
   },
   {
    "duration": 380,
    "start_time": "2021-11-13T13:38:58.876Z"
   },
   {
    "duration": 817,
    "start_time": "2021-11-13T13:38:59.259Z"
   },
   {
    "duration": 32,
    "start_time": "2021-11-13T13:39:00.079Z"
   },
   {
    "duration": 413,
    "start_time": "2021-11-13T13:39:00.117Z"
   },
   {
    "duration": 15,
    "start_time": "2021-11-13T13:39:00.532Z"
   },
   {
    "duration": 45,
    "start_time": "2021-11-13T13:39:00.549Z"
   },
   {
    "duration": 3309,
    "start_time": "2021-11-13T13:39:00.597Z"
   },
   {
    "duration": 32,
    "start_time": "2021-11-13T13:39:03.908Z"
   },
   {
    "duration": 873,
    "start_time": "2021-11-13T13:39:03.942Z"
   },
   {
    "duration": 277,
    "start_time": "2021-11-13T13:41:11.458Z"
   },
   {
    "duration": 61,
    "start_time": "2021-11-13T13:41:53.271Z"
   },
   {
    "duration": 1439,
    "start_time": "2021-11-13T13:41:58.508Z"
   },
   {
    "duration": 4,
    "start_time": "2021-11-13T14:00:43.090Z"
   },
   {
    "duration": 75,
    "start_time": "2021-11-13T14:00:43.129Z"
   },
   {
    "duration": 10,
    "start_time": "2021-11-13T14:00:43.207Z"
   },
   {
    "duration": 26,
    "start_time": "2021-11-13T14:00:43.220Z"
   },
   {
    "duration": 7,
    "start_time": "2021-11-13T14:00:43.267Z"
   },
   {
    "duration": 15,
    "start_time": "2021-11-13T14:00:45.575Z"
   },
   {
    "duration": 24,
    "start_time": "2021-11-13T14:00:45.593Z"
   },
   {
    "duration": 356,
    "start_time": "2021-11-13T14:00:45.665Z"
   },
   {
    "duration": 15,
    "start_time": "2021-11-13T14:00:46.024Z"
   },
   {
    "duration": 769,
    "start_time": "2021-11-13T17:27:42.169Z"
   },
   {
    "duration": 88,
    "start_time": "2021-11-13T17:27:42.941Z"
   },
   {
    "duration": 21,
    "start_time": "2021-11-13T17:27:43.033Z"
   },
   {
    "duration": 62,
    "start_time": "2021-11-13T17:27:43.058Z"
   },
   {
    "duration": 7,
    "start_time": "2021-11-13T17:27:43.123Z"
   },
   {
    "duration": 17,
    "start_time": "2021-11-13T17:27:43.133Z"
   },
   {
    "duration": 20,
    "start_time": "2021-11-13T17:27:43.152Z"
   },
   {
    "duration": 1134,
    "start_time": "2021-11-13T17:27:43.175Z"
   },
   {
    "duration": 15,
    "start_time": "2021-11-13T17:27:44.313Z"
   },
   {
    "duration": 238,
    "start_time": "2021-11-13T17:27:44.331Z"
   },
   {
    "duration": 27,
    "start_time": "2021-11-13T17:27:44.572Z"
   },
   {
    "duration": 19,
    "start_time": "2021-11-13T17:27:44.601Z"
   },
   {
    "duration": 10,
    "start_time": "2021-11-13T17:27:44.622Z"
   },
   {
    "duration": 41,
    "start_time": "2021-11-13T17:27:44.634Z"
   },
   {
    "duration": 18,
    "start_time": "2021-11-13T17:27:44.677Z"
   },
   {
    "duration": 12,
    "start_time": "2021-11-13T17:27:44.697Z"
   },
   {
    "duration": 21,
    "start_time": "2021-11-13T17:27:44.711Z"
   },
   {
    "duration": 385,
    "start_time": "2021-11-13T17:27:44.735Z"
   },
   {
    "duration": 17,
    "start_time": "2021-11-13T17:27:45.123Z"
   },
   {
    "duration": 51,
    "start_time": "2021-11-13T17:27:45.143Z"
   },
   {
    "duration": 380,
    "start_time": "2021-11-13T17:27:45.196Z"
   },
   {
    "duration": 1543,
    "start_time": "2021-11-13T17:27:45.579Z"
   },
   {
    "duration": 30,
    "start_time": "2021-11-13T17:27:47.124Z"
   },
   {
    "duration": 384,
    "start_time": "2021-11-13T17:27:47.156Z"
   },
   {
    "duration": 27,
    "start_time": "2021-11-13T17:27:47.542Z"
   },
   {
    "duration": 31,
    "start_time": "2021-11-13T17:27:47.571Z"
   },
   {
    "duration": 3384,
    "start_time": "2021-11-13T17:27:47.606Z"
   },
   {
    "duration": 76,
    "start_time": "2021-11-13T17:27:50.992Z"
   },
   {
    "duration": 1292,
    "start_time": "2021-11-13T17:27:51.070Z"
   },
   {
    "duration": 589,
    "start_time": "2021-11-14T12:08:44.940Z"
   },
   {
    "duration": 815,
    "start_time": "2021-11-14T12:08:59.138Z"
   },
   {
    "duration": 93,
    "start_time": "2021-11-14T12:08:59.956Z"
   },
   {
    "duration": 20,
    "start_time": "2021-11-14T12:09:00.052Z"
   },
   {
    "duration": 42,
    "start_time": "2021-11-14T12:09:00.076Z"
   },
   {
    "duration": 6,
    "start_time": "2021-11-14T12:09:00.121Z"
   },
   {
    "duration": 47,
    "start_time": "2021-11-14T12:09:00.130Z"
   },
   {
    "duration": 17,
    "start_time": "2021-11-14T12:09:00.183Z"
   },
   {
    "duration": 1127,
    "start_time": "2021-11-14T12:09:00.203Z"
   },
   {
    "duration": 30,
    "start_time": "2021-11-14T12:09:01.334Z"
   },
   {
    "duration": 241,
    "start_time": "2021-11-14T12:09:01.368Z"
   },
   {
    "duration": 29,
    "start_time": "2021-11-14T12:09:01.612Z"
   },
   {
    "duration": 39,
    "start_time": "2021-11-14T12:09:01.659Z"
   },
   {
    "duration": 10,
    "start_time": "2021-11-14T12:09:01.701Z"
   },
   {
    "duration": 17,
    "start_time": "2021-11-14T12:09:01.713Z"
   },
   {
    "duration": 19,
    "start_time": "2021-11-14T12:09:01.764Z"
   },
   {
    "duration": 23,
    "start_time": "2021-11-14T12:09:01.786Z"
   },
   {
    "duration": 11,
    "start_time": "2021-11-14T12:09:01.812Z"
   },
   {
    "duration": 405,
    "start_time": "2021-11-14T12:09:01.826Z"
   },
   {
    "duration": 37,
    "start_time": "2021-11-14T12:09:02.234Z"
   },
   {
    "duration": 47,
    "start_time": "2021-11-14T12:09:02.275Z"
   },
   {
    "duration": 389,
    "start_time": "2021-11-14T12:09:02.324Z"
   },
   {
    "duration": 1591,
    "start_time": "2021-11-14T12:09:02.716Z"
   },
   {
    "duration": 27,
    "start_time": "2021-11-14T12:09:04.310Z"
   },
   {
    "duration": 398,
    "start_time": "2021-11-14T12:09:04.339Z"
   },
   {
    "duration": 35,
    "start_time": "2021-11-14T12:09:04.740Z"
   },
   {
    "duration": 38,
    "start_time": "2021-11-14T12:09:04.780Z"
   },
   {
    "duration": 3412,
    "start_time": "2021-11-14T12:09:04.822Z"
   },
   {
    "duration": 83,
    "start_time": "2021-11-14T12:09:08.237Z"
   },
   {
    "duration": 1365,
    "start_time": "2021-11-14T12:09:08.323Z"
   },
   {
    "duration": 124,
    "start_time": "2021-11-14T12:44:11.815Z"
   },
   {
    "duration": 567,
    "start_time": "2021-11-14T16:36:23.726Z"
   },
   {
    "duration": 55,
    "start_time": "2021-11-14T16:36:24.295Z"
   },
   {
    "duration": 8,
    "start_time": "2021-11-14T16:36:24.352Z"
   },
   {
    "duration": 23,
    "start_time": "2021-11-14T16:36:24.362Z"
   },
   {
    "duration": 5,
    "start_time": "2021-11-14T16:36:24.387Z"
   },
   {
    "duration": 10,
    "start_time": "2021-11-14T16:36:24.407Z"
   },
   {
    "duration": 19,
    "start_time": "2021-11-14T16:36:24.418Z"
   },
   {
    "duration": 688,
    "start_time": "2021-11-14T16:36:24.439Z"
   },
   {
    "duration": 10,
    "start_time": "2021-11-14T16:36:25.129Z"
   },
   {
    "duration": 138,
    "start_time": "2021-11-14T16:36:25.141Z"
   },
   {
    "duration": 19,
    "start_time": "2021-11-14T16:36:25.281Z"
   },
   {
    "duration": 20,
    "start_time": "2021-11-14T16:36:25.302Z"
   },
   {
    "duration": 24,
    "start_time": "2021-11-14T16:36:25.323Z"
   },
   {
    "duration": 18,
    "start_time": "2021-11-14T16:36:25.349Z"
   },
   {
    "duration": 21,
    "start_time": "2021-11-14T16:36:25.369Z"
   },
   {
    "duration": 37,
    "start_time": "2021-11-14T16:36:25.392Z"
   },
   {
    "duration": 35,
    "start_time": "2021-11-14T16:36:25.430Z"
   },
   {
    "duration": 223,
    "start_time": "2021-11-14T16:36:25.467Z"
   },
   {
    "duration": 20,
    "start_time": "2021-11-14T16:36:25.691Z"
   },
   {
    "duration": 56,
    "start_time": "2021-11-14T16:36:25.713Z"
   },
   {
    "duration": 206,
    "start_time": "2021-11-14T16:36:25.770Z"
   },
   {
    "duration": 1291,
    "start_time": "2021-11-14T16:36:25.977Z"
   },
   {
    "duration": 16,
    "start_time": "2021-11-14T16:36:27.271Z"
   },
   {
    "duration": 242,
    "start_time": "2021-11-14T16:36:27.289Z"
   },
   {
    "duration": 11,
    "start_time": "2021-11-14T16:36:27.533Z"
   },
   {
    "duration": 30,
    "start_time": "2021-11-14T16:36:27.546Z"
   },
   {
    "duration": 1869,
    "start_time": "2021-11-14T16:36:27.578Z"
   },
   {
    "duration": 35,
    "start_time": "2021-11-14T16:36:29.448Z"
   },
   {
    "duration": 823,
    "start_time": "2021-11-14T16:36:29.485Z"
   },
   {
    "duration": 712,
    "start_time": "2021-11-15T11:51:15.968Z"
   },
   {
    "duration": 75,
    "start_time": "2021-11-15T11:51:16.682Z"
   },
   {
    "duration": 12,
    "start_time": "2021-11-15T11:51:16.760Z"
   },
   {
    "duration": 26,
    "start_time": "2021-11-15T11:51:16.775Z"
   },
   {
    "duration": 31,
    "start_time": "2021-11-15T11:51:16.803Z"
   },
   {
    "duration": 18,
    "start_time": "2021-11-15T11:51:16.836Z"
   },
   {
    "duration": 19,
    "start_time": "2021-11-15T11:51:16.856Z"
   },
   {
    "duration": 1050,
    "start_time": "2021-11-15T11:51:16.877Z"
   },
   {
    "duration": 15,
    "start_time": "2021-11-15T11:51:17.932Z"
   },
   {
    "duration": 234,
    "start_time": "2021-11-15T11:51:17.950Z"
   },
   {
    "duration": 28,
    "start_time": "2021-11-15T11:51:18.186Z"
   },
   {
    "duration": 21,
    "start_time": "2021-11-15T11:51:18.229Z"
   },
   {
    "duration": 9,
    "start_time": "2021-11-15T11:51:18.252Z"
   },
   {
    "duration": 15,
    "start_time": "2021-11-15T11:51:18.263Z"
   },
   {
    "duration": 64,
    "start_time": "2021-11-15T11:51:18.280Z"
   },
   {
    "duration": 19,
    "start_time": "2021-11-15T11:51:18.346Z"
   },
   {
    "duration": 21,
    "start_time": "2021-11-15T11:51:18.367Z"
   },
   {
    "duration": 357,
    "start_time": "2021-11-15T11:51:18.391Z"
   },
   {
    "duration": 18,
    "start_time": "2021-11-15T11:51:18.750Z"
   },
   {
    "duration": 60,
    "start_time": "2021-11-15T11:51:18.770Z"
   },
   {
    "duration": 369,
    "start_time": "2021-11-15T11:51:18.833Z"
   },
   {
    "duration": 1359,
    "start_time": "2021-11-15T11:51:19.205Z"
   },
   {
    "duration": 29,
    "start_time": "2021-11-15T11:51:20.567Z"
   },
   {
    "duration": 377,
    "start_time": "2021-11-15T11:51:20.599Z"
   },
   {
    "duration": 15,
    "start_time": "2021-11-15T11:51:20.979Z"
   },
   {
    "duration": 54,
    "start_time": "2021-11-15T11:51:20.996Z"
   },
   {
    "duration": 3543,
    "start_time": "2021-11-15T11:51:21.057Z"
   },
   {
    "duration": 73,
    "start_time": "2021-11-15T11:51:24.603Z"
   },
   {
    "duration": 1383,
    "start_time": "2021-11-15T11:51:24.679Z"
   },
   {
    "duration": 3,
    "start_time": "2021-11-15T12:20:39.964Z"
   },
   {
    "duration": 92,
    "start_time": "2021-11-15T12:20:39.975Z"
   },
   {
    "duration": 12,
    "start_time": "2021-11-15T12:20:40.070Z"
   },
   {
    "duration": 59,
    "start_time": "2021-11-15T12:20:40.086Z"
   },
   {
    "duration": 7,
    "start_time": "2021-11-15T12:20:40.147Z"
   },
   {
    "duration": 23,
    "start_time": "2021-11-15T12:20:40.156Z"
   },
   {
    "duration": 51,
    "start_time": "2021-11-15T12:20:40.182Z"
   },
   {
    "duration": 377,
    "start_time": "2021-11-15T12:20:40.237Z"
   },
   {
    "duration": 18,
    "start_time": "2021-11-15T12:20:40.628Z"
   },
   {
    "duration": 274,
    "start_time": "2021-11-15T12:20:40.650Z"
   },
   {
    "duration": 23,
    "start_time": "2021-11-15T12:20:40.930Z"
   },
   {
    "duration": 21,
    "start_time": "2021-11-15T12:20:40.955Z"
   },
   {
    "duration": 55,
    "start_time": "2021-11-15T12:20:40.978Z"
   },
   {
    "duration": 23,
    "start_time": "2021-11-15T12:20:41.035Z"
   },
   {
    "duration": 31,
    "start_time": "2021-11-15T12:20:41.061Z"
   },
   {
    "duration": 16,
    "start_time": "2021-11-15T12:20:41.095Z"
   },
   {
    "duration": 35,
    "start_time": "2021-11-15T12:20:41.115Z"
   },
   {
    "duration": 359,
    "start_time": "2021-11-15T12:20:41.154Z"
   },
   {
    "duration": 29,
    "start_time": "2021-11-15T12:20:41.516Z"
   },
   {
    "duration": 55,
    "start_time": "2021-11-15T12:20:41.548Z"
   },
   {
    "duration": 623,
    "start_time": "2021-11-15T12:20:41.606Z"
   },
   {
    "duration": 1348,
    "start_time": "2021-11-15T12:20:42.231Z"
   },
   {
    "duration": 28,
    "start_time": "2021-11-15T12:20:43.581Z"
   },
   {
    "duration": 377,
    "start_time": "2021-11-15T12:20:43.613Z"
   },
   {
    "duration": 16,
    "start_time": "2021-11-15T12:20:43.992Z"
   },
   {
    "duration": 30,
    "start_time": "2021-11-15T12:20:44.030Z"
   },
   {
    "duration": 3293,
    "start_time": "2021-11-15T12:20:44.062Z"
   },
   {
    "duration": 106,
    "start_time": "2021-11-15T12:20:47.358Z"
   },
   {
    "duration": 1798,
    "start_time": "2021-11-15T12:20:47.466Z"
   },
   {
    "duration": 146,
    "start_time": "2021-11-15T12:28:11.416Z"
   },
   {
    "duration": 123,
    "start_time": "2021-11-15T12:34:26.504Z"
   },
   {
    "duration": 95,
    "start_time": "2021-11-15T12:34:39.223Z"
   },
   {
    "duration": 91,
    "start_time": "2021-11-15T12:34:44.692Z"
   },
   {
    "duration": 91,
    "start_time": "2021-11-15T12:35:07.891Z"
   },
   {
    "duration": 102,
    "start_time": "2021-11-15T12:35:34.842Z"
   },
   {
    "duration": 99,
    "start_time": "2021-11-15T12:35:54.048Z"
   },
   {
    "duration": 105,
    "start_time": "2021-11-15T12:35:59.146Z"
   },
   {
    "duration": -159,
    "start_time": "2021-11-15T12:35:59.416Z"
   },
   {
    "duration": -163,
    "start_time": "2021-11-15T12:35:59.421Z"
   },
   {
    "duration": -164,
    "start_time": "2021-11-15T12:35:59.424Z"
   },
   {
    "duration": -165,
    "start_time": "2021-11-15T12:35:59.427Z"
   },
   {
    "duration": -168,
    "start_time": "2021-11-15T12:35:59.431Z"
   },
   {
    "duration": -169,
    "start_time": "2021-11-15T12:35:59.434Z"
   },
   {
    "duration": -171,
    "start_time": "2021-11-15T12:35:59.437Z"
   },
   {
    "duration": -172,
    "start_time": "2021-11-15T12:35:59.440Z"
   },
   {
    "duration": -177,
    "start_time": "2021-11-15T12:35:59.446Z"
   },
   {
    "duration": -177,
    "start_time": "2021-11-15T12:35:59.448Z"
   },
   {
    "duration": -178,
    "start_time": "2021-11-15T12:35:59.451Z"
   },
   {
    "duration": -179,
    "start_time": "2021-11-15T12:35:59.453Z"
   },
   {
    "duration": -180,
    "start_time": "2021-11-15T12:35:59.456Z"
   },
   {
    "duration": -181,
    "start_time": "2021-11-15T12:35:59.458Z"
   },
   {
    "duration": -182,
    "start_time": "2021-11-15T12:35:59.461Z"
   },
   {
    "duration": -183,
    "start_time": "2021-11-15T12:35:59.464Z"
   },
   {
    "duration": -186,
    "start_time": "2021-11-15T12:35:59.468Z"
   },
   {
    "duration": -188,
    "start_time": "2021-11-15T12:35:59.471Z"
   },
   {
    "duration": -189,
    "start_time": "2021-11-15T12:35:59.474Z"
   },
   {
    "duration": -189,
    "start_time": "2021-11-15T12:35:59.476Z"
   },
   {
    "duration": -191,
    "start_time": "2021-11-15T12:35:59.479Z"
   },
   {
    "duration": -193,
    "start_time": "2021-11-15T12:35:59.482Z"
   },
   {
    "duration": -154,
    "start_time": "2021-11-15T12:35:59.484Z"
   },
   {
    "duration": 473,
    "start_time": "2021-11-15T12:35:59.333Z"
   },
   {
    "duration": 31,
    "start_time": "2021-11-15T12:35:59.808Z"
   },
   {
    "duration": 29,
    "start_time": "2021-11-15T12:35:59.842Z"
   },
   {
    "duration": 3817,
    "start_time": "2021-11-15T12:35:59.874Z"
   },
   {
    "duration": 72,
    "start_time": "2021-11-15T12:36:03.694Z"
   },
   {
    "duration": 1408,
    "start_time": "2021-11-15T12:36:03.769Z"
   },
   {
    "duration": 92,
    "start_time": "2021-11-15T12:36:20.208Z"
   },
   {
    "duration": 6,
    "start_time": "2021-11-15T12:49:11.048Z"
   },
   {
    "duration": 4,
    "start_time": "2021-11-15T12:49:14.052Z"
   },
   {
    "duration": 73,
    "start_time": "2021-11-15T12:49:14.058Z"
   },
   {
    "duration": 11,
    "start_time": "2021-11-15T12:49:14.134Z"
   },
   {
    "duration": 24,
    "start_time": "2021-11-15T12:49:14.148Z"
   },
   {
    "duration": 6,
    "start_time": "2021-11-15T12:49:14.174Z"
   },
   {
    "duration": 59,
    "start_time": "2021-11-15T12:49:14.182Z"
   },
   {
    "duration": 18,
    "start_time": "2021-11-15T12:49:14.244Z"
   },
   {
    "duration": 377,
    "start_time": "2021-11-15T12:49:14.266Z"
   },
   {
    "duration": 14,
    "start_time": "2021-11-15T12:49:14.646Z"
   },
   {
    "duration": 236,
    "start_time": "2021-11-15T12:49:14.662Z"
   },
   {
    "duration": 37,
    "start_time": "2021-11-15T12:49:14.901Z"
   },
   {
    "duration": 20,
    "start_time": "2021-11-15T12:49:14.941Z"
   },
   {
    "duration": 20,
    "start_time": "2021-11-15T12:49:14.964Z"
   },
   {
    "duration": 48,
    "start_time": "2021-11-15T12:49:14.986Z"
   },
   {
    "duration": 11,
    "start_time": "2021-11-15T12:49:15.036Z"
   },
   {
    "duration": 12,
    "start_time": "2021-11-15T12:49:15.050Z"
   },
   {
    "duration": 24,
    "start_time": "2021-11-15T12:49:15.064Z"
   },
   {
    "duration": 349,
    "start_time": "2021-11-15T12:49:15.129Z"
   },
   {
    "duration": 16,
    "start_time": "2021-11-15T12:49:15.481Z"
   },
   {
    "duration": 50,
    "start_time": "2021-11-15T12:49:15.500Z"
   },
   {
    "duration": 374,
    "start_time": "2021-11-15T12:49:15.553Z"
   },
   {
    "duration": 1000,
    "start_time": "2021-11-15T12:49:15.930Z"
   },
   {
    "duration": 29,
    "start_time": "2021-11-15T12:49:16.934Z"
   },
   {
    "duration": 393,
    "start_time": "2021-11-15T12:49:16.965Z"
   },
   {
    "duration": 20,
    "start_time": "2021-11-15T12:49:17.361Z"
   },
   {
    "duration": 69,
    "start_time": "2021-11-15T12:49:17.384Z"
   },
   {
    "duration": 3270,
    "start_time": "2021-11-15T12:49:17.455Z"
   },
   {
    "duration": 62,
    "start_time": "2021-11-15T12:49:20.729Z"
   },
   {
    "duration": 1287,
    "start_time": "2021-11-15T12:49:20.793Z"
   },
   {
    "duration": 111,
    "start_time": "2021-11-15T12:51:04.897Z"
   },
   {
    "duration": 9,
    "start_time": "2021-11-15T12:52:37.153Z"
   },
   {
    "duration": 3,
    "start_time": "2021-11-15T13:21:59.731Z"
   },
   {
    "duration": 90,
    "start_time": "2021-11-15T13:21:59.737Z"
   },
   {
    "duration": 14,
    "start_time": "2021-11-15T13:21:59.830Z"
   },
   {
    "duration": 40,
    "start_time": "2021-11-15T13:21:59.847Z"
   },
   {
    "duration": 40,
    "start_time": "2021-11-15T13:21:59.889Z"
   },
   {
    "duration": 7,
    "start_time": "2021-11-15T13:21:59.931Z"
   },
   {
    "duration": 57,
    "start_time": "2021-11-15T13:21:59.941Z"
   },
   {
    "duration": 28,
    "start_time": "2021-11-15T13:22:00.001Z"
   },
   {
    "duration": 371,
    "start_time": "2021-11-15T13:22:00.033Z"
   },
   {
    "duration": 28,
    "start_time": "2021-11-15T13:22:00.407Z"
   },
   {
    "duration": 256,
    "start_time": "2021-11-15T13:22:00.438Z"
   },
   {
    "duration": 45,
    "start_time": "2021-11-15T13:22:00.697Z"
   },
   {
    "duration": 21,
    "start_time": "2021-11-15T13:22:00.746Z"
   },
   {
    "duration": 36,
    "start_time": "2021-11-15T13:22:00.770Z"
   },
   {
    "duration": 44,
    "start_time": "2021-11-15T13:22:00.809Z"
   },
   {
    "duration": 55,
    "start_time": "2021-11-15T13:22:00.855Z"
   },
   {
    "duration": 39,
    "start_time": "2021-11-15T13:22:00.913Z"
   },
   {
    "duration": 74,
    "start_time": "2021-11-15T13:22:00.955Z"
   },
   {
    "duration": 400,
    "start_time": "2021-11-15T13:22:01.032Z"
   },
   {
    "duration": 17,
    "start_time": "2021-11-15T13:22:01.435Z"
   },
   {
    "duration": 58,
    "start_time": "2021-11-15T13:22:01.455Z"
   },
   {
    "duration": 403,
    "start_time": "2021-11-15T13:22:01.515Z"
   },
   {
    "duration": 1199,
    "start_time": "2021-11-15T13:22:01.920Z"
   },
   {
    "duration": 35,
    "start_time": "2021-11-15T13:22:03.122Z"
   },
   {
    "duration": 414,
    "start_time": "2021-11-15T13:22:03.161Z"
   },
   {
    "duration": 15,
    "start_time": "2021-11-15T13:22:03.578Z"
   },
   {
    "duration": 55,
    "start_time": "2021-11-15T13:22:03.598Z"
   },
   {
    "duration": 3422,
    "start_time": "2021-11-15T13:22:03.656Z"
   },
   {
    "duration": 78,
    "start_time": "2021-11-15T13:22:07.080Z"
   },
   {
    "duration": 1326,
    "start_time": "2021-11-15T13:22:07.161Z"
   },
   {
    "duration": 9,
    "start_time": "2021-11-15T14:38:41.669Z"
   },
   {
    "duration": 16,
    "start_time": "2021-11-15T14:38:55.465Z"
   },
   {
    "duration": 13,
    "start_time": "2021-11-15T14:39:17.335Z"
   },
   {
    "duration": 14,
    "start_time": "2021-11-15T14:39:25.070Z"
   },
   {
    "duration": 15,
    "start_time": "2021-11-15T14:39:36.090Z"
   },
   {
    "duration": 21,
    "start_time": "2021-11-15T14:41:18.666Z"
   },
   {
    "duration": 10,
    "start_time": "2021-11-15T14:42:33.079Z"
   },
   {
    "duration": 8,
    "start_time": "2021-11-15T14:42:39.045Z"
   },
   {
    "duration": 9,
    "start_time": "2021-11-15T14:42:56.260Z"
   },
   {
    "duration": 15,
    "start_time": "2021-11-15T14:43:09.002Z"
   },
   {
    "duration": 14,
    "start_time": "2021-11-15T14:43:17.090Z"
   },
   {
    "duration": 338,
    "start_time": "2021-11-15T23:14:26.233Z"
   },
   {
    "duration": 762,
    "start_time": "2021-11-15T23:14:35.501Z"
   },
   {
    "duration": 75,
    "start_time": "2021-11-15T23:14:36.266Z"
   },
   {
    "duration": 12,
    "start_time": "2021-11-15T23:14:36.344Z"
   },
   {
    "duration": 6,
    "start_time": "2021-11-15T23:14:36.368Z"
   },
   {
    "duration": 15,
    "start_time": "2021-11-15T23:14:36.376Z"
   },
   {
    "duration": 9,
    "start_time": "2021-11-15T23:14:36.394Z"
   },
   {
    "duration": 80,
    "start_time": "2021-11-15T23:14:36.406Z"
   },
   {
    "duration": 471,
    "start_time": "2021-11-15T23:14:36.018Z"
   },
   {
    "duration": 470,
    "start_time": "2021-11-15T23:14:36.021Z"
   },
   {
    "duration": 469,
    "start_time": "2021-11-15T23:14:36.024Z"
   },
   {
    "duration": 468,
    "start_time": "2021-11-15T23:14:36.027Z"
   },
   {
    "duration": 467,
    "start_time": "2021-11-15T23:14:36.030Z"
   },
   {
    "duration": 465,
    "start_time": "2021-11-15T23:14:36.033Z"
   },
   {
    "duration": 464,
    "start_time": "2021-11-15T23:14:36.035Z"
   },
   {
    "duration": 462,
    "start_time": "2021-11-15T23:14:36.038Z"
   },
   {
    "duration": 461,
    "start_time": "2021-11-15T23:14:36.041Z"
   },
   {
    "duration": 459,
    "start_time": "2021-11-15T23:14:36.044Z"
   },
   {
    "duration": 457,
    "start_time": "2021-11-15T23:14:36.047Z"
   },
   {
    "duration": 455,
    "start_time": "2021-11-15T23:14:36.051Z"
   },
   {
    "duration": 453,
    "start_time": "2021-11-15T23:14:36.054Z"
   },
   {
    "duration": 452,
    "start_time": "2021-11-15T23:14:36.057Z"
   },
   {
    "duration": 450,
    "start_time": "2021-11-15T23:14:36.060Z"
   },
   {
    "duration": 443,
    "start_time": "2021-11-15T23:14:36.068Z"
   },
   {
    "duration": 441,
    "start_time": "2021-11-15T23:14:36.072Z"
   },
   {
    "duration": 439,
    "start_time": "2021-11-15T23:14:36.075Z"
   },
   {
    "duration": 437,
    "start_time": "2021-11-15T23:14:36.078Z"
   },
   {
    "duration": 436,
    "start_time": "2021-11-15T23:14:36.081Z"
   },
   {
    "duration": 434,
    "start_time": "2021-11-15T23:14:36.084Z"
   },
   {
    "duration": 434,
    "start_time": "2021-11-15T23:14:36.086Z"
   },
   {
    "duration": 432,
    "start_time": "2021-11-15T23:14:36.089Z"
   },
   {
    "duration": 430,
    "start_time": "2021-11-15T23:14:36.092Z"
   },
   {
    "duration": 429,
    "start_time": "2021-11-15T23:14:36.095Z"
   },
   {
    "duration": 427,
    "start_time": "2021-11-15T23:14:36.098Z"
   },
   {
    "duration": 426,
    "start_time": "2021-11-15T23:14:36.100Z"
   },
   {
    "duration": 3,
    "start_time": "2021-11-15T23:15:25.119Z"
   },
   {
    "duration": 79,
    "start_time": "2021-11-15T23:15:25.125Z"
   },
   {
    "duration": 10,
    "start_time": "2021-11-15T23:15:25.207Z"
   },
   {
    "duration": 13,
    "start_time": "2021-11-15T23:15:25.220Z"
   },
   {
    "duration": 43,
    "start_time": "2021-11-15T23:15:25.235Z"
   },
   {
    "duration": 8,
    "start_time": "2021-11-15T23:15:25.280Z"
   },
   {
    "duration": 108,
    "start_time": "2021-11-15T23:15:25.290Z"
   },
   {
    "duration": 530,
    "start_time": "2021-11-15T23:15:24.871Z"
   },
   {
    "duration": 528,
    "start_time": "2021-11-15T23:15:24.875Z"
   },
   {
    "duration": 526,
    "start_time": "2021-11-15T23:15:24.878Z"
   },
   {
    "duration": 524,
    "start_time": "2021-11-15T23:15:24.881Z"
   },
   {
    "duration": 522,
    "start_time": "2021-11-15T23:15:24.884Z"
   },
   {
    "duration": 521,
    "start_time": "2021-11-15T23:15:24.886Z"
   },
   {
    "duration": 519,
    "start_time": "2021-11-15T23:15:24.890Z"
   },
   {
    "duration": 516,
    "start_time": "2021-11-15T23:15:24.894Z"
   },
   {
    "duration": 515,
    "start_time": "2021-11-15T23:15:24.896Z"
   },
   {
    "duration": 513,
    "start_time": "2021-11-15T23:15:24.899Z"
   },
   {
    "duration": 510,
    "start_time": "2021-11-15T23:15:24.903Z"
   },
   {
    "duration": 486,
    "start_time": "2021-11-15T23:15:24.929Z"
   },
   {
    "duration": 481,
    "start_time": "2021-11-15T23:15:24.935Z"
   },
   {
    "duration": 475,
    "start_time": "2021-11-15T23:15:24.942Z"
   },
   {
    "duration": 473,
    "start_time": "2021-11-15T23:15:24.945Z"
   },
   {
    "duration": 471,
    "start_time": "2021-11-15T23:15:24.948Z"
   },
   {
    "duration": 470,
    "start_time": "2021-11-15T23:15:24.951Z"
   },
   {
    "duration": 468,
    "start_time": "2021-11-15T23:15:24.954Z"
   },
   {
    "duration": 466,
    "start_time": "2021-11-15T23:15:24.957Z"
   },
   {
    "duration": 459,
    "start_time": "2021-11-15T23:15:24.965Z"
   },
   {
    "duration": 458,
    "start_time": "2021-11-15T23:15:24.968Z"
   },
   {
    "duration": 456,
    "start_time": "2021-11-15T23:15:24.971Z"
   },
   {
    "duration": 454,
    "start_time": "2021-11-15T23:15:24.974Z"
   },
   {
    "duration": 453,
    "start_time": "2021-11-15T23:15:24.977Z"
   },
   {
    "duration": 452,
    "start_time": "2021-11-15T23:15:24.979Z"
   },
   {
    "duration": 450,
    "start_time": "2021-11-15T23:15:24.982Z"
   },
   {
    "duration": 448,
    "start_time": "2021-11-15T23:15:24.985Z"
   },
   {
    "duration": 16,
    "start_time": "2021-11-15T23:16:17.757Z"
   },
   {
    "duration": 16,
    "start_time": "2021-11-15T23:22:17.402Z"
   },
   {
    "duration": 10,
    "start_time": "2021-11-15T23:23:04.064Z"
   },
   {
    "duration": 14,
    "start_time": "2021-11-15T23:23:06.208Z"
   },
   {
    "duration": 88,
    "start_time": "2021-11-15T23:32:32.186Z"
   },
   {
    "duration": 730,
    "start_time": "2021-11-15T23:38:28.221Z"
   },
   {
    "duration": 624,
    "start_time": "2021-11-15T23:39:50.733Z"
   },
   {
    "duration": 16,
    "start_time": "2021-11-15T23:40:02.397Z"
   },
   {
    "duration": 348,
    "start_time": "2021-11-15T23:40:07.539Z"
   },
   {
    "duration": 346,
    "start_time": "2021-11-15T23:40:57.363Z"
   },
   {
    "duration": 339,
    "start_time": "2021-11-15T23:41:15.443Z"
   },
   {
    "duration": 331,
    "start_time": "2021-11-15T23:41:26.701Z"
   },
   {
    "duration": 345,
    "start_time": "2021-11-15T23:41:42.676Z"
   },
   {
    "duration": 395,
    "start_time": "2021-11-15T23:42:16.419Z"
   },
   {
    "duration": 94,
    "start_time": "2021-11-15T23:43:11.628Z"
   },
   {
    "duration": 15,
    "start_time": "2021-11-15T23:43:58.647Z"
   },
   {
    "duration": 222,
    "start_time": "2021-11-15T23:44:00.557Z"
   },
   {
    "duration": 4,
    "start_time": "2021-11-15T23:44:04.086Z"
   },
   {
    "duration": 80,
    "start_time": "2021-11-15T23:44:04.092Z"
   },
   {
    "duration": 12,
    "start_time": "2021-11-15T23:44:04.175Z"
   },
   {
    "duration": 14,
    "start_time": "2021-11-15T23:44:04.190Z"
   },
   {
    "duration": 19,
    "start_time": "2021-11-15T23:44:04.207Z"
   },
   {
    "duration": 41,
    "start_time": "2021-11-15T23:44:04.228Z"
   },
   {
    "duration": 14,
    "start_time": "2021-11-15T23:44:04.272Z"
   },
   {
    "duration": 8,
    "start_time": "2021-11-15T23:44:04.288Z"
   },
   {
    "duration": 13,
    "start_time": "2021-11-15T23:44:04.300Z"
   },
   {
    "duration": 50,
    "start_time": "2021-11-15T23:44:04.316Z"
   },
   {
    "duration": 352,
    "start_time": "2021-11-15T23:44:04.369Z"
   },
   {
    "duration": 15,
    "start_time": "2021-11-15T23:44:04.723Z"
   },
   {
    "duration": 241,
    "start_time": "2021-11-15T23:44:04.741Z"
   },
   {
    "duration": 28,
    "start_time": "2021-11-15T23:44:04.984Z"
   },
   {
    "duration": 20,
    "start_time": "2021-11-15T23:44:05.015Z"
   },
   {
    "duration": 37,
    "start_time": "2021-11-15T23:44:05.037Z"
   },
   {
    "duration": 13,
    "start_time": "2021-11-15T23:44:05.076Z"
   },
   {
    "duration": 11,
    "start_time": "2021-11-15T23:44:05.091Z"
   },
   {
    "duration": 11,
    "start_time": "2021-11-15T23:44:05.105Z"
   },
   {
    "duration": 53,
    "start_time": "2021-11-15T23:44:05.119Z"
   },
   {
    "duration": 364,
    "start_time": "2021-11-15T23:44:05.175Z"
   },
   {
    "duration": 27,
    "start_time": "2021-11-15T23:44:05.543Z"
   },
   {
    "duration": 35,
    "start_time": "2021-11-15T23:44:05.573Z"
   },
   {
    "duration": 387,
    "start_time": "2021-11-15T23:44:05.611Z"
   },
   {
    "duration": 1610,
    "start_time": "2021-11-15T23:44:06.000Z"
   },
   {
    "duration": 28,
    "start_time": "2021-11-15T23:44:07.612Z"
   },
   {
    "duration": 379,
    "start_time": "2021-11-15T23:44:07.645Z"
   },
   {
    "duration": 16,
    "start_time": "2021-11-15T23:44:08.026Z"
   },
   {
    "duration": 47,
    "start_time": "2021-11-15T23:44:08.044Z"
   },
   {
    "duration": 3379,
    "start_time": "2021-11-15T23:44:08.094Z"
   },
   {
    "duration": 63,
    "start_time": "2021-11-15T23:44:11.475Z"
   },
   {
    "duration": 1316,
    "start_time": "2021-11-15T23:44:11.541Z"
   },
   {
    "duration": 20,
    "start_time": "2021-11-15T23:50:42.107Z"
   },
   {
    "duration": 27,
    "start_time": "2021-11-15T23:50:57.038Z"
   },
   {
    "duration": 26,
    "start_time": "2021-11-15T23:51:26.278Z"
   },
   {
    "duration": 7,
    "start_time": "2021-11-15T23:51:37.141Z"
   },
   {
    "duration": 18,
    "start_time": "2021-11-15T23:51:54.119Z"
   },
   {
    "duration": 10,
    "start_time": "2021-11-15T23:52:08.838Z"
   },
   {
    "duration": 30,
    "start_time": "2021-11-15T23:52:23.389Z"
   },
   {
    "duration": 32,
    "start_time": "2021-11-15T23:53:04.469Z"
   },
   {
    "duration": 31,
    "start_time": "2021-11-15T23:54:50.202Z"
   },
   {
    "duration": 31,
    "start_time": "2021-11-15T23:55:04.032Z"
   },
   {
    "duration": 7,
    "start_time": "2021-11-16T00:01:05.509Z"
   },
   {
    "duration": 7,
    "start_time": "2021-11-16T00:01:12.910Z"
   },
   {
    "duration": 10,
    "start_time": "2021-11-16T00:01:19.782Z"
   },
   {
    "duration": 28,
    "start_time": "2021-11-16T00:04:07.630Z"
   },
   {
    "duration": 3,
    "start_time": "2021-11-16T00:04:16.103Z"
   },
   {
    "duration": 73,
    "start_time": "2021-11-16T00:04:16.109Z"
   },
   {
    "duration": 14,
    "start_time": "2021-11-16T00:04:16.186Z"
   },
   {
    "duration": 13,
    "start_time": "2021-11-16T00:04:16.202Z"
   },
   {
    "duration": 26,
    "start_time": "2021-11-16T00:04:16.218Z"
   },
   {
    "duration": 9,
    "start_time": "2021-11-16T00:04:16.267Z"
   },
   {
    "duration": 17,
    "start_time": "2021-11-16T00:04:16.278Z"
   },
   {
    "duration": 23,
    "start_time": "2021-11-16T00:04:16.298Z"
   },
   {
    "duration": 16,
    "start_time": "2021-11-16T00:04:16.325Z"
   },
   {
    "duration": 14,
    "start_time": "2021-11-16T00:04:16.368Z"
   },
   {
    "duration": 345,
    "start_time": "2021-11-16T00:04:16.384Z"
   },
   {
    "duration": 13,
    "start_time": "2021-11-16T00:04:16.732Z"
   },
   {
    "duration": 236,
    "start_time": "2021-11-16T00:04:16.748Z"
   },
   {
    "duration": 9,
    "start_time": "2021-11-16T00:04:16.986Z"
   },
   {
    "duration": 28,
    "start_time": "2021-11-16T00:04:16.997Z"
   },
   {
    "duration": 48,
    "start_time": "2021-11-16T00:04:17.028Z"
   },
   {
    "duration": 10,
    "start_time": "2021-11-16T00:04:17.079Z"
   },
   {
    "duration": 12,
    "start_time": "2021-11-16T00:04:17.091Z"
   },
   {
    "duration": 14,
    "start_time": "2021-11-16T00:04:17.105Z"
   },
   {
    "duration": 49,
    "start_time": "2021-11-16T00:04:17.121Z"
   },
   {
    "duration": 15,
    "start_time": "2021-11-16T00:04:17.173Z"
   },
   {
    "duration": 372,
    "start_time": "2021-11-16T00:04:17.190Z"
   },
   {
    "duration": 17,
    "start_time": "2021-11-16T00:04:17.565Z"
   },
   {
    "duration": 34,
    "start_time": "2021-11-16T00:04:17.585Z"
   },
   {
    "duration": 426,
    "start_time": "2021-11-16T00:04:17.622Z"
   },
   {
    "duration": 1055,
    "start_time": "2021-11-16T00:04:18.050Z"
   },
   {
    "duration": 73,
    "start_time": "2021-11-16T00:04:19.110Z"
   },
   {
    "duration": 532,
    "start_time": "2021-11-16T00:04:19.185Z"
   },
   {
    "duration": 15,
    "start_time": "2021-11-16T00:04:19.768Z"
   },
   {
    "duration": 37,
    "start_time": "2021-11-16T00:04:19.785Z"
   },
   {
    "duration": 3379,
    "start_time": "2021-11-16T00:04:19.867Z"
   },
   {
    "duration": 69,
    "start_time": "2021-11-16T00:04:23.248Z"
   },
   {
    "duration": 1311,
    "start_time": "2021-11-16T00:04:23.319Z"
   },
   {
    "duration": 7,
    "start_time": "2021-11-16T00:04:47.106Z"
   },
   {
    "duration": 34,
    "start_time": "2021-11-16T00:05:20.066Z"
   },
   {
    "duration": 31,
    "start_time": "2021-11-16T00:07:07.410Z"
   },
   {
    "duration": 32,
    "start_time": "2021-11-16T00:07:41.200Z"
   },
   {
    "duration": 36,
    "start_time": "2021-11-16T00:08:13.051Z"
   },
   {
    "duration": 11,
    "start_time": "2021-11-16T00:08:54.730Z"
   },
   {
    "duration": 7,
    "start_time": "2021-11-16T00:09:02.720Z"
   },
   {
    "duration": 27,
    "start_time": "2021-11-16T00:09:32.283Z"
   },
   {
    "duration": 6,
    "start_time": "2021-11-16T00:09:44.238Z"
   },
   {
    "duration": 1245,
    "start_time": "2021-11-16T00:10:01.282Z"
   },
   {
    "duration": 7,
    "start_time": "2021-11-16T00:10:06.987Z"
   },
   {
    "duration": 6556,
    "start_time": "2021-11-16T00:10:16.962Z"
   },
   {
    "duration": 30,
    "start_time": "2021-11-16T00:10:27.070Z"
   },
   {
    "duration": 8,
    "start_time": "2021-11-16T00:10:52.169Z"
   },
   {
    "duration": 7,
    "start_time": "2021-11-16T00:11:30.092Z"
   },
   {
    "duration": 6,
    "start_time": "2021-11-16T00:11:43.220Z"
   },
   {
    "duration": 279,
    "start_time": "2021-11-16T00:12:13.989Z"
   },
   {
    "duration": 283,
    "start_time": "2021-11-16T00:12:23.679Z"
   },
   {
    "duration": 12,
    "start_time": "2021-11-16T00:12:28.822Z"
   },
   {
    "duration": 9,
    "start_time": "2021-11-16T00:12:37.302Z"
   },
   {
    "duration": 11,
    "start_time": "2021-11-16T00:12:42.709Z"
   },
   {
    "duration": 9,
    "start_time": "2021-11-16T00:12:52.732Z"
   },
   {
    "duration": 9,
    "start_time": "2021-11-16T00:12:58.646Z"
   },
   {
    "duration": 8,
    "start_time": "2021-11-16T00:13:08.670Z"
   },
   {
    "duration": 10,
    "start_time": "2021-11-16T00:13:20.397Z"
   },
   {
    "duration": 30,
    "start_time": "2021-11-16T00:13:57.501Z"
   },
   {
    "duration": 8031,
    "start_time": "2021-11-16T00:14:48.229Z"
   },
   {
    "duration": 29,
    "start_time": "2021-11-16T00:15:24.283Z"
   },
   {
    "duration": 40,
    "start_time": "2021-11-16T00:15:45.462Z"
   },
   {
    "duration": 38,
    "start_time": "2021-11-16T00:16:05.142Z"
   },
   {
    "duration": 29,
    "start_time": "2021-11-16T00:18:23.242Z"
   },
   {
    "duration": 6555,
    "start_time": "2021-11-16T01:21:08.013Z"
   },
   {
    "duration": 29,
    "start_time": "2021-11-16T01:21:35.712Z"
   },
   {
    "duration": 27,
    "start_time": "2021-11-16T01:28:20.243Z"
   },
   {
    "duration": 520,
    "start_time": "2021-11-16T01:30:08.904Z"
   },
   {
    "duration": 21,
    "start_time": "2021-11-16T01:31:38.733Z"
   },
   {
    "duration": 332,
    "start_time": "2021-11-16T01:31:42.893Z"
   },
   {
    "duration": 336,
    "start_time": "2021-11-16T01:31:59.331Z"
   },
   {
    "duration": 29,
    "start_time": "2021-11-16T01:32:19.333Z"
   },
   {
    "duration": 327,
    "start_time": "2021-11-16T01:32:21.433Z"
   },
   {
    "duration": 340,
    "start_time": "2021-11-16T01:33:22.271Z"
   },
   {
    "duration": 247,
    "start_time": "2021-11-16T01:33:48.306Z"
   },
   {
    "duration": 639,
    "start_time": "2021-11-16T01:34:07.552Z"
   },
   {
    "duration": 3,
    "start_time": "2021-11-16T01:34:43.904Z"
   },
   {
    "duration": 68,
    "start_time": "2021-11-16T01:34:43.910Z"
   },
   {
    "duration": 12,
    "start_time": "2021-11-16T01:34:43.981Z"
   },
   {
    "duration": 9,
    "start_time": "2021-11-16T01:34:43.996Z"
   },
   {
    "duration": 18,
    "start_time": "2021-11-16T01:34:44.007Z"
   },
   {
    "duration": 44,
    "start_time": "2021-11-16T01:34:44.028Z"
   },
   {
    "duration": 18,
    "start_time": "2021-11-16T01:34:44.075Z"
   },
   {
    "duration": 8,
    "start_time": "2021-11-16T01:34:44.095Z"
   },
   {
    "duration": 15,
    "start_time": "2021-11-16T01:34:44.107Z"
   },
   {
    "duration": 48,
    "start_time": "2021-11-16T01:34:44.126Z"
   },
   {
    "duration": 354,
    "start_time": "2021-11-16T01:34:44.176Z"
   },
   {
    "duration": 14,
    "start_time": "2021-11-16T01:34:44.533Z"
   },
   {
    "duration": 262,
    "start_time": "2021-11-16T01:34:44.549Z"
   },
   {
    "duration": 29,
    "start_time": "2021-11-16T01:34:44.813Z"
   },
   {
    "duration": 366,
    "start_time": "2021-11-16T01:34:44.844Z"
   },
   {
    "duration": 21,
    "start_time": "2021-11-16T01:34:45.213Z"
   },
   {
    "duration": 10,
    "start_time": "2021-11-16T01:34:45.236Z"
   },
   {
    "duration": 10,
    "start_time": "2021-11-16T01:34:45.268Z"
   },
   {
    "duration": 12,
    "start_time": "2021-11-16T01:34:45.280Z"
   },
   {
    "duration": 11,
    "start_time": "2021-11-16T01:34:45.294Z"
   },
   {
    "duration": 11,
    "start_time": "2021-11-16T01:34:45.307Z"
   },
   {
    "duration": 414,
    "start_time": "2021-11-16T01:34:45.321Z"
   },
   {
    "duration": 30,
    "start_time": "2021-11-16T01:34:45.737Z"
   },
   {
    "duration": 36,
    "start_time": "2021-11-16T01:34:45.770Z"
   },
   {
    "duration": 394,
    "start_time": "2021-11-16T01:34:45.808Z"
   },
   {
    "duration": 1482,
    "start_time": "2021-11-16T01:34:46.204Z"
   },
   {
    "duration": 30,
    "start_time": "2021-11-16T01:34:47.691Z"
   },
   {
    "duration": 407,
    "start_time": "2021-11-16T01:34:47.724Z"
   },
   {
    "duration": 15,
    "start_time": "2021-11-16T01:34:48.134Z"
   },
   {
    "duration": 29,
    "start_time": "2021-11-16T01:34:48.167Z"
   },
   {
    "duration": 3618,
    "start_time": "2021-11-16T01:34:48.199Z"
   },
   {
    "duration": 78,
    "start_time": "2021-11-16T01:34:51.819Z"
   },
   {
    "duration": 1444,
    "start_time": "2021-11-16T01:34:51.899Z"
   },
   {
    "duration": 351,
    "start_time": "2021-11-16T01:35:29.702Z"
   },
   {
    "duration": 352,
    "start_time": "2021-11-16T01:35:36.309Z"
   },
   {
    "duration": 375,
    "start_time": "2021-11-16T01:35:46.050Z"
   },
   {
    "duration": 3324,
    "start_time": "2021-11-16T01:36:04.503Z"
   },
   {
    "duration": 4,
    "start_time": "2021-11-16T01:36:19.401Z"
   },
   {
    "duration": 76,
    "start_time": "2021-11-16T01:36:19.408Z"
   },
   {
    "duration": 12,
    "start_time": "2021-11-16T01:36:19.487Z"
   },
   {
    "duration": 10,
    "start_time": "2021-11-16T01:36:19.501Z"
   },
   {
    "duration": 15,
    "start_time": "2021-11-16T01:36:19.514Z"
   },
   {
    "duration": 39,
    "start_time": "2021-11-16T01:36:19.531Z"
   },
   {
    "duration": 15,
    "start_time": "2021-11-16T01:36:19.572Z"
   },
   {
    "duration": 9,
    "start_time": "2021-11-16T01:36:19.589Z"
   },
   {
    "duration": 19,
    "start_time": "2021-11-16T01:36:19.601Z"
   },
   {
    "duration": 55,
    "start_time": "2021-11-16T01:36:19.624Z"
   },
   {
    "duration": 466,
    "start_time": "2021-11-16T01:36:19.681Z"
   },
   {
    "duration": 24,
    "start_time": "2021-11-16T01:36:20.149Z"
   },
   {
    "duration": 238,
    "start_time": "2021-11-16T01:36:20.175Z"
   },
   {
    "duration": 29,
    "start_time": "2021-11-16T01:36:20.415Z"
   },
   {
    "duration": 465,
    "start_time": "2021-11-16T01:36:20.446Z"
   },
   {
    "duration": 22,
    "start_time": "2021-11-16T01:36:20.914Z"
   },
   {
    "duration": 33,
    "start_time": "2021-11-16T01:36:20.938Z"
   },
   {
    "duration": 12,
    "start_time": "2021-11-16T01:36:20.974Z"
   },
   {
    "duration": 12,
    "start_time": "2021-11-16T01:36:20.988Z"
   },
   {
    "duration": 15,
    "start_time": "2021-11-16T01:36:21.002Z"
   },
   {
    "duration": 12,
    "start_time": "2021-11-16T01:36:21.020Z"
   },
   {
    "duration": 358,
    "start_time": "2021-11-16T01:36:21.068Z"
   },
   {
    "duration": 16,
    "start_time": "2021-11-16T01:36:21.429Z"
   },
   {
    "duration": 62,
    "start_time": "2021-11-16T01:36:21.448Z"
   },
   {
    "duration": 391,
    "start_time": "2021-11-16T01:36:21.513Z"
   },
   {
    "duration": 1036,
    "start_time": "2021-11-16T01:36:21.906Z"
   },
   {
    "duration": 38,
    "start_time": "2021-11-16T01:36:22.947Z"
   },
   {
    "duration": 383,
    "start_time": "2021-11-16T01:36:22.988Z"
   },
   {
    "duration": 14,
    "start_time": "2021-11-16T01:36:23.373Z"
   },
   {
    "duration": 28,
    "start_time": "2021-11-16T01:36:23.389Z"
   },
   {
    "duration": 3383,
    "start_time": "2021-11-16T01:36:23.419Z"
   },
   {
    "duration": 77,
    "start_time": "2021-11-16T01:36:26.804Z"
   },
   {
    "duration": 1287,
    "start_time": "2021-11-16T01:36:26.883Z"
   },
   {
    "duration": 80,
    "start_time": "2021-11-16T01:40:19.881Z"
   },
   {
    "duration": 371,
    "start_time": "2021-11-16T01:41:09.760Z"
   },
   {
    "duration": 31,
    "start_time": "2021-11-16T01:41:23.304Z"
   },
   {
    "duration": 23,
    "start_time": "2021-11-16T01:41:38.183Z"
   },
   {
    "duration": 22,
    "start_time": "2021-11-16T01:41:47.506Z"
   },
   {
    "duration": 29,
    "start_time": "2021-11-16T01:41:53.312Z"
   },
   {
    "duration": 336,
    "start_time": "2021-11-16T01:41:55.969Z"
   },
   {
    "duration": 4,
    "start_time": "2021-11-16T01:43:19.631Z"
   },
   {
    "duration": 67,
    "start_time": "2021-11-16T01:43:19.641Z"
   },
   {
    "duration": 15,
    "start_time": "2021-11-16T01:43:19.712Z"
   },
   {
    "duration": 40,
    "start_time": "2021-11-16T01:43:19.732Z"
   },
   {
    "duration": 16,
    "start_time": "2021-11-16T01:43:19.775Z"
   },
   {
    "duration": 15,
    "start_time": "2021-11-16T01:43:19.794Z"
   },
   {
    "duration": 17,
    "start_time": "2021-11-16T01:43:19.812Z"
   },
   {
    "duration": 39,
    "start_time": "2021-11-16T01:43:19.831Z"
   },
   {
    "duration": 14,
    "start_time": "2021-11-16T01:43:19.872Z"
   },
   {
    "duration": 154,
    "start_time": "2021-11-16T01:43:19.890Z"
   },
   {
    "duration": 354,
    "start_time": "2021-11-16T01:43:20.047Z"
   },
   {
    "duration": 14,
    "start_time": "2021-11-16T01:43:20.404Z"
   },
   {
    "duration": 239,
    "start_time": "2021-11-16T01:43:20.421Z"
   },
   {
    "duration": 29,
    "start_time": "2021-11-16T01:43:20.663Z"
   },
   {
    "duration": 361,
    "start_time": "2021-11-16T01:43:20.694Z"
   },
   {
    "duration": 26,
    "start_time": "2021-11-16T01:43:21.057Z"
   },
   {
    "duration": 10,
    "start_time": "2021-11-16T01:43:21.085Z"
   },
   {
    "duration": 11,
    "start_time": "2021-11-16T01:43:21.097Z"
   },
   {
    "duration": 12,
    "start_time": "2021-11-16T01:43:21.110Z"
   },
   {
    "duration": 45,
    "start_time": "2021-11-16T01:43:21.125Z"
   },
   {
    "duration": 12,
    "start_time": "2021-11-16T01:43:21.173Z"
   },
   {
    "duration": 395,
    "start_time": "2021-11-16T01:43:21.187Z"
   },
   {
    "duration": 17,
    "start_time": "2021-11-16T01:43:21.584Z"
   },
   {
    "duration": 34,
    "start_time": "2021-11-16T01:43:21.604Z"
   },
   {
    "duration": 406,
    "start_time": "2021-11-16T01:43:21.640Z"
   },
   {
    "duration": 1147,
    "start_time": "2021-11-16T01:43:22.049Z"
   },
   {
    "duration": 41,
    "start_time": "2021-11-16T01:43:23.199Z"
   },
   {
    "duration": 577,
    "start_time": "2021-11-16T01:43:23.246Z"
   },
   {
    "duration": 22,
    "start_time": "2021-11-16T01:43:23.826Z"
   },
   {
    "duration": 42,
    "start_time": "2021-11-16T01:43:23.868Z"
   },
   {
    "duration": 4871,
    "start_time": "2021-11-16T01:43:23.913Z"
   },
   {
    "duration": 80,
    "start_time": "2021-11-16T01:43:28.787Z"
   },
   {
    "duration": 1381,
    "start_time": "2021-11-16T01:43:28.870Z"
   },
   {
    "duration": 311,
    "start_time": "2021-11-16T01:44:26.502Z"
   },
   {
    "duration": 11,
    "start_time": "2021-11-16T01:44:37.503Z"
   },
   {
    "duration": 21,
    "start_time": "2021-11-16T01:45:14.892Z"
   },
   {
    "duration": 13,
    "start_time": "2021-11-16T01:47:09.892Z"
   },
   {
    "duration": 21,
    "start_time": "2021-11-16T01:47:15.983Z"
   },
   {
    "duration": 470,
    "start_time": "2021-11-16T01:51:34.336Z"
   },
   {
    "duration": 87,
    "start_time": "2021-11-16T01:52:56.400Z"
   },
   {
    "duration": 477,
    "start_time": "2021-11-16T01:53:01.535Z"
   },
   {
    "duration": 457,
    "start_time": "2021-11-16T01:53:14.564Z"
   },
   {
    "duration": 894,
    "start_time": "2021-11-16T01:54:19.605Z"
   },
   {
    "duration": 918,
    "start_time": "2021-11-16T01:58:22.164Z"
   },
   {
    "duration": 890,
    "start_time": "2021-11-16T01:58:44.513Z"
   },
   {
    "duration": 450,
    "start_time": "2021-11-16T02:02:55.166Z"
   },
   {
    "duration": 1917,
    "start_time": "2021-11-16T02:06:39.074Z"
   },
   {
    "duration": 1094,
    "start_time": "2021-11-16T22:56:56.079Z"
   },
   {
    "duration": 51,
    "start_time": "2021-11-16T22:56:57.174Z"
   },
   {
    "duration": 7,
    "start_time": "2021-11-16T22:56:57.227Z"
   },
   {
    "duration": 6,
    "start_time": "2021-11-16T22:56:57.236Z"
   },
   {
    "duration": 10,
    "start_time": "2021-11-16T22:56:57.244Z"
   },
   {
    "duration": 10,
    "start_time": "2021-11-16T22:56:57.255Z"
   },
   {
    "duration": 27,
    "start_time": "2021-11-16T22:56:57.266Z"
   },
   {
    "duration": 6,
    "start_time": "2021-11-16T22:56:57.295Z"
   },
   {
    "duration": 8,
    "start_time": "2021-11-16T22:56:57.305Z"
   },
   {
    "duration": 9,
    "start_time": "2021-11-16T22:56:57.316Z"
   },
   {
    "duration": 205,
    "start_time": "2021-11-16T22:56:57.327Z"
   },
   {
    "duration": 9,
    "start_time": "2021-11-16T22:56:57.534Z"
   },
   {
    "duration": 127,
    "start_time": "2021-11-16T22:56:57.545Z"
   },
   {
    "duration": 21,
    "start_time": "2021-11-16T22:56:57.674Z"
   },
   {
    "duration": 191,
    "start_time": "2021-11-16T22:56:57.697Z"
   },
   {
    "duration": 1050,
    "start_time": "2021-11-16T22:56:57.889Z"
   },
   {
    "duration": 6456,
    "start_time": "2021-11-16T22:56:58.940Z"
   },
   {
    "duration": 270,
    "start_time": "2021-11-16T22:57:05.129Z"
   },
   {
    "duration": 260,
    "start_time": "2021-11-16T22:57:05.140Z"
   },
   {
    "duration": 250,
    "start_time": "2021-11-16T22:57:05.151Z"
   },
   {
    "duration": 227,
    "start_time": "2021-11-16T22:57:05.175Z"
   },
   {
    "duration": 218,
    "start_time": "2021-11-16T22:57:05.186Z"
   },
   {
    "duration": 207,
    "start_time": "2021-11-16T22:57:05.198Z"
   },
   {
    "duration": 196,
    "start_time": "2021-11-16T22:57:05.210Z"
   },
   {
    "duration": 187,
    "start_time": "2021-11-16T22:57:05.221Z"
   },
   {
    "duration": 175,
    "start_time": "2021-11-16T22:57:05.234Z"
   },
   {
    "duration": 162,
    "start_time": "2021-11-16T22:57:05.248Z"
   },
   {
    "duration": 155,
    "start_time": "2021-11-16T22:57:05.257Z"
   },
   {
    "duration": 148,
    "start_time": "2021-11-16T22:57:05.265Z"
   },
   {
    "duration": 133,
    "start_time": "2021-11-16T22:57:05.281Z"
   },
   {
    "duration": 124,
    "start_time": "2021-11-16T22:57:05.291Z"
   },
   {
    "duration": 115,
    "start_time": "2021-11-16T22:57:05.302Z"
   },
   {
    "duration": 107,
    "start_time": "2021-11-16T22:57:05.311Z"
   },
   {
    "duration": 372,
    "start_time": "2021-11-16T23:59:19.877Z"
   },
   {
    "duration": 115,
    "start_time": "2021-11-17T00:09:05.899Z"
   },
   {
    "duration": 462,
    "start_time": "2021-11-17T00:09:17.282Z"
   },
   {
    "duration": 401,
    "start_time": "2021-11-17T00:09:57.405Z"
   },
   {
    "duration": 610,
    "start_time": "2021-11-17T00:10:12.199Z"
   },
   {
    "duration": 605,
    "start_time": "2021-11-17T00:10:25.834Z"
   },
   {
    "duration": 253,
    "start_time": "2021-11-17T00:10:33.426Z"
   },
   {
    "duration": 265,
    "start_time": "2021-11-17T00:10:40.980Z"
   },
   {
    "duration": 223,
    "start_time": "2021-11-17T00:10:49.536Z"
   },
   {
    "duration": 465,
    "start_time": "2021-11-17T00:11:07.930Z"
   },
   {
    "duration": 429,
    "start_time": "2021-11-17T00:11:22.160Z"
   },
   {
    "duration": 8,
    "start_time": "2021-11-17T00:11:47.055Z"
   },
   {
    "duration": 347,
    "start_time": "2021-11-17T00:13:58.315Z"
   },
   {
    "duration": 6,
    "start_time": "2021-11-17T00:14:06.285Z"
   },
   {
    "duration": 260,
    "start_time": "2021-11-17T00:14:48.948Z"
   },
   {
    "duration": 6,
    "start_time": "2021-11-17T00:14:53.178Z"
   },
   {
    "duration": 313,
    "start_time": "2021-11-17T00:15:30.840Z"
   },
   {
    "duration": 9,
    "start_time": "2021-11-17T00:15:37.163Z"
   },
   {
    "duration": 422,
    "start_time": "2021-11-17T00:15:59.266Z"
   },
   {
    "duration": 302,
    "start_time": "2021-11-17T00:16:06.673Z"
   },
   {
    "duration": 224,
    "start_time": "2021-11-17T00:16:12.635Z"
   },
   {
    "duration": 249,
    "start_time": "2021-11-17T00:16:18.913Z"
   },
   {
    "duration": 6699,
    "start_time": "2021-11-17T00:17:09.657Z"
   },
   {
    "duration": 6967,
    "start_time": "2021-11-17T00:17:39.203Z"
   },
   {
    "duration": 7682,
    "start_time": "2021-11-17T00:18:15.303Z"
   },
   {
    "duration": 267,
    "start_time": "2021-11-17T00:19:00.253Z"
   },
   {
    "duration": 1518,
    "start_time": "2021-11-17T21:15:38.861Z"
   },
   {
    "duration": 67,
    "start_time": "2021-11-17T21:15:40.382Z"
   },
   {
    "duration": 15,
    "start_time": "2021-11-17T21:15:40.452Z"
   },
   {
    "duration": 6,
    "start_time": "2021-11-17T21:15:40.471Z"
   },
   {
    "duration": 15,
    "start_time": "2021-11-17T21:15:40.480Z"
   },
   {
    "duration": 12,
    "start_time": "2021-11-17T21:15:40.497Z"
   },
   {
    "duration": 16,
    "start_time": "2021-11-17T21:15:40.511Z"
   },
   {
    "duration": 8,
    "start_time": "2021-11-17T21:15:40.568Z"
   },
   {
    "duration": 17,
    "start_time": "2021-11-17T21:15:40.579Z"
   },
   {
    "duration": 16,
    "start_time": "2021-11-17T21:15:40.599Z"
   },
   {
    "duration": 372,
    "start_time": "2021-11-17T21:15:40.617Z"
   },
   {
    "duration": 14,
    "start_time": "2021-11-17T21:15:40.992Z"
   },
   {
    "duration": 247,
    "start_time": "2021-11-17T21:15:41.009Z"
   },
   {
    "duration": 37,
    "start_time": "2021-11-17T21:15:41.258Z"
   },
   {
    "duration": 354,
    "start_time": "2021-11-17T21:15:41.298Z"
   },
   {
    "duration": 401,
    "start_time": "2021-11-17T21:15:41.654Z"
   },
   {
    "duration": 14,
    "start_time": "2021-11-17T21:15:42.058Z"
   },
   {
    "duration": 6481,
    "start_time": "2021-11-17T21:15:42.075Z"
   },
   {
    "duration": 73,
    "start_time": "2021-11-17T21:15:48.486Z"
   },
   {
    "duration": 68,
    "start_time": "2021-11-17T21:15:48.492Z"
   },
   {
    "duration": 63,
    "start_time": "2021-11-17T21:15:48.499Z"
   },
   {
    "duration": 57,
    "start_time": "2021-11-17T21:15:48.506Z"
   },
   {
    "duration": 56,
    "start_time": "2021-11-17T21:15:48.509Z"
   },
   {
    "duration": 54,
    "start_time": "2021-11-17T21:15:48.512Z"
   },
   {
    "duration": 53,
    "start_time": "2021-11-17T21:15:48.515Z"
   },
   {
    "duration": 51,
    "start_time": "2021-11-17T21:15:48.518Z"
   },
   {
    "duration": 48,
    "start_time": "2021-11-17T21:15:48.523Z"
   },
   {
    "duration": 45,
    "start_time": "2021-11-17T21:15:48.527Z"
   },
   {
    "duration": 43,
    "start_time": "2021-11-17T21:15:48.530Z"
   },
   {
    "duration": 42,
    "start_time": "2021-11-17T21:15:48.533Z"
   },
   {
    "duration": 39,
    "start_time": "2021-11-17T21:15:48.537Z"
   },
   {
    "duration": 38,
    "start_time": "2021-11-17T21:15:48.540Z"
   },
   {
    "duration": 37,
    "start_time": "2021-11-17T21:15:48.543Z"
   },
   {
    "duration": 34,
    "start_time": "2021-11-17T21:15:48.547Z"
   },
   {
    "duration": 323,
    "start_time": "2021-11-18T13:00:41.415Z"
   },
   {
    "duration": 1458,
    "start_time": "2021-11-18T13:00:45.696Z"
   },
   {
    "duration": 69,
    "start_time": "2021-11-18T13:00:47.157Z"
   },
   {
    "duration": 12,
    "start_time": "2021-11-18T13:00:47.229Z"
   },
   {
    "duration": 27,
    "start_time": "2021-11-18T13:00:47.243Z"
   },
   {
    "duration": 16,
    "start_time": "2021-11-18T13:00:47.273Z"
   },
   {
    "duration": 18,
    "start_time": "2021-11-18T13:00:47.291Z"
   },
   {
    "duration": 23,
    "start_time": "2021-11-18T13:00:47.312Z"
   },
   {
    "duration": 32,
    "start_time": "2021-11-18T13:00:47.338Z"
   },
   {
    "duration": 19,
    "start_time": "2021-11-18T13:00:47.374Z"
   },
   {
    "duration": 29,
    "start_time": "2021-11-18T13:00:47.396Z"
   },
   {
    "duration": 354,
    "start_time": "2021-11-18T13:00:47.428Z"
   },
   {
    "duration": 15,
    "start_time": "2021-11-18T13:00:47.785Z"
   },
   {
    "duration": 241,
    "start_time": "2021-11-18T13:00:47.802Z"
   },
   {
    "duration": 42,
    "start_time": "2021-11-18T13:00:48.045Z"
   },
   {
    "duration": 349,
    "start_time": "2021-11-18T13:00:48.089Z"
   },
   {
    "duration": 412,
    "start_time": "2021-11-18T13:00:48.448Z"
   },
   {
    "duration": 364,
    "start_time": "2021-11-18T13:00:48.863Z"
   },
   {
    "duration": 17,
    "start_time": "2021-11-18T13:00:49.229Z"
   },
   {
    "duration": 54,
    "start_time": "2021-11-18T13:00:49.248Z"
   },
   {
    "duration": 371,
    "start_time": "2021-11-18T13:00:49.305Z"
   },
   {
    "duration": 1469,
    "start_time": "2021-11-18T13:00:49.679Z"
   },
   {
    "duration": 31,
    "start_time": "2021-11-18T13:00:51.151Z"
   },
   {
    "duration": 408,
    "start_time": "2021-11-18T13:00:51.185Z"
   },
   {
    "duration": 16,
    "start_time": "2021-11-18T13:00:51.596Z"
   },
   {
    "duration": 52,
    "start_time": "2021-11-18T13:00:51.615Z"
   },
   {
    "duration": 3498,
    "start_time": "2021-11-18T13:00:51.670Z"
   },
   {
    "duration": 61,
    "start_time": "2021-11-18T13:00:55.173Z"
   },
   {
    "duration": 1310,
    "start_time": "2021-11-18T13:00:55.237Z"
   },
   {
    "duration": 11,
    "start_time": "2021-11-18T13:03:04.182Z"
   },
   {
    "duration": 372,
    "start_time": "2021-11-18T13:05:01.085Z"
   },
   {
    "duration": 11,
    "start_time": "2021-11-18T13:05:13.598Z"
   },
   {
    "duration": 11,
    "start_time": "2021-11-18T13:11:15.972Z"
   },
   {
    "duration": 11,
    "start_time": "2021-11-18T13:11:20.392Z"
   },
   {
    "duration": 429,
    "start_time": "2021-11-18T13:11:23.441Z"
   },
   {
    "duration": 11,
    "start_time": "2021-11-18T13:11:25.887Z"
   },
   {
    "duration": 88,
    "start_time": "2021-11-18T13:33:27.635Z"
   },
   {
    "duration": 546,
    "start_time": "2021-11-18T14:03:30.812Z"
   },
   {
    "duration": 363,
    "start_time": "2021-11-18T14:04:14.517Z"
   },
   {
    "duration": 94,
    "start_time": "2021-11-18T14:13:59.970Z"
   },
   {
    "duration": 380,
    "start_time": "2021-11-18T14:16:29.166Z"
   },
   {
    "duration": 23,
    "start_time": "2021-11-18T14:16:47.158Z"
   },
   {
    "duration": 280,
    "start_time": "2021-11-18T14:17:35.121Z"
   },
   {
    "duration": 13,
    "start_time": "2021-11-18T14:18:07.512Z"
   },
   {
    "duration": 14,
    "start_time": "2021-11-18T14:18:37.608Z"
   },
   {
    "duration": 19,
    "start_time": "2021-11-18T14:19:52.395Z"
   },
   {
    "duration": 21,
    "start_time": "2021-11-18T14:20:28.437Z"
   },
   {
    "duration": 18,
    "start_time": "2021-11-18T14:21:20.240Z"
   },
   {
    "duration": 116,
    "start_time": "2021-11-18T14:24:55.733Z"
   },
   {
    "duration": 58,
    "start_time": "2021-11-18T14:26:25.374Z"
   },
   {
    "duration": 1287,
    "start_time": "2021-11-18T14:26:35.862Z"
   },
   {
    "duration": 1291,
    "start_time": "2021-11-18T14:27:50.548Z"
   },
   {
    "duration": 86,
    "start_time": "2021-11-18T14:28:28.228Z"
   },
   {
    "duration": 93,
    "start_time": "2021-11-18T15:09:01.343Z"
   },
   {
    "duration": 4,
    "start_time": "2021-11-18T15:14:18.621Z"
   },
   {
    "duration": 66,
    "start_time": "2021-11-18T15:14:18.629Z"
   },
   {
    "duration": 11,
    "start_time": "2021-11-18T15:14:18.698Z"
   },
   {
    "duration": 11,
    "start_time": "2021-11-18T15:14:18.712Z"
   },
   {
    "duration": 14,
    "start_time": "2021-11-18T15:14:18.725Z"
   },
   {
    "duration": 9,
    "start_time": "2021-11-18T15:14:18.766Z"
   },
   {
    "duration": 14,
    "start_time": "2021-11-18T15:14:18.777Z"
   },
   {
    "duration": 8,
    "start_time": "2021-11-18T15:14:18.795Z"
   },
   {
    "duration": 18,
    "start_time": "2021-11-18T15:14:18.806Z"
   },
   {
    "duration": 16,
    "start_time": "2021-11-18T15:14:18.868Z"
   },
   {
    "duration": 344,
    "start_time": "2021-11-18T15:14:18.887Z"
   },
   {
    "duration": 14,
    "start_time": "2021-11-18T15:14:19.233Z"
   },
   {
    "duration": 250,
    "start_time": "2021-11-18T15:14:19.249Z"
   },
   {
    "duration": 29,
    "start_time": "2021-11-18T15:14:19.501Z"
   },
   {
    "duration": 356,
    "start_time": "2021-11-18T15:14:19.533Z"
   },
   {
    "duration": 402,
    "start_time": "2021-11-18T15:14:19.892Z"
   },
   {
    "duration": 10,
    "start_time": "2021-11-18T15:14:20.296Z"
   },
   {
    "duration": 363,
    "start_time": "2021-11-18T15:14:20.308Z"
   },
   {
    "duration": 18,
    "start_time": "2021-11-18T15:14:20.673Z"
   },
   {
    "duration": 40,
    "start_time": "2021-11-18T15:14:20.693Z"
   },
   {
    "duration": 471,
    "start_time": "2021-11-18T15:14:20.736Z"
   },
   {
    "duration": 1297,
    "start_time": "2021-11-18T15:14:21.209Z"
   },
   {
    "duration": 28,
    "start_time": "2021-11-18T15:14:22.511Z"
   },
   {
    "duration": 379,
    "start_time": "2021-11-18T15:14:22.543Z"
   },
   {
    "duration": 15,
    "start_time": "2021-11-18T15:14:22.925Z"
   },
   {
    "duration": 52,
    "start_time": "2021-11-18T15:14:22.942Z"
   },
   {
    "duration": 3275,
    "start_time": "2021-11-18T15:14:22.996Z"
   },
   {
    "duration": 63,
    "start_time": "2021-11-18T15:14:26.274Z"
   },
   {
    "duration": 1312,
    "start_time": "2021-11-18T15:14:26.340Z"
   },
   {
    "duration": 349,
    "start_time": "2021-11-19T20:15:55.372Z"
   },
   {
    "duration": 1595,
    "start_time": "2021-11-19T20:16:13.954Z"
   },
   {
    "duration": 68,
    "start_time": "2021-11-19T20:16:15.551Z"
   },
   {
    "duration": 12,
    "start_time": "2021-11-19T20:16:15.622Z"
   },
   {
    "duration": 8,
    "start_time": "2021-11-19T20:16:15.637Z"
   },
   {
    "duration": 33,
    "start_time": "2021-11-19T20:16:15.647Z"
   },
   {
    "duration": 12,
    "start_time": "2021-11-19T20:16:15.684Z"
   },
   {
    "duration": 23,
    "start_time": "2021-11-19T20:16:15.699Z"
   },
   {
    "duration": 44,
    "start_time": "2021-11-19T20:16:15.726Z"
   },
   {
    "duration": 20,
    "start_time": "2021-11-19T20:16:15.776Z"
   },
   {
    "duration": 21,
    "start_time": "2021-11-19T20:16:15.800Z"
   },
   {
    "duration": 404,
    "start_time": "2021-11-19T20:16:15.824Z"
   },
   {
    "duration": 16,
    "start_time": "2021-11-19T20:16:16.230Z"
   },
   {
    "duration": 322,
    "start_time": "2021-11-19T20:16:16.249Z"
   },
   {
    "duration": 56,
    "start_time": "2021-11-19T20:16:16.574Z"
   },
   {
    "duration": 391,
    "start_time": "2021-11-19T20:16:16.633Z"
   },
   {
    "duration": 481,
    "start_time": "2021-11-19T20:16:17.026Z"
   },
   {
    "duration": 11,
    "start_time": "2021-11-19T20:16:17.509Z"
   },
   {
    "duration": 392,
    "start_time": "2021-11-19T20:16:17.523Z"
   },
   {
    "duration": 18,
    "start_time": "2021-11-19T20:16:17.918Z"
   },
   {
    "duration": 57,
    "start_time": "2021-11-19T20:16:17.938Z"
   },
   {
    "duration": 388,
    "start_time": "2021-11-19T20:16:17.998Z"
   },
   {
    "duration": 1457,
    "start_time": "2021-11-19T20:16:18.388Z"
   },
   {
    "duration": 32,
    "start_time": "2021-11-19T20:16:19.848Z"
   },
   {
    "duration": 419,
    "start_time": "2021-11-19T20:16:19.882Z"
   },
   {
    "duration": 18,
    "start_time": "2021-11-19T20:16:20.304Z"
   },
   {
    "duration": 59,
    "start_time": "2021-11-19T20:16:20.325Z"
   },
   {
    "duration": 3525,
    "start_time": "2021-11-19T20:16:20.391Z"
   },
   {
    "duration": 87,
    "start_time": "2021-11-19T20:16:23.920Z"
   },
   {
    "duration": 1445,
    "start_time": "2021-11-19T20:16:24.010Z"
   },
   {
    "duration": 34,
    "start_time": "2021-11-19T20:17:14.662Z"
   },
   {
    "duration": 35,
    "start_time": "2021-11-19T20:17:24.175Z"
   },
   {
    "duration": 32,
    "start_time": "2021-11-19T20:17:45.061Z"
   },
   {
    "duration": 44,
    "start_time": "2021-11-19T20:18:02.981Z"
   },
   {
    "duration": 35,
    "start_time": "2021-11-19T20:18:47.940Z"
   },
   {
    "duration": 34,
    "start_time": "2021-11-19T20:19:14.438Z"
   },
   {
    "duration": 35,
    "start_time": "2021-11-19T20:19:28.990Z"
   },
   {
    "duration": 363,
    "start_time": "2021-11-19T20:21:16.783Z"
   },
   {
    "duration": 353,
    "start_time": "2021-11-19T20:22:34.234Z"
   },
   {
    "duration": 97,
    "start_time": "2021-11-19T20:36:51.473Z"
   },
   {
    "duration": 414,
    "start_time": "2021-11-19T20:38:30.028Z"
   },
   {
    "duration": 546,
    "start_time": "2021-11-19T20:39:06.898Z"
   },
   {
    "duration": 14,
    "start_time": "2021-11-19T20:39:19.003Z"
   },
   {
    "duration": 292,
    "start_time": "2021-11-20T07:51:11.558Z"
   },
   {
    "duration": 247,
    "start_time": "2021-11-20T07:51:40.495Z"
   },
   {
    "duration": 255,
    "start_time": "2021-11-20T07:51:48.684Z"
   },
   {
    "duration": 1155,
    "start_time": "2021-11-20T07:51:58.663Z"
   },
   {
    "duration": 55,
    "start_time": "2021-11-20T07:51:59.820Z"
   },
   {
    "duration": 9,
    "start_time": "2021-11-20T07:51:59.876Z"
   },
   {
    "duration": 4,
    "start_time": "2021-11-20T07:51:59.887Z"
   },
   {
    "duration": 11,
    "start_time": "2021-11-20T07:51:59.892Z"
   },
   {
    "duration": 8,
    "start_time": "2021-11-20T07:51:59.904Z"
   },
   {
    "duration": 11,
    "start_time": "2021-11-20T07:51:59.914Z"
   },
   {
    "duration": 6,
    "start_time": "2021-11-20T07:51:59.927Z"
   },
   {
    "duration": 34,
    "start_time": "2021-11-20T07:51:59.935Z"
   },
   {
    "duration": 9,
    "start_time": "2021-11-20T07:51:59.971Z"
   },
   {
    "duration": 222,
    "start_time": "2021-11-20T07:51:59.982Z"
   },
   {
    "duration": 10,
    "start_time": "2021-11-20T07:52:00.206Z"
   },
   {
    "duration": 150,
    "start_time": "2021-11-20T07:52:00.217Z"
   },
   {
    "duration": 23,
    "start_time": "2021-11-20T07:52:00.368Z"
   },
   {
    "duration": 217,
    "start_time": "2021-11-20T07:52:00.393Z"
   },
   {
    "duration": 310,
    "start_time": "2021-11-20T07:52:00.612Z"
   },
   {
    "duration": 11,
    "start_time": "2021-11-20T07:52:00.924Z"
   },
   {
    "duration": 9,
    "start_time": "2021-11-20T07:52:00.938Z"
   },
   {
    "duration": 216,
    "start_time": "2021-11-20T07:52:00.963Z"
   },
   {
    "duration": 14,
    "start_time": "2021-11-20T07:52:01.182Z"
   },
   {
    "duration": 65,
    "start_time": "2021-11-20T07:52:01.198Z"
   },
   {
    "duration": 226,
    "start_time": "2021-11-20T07:52:01.265Z"
   },
   {
    "duration": 1497,
    "start_time": "2021-11-20T07:52:01.494Z"
   },
   {
    "duration": 18,
    "start_time": "2021-11-20T07:52:02.993Z"
   },
   {
    "duration": 230,
    "start_time": "2021-11-20T07:52:03.012Z"
   },
   {
    "duration": 11,
    "start_time": "2021-11-20T07:52:03.244Z"
   },
   {
    "duration": 91,
    "start_time": "2021-11-20T07:52:03.263Z"
   },
   {
    "duration": 1957,
    "start_time": "2021-11-20T07:52:03.356Z"
   },
   {
    "duration": 51,
    "start_time": "2021-11-20T07:52:05.315Z"
   },
   {
    "duration": 797,
    "start_time": "2021-11-20T07:52:05.368Z"
   },
   {
    "duration": 4,
    "start_time": "2021-11-20T07:52:27.914Z"
   },
   {
    "duration": 11,
    "start_time": "2021-11-20T07:52:33.532Z"
   },
   {
    "duration": 444,
    "start_time": "2021-11-20T12:17:23.682Z"
   },
   {
    "duration": 398,
    "start_time": "2021-11-20T12:18:26.383Z"
   },
   {
    "duration": 1508,
    "start_time": "2021-11-20T12:18:47.447Z"
   },
   {
    "duration": 67,
    "start_time": "2021-11-20T12:18:48.959Z"
   },
   {
    "duration": 12,
    "start_time": "2021-11-20T12:18:49.028Z"
   },
   {
    "duration": 18,
    "start_time": "2021-11-20T12:18:49.043Z"
   },
   {
    "duration": 14,
    "start_time": "2021-11-20T12:18:49.063Z"
   },
   {
    "duration": 10,
    "start_time": "2021-11-20T12:18:49.080Z"
   },
   {
    "duration": 15,
    "start_time": "2021-11-20T12:18:49.092Z"
   },
   {
    "duration": 8,
    "start_time": "2021-11-20T12:18:49.110Z"
   },
   {
    "duration": 53,
    "start_time": "2021-11-20T12:18:49.121Z"
   },
   {
    "duration": 16,
    "start_time": "2021-11-20T12:18:49.178Z"
   },
   {
    "duration": 349,
    "start_time": "2021-11-20T12:18:49.197Z"
   },
   {
    "duration": 23,
    "start_time": "2021-11-20T12:18:49.549Z"
   },
   {
    "duration": 223,
    "start_time": "2021-11-20T12:18:49.574Z"
   },
   {
    "duration": 38,
    "start_time": "2021-11-20T12:18:49.800Z"
   },
   {
    "duration": 341,
    "start_time": "2021-11-20T12:18:49.841Z"
   },
   {
    "duration": 402,
    "start_time": "2021-11-20T12:18:50.185Z"
   },
   {
    "duration": 16,
    "start_time": "2021-11-20T12:18:50.590Z"
   },
   {
    "duration": 406,
    "start_time": "2021-11-20T12:18:50.609Z"
   },
   {
    "duration": 26,
    "start_time": "2021-11-20T12:18:51.018Z"
   },
   {
    "duration": 56,
    "start_time": "2021-11-20T12:18:51.060Z"
   },
   {
    "duration": 406,
    "start_time": "2021-11-20T12:18:51.119Z"
   },
   {
    "duration": 1276,
    "start_time": "2021-11-20T12:18:51.527Z"
   },
   {
    "duration": 29,
    "start_time": "2021-11-20T12:18:52.805Z"
   },
   {
    "duration": 364,
    "start_time": "2021-11-20T12:18:52.836Z"
   },
   {
    "duration": 14,
    "start_time": "2021-11-20T12:18:53.204Z"
   },
   {
    "duration": 48,
    "start_time": "2021-11-20T12:18:53.221Z"
   },
   {
    "duration": 3292,
    "start_time": "2021-11-20T12:18:53.274Z"
   },
   {
    "duration": 60,
    "start_time": "2021-11-20T12:18:56.568Z"
   },
   {
    "duration": 1242,
    "start_time": "2021-11-20T12:18:56.631Z"
   },
   {
    "duration": 14,
    "start_time": "2021-11-20T12:22:53.540Z"
   },
   {
    "duration": 16,
    "start_time": "2021-11-20T12:23:40.770Z"
   },
   {
    "duration": 15,
    "start_time": "2021-11-20T12:24:55.928Z"
   },
   {
    "duration": 15,
    "start_time": "2021-11-20T12:26:34.084Z"
   },
   {
    "duration": 15,
    "start_time": "2021-11-20T12:29:05.481Z"
   },
   {
    "duration": 12,
    "start_time": "2021-11-20T12:30:21.401Z"
   },
   {
    "duration": 11,
    "start_time": "2021-11-20T12:31:02.211Z"
   },
   {
    "duration": 125,
    "start_time": "2021-11-20T12:33:22.190Z"
   },
   {
    "duration": 4,
    "start_time": "2021-11-20T12:41:15.262Z"
   },
   {
    "duration": 70,
    "start_time": "2021-11-20T12:41:15.269Z"
   },
   {
    "duration": 27,
    "start_time": "2021-11-20T12:41:15.343Z"
   },
   {
    "duration": 6,
    "start_time": "2021-11-20T12:41:15.373Z"
   },
   {
    "duration": 15,
    "start_time": "2021-11-20T12:41:15.381Z"
   },
   {
    "duration": 10,
    "start_time": "2021-11-20T12:41:15.398Z"
   },
   {
    "duration": 60,
    "start_time": "2021-11-20T12:41:15.411Z"
   },
   {
    "duration": 18,
    "start_time": "2021-11-20T12:41:15.473Z"
   },
   {
    "duration": 28,
    "start_time": "2021-11-20T12:41:15.495Z"
   },
   {
    "duration": 20,
    "start_time": "2021-11-20T12:41:15.526Z"
   },
   {
    "duration": 322,
    "start_time": "2021-11-20T12:41:15.549Z"
   },
   {
    "duration": 15,
    "start_time": "2021-11-20T12:41:15.873Z"
   },
   {
    "duration": 232,
    "start_time": "2021-11-20T12:41:15.890Z"
   },
   {
    "duration": 46,
    "start_time": "2021-11-20T12:41:16.124Z"
   },
   {
    "duration": 451,
    "start_time": "2021-11-20T12:41:16.173Z"
   },
   {
    "duration": 461,
    "start_time": "2021-11-20T12:41:16.627Z"
   },
   {
    "duration": 12,
    "start_time": "2021-11-20T12:41:17.091Z"
   },
   {
    "duration": 370,
    "start_time": "2021-11-20T12:41:17.106Z"
   },
   {
    "duration": 17,
    "start_time": "2021-11-20T12:41:17.478Z"
   },
   {
    "duration": 33,
    "start_time": "2021-11-20T12:41:17.497Z"
   },
   {
    "duration": 389,
    "start_time": "2021-11-20T12:41:17.533Z"
   },
   {
    "duration": 1207,
    "start_time": "2021-11-20T12:41:17.925Z"
   },
   {
    "duration": 29,
    "start_time": "2021-11-20T12:41:19.134Z"
   },
   {
    "duration": 364,
    "start_time": "2021-11-20T12:41:19.165Z"
   },
   {
    "duration": 29,
    "start_time": "2021-11-20T12:41:19.531Z"
   },
   {
    "duration": 29,
    "start_time": "2021-11-20T12:41:19.562Z"
   },
   {
    "duration": 3107,
    "start_time": "2021-11-20T12:41:19.596Z"
   },
   {
    "duration": 75,
    "start_time": "2021-11-20T12:41:22.706Z"
   },
   {
    "duration": 1268,
    "start_time": "2021-11-20T12:41:22.783Z"
   },
   {
    "duration": 56,
    "start_time": "2021-11-20T12:41:37.129Z"
   },
   {
    "duration": 13,
    "start_time": "2021-11-20T12:42:06.189Z"
   },
   {
    "duration": 1145,
    "start_time": "2021-11-21T07:03:25.387Z"
   },
   {
    "duration": 55,
    "start_time": "2021-11-21T07:03:26.534Z"
   },
   {
    "duration": 8,
    "start_time": "2021-11-21T07:03:26.591Z"
   },
   {
    "duration": 22,
    "start_time": "2021-11-21T07:03:26.601Z"
   },
   {
    "duration": 42,
    "start_time": "2021-11-21T07:03:26.624Z"
   },
   {
    "duration": 35,
    "start_time": "2021-11-21T07:03:26.668Z"
   },
   {
    "duration": 27,
    "start_time": "2021-11-21T07:03:26.705Z"
   },
   {
    "duration": 33,
    "start_time": "2021-11-21T07:03:26.734Z"
   },
   {
    "duration": 12,
    "start_time": "2021-11-21T07:03:26.770Z"
   },
   {
    "duration": 11,
    "start_time": "2021-11-21T07:03:26.784Z"
   },
   {
    "duration": 219,
    "start_time": "2021-11-21T07:03:26.796Z"
   },
   {
    "duration": 11,
    "start_time": "2021-11-21T07:03:27.017Z"
   },
   {
    "duration": 152,
    "start_time": "2021-11-21T07:03:27.030Z"
   },
   {
    "duration": 29,
    "start_time": "2021-11-21T07:03:27.184Z"
   },
   {
    "duration": 214,
    "start_time": "2021-11-21T07:03:27.215Z"
   },
   {
    "duration": 354,
    "start_time": "2021-11-21T07:03:27.430Z"
   },
   {
    "duration": 10,
    "start_time": "2021-11-21T07:03:27.786Z"
   },
   {
    "duration": 224,
    "start_time": "2021-11-21T07:03:27.798Z"
   },
   {
    "duration": 12,
    "start_time": "2021-11-21T07:03:28.024Z"
   },
   {
    "duration": 38,
    "start_time": "2021-11-21T07:03:28.038Z"
   },
   {
    "duration": 234,
    "start_time": "2021-11-21T07:03:28.078Z"
   },
   {
    "duration": 1656,
    "start_time": "2021-11-21T07:03:28.314Z"
   },
   {
    "duration": 20,
    "start_time": "2021-11-21T07:03:29.972Z"
   },
   {
    "duration": 250,
    "start_time": "2021-11-21T07:03:29.994Z"
   },
   {
    "duration": 20,
    "start_time": "2021-11-21T07:03:30.245Z"
   },
   {
    "duration": 21,
    "start_time": "2021-11-21T07:03:30.267Z"
   },
   {
    "duration": 1957,
    "start_time": "2021-11-21T07:03:30.291Z"
   },
   {
    "duration": 46,
    "start_time": "2021-11-21T07:03:32.249Z"
   },
   {
    "duration": 792,
    "start_time": "2021-11-21T07:03:32.297Z"
   },
   {
    "duration": 1398,
    "start_time": "2022-10-11T21:09:55.975Z"
   },
   {
    "duration": 162,
    "start_time": "2022-10-11T21:09:57.376Z"
   },
   {
    "duration": 16,
    "start_time": "2022-10-11T21:09:57.539Z"
   },
   {
    "duration": 18,
    "start_time": "2022-10-11T21:09:57.557Z"
   },
   {
    "duration": 61,
    "start_time": "2022-10-11T21:09:57.578Z"
   },
   {
    "duration": 43,
    "start_time": "2022-10-11T21:09:57.641Z"
   },
   {
    "duration": 61,
    "start_time": "2022-10-11T21:09:57.686Z"
   },
   {
    "duration": 33,
    "start_time": "2022-10-11T21:09:57.750Z"
   },
   {
    "duration": 57,
    "start_time": "2022-10-11T21:09:57.785Z"
   },
   {
    "duration": 19,
    "start_time": "2022-10-11T21:09:57.845Z"
   },
   {
    "duration": 275,
    "start_time": "2022-10-11T21:09:57.866Z"
   },
   {
    "duration": 11,
    "start_time": "2022-10-11T21:09:58.144Z"
   },
   {
    "duration": 169,
    "start_time": "2022-10-11T21:09:58.157Z"
   },
   {
    "duration": 35,
    "start_time": "2022-10-11T21:09:58.328Z"
   },
   {
    "duration": 242,
    "start_time": "2022-10-11T21:09:58.366Z"
   },
   {
    "duration": 204,
    "start_time": "2022-10-11T21:09:58.615Z"
   },
   {
    "duration": 14,
    "start_time": "2022-10-11T21:09:58.821Z"
   },
   {
    "duration": 267,
    "start_time": "2022-10-11T21:09:58.837Z"
   },
   {
    "duration": 23,
    "start_time": "2022-10-11T21:09:59.106Z"
   },
   {
    "duration": 44,
    "start_time": "2022-10-11T21:09:59.131Z"
   },
   {
    "duration": 259,
    "start_time": "2022-10-11T21:09:59.177Z"
   },
   {
    "duration": 1418,
    "start_time": "2022-10-11T21:09:59.438Z"
   },
   {
    "duration": 22,
    "start_time": "2022-10-11T21:10:00.858Z"
   },
   {
    "duration": 280,
    "start_time": "2022-10-11T21:10:00.882Z"
   },
   {
    "duration": 15,
    "start_time": "2022-10-11T21:10:01.164Z"
   },
   {
    "duration": 57,
    "start_time": "2022-10-11T21:10:01.189Z"
   },
   {
    "duration": 2909,
    "start_time": "2022-10-11T21:10:01.248Z"
   },
   {
    "duration": 72,
    "start_time": "2022-10-11T21:10:04.162Z"
   },
   {
    "duration": 1092,
    "start_time": "2022-10-11T21:10:04.236Z"
   },
   {
    "duration": 137,
    "start_time": "2022-10-11T21:47:43.162Z"
   },
   {
    "duration": 125,
    "start_time": "2022-10-11T21:47:47.933Z"
   },
   {
    "duration": 135,
    "start_time": "2022-10-11T21:48:41.045Z"
   },
   {
    "duration": 6,
    "start_time": "2022-10-11T21:49:07.206Z"
   },
   {
    "duration": 1294,
    "start_time": "2022-10-11T21:49:15.957Z"
   },
   {
    "duration": 98,
    "start_time": "2022-10-11T21:49:17.253Z"
   },
   {
    "duration": 18,
    "start_time": "2022-10-11T21:49:17.354Z"
   },
   {
    "duration": 19,
    "start_time": "2022-10-11T21:49:17.375Z"
   },
   {
    "duration": 21,
    "start_time": "2022-10-11T21:49:17.405Z"
   },
   {
    "duration": 11,
    "start_time": "2022-10-11T21:49:17.428Z"
   },
   {
    "duration": 23,
    "start_time": "2022-10-11T21:49:17.440Z"
   },
   {
    "duration": 53,
    "start_time": "2022-10-11T21:49:17.465Z"
   },
   {
    "duration": 17,
    "start_time": "2022-10-11T21:49:17.520Z"
   },
   {
    "duration": 17,
    "start_time": "2022-10-11T21:49:17.540Z"
   },
   {
    "duration": 306,
    "start_time": "2022-10-11T21:49:17.559Z"
   },
   {
    "duration": 35,
    "start_time": "2022-10-11T21:49:17.867Z"
   },
   {
    "duration": 169,
    "start_time": "2022-10-11T21:49:17.905Z"
   },
   {
    "duration": 45,
    "start_time": "2022-10-11T21:49:18.077Z"
   },
   {
    "duration": 242,
    "start_time": "2022-10-11T21:49:18.124Z"
   },
   {
    "duration": 247,
    "start_time": "2022-10-11T21:49:18.368Z"
   },
   {
    "duration": 13,
    "start_time": "2022-10-11T21:49:18.618Z"
   },
   {
    "duration": 240,
    "start_time": "2022-10-11T21:49:18.632Z"
   },
   {
    "duration": 34,
    "start_time": "2022-10-11T21:49:18.874Z"
   },
   {
    "duration": 28,
    "start_time": "2022-10-11T21:49:18.910Z"
   },
   {
    "duration": 217,
    "start_time": "2022-10-11T21:49:18.940Z"
   },
   {
    "duration": 1271,
    "start_time": "2022-10-11T21:49:19.159Z"
   },
   {
    "duration": 27,
    "start_time": "2022-10-11T21:49:20.431Z"
   },
   {
    "duration": 245,
    "start_time": "2022-10-11T21:49:20.461Z"
   },
   {
    "duration": 11,
    "start_time": "2022-10-11T21:49:20.708Z"
   },
   {
    "duration": 24,
    "start_time": "2022-10-11T21:49:20.721Z"
   },
   {
    "duration": 2908,
    "start_time": "2022-10-11T21:49:20.749Z"
   },
   {
    "duration": 52,
    "start_time": "2022-10-11T21:49:23.660Z"
   },
   {
    "duration": 1018,
    "start_time": "2022-10-11T21:49:23.714Z"
   },
   {
    "duration": 308,
    "start_time": "2022-10-11T21:50:06.664Z"
   },
   {
    "duration": 189,
    "start_time": "2022-10-11T21:50:50.815Z"
   },
   {
    "duration": 1227,
    "start_time": "2022-10-11T21:51:02.809Z"
   },
   {
    "duration": 93,
    "start_time": "2022-10-11T21:51:04.039Z"
   },
   {
    "duration": 16,
    "start_time": "2022-10-11T21:51:04.134Z"
   },
   {
    "duration": 20,
    "start_time": "2022-10-11T21:51:04.152Z"
   },
   {
    "duration": 38,
    "start_time": "2022-10-11T21:51:04.175Z"
   },
   {
    "duration": 13,
    "start_time": "2022-10-11T21:51:04.215Z"
   },
   {
    "duration": 25,
    "start_time": "2022-10-11T21:51:04.231Z"
   },
   {
    "duration": 9,
    "start_time": "2022-10-11T21:51:04.259Z"
   },
   {
    "duration": 47,
    "start_time": "2022-10-11T21:51:04.270Z"
   },
   {
    "duration": 25,
    "start_time": "2022-10-11T21:51:04.319Z"
   },
   {
    "duration": 282,
    "start_time": "2022-10-11T21:51:04.346Z"
   },
   {
    "duration": 11,
    "start_time": "2022-10-11T21:51:04.630Z"
   },
   {
    "duration": 155,
    "start_time": "2022-10-11T21:51:04.643Z"
   },
   {
    "duration": 26,
    "start_time": "2022-10-11T21:51:04.809Z"
   },
   {
    "duration": 267,
    "start_time": "2022-10-11T21:51:04.837Z"
   },
   {
    "duration": 247,
    "start_time": "2022-10-11T21:51:05.106Z"
   },
   {
    "duration": 12,
    "start_time": "2022-10-11T21:51:05.355Z"
   },
   {
    "duration": 306,
    "start_time": "2022-10-11T21:51:05.370Z"
   },
   {
    "duration": 30,
    "start_time": "2022-10-11T21:51:05.678Z"
   },
   {
    "duration": 39,
    "start_time": "2022-10-11T21:51:05.711Z"
   },
   {
    "duration": 263,
    "start_time": "2022-10-11T21:51:05.752Z"
   },
   {
    "duration": 938,
    "start_time": "2022-10-11T21:51:06.017Z"
   },
   {
    "duration": 22,
    "start_time": "2022-10-11T21:51:06.957Z"
   },
   {
    "duration": 261,
    "start_time": "2022-10-11T21:51:06.981Z"
   },
   {
    "duration": 11,
    "start_time": "2022-10-11T21:51:07.244Z"
   },
   {
    "duration": 37,
    "start_time": "2022-10-11T21:51:07.258Z"
   },
   {
    "duration": 5861,
    "start_time": "2022-10-11T21:51:07.296Z"
   },
   {
    "duration": 54,
    "start_time": "2022-10-11T21:51:13.159Z"
   },
   {
    "duration": 1005,
    "start_time": "2022-10-11T21:51:13.215Z"
   },
   {
    "duration": 105,
    "start_time": "2022-10-11T21:52:22.614Z"
   },
   {
    "duration": 198,
    "start_time": "2022-10-11T21:57:29.831Z"
   },
   {
    "duration": 1442,
    "start_time": "2022-10-12T09:14:40.381Z"
   },
   {
    "duration": 142,
    "start_time": "2022-10-12T09:14:41.825Z"
   },
   {
    "duration": 14,
    "start_time": "2022-10-12T09:14:41.969Z"
   },
   {
    "duration": 23,
    "start_time": "2022-10-12T09:14:41.986Z"
   },
   {
    "duration": 20,
    "start_time": "2022-10-12T09:14:42.011Z"
   },
   {
    "duration": 26,
    "start_time": "2022-10-12T09:14:42.033Z"
   },
   {
    "duration": 26,
    "start_time": "2022-10-12T09:14:42.061Z"
   },
   {
    "duration": 6,
    "start_time": "2022-10-12T09:14:42.089Z"
   },
   {
    "duration": 21,
    "start_time": "2022-10-12T09:14:42.097Z"
   },
   {
    "duration": 9,
    "start_time": "2022-10-12T09:14:42.121Z"
   },
   {
    "duration": 240,
    "start_time": "2022-10-12T09:14:42.132Z"
   },
   {
    "duration": 11,
    "start_time": "2022-10-12T09:14:42.374Z"
   },
   {
    "duration": 136,
    "start_time": "2022-10-12T09:14:42.387Z"
   },
   {
    "duration": 23,
    "start_time": "2022-10-12T09:14:42.525Z"
   },
   {
    "duration": 241,
    "start_time": "2022-10-12T09:14:42.550Z"
   },
   {
    "duration": 210,
    "start_time": "2022-10-12T09:14:42.793Z"
   },
   {
    "duration": 11,
    "start_time": "2022-10-12T09:14:43.005Z"
   },
   {
    "duration": 227,
    "start_time": "2022-10-12T09:14:43.018Z"
   },
   {
    "duration": 13,
    "start_time": "2022-10-12T09:14:43.247Z"
   },
   {
    "duration": 36,
    "start_time": "2022-10-12T09:14:43.262Z"
   },
   {
    "duration": 217,
    "start_time": "2022-10-12T09:14:43.300Z"
   },
   {
    "duration": 1275,
    "start_time": "2022-10-12T09:14:43.518Z"
   },
   {
    "duration": 19,
    "start_time": "2022-10-12T09:14:44.795Z"
   },
   {
    "duration": 243,
    "start_time": "2022-10-12T09:14:44.816Z"
   },
   {
    "duration": 11,
    "start_time": "2022-10-12T09:14:45.061Z"
   },
   {
    "duration": 54,
    "start_time": "2022-10-12T09:14:45.074Z"
   },
   {
    "duration": 5403,
    "start_time": "2022-10-12T09:14:45.130Z"
   },
   {
    "duration": 41,
    "start_time": "2022-10-12T09:14:50.536Z"
   },
   {
    "duration": 963,
    "start_time": "2022-10-12T09:14:50.578Z"
   },
   {
    "duration": 23,
    "start_time": "2022-10-12T09:18:27.119Z"
   },
   {
    "duration": 218,
    "start_time": "2022-10-12T09:19:44.665Z"
   },
   {
    "duration": 211,
    "start_time": "2022-10-12T09:19:54.180Z"
   },
   {
    "duration": 76,
    "start_time": "2022-10-12T09:21:25.474Z"
   },
   {
    "duration": 189,
    "start_time": "2022-10-12T09:27:56.807Z"
   },
   {
    "duration": 246,
    "start_time": "2022-10-12T09:29:08.047Z"
   },
   {
    "duration": 264,
    "start_time": "2022-10-12T09:29:39.438Z"
   },
   {
    "duration": 172,
    "start_time": "2022-10-12T09:29:48.159Z"
   },
   {
    "duration": 15,
    "start_time": "2022-10-12T09:29:56.056Z"
   },
   {
    "duration": 16,
    "start_time": "2022-10-12T09:30:15.786Z"
   },
   {
    "duration": 19,
    "start_time": "2022-10-12T09:31:58.684Z"
   },
   {
    "duration": 110,
    "start_time": "2022-10-12T09:33:11.345Z"
   },
   {
    "duration": 24,
    "start_time": "2022-10-12T09:33:40.634Z"
   },
   {
    "duration": 21,
    "start_time": "2022-10-12T09:34:18.222Z"
   },
   {
    "duration": 21,
    "start_time": "2022-10-12T09:36:18.644Z"
   },
   {
    "duration": 23,
    "start_time": "2022-10-12T09:36:54.990Z"
   },
   {
    "duration": 20,
    "start_time": "2022-10-12T09:37:07.898Z"
   },
   {
    "duration": 30,
    "start_time": "2022-10-12T09:43:51.419Z"
   },
   {
    "duration": 30,
    "start_time": "2022-10-12T09:44:05.932Z"
   },
   {
    "duration": 202,
    "start_time": "2022-10-12T09:47:52.847Z"
   },
   {
    "duration": 204,
    "start_time": "2022-10-12T09:49:57.202Z"
   },
   {
    "duration": 7,
    "start_time": "2022-10-12T09:50:15.300Z"
   },
   {
    "duration": 6,
    "start_time": "2022-10-12T09:51:19.204Z"
   },
   {
    "duration": 25,
    "start_time": "2022-10-12T09:51:25.222Z"
   },
   {
    "duration": 203,
    "start_time": "2022-10-12T09:51:59.036Z"
   },
   {
    "duration": 209,
    "start_time": "2022-10-12T09:52:22.104Z"
   },
   {
    "duration": 208,
    "start_time": "2022-10-12T09:53:44.711Z"
   },
   {
    "duration": 13,
    "start_time": "2022-10-12T09:59:13.927Z"
   },
   {
    "duration": 90,
    "start_time": "2022-10-12T10:02:10.787Z"
   },
   {
    "duration": 236,
    "start_time": "2022-10-12T10:02:15.359Z"
   },
   {
    "duration": 227,
    "start_time": "2022-10-12T10:02:28.245Z"
   },
   {
    "duration": 1238,
    "start_time": "2022-10-12T10:06:06.513Z"
   },
   {
    "duration": 78,
    "start_time": "2022-10-12T10:06:07.753Z"
   },
   {
    "duration": 15,
    "start_time": "2022-10-12T10:06:07.833Z"
   },
   {
    "duration": 6,
    "start_time": "2022-10-12T10:06:07.851Z"
   },
   {
    "duration": 11,
    "start_time": "2022-10-12T10:06:07.859Z"
   },
   {
    "duration": 28,
    "start_time": "2022-10-12T10:06:07.871Z"
   },
   {
    "duration": 10,
    "start_time": "2022-10-12T10:06:07.900Z"
   },
   {
    "duration": 21,
    "start_time": "2022-10-12T10:06:07.912Z"
   },
   {
    "duration": 25,
    "start_time": "2022-10-12T10:06:07.934Z"
   },
   {
    "duration": 11,
    "start_time": "2022-10-12T10:06:07.962Z"
   },
   {
    "duration": 252,
    "start_time": "2022-10-12T10:06:07.974Z"
   },
   {
    "duration": 15,
    "start_time": "2022-10-12T10:06:08.228Z"
   },
   {
    "duration": 163,
    "start_time": "2022-10-12T10:06:08.245Z"
   },
   {
    "duration": 31,
    "start_time": "2022-10-12T10:06:08.410Z"
   },
   {
    "duration": 230,
    "start_time": "2022-10-12T10:06:08.443Z"
   },
   {
    "duration": 33,
    "start_time": "2022-10-12T10:06:08.675Z"
   },
   {
    "duration": 210,
    "start_time": "2022-10-12T10:06:08.710Z"
   },
   {
    "duration": 240,
    "start_time": "2022-10-12T10:06:08.921Z"
   },
   {
    "duration": 13,
    "start_time": "2022-10-12T10:06:09.162Z"
   },
   {
    "duration": 38,
    "start_time": "2022-10-12T10:06:09.177Z"
   },
   {
    "duration": 215,
    "start_time": "2022-10-12T10:06:09.217Z"
   },
   {
    "duration": 1533,
    "start_time": "2022-10-12T10:06:09.434Z"
   },
   {
    "duration": 19,
    "start_time": "2022-10-12T10:06:10.968Z"
   },
   {
    "duration": 237,
    "start_time": "2022-10-12T10:06:10.989Z"
   },
   {
    "duration": 12,
    "start_time": "2022-10-12T10:06:11.228Z"
   },
   {
    "duration": 19,
    "start_time": "2022-10-12T10:06:11.242Z"
   },
   {
    "duration": 5235,
    "start_time": "2022-10-12T10:06:11.262Z"
   },
   {
    "duration": 43,
    "start_time": "2022-10-12T10:06:16.499Z"
   },
   {
    "duration": 940,
    "start_time": "2022-10-12T10:06:16.544Z"
   },
   {
    "duration": 967,
    "start_time": "2022-10-12T10:06:46.575Z"
   },
   {
    "duration": 6,
    "start_time": "2022-10-12T10:08:40.884Z"
   },
   {
    "duration": 16,
    "start_time": "2022-10-12T10:10:12.708Z"
   },
   {
    "duration": 233,
    "start_time": "2022-10-12T10:11:32.593Z"
   },
   {
    "duration": 17,
    "start_time": "2022-10-12T10:18:44.312Z"
   },
   {
    "duration": 20,
    "start_time": "2022-10-12T10:18:58.376Z"
   },
   {
    "duration": 5407,
    "start_time": "2022-10-12T10:19:54.376Z"
   },
   {
    "duration": 10,
    "start_time": "2022-10-12T10:42:22.641Z"
   },
   {
    "duration": 34,
    "start_time": "2022-10-12T10:43:57.875Z"
   },
   {
    "duration": 978,
    "start_time": "2022-10-12T10:45:43.651Z"
   },
   {
    "duration": 1238,
    "start_time": "2022-10-12T11:02:44.523Z"
   },
   {
    "duration": 81,
    "start_time": "2022-10-12T11:02:45.762Z"
   },
   {
    "duration": 16,
    "start_time": "2022-10-12T11:02:45.845Z"
   },
   {
    "duration": 17,
    "start_time": "2022-10-12T11:02:45.863Z"
   },
   {
    "duration": 27,
    "start_time": "2022-10-12T11:02:45.882Z"
   },
   {
    "duration": 18,
    "start_time": "2022-10-12T11:02:45.911Z"
   },
   {
    "duration": 26,
    "start_time": "2022-10-12T11:02:45.931Z"
   },
   {
    "duration": 12,
    "start_time": "2022-10-12T11:02:45.959Z"
   },
   {
    "duration": 13,
    "start_time": "2022-10-12T11:02:45.973Z"
   },
   {
    "duration": 20,
    "start_time": "2022-10-12T11:02:45.989Z"
   },
   {
    "duration": 228,
    "start_time": "2022-10-12T11:02:46.011Z"
   },
   {
    "duration": 10,
    "start_time": "2022-10-12T11:02:46.241Z"
   },
   {
    "duration": 147,
    "start_time": "2022-10-12T11:02:46.253Z"
   },
   {
    "duration": 24,
    "start_time": "2022-10-12T11:02:46.401Z"
   },
   {
    "duration": 229,
    "start_time": "2022-10-12T11:02:46.426Z"
   },
   {
    "duration": 42,
    "start_time": "2022-10-12T11:02:46.657Z"
   },
   {
    "duration": 221,
    "start_time": "2022-10-12T11:02:46.701Z"
   },
   {
    "duration": 213,
    "start_time": "2022-10-12T11:02:46.924Z"
   },
   {
    "duration": 14,
    "start_time": "2022-10-12T11:02:47.139Z"
   },
   {
    "duration": 47,
    "start_time": "2022-10-12T11:02:47.154Z"
   },
   {
    "duration": 207,
    "start_time": "2022-10-12T11:02:47.202Z"
   },
   {
    "duration": 1251,
    "start_time": "2022-10-12T11:02:47.410Z"
   },
   {
    "duration": 8,
    "start_time": "2022-10-12T11:02:48.667Z"
   },
   {
    "duration": 21,
    "start_time": "2022-10-12T11:02:48.677Z"
   },
   {
    "duration": 236,
    "start_time": "2022-10-12T11:02:48.700Z"
   },
   {
    "duration": 11,
    "start_time": "2022-10-12T11:02:48.938Z"
   },
   {
    "duration": 5,
    "start_time": "2022-10-12T11:02:48.951Z"
   },
   {
    "duration": 39,
    "start_time": "2022-10-12T11:02:48.959Z"
   },
   {
    "duration": 5284,
    "start_time": "2022-10-12T11:02:49.000Z"
   },
   {
    "duration": 12,
    "start_time": "2022-10-12T11:02:54.287Z"
   },
   {
    "duration": 95,
    "start_time": "2022-10-12T11:02:54.301Z"
   },
   {
    "duration": 0,
    "start_time": "2022-10-12T11:02:54.398Z"
   },
   {
    "duration": 0,
    "start_time": "2022-10-12T11:02:54.400Z"
   },
   {
    "duration": 1338,
    "start_time": "2022-10-12T11:07:32.473Z"
   },
   {
    "duration": 82,
    "start_time": "2022-10-12T11:07:33.813Z"
   },
   {
    "duration": 14,
    "start_time": "2022-10-12T11:07:33.896Z"
   },
   {
    "duration": 14,
    "start_time": "2022-10-12T11:07:33.913Z"
   },
   {
    "duration": 17,
    "start_time": "2022-10-12T11:07:33.928Z"
   },
   {
    "duration": 28,
    "start_time": "2022-10-12T11:07:33.947Z"
   },
   {
    "duration": 20,
    "start_time": "2022-10-12T11:07:33.977Z"
   },
   {
    "duration": 30,
    "start_time": "2022-10-12T11:07:33.998Z"
   },
   {
    "duration": 30,
    "start_time": "2022-10-12T11:07:34.030Z"
   },
   {
    "duration": 17,
    "start_time": "2022-10-12T11:07:34.063Z"
   },
   {
    "duration": 239,
    "start_time": "2022-10-12T11:07:34.082Z"
   },
   {
    "duration": 11,
    "start_time": "2022-10-12T11:07:34.322Z"
   },
   {
    "duration": 167,
    "start_time": "2022-10-12T11:07:34.335Z"
   },
   {
    "duration": 31,
    "start_time": "2022-10-12T11:07:34.504Z"
   },
   {
    "duration": 244,
    "start_time": "2022-10-12T11:07:34.538Z"
   },
   {
    "duration": 29,
    "start_time": "2022-10-12T11:07:34.784Z"
   },
   {
    "duration": 207,
    "start_time": "2022-10-12T11:07:34.815Z"
   },
   {
    "duration": 236,
    "start_time": "2022-10-12T11:07:35.024Z"
   },
   {
    "duration": 11,
    "start_time": "2022-10-12T11:07:35.262Z"
   },
   {
    "duration": 41,
    "start_time": "2022-10-12T11:07:35.275Z"
   },
   {
    "duration": 221,
    "start_time": "2022-10-12T11:07:35.318Z"
   },
   {
    "duration": 869,
    "start_time": "2022-10-12T11:07:35.540Z"
   },
   {
    "duration": 7,
    "start_time": "2022-10-12T11:07:36.411Z"
   },
   {
    "duration": 36,
    "start_time": "2022-10-12T11:07:36.420Z"
   },
   {
    "duration": 235,
    "start_time": "2022-10-12T11:07:36.458Z"
   },
   {
    "duration": 11,
    "start_time": "2022-10-12T11:07:36.696Z"
   },
   {
    "duration": 32,
    "start_time": "2022-10-12T11:07:36.709Z"
   },
   {
    "duration": 31,
    "start_time": "2022-10-12T11:07:36.744Z"
   },
   {
    "duration": 5344,
    "start_time": "2022-10-12T11:07:36.777Z"
   },
   {
    "duration": 12,
    "start_time": "2022-10-12T11:07:42.123Z"
   },
   {
    "duration": 122,
    "start_time": "2022-10-12T11:07:42.137Z"
   },
   {
    "duration": 0,
    "start_time": "2022-10-12T11:07:42.261Z"
   },
   {
    "duration": 0,
    "start_time": "2022-10-12T11:07:42.262Z"
   },
   {
    "duration": 1322,
    "start_time": "2022-10-12T11:08:06.912Z"
   },
   {
    "duration": 112,
    "start_time": "2022-10-12T11:08:08.237Z"
   },
   {
    "duration": 23,
    "start_time": "2022-10-12T11:08:08.352Z"
   },
   {
    "duration": 17,
    "start_time": "2022-10-12T11:08:08.379Z"
   },
   {
    "duration": 24,
    "start_time": "2022-10-12T11:08:08.399Z"
   },
   {
    "duration": 15,
    "start_time": "2022-10-12T11:08:08.428Z"
   },
   {
    "duration": 13,
    "start_time": "2022-10-12T11:08:08.445Z"
   },
   {
    "duration": 10,
    "start_time": "2022-10-12T11:08:08.460Z"
   },
   {
    "duration": 30,
    "start_time": "2022-10-12T11:08:08.472Z"
   },
   {
    "duration": 15,
    "start_time": "2022-10-12T11:08:08.505Z"
   },
   {
    "duration": 280,
    "start_time": "2022-10-12T11:08:08.523Z"
   },
   {
    "duration": 15,
    "start_time": "2022-10-12T11:08:08.806Z"
   },
   {
    "duration": 151,
    "start_time": "2022-10-12T11:08:08.822Z"
   },
   {
    "duration": 38,
    "start_time": "2022-10-12T11:08:08.975Z"
   },
   {
    "duration": 250,
    "start_time": "2022-10-12T11:08:09.014Z"
   },
   {
    "duration": 37,
    "start_time": "2022-10-12T11:08:09.266Z"
   },
   {
    "duration": 211,
    "start_time": "2022-10-12T11:08:09.305Z"
   },
   {
    "duration": 227,
    "start_time": "2022-10-12T11:08:09.518Z"
   },
   {
    "duration": 14,
    "start_time": "2022-10-12T11:08:09.748Z"
   },
   {
    "duration": 43,
    "start_time": "2022-10-12T11:08:09.764Z"
   },
   {
    "duration": 254,
    "start_time": "2022-10-12T11:08:09.809Z"
   },
   {
    "duration": 1057,
    "start_time": "2022-10-12T11:08:10.065Z"
   },
   {
    "duration": 9,
    "start_time": "2022-10-12T11:08:11.124Z"
   },
   {
    "duration": 25,
    "start_time": "2022-10-12T11:08:11.135Z"
   },
   {
    "duration": 253,
    "start_time": "2022-10-12T11:08:11.162Z"
   },
   {
    "duration": 11,
    "start_time": "2022-10-12T11:08:11.417Z"
   },
   {
    "duration": 6,
    "start_time": "2022-10-12T11:08:11.429Z"
   },
   {
    "duration": 31,
    "start_time": "2022-10-12T11:08:11.438Z"
   },
   {
    "duration": 5433,
    "start_time": "2022-10-12T11:08:11.472Z"
   },
   {
    "duration": 18,
    "start_time": "2022-10-12T11:08:16.907Z"
   },
   {
    "duration": 52,
    "start_time": "2022-10-12T11:08:16.927Z"
   },
   {
    "duration": 904,
    "start_time": "2022-10-12T11:08:16.981Z"
   }
  ],
  "kernelspec": {
   "display_name": "Python 3",
   "language": "python",
   "name": "python3"
  },
  "language_info": {
   "codemirror_mode": {
    "name": "ipython",
    "version": 3
   },
   "file_extension": ".py",
   "mimetype": "text/x-python",
   "name": "python",
   "nbconvert_exporter": "python",
   "pygments_lexer": "ipython3",
   "version": "3.8.8"
  },
  "toc": {
   "base_numbering": 1,
   "nav_menu": {},
   "number_sections": true,
   "sideBar": true,
   "skip_h1_title": true,
   "title_cell": "Table of Contents",
   "title_sidebar": "Contents",
   "toc_cell": false,
   "toc_position": {},
   "toc_section_display": true,
   "toc_window_display": false
  }
 },
 "nbformat": 4,
 "nbformat_minor": 2
}
